{
 "cells": [
  {
   "cell_type": "markdown",
   "id": "5454e81f-1965-4408-b818-bc6bfde00a2a",
   "metadata": {},
   "source": [
    "# load packages"
   ]
  },
  {
   "cell_type": "code",
   "execution_count": null,
   "id": "85a5fa6e-455f-4b87-a37b-3ec7e7d51cfb",
   "metadata": {},
   "outputs": [],
   "source": [
    "import pandas as pd"
   ]
  },
  {
   "cell_type": "code",
   "execution_count": null,
   "id": "48f33c78-3b32-4fd1-b785-f638782df11c",
   "metadata": {},
   "outputs": [],
   "source": [
    "from datetime import datetime"
   ]
  },
  {
   "cell_type": "code",
   "execution_count": null,
   "id": "ac03a04c-b44f-4a30-a4bc-8100c0a2ee3e",
   "metadata": {},
   "outputs": [],
   "source": [
    "from zoneinfo import ZoneInfo"
   ]
  },
  {
   "cell_type": "code",
   "execution_count": null,
   "id": "81a43fc1-d5d4-48f4-a58c-df59474588be",
   "metadata": {},
   "outputs": [],
   "source": [
    "import numpy as np"
   ]
  },
  {
   "cell_type": "markdown",
   "id": "fbf6b943-308d-4784-8fd4-04bbb4d4c3f7",
   "metadata": {},
   "source": [
    "# read in input files"
   ]
  },
  {
   "cell_type": "code",
   "execution_count": null,
   "id": "61534319-d672-4bf7-8446-c00a25787e06",
   "metadata": {},
   "outputs": [],
   "source": [
    "icd = pd.read_csv('Phenotypes/3.0/PMBB-Release-2024-3.0_phenotype_condition_occurrence.txt',\n",
    "                  sep = '\\t',\n",
    "                  usecols = ['person_id', 'condition_start_date', 'condition_source_value'])\n",
    "icd.head()"
   ]
  },
  {
   "cell_type": "code",
   "execution_count": null,
   "id": "8adc3ba9-3da7-4e49-8625-61aa8fc251c2",
   "metadata": {},
   "outputs": [],
   "source": [
    "sex = pd.read_csv('Phenotypes/3.0/PMBB-Release-2024-3.0_covariates.txt',\n",
    "                  sep = '\\t',\n",
    "                  usecols = ['person_id', 'Sequenced_gender', 'Batch'])\n",
    "sex.head()"
   ]
  },
  {
   "cell_type": "code",
   "execution_count": null,
   "id": "3ec8e25c-ec73-4e05-99a5-fa736f34997e",
   "metadata": {},
   "outputs": [],
   "source": [
    "dob = pd.read_csv('Phenotypes/3.0/PMBB-Release-2024-3.0_phenotype_person.txt',\n",
    "                  sep = '\\t',\n",
    "                  usecols = ['person_id', 'birth_datetime'])\n",
    "dob.head()"
   ]
  },
  {
   "cell_type": "code",
   "execution_count": null,
   "id": "f9546171-995f-4120-bbdd-9d79f78a35ab",
   "metadata": {},
   "outputs": [],
   "source": [
    "egfr = pd.read_csv('Phenotypes/3.0/PMBB-Release-2024-3.0_phenotype_labs_egfr.txt',\n",
    "                    sep = '\\t')\n",
    "egfr.head()"
   ]
  },
  {
   "cell_type": "code",
   "execution_count": null,
   "id": "4692b770-c602-4511-b02f-0efa9ba7c7b6",
   "metadata": {},
   "outputs": [],
   "source": [
    "egfr_calc = pd.read_csv('Phenotypes/3.0/PMBB-Release-2024-3.0_phenotype_labs_egfr_calculated.txt',\n",
    "                        sep = '\\t')\n",
    "egfr_calc.head()"
   ]
  },
  {
   "cell_type": "code",
   "execution_count": null,
   "id": "e32a4962-ab24-46cb-823a-b58a99090d15",
   "metadata": {},
   "outputs": [],
   "source": [
    "death = pd.read_csv('Phenotypes/3.0/PMBB-Release-2024-3.0_phenotype_death.txt',\n",
    "                    sep = '\\t',\n",
    "                    usecols = ['person_id', 'death_date'])\n",
    "death.head()"
   ]
  },
  {
   "cell_type": "code",
   "execution_count": null,
   "id": "39dbee5f-39cb-4ce7-89c5-44e26f989d1a",
   "metadata": {},
   "outputs": [],
   "source": [
    "alb = pd.read_csv('Phenotypes/3.0/PMBB-Release-2024-3.0_phenotype_labs_albumin.txt',\n",
    "                   sep = '\\t')\n",
    "alb.head()"
   ]
  },
  {
   "cell_type": "code",
   "execution_count": null,
   "id": "142ad5b2-80c1-4914-9f0b-6a4ab6dfe70a",
   "metadata": {},
   "outputs": [],
   "source": [
    "cre = pd.read_csv('Phenotypes/3.0/PMBB-Release-2024-3.0_phenotype_labs_creatinine_urine.txt',\n",
    "                  sep = '\\t')\n",
    "cre.head()"
   ]
  },
  {
   "cell_type": "code",
   "execution_count": null,
   "id": "6f096398-374f-4475-bcf2-0ef74471fad1",
   "metadata": {},
   "outputs": [],
   "source": [
    "cpt = pd.read_csv('Phenotypes/3.0/PMBB-Release-2024-3.0_phenotype_procedure_occurrence.txt',\n",
    "                  sep = '\\t')\n",
    "cpt.head()"
   ]
  },
  {
   "cell_type": "markdown",
   "id": "927d5bb1-76e5-42d2-82c6-fe3dadd435be",
   "metadata": {},
   "source": [
    "# identify cases and controls"
   ]
  },
  {
   "cell_type": "code",
   "execution_count": null,
   "id": "f29e7d53-1faf-4d19-93b7-ffa86239b74d",
   "metadata": {},
   "outputs": [],
   "source": [
    "phecode.value_counts('GU_582.2')"
   ]
  },
  {
   "cell_type": "code",
   "execution_count": null,
   "id": "f1fa46a9-8dd1-4c89-aebf-8e139e1da5e6",
   "metadata": {},
   "outputs": [],
   "source": [
    "case = phecode[phecode['GU_582.2'] == True]\n",
    "case.value_counts('GU_582.2')"
   ]
  },
  {
   "cell_type": "code",
   "execution_count": null,
   "id": "8c116403-5d2a-4f47-bad8-2e6f93e8f26c",
   "metadata": {},
   "outputs": [],
   "source": [
    "control = phecode[phecode['GU_582.2'] == False]\n",
    "control.value_counts('GU_582.2')"
   ]
  },
  {
   "cell_type": "code",
   "execution_count": null,
   "id": "c32ee616-9ff9-4137-a742-f33115e7bd69",
   "metadata": {},
   "outputs": [],
   "source": [
    "alb_cre = alb_urine_sub.merge(cre_urine_sub, on = 'PMBB_ID', how = 'inner')\n",
    "print(len(alb_urine_sub.index))\n",
    "print(len(cre_urine_sub.index))\n",
    "print(len(alb_cre.index))"
   ]
  },
  {
   "cell_type": "code",
   "execution_count": null,
   "id": "d0d128fb-4e33-4fba-9a3d-f4ae978f62e2",
   "metadata": {},
   "outputs": [],
   "source": [
    "egfr_cre = egfr_mean.merge(cre_serum_mean, on = 'PMBB_ID', how = 'inner')\n",
    "print(len(egfr_mean.index))\n",
    "print(len(cre_serum_mean.index))\n",
    "print(len(egfr_cre.index))"
   ]
  },
  {
   "cell_type": "code",
   "execution_count": null,
   "id": "ec2fea0a-cbca-4ec9-b0f3-1d376b4ab2b7",
   "metadata": {},
   "outputs": [],
   "source": [
    "transplant_icd = ['V42.0', 'Z94.0', 'Y60.2', 'Y61.2', 'Y84.1']"
   ]
  },
  {
   "cell_type": "code",
   "execution_count": null,
   "id": "876c6133-dc23-4bcf-b332-ee1bb666e467",
   "metadata": {},
   "outputs": [],
   "source": [
    "transplant_indiv = icd[icd['code'].isin(transplant_icd)]\n",
    "print(len(transplant_indiv['PMBB_ID'].unique()))\n",
    "transplant_indiv['code'].unique()"
   ]
  },
  {
   "cell_type": "code",
   "execution_count": null,
   "id": "71437986-cd08-4231-b0a3-1cadda51b3a6",
   "metadata": {},
   "outputs": [],
   "source": [
    "icd_no_transplant = icd_cpt_ckd[~icd_cpt_ckd['PMBB_ID'].isin(transplant_indiv['PMBB_ID'])]\n",
    "print(len(icd_no_transplant['PMBB_ID'].unique()))"
   ]
  },
  {
   "cell_type": "code",
   "execution_count": null,
   "id": "ef87623f-3565-405c-98ab-26d1a2e3471c",
   "metadata": {},
   "outputs": [],
   "source": [
    "icd_cpt_no_transplant = icd_no_transplant[~icd_no_transplant['PMBB_ID'].isin(cpt_kt['PMBB_ID'])]\n",
    "print(len(icd_cpt_no_transplant['PMBB_ID'].unique()))"
   ]
  },
  {
   "cell_type": "code",
   "execution_count": null,
   "id": "3b2173c9-e004-43ac-aabd-f681ba3cd275",
   "metadata": {},
   "outputs": [],
   "source": [
    "aki_indiv = icd_ckd[icd_ckd['code'].str.contains('|'.join(aki_icd))]\n",
    "aki_indiv = aki_indiv[~aki_indiv['PMBB_ID'].isin(transplant_indiv['PMBB_ID'])]\n",
    "len(aki_indiv['PMBB_ID'].unique())"
   ]
  },
  {
   "cell_type": "code",
   "execution_count": null,
   "id": "5e61f859-fc9a-4bac-8578-dfac57431d0b",
   "metadata": {
    "scrolled": true
   },
   "outputs": [],
   "source": [
    "id_list = aki_indiv['PMBB_ID'].unique()\n",
    "len(id_list)"
   ]
  },
  {
   "cell_type": "code",
   "execution_count": null,
   "id": "92e60358-5bf9-4b9a-a580-de32f889c111",
   "metadata": {},
   "outputs": [],
   "source": [
    "not_only_aki = []\n",
    "for id in id_list:\n",
    "    df = aki_indiv[aki_indiv['PMBB_ID'].isin([id])]\n",
    "    code = df[~df['code'].isin(aki_icd)]\n",
    "    if len(code.index) > 0:\n",
    "        not_only_aki.append(id)"
   ]
  },
  {
   "cell_type": "code",
   "execution_count": null,
   "id": "56beb207-59ce-4729-af2a-6d574f15ef54",
   "metadata": {
    "scrolled": true
   },
   "outputs": [],
   "source": [
    "len(not_only_aki)"
   ]
  },
  {
   "cell_type": "code",
   "execution_count": null,
   "id": "01431e19-b915-456c-818c-15a594ef17f5",
   "metadata": {},
   "outputs": [],
   "source": [
    "not_only_aki_df = aki_indiv[aki_indiv['PMBB_ID'].isin(not_only_aki)]\n",
    "len(not_only_aki_df['PMBB_ID'].unique())"
   ]
  },
  {
   "cell_type": "code",
   "execution_count": null,
   "id": "b356fc28-492c-4393-8b31-4e3707ee70a1",
   "metadata": {},
   "outputs": [],
   "source": [
    "no_aki = icd_cpt_no_transplant[~icd_cpt_no_transplant['PMBB_ID'].isin(aki_indiv['PMBB_ID'])]\n",
    "len(no_aki['PMBB_ID'].unique())"
   ]
  },
  {
   "cell_type": "code",
   "execution_count": null,
   "id": "fc5f4ea3-2982-4825-9d6c-4768d5e05986",
   "metadata": {},
   "outputs": [],
   "source": [
    "icd_aki_fixed = pd.concat([no_aki, not_only_aki_df], axis = 0)\n",
    "print(len(icd_aki_fixed['PMBB_ID'].unique()))\n",
    "icd_aki_fixed.head()"
   ]
  },
  {
   "cell_type": "code",
   "execution_count": null,
   "id": "a8049b6c-1924-4c7d-9a34-ff2a0bfd1c04",
   "metadata": {},
   "outputs": [],
   "source": [
    "id_list = icd_aki_fixed['PMBB_ID'].unique()\n",
    "len(id_list)"
   ]
  },
  {
   "cell_type": "code",
   "execution_count": null,
   "id": "7b855b20-810b-43fa-b7bb-904da7159aa1",
   "metadata": {},
   "outputs": [],
   "source": [
    "two_instances = []\n",
    "for id in id_list:\n",
    "    id_df = icd_aki_fixed[icd_aki_fixed['PMBB_ID'].isin([id])]\n",
    "    id_df.drop_duplicates(inplace = True)\n",
    "    id_df.reset_index(inplace = True, drop = True)\n",
    "    if len(id_df.index) >= 2:\n",
    "        two_instances.append(id)"
   ]
  },
  {
   "cell_type": "code",
   "execution_count": null,
   "id": "15551abe-13a4-41b7-a478-ed6f43e18924",
   "metadata": {},
   "outputs": [],
   "source": [
    "len(two_instances)"
   ]
  },
  {
   "cell_type": "code",
   "execution_count": null,
   "id": "949cadca-f685-408b-9fb4-67d39c1cd8aa",
   "metadata": {},
   "outputs": [],
   "source": [
    "icd_two = icd_aki_fixed[icd_aki_fixed['PMBB_ID'].isin(two_instances)]\n",
    "print(len(icd_two['PMBB_ID'].unique()))\n",
    "icd_two.head()"
   ]
  },
  {
   "cell_type": "code",
   "execution_count": null,
   "id": "3275936d-30e7-4743-8b1e-57ba6e1c6476",
   "metadata": {
    "scrolled": true
   },
   "outputs": [],
   "source": [
    "icd_egfr = icd_two.merge(egfr_mean, on = 'PMBB_ID', how = 'inner')\n",
    "print(len(icd_egfr.index))\n",
    "icd_egfr.head()"
   ]
  },
  {
   "cell_type": "code",
   "execution_count": null,
   "id": "1ff097a8-ed7c-448b-9a7e-9d68ef45ae22",
   "metadata": {},
   "outputs": [],
   "source": [
    "case = icd_egfr[icd_egfr['eGFR'] < 60]\n",
    "print(len(case.index))"
   ]
  },
  {
   "cell_type": "code",
   "execution_count": null,
   "id": "f7aedbc5-540a-4d0b-b138-9e87fdc4b726",
   "metadata": {
    "scrolled": true
   },
   "outputs": [],
   "source": [
    "case['CKD'] = 1\n",
    "case.drop(columns = ['code', 'condition_start_date', 'RESULT_DATE_SHIFT', 'eGFR'], inplace = True)\n",
    "case.head()"
   ]
  },
  {
   "cell_type": "markdown",
   "id": "9084c7a9-d797-4d31-957b-e7400a5cb770",
   "metadata": {},
   "source": [
    "## v3"
   ]
  },
  {
   "cell_type": "markdown",
   "id": "d89d395a-8db8-4163-b698-bf62f42fa936",
   "metadata": {},
   "source": [
    "### clean labs"
   ]
  },
  {
   "cell_type": "markdown",
   "id": "1feecf3f-60d7-4f1a-813d-b0542abebbfa",
   "metadata": {},
   "source": [
    "#### egfr measured"
   ]
  },
  {
   "cell_type": "code",
   "execution_count": null,
   "id": "608494f2-0036-40f9-8a41-020e6902a100",
   "metadata": {},
   "outputs": [],
   "source": [
    "egfr_sub = egfr[['person_id', 'measurement_datetime', 'value_converted']]\n",
    "egfr_sub['measurement_datetime'] = pd.to_datetime(egfr_sub['measurement_datetime'])\n",
    "egfr_sub.rename(columns = {'value_converted' : 'eGFR'}, inplace = True)\n",
    "egfr_mean = egfr_sub.groupby('person_id', as_index = False).mean()\n",
    "print(len(egfr_mean.index))\n",
    "print(len(egfr_mean['person_id'].unique()))\n",
    "print(egfr_mean['eGFR'].describe().map(lambda x: f\"{x:.6f}\"))\n",
    "print(len(egfr_mean[egfr_mean['eGFR'] < 60].index))\n",
    "egfr_mean.head()"
   ]
  },
  {
   "cell_type": "markdown",
   "id": "09151252-c953-4264-ae53-9a07b525ffce",
   "metadata": {},
   "source": [
    "#### eGFR calculated"
   ]
  },
  {
   "cell_type": "code",
   "execution_count": null,
   "id": "8dd658e4-68f5-4590-8b34-46ff11f88972",
   "metadata": {},
   "outputs": [],
   "source": [
    "egfr_calc_sub = egfr_calc[['person_id', 'measurement_datetime', 'value_converted']]\n",
    "egfr_calc_sub['measurement_datetime'] = pd.to_datetime(egfr_calc_sub['measurement_datetime'])\n",
    "egfr_calc_sub.rename(columns = {'value_converted' : 'eGFR'}, inplace = True)\n",
    "egfr_calc_mean = egfr_calc_sub.groupby('person_id', as_index = False).mean()\n",
    "print(len(egfr_calc_mean.index))\n",
    "print(len(egfr_calc_mean['person_id'].unique()))\n",
    "print(egfr_calc_mean['eGFR'].describe().map(lambda x: f\"{x:.6f}\"))\n",
    "print(len(egfr_calc_mean[egfr_calc_mean['eGFR'] < 60].index))\n",
    "egfr_calc_mean.head()"
   ]
  },
  {
   "cell_type": "markdown",
   "id": "0bbafc7e-5d23-425e-a4f0-dd2a6e2d7bff",
   "metadata": {},
   "source": [
    "#### combine eGFR dataframes"
   ]
  },
  {
   "cell_type": "code",
   "execution_count": null,
   "id": "3ec2b13b-8dfa-4f5a-81cc-246f4cccfede",
   "metadata": {},
   "outputs": [],
   "source": [
    "egfr_all = pd.concat([egfr_mean, egfr_calc_mean], axis = 0)\n",
    "egfr_all_mean = egfr_all.groupby('person_id', as_index = False).mean()\n",
    "print(len(egfr_all_mean.index))\n",
    "print(len(egfr_all_mean['person_id'].unique()))\n",
    "print(len(egfr_all_mean[egfr_all_mean['eGFR'] < 60].index))"
   ]
  },
  {
   "cell_type": "markdown",
   "id": "23e9a467-e002-4ed0-9fe4-e41661528fb6",
   "metadata": {},
   "source": [
    "### clean ICD and CPT dfs"
   ]
  },
  {
   "cell_type": "markdown",
   "id": "6c13a2c0-5df8-474a-8f89-5fa33326ec4f",
   "metadata": {},
   "source": [
    "#### filter to CPT codes and convert to numeric"
   ]
  },
  {
   "cell_type": "markdown",
   "id": "b730fc3c-7624-4ede-9360-3bf6ba7be83e",
   "metadata": {},
   "source": [
    "#### subset, rename, and convert datetime in CPT"
   ]
  },
  {
   "cell_type": "code",
   "execution_count": null,
   "id": "7e03be01-f94d-43dc-acad-1e2cafca2829",
   "metadata": {},
   "outputs": [],
   "source": [
    "cpt_sub = cpt[['person_id', 'procedure_datetime', 'procedure_source_value']]\n",
    "cpt_sub.rename(columns = {'procedure_datetime' : 'date',\n",
    "                         'procedure_source_value' : 'code'}, inplace = True)\n",
    "cpt_sub['date'] = pd.to_datetime(cpt_sub['date'])\n",
    "cpt_sub['code'] = pd.to_numeric(cpt_sub['code'], errors = 'coerce')\n",
    "cpt_sub.dropna(subset = ['code'], inplace = True)\n",
    "cpt_sub['code'] = cpt_sub['code'].astype(int)\n",
    "cpt_sub.head()"
   ]
  },
  {
   "cell_type": "markdown",
   "id": "65157c71-6cbc-4810-8b80-d4831d0b1ffd",
   "metadata": {},
   "source": [
    "#### filter CPT to ESRD and KT codes"
   ]
  },
  {
   "cell_type": "code",
   "execution_count": null,
   "id": "803e27cf-3412-44d4-ace6-ff20040f7f81",
   "metadata": {},
   "outputs": [],
   "source": [
    "cpt_esrd = cpt_sub[((cpt_sub['code'] >= 90935) & (cpt_sub['code'] <= 90999)) |\n",
    "                ((cpt_sub['code'] >= 36800) & (cpt_sub['code'] <= 36821)) |\n",
    "                ((cpt_sub['code'] >= 49418) & (cpt_sub['code'] <= 49422)) |\n",
    "                ((cpt_sub['code'] >= 50220) & (cpt_sub['code'] <= 50240))]\n",
    "print(len(cpt_esrd['person_id'].unique()))\n",
    "cpt_esrd['code'].value_counts(dropna = False)"
   ]
  },
  {
   "cell_type": "code",
   "execution_count": null,
   "id": "64f0714d-ebeb-44ce-8083-2103d036e6ce",
   "metadata": {},
   "outputs": [],
   "source": [
    "cpt_kt = cpt_sub[((cpt_sub['code'] >= 50300) & (cpt_sub['code'] <= 50380))]\n",
    "print(len(cpt_kt['person_id'].unique()))\n",
    "cpt_kt['code'].value_counts(dropna = False)"
   ]
  },
  {
   "cell_type": "markdown",
   "id": "18fee6e4-fc0c-4997-a943-ded9ec5d4392",
   "metadata": {},
   "source": [
    "#### rename ICD file"
   ]
  },
  {
   "cell_type": "code",
   "execution_count": null,
   "id": "dac5f3ba-cccd-4ccc-89ea-178ef04732f4",
   "metadata": {},
   "outputs": [],
   "source": [
    "icd.rename(columns = {'condition_start_date' : 'date',\n",
    "                      'condition_source_value' : 'code'}, inplace = True)"
   ]
  },
  {
   "cell_type": "markdown",
   "id": "040f0f05-2394-43ac-8415-60959a5218ce",
   "metadata": {},
   "source": [
    "#### filter to CKD ICD codes"
   ]
  },
  {
   "cell_type": "code",
   "execution_count": null,
   "id": "cd2e4395-8b0f-4204-9591-93f07547119b",
   "metadata": {},
   "outputs": [],
   "source": [
    "ckd_icd = ['N18',\n",
    "           'N19',\n",
    "           'N03',\n",
    "           'N07',\n",
    "           'N11',\n",
    "           'Q60',\n",
    "           'Q61',\n",
    "           'Q63',\n",
    "           '582.9',\n",
    "           '585.9',\n",
    "           '586.9',\n",
    "           '587.9',\n",
    "           '588.84',\n",
    "           '588.9',\n",
    "           '581.9',\n",
    "           '583.02',\n",
    "           '583.08',\n",
    "           '583.09',\n",
    "           '583.1',\n",
    "           '583.29',\n",
    "           '583.8',\n",
    "           '583.9',\n",
    "           '588.4',\n",
    "           '589.1',\n",
    "           'E10.2',\n",
    "           'E11.2',\n",
    "           'E13.2',\n",
    "           'E14.2',\n",
    "           'I12.9',\n",
    "           'I13',\n",
    "           'N00',\n",
    "           'N01',\n",
    "           'N02',\n",
    "           'N04',\n",
    "           'N05',\n",
    "           'N06',\n",
    "           'N08',\n",
    "           'N10',\n",
    "           'N12',\n",
    "           'N13',\n",
    "           'N14',\n",
    "           'N15',\n",
    "           'N16',\n",
    "           'N27.1',\n",
    "           'V45.1',\n",
    "           'V56.8',\n",
    "           'E85.3',\n",
    "           'N16.5',\n",
    "           'N18.0',\n",
    "           'N18.5',\n",
    "           'Q60.1',\n",
    "           'T82.4',\n",
    "           'T86.1',\n",
    "           'Z49',\n",
    "           'Z99.2']"
   ]
  },
  {
   "cell_type": "code",
   "execution_count": null,
   "id": "2699991f-4adc-4815-b32b-ef8f3f69c3e7",
   "metadata": {},
   "outputs": [],
   "source": [
    "aki_icd = ['584.5', '584.9', 'N17']"
   ]
  },
  {
   "cell_type": "code",
   "execution_count": null,
   "id": "6bfa2c32-7954-4fed-9129-231344825856",
   "metadata": {},
   "outputs": [],
   "source": [
    "all_ckd_icd = ckd_icd + aki_icd"
   ]
  },
  {
   "cell_type": "code",
   "execution_count": null,
   "id": "97a3c66b-e618-4f43-8c89-5c393b3f8bf1",
   "metadata": {},
   "outputs": [],
   "source": [
    "icd_ckd = icd[icd['code'].str.contains('|'.join(all_ckd_icd))]\n",
    "print(len(icd_ckd['person_id'].unique()))\n",
    "icd_ckd['code'].unique()"
   ]
  },
  {
   "cell_type": "markdown",
   "id": "d028b973-1bb3-47ce-9ec5-1efa8af37c4b",
   "metadata": {},
   "source": [
    "#### concatenate ICD and CPT dfs"
   ]
  },
  {
   "cell_type": "code",
   "execution_count": null,
   "id": "fdc64310-f856-408d-9bfc-9f58bf82f9bb",
   "metadata": {},
   "outputs": [],
   "source": [
    "icd_cpt_ckd = pd.concat([icd_ckd, cpt_esrd], axis = 0)\n",
    "print(len(icd_cpt_ckd['person_id'].unique()))"
   ]
  },
  {
   "cell_type": "markdown",
   "id": "75ce64a9-acc2-478b-adf2-d0f5391c5549",
   "metadata": {},
   "source": [
    "#### remove individuals with kidney transplant"
   ]
  },
  {
   "cell_type": "code",
   "execution_count": null,
   "id": "fca314b4-6615-4940-beb7-8db3a1d346b8",
   "metadata": {},
   "outputs": [],
   "source": [
    "transplant_icd = ['V42.0', 'Z94.0', 'Y60.2', 'Y61.2', 'Y84.1']"
   ]
  },
  {
   "cell_type": "code",
   "execution_count": null,
   "id": "30856219-b008-4dee-a700-bc6e5751829f",
   "metadata": {},
   "outputs": [],
   "source": [
    "transplant_indiv = icd[icd['code'].isin(transplant_icd)]\n",
    "print(len(transplant_indiv['person_id'].unique()))\n",
    "transplant_indiv['code'].unique()"
   ]
  },
  {
   "cell_type": "code",
   "execution_count": null,
   "id": "f29fcd5a-4020-42ba-9fd7-448f630c4721",
   "metadata": {},
   "outputs": [],
   "source": [
    "icd_no_transplant = icd_cpt_ckd[~icd_cpt_ckd['person_id'].isin(transplant_indiv['person_id'])]\n",
    "print(len(icd_no_transplant['person_id'].unique()))"
   ]
  },
  {
   "cell_type": "code",
   "execution_count": null,
   "id": "14227e29-1e15-4e66-a462-255971d8c80f",
   "metadata": {},
   "outputs": [],
   "source": [
    "icd_cpt_no_transplant = icd_no_transplant[~icd_no_transplant['person_id'].isin(cpt_kt['person_id'])]\n",
    "print(len(icd_cpt_no_transplant['person_id'].unique()))"
   ]
  },
  {
   "cell_type": "markdown",
   "id": "a101bdfc-c466-429f-a6f6-16e577a2f671",
   "metadata": {},
   "source": [
    "#### remove individuals with only acute kidney injury"
   ]
  },
  {
   "cell_type": "code",
   "execution_count": null,
   "id": "d509633e-7e67-4fa3-ac06-0d263066493e",
   "metadata": {},
   "outputs": [],
   "source": [
    "aki_indiv = icd_ckd[icd_ckd['code'].str.contains('|'.join(aki_icd))]\n",
    "aki_indiv = aki_indiv[~aki_indiv['person_id'].isin(transplant_indiv['person_id'])]\n",
    "len(aki_indiv['person_id'].unique())"
   ]
  },
  {
   "cell_type": "code",
   "execution_count": null,
   "id": "6c1fed02-35df-44e5-9315-3c4b6e06e91f",
   "metadata": {},
   "outputs": [],
   "source": [
    "id_list = aki_indiv['person_id'].unique()\n",
    "len(id_list)"
   ]
  },
  {
   "cell_type": "code",
   "execution_count": null,
   "id": "48046229-7615-4c77-85dd-90b9318b5338",
   "metadata": {},
   "outputs": [],
   "source": [
    "not_only_aki = []\n",
    "for id in id_list:\n",
    "    df = aki_indiv[aki_indiv['person_id'].isin([id])]\n",
    "    code = df[~df['code'].isin(aki_icd)]\n",
    "    if len(code.index) > 0:\n",
    "        not_only_aki.append(id)"
   ]
  },
  {
   "cell_type": "code",
   "execution_count": null,
   "id": "d93936f2-5e5a-4be4-824b-1041de40a839",
   "metadata": {},
   "outputs": [],
   "source": [
    "len(not_only_aki)"
   ]
  },
  {
   "cell_type": "code",
   "execution_count": null,
   "id": "9f6acb6a-a97a-47eb-b715-48ea5b37419a",
   "metadata": {},
   "outputs": [],
   "source": [
    "not_only_aki_df = aki_indiv[aki_indiv['person_id'].isin(not_only_aki)]\n",
    "len(not_only_aki_df['person_id'].unique())"
   ]
  },
  {
   "cell_type": "code",
   "execution_count": null,
   "id": "310fa6d5-3b98-45df-b95c-da6c03f689b3",
   "metadata": {},
   "outputs": [],
   "source": [
    "no_aki = icd_cpt_no_transplant[~icd_cpt_no_transplant['person_id'].isin(aki_indiv['person_id'])]\n",
    "len(no_aki['person_id'].unique())"
   ]
  },
  {
   "cell_type": "code",
   "execution_count": null,
   "id": "1cacee8d-ca9a-4fd7-b7b4-4262cbe33c89",
   "metadata": {},
   "outputs": [],
   "source": [
    "icd_aki_fixed = pd.concat([no_aki, not_only_aki_df], axis = 0)\n",
    "print(len(icd_aki_fixed['person_id'].unique()))\n",
    "icd_aki_fixed.head()"
   ]
  },
  {
   "cell_type": "markdown",
   "id": "4ba757c6-9996-496b-b64b-a52f5814f945",
   "metadata": {},
   "source": [
    "#### apply rule of 2"
   ]
  },
  {
   "cell_type": "code",
   "execution_count": null,
   "id": "24f0f4c3-bc0f-458a-96f4-a86944850b3d",
   "metadata": {},
   "outputs": [],
   "source": [
    "id_list = icd_aki_fixed['person_id'].unique()\n",
    "len(id_list)"
   ]
  },
  {
   "cell_type": "code",
   "execution_count": null,
   "id": "d7ab12eb-d8e9-46e2-b831-2ed0dc7af0aa",
   "metadata": {},
   "outputs": [],
   "source": [
    "two_instances = []\n",
    "for id in id_list:\n",
    "    id_df = icd_aki_fixed[icd_aki_fixed['person_id'].isin([id])]\n",
    "    id_df.drop_duplicates(inplace = True)\n",
    "    id_df.reset_index(inplace = True, drop = True)\n",
    "    if len(id_df.index) >= 2:\n",
    "        two_instances.append(id)"
   ]
  },
  {
   "cell_type": "code",
   "execution_count": null,
   "id": "60d4f60c-dd0e-474a-8d63-c81cfd55059a",
   "metadata": {},
   "outputs": [],
   "source": [
    "len(two_instances)"
   ]
  },
  {
   "cell_type": "code",
   "execution_count": null,
   "id": "2dd789ba-78fc-44a4-8c75-f2864d5c2c7b",
   "metadata": {},
   "outputs": [],
   "source": [
    "icd_two = icd_aki_fixed[icd_aki_fixed['person_id'].isin(two_instances)]\n",
    "print(len(icd_two['person_id'].unique()))\n",
    "icd_two.head()"
   ]
  },
  {
   "cell_type": "markdown",
   "id": "27a702a5-f50e-4861-ad65-75a7cf713048",
   "metadata": {},
   "source": [
    "#### filter to earliest date"
   ]
  },
  {
   "cell_type": "code",
   "execution_count": null,
   "id": "8f8210e0-d0b2-45a9-a58e-e307c33519ab",
   "metadata": {},
   "outputs": [],
   "source": [
    "icd_two.sort_values(by = ['person_id', 'date'], ascending = True, inplace = True)\n",
    "icd_two.drop_duplicates(subset = 'person_id', keep = 'first', inplace = True)\n",
    "print(len(icd_two.index))\n",
    "icd_two.head()"
   ]
  },
  {
   "cell_type": "markdown",
   "id": "487c80f4-3b88-4f24-900d-eba8c44750eb",
   "metadata": {},
   "source": [
    "### merge eGFR and ICD"
   ]
  },
  {
   "cell_type": "code",
   "execution_count": null,
   "id": "ad48c560-8460-4aa3-876a-7934093dfd42",
   "metadata": {},
   "outputs": [],
   "source": [
    "icd_egfr = icd_two.merge(egfr_all_mean, on = 'person_id', how = 'inner')\n",
    "print(len(icd_egfr.index))\n",
    "icd_egfr.head()"
   ]
  },
  {
   "cell_type": "markdown",
   "id": "e165d241-f045-4fb9-a7cd-b4bce79407fc",
   "metadata": {},
   "source": [
    "### filter to people with eGFR < 60"
   ]
  },
  {
   "cell_type": "code",
   "execution_count": null,
   "id": "fbd4f278-7c2a-4909-a5df-a5a030438466",
   "metadata": {},
   "outputs": [],
   "source": [
    "case = icd_egfr[icd_egfr['eGFR'] < 60]\n",
    "print(len(case.index))"
   ]
  },
  {
   "cell_type": "markdown",
   "id": "d39f1c51-aaad-4586-914f-657642778503",
   "metadata": {},
   "source": [
    "### get first date"
   ]
  },
  {
   "cell_type": "code",
   "execution_count": null,
   "id": "9db6a0da-5b1c-450c-a8d2-f5ed2dbf1576",
   "metadata": {},
   "outputs": [],
   "source": [
    "case['date'] = pd.to_datetime(case['date'], utc=True).dt.tz_localize(None)\n",
    "case['measurement_datetime'] = pd.to_datetime(case['measurement_datetime'], utc=True).dt.tz_localize(None)\n",
    "case['first_date'] = case[['date', 'measurement_datetime']].min(axis = 1)\n",
    "case.head()"
   ]
  },
  {
   "cell_type": "markdown",
   "id": "84a571c6-1afa-4029-a1f4-c5cf210d467e",
   "metadata": {},
   "source": [
    "## add CKD column and subset"
   ]
  },
  {
   "cell_type": "code",
   "execution_count": null,
   "id": "7a6461d7-c6b8-4758-895d-14717d8b2f96",
   "metadata": {},
   "outputs": [],
   "source": [
    "case['CKD'] = 1\n",
    "case.drop(columns = ['code', 'date', 'measurement_datetime', 'eGFR'], inplace = True)\n",
    "case.head()"
   ]
  },
  {
   "cell_type": "markdown",
   "id": "42c9625e-91af-41ed-b8d4-fdc07d074ea4",
   "metadata": {},
   "source": [
    "# clean demo df"
   ]
  },
  {
   "cell_type": "markdown",
   "id": "f2219820-a2d0-41ac-9a69-14924b7b0242",
   "metadata": {},
   "source": [
    "## v3"
   ]
  },
  {
   "cell_type": "markdown",
   "id": "26f02ba9-db88-447d-8df2-406f3192843e",
   "metadata": {},
   "source": [
    "### merge dfs"
   ]
  },
  {
   "cell_type": "code",
   "execution_count": null,
   "id": "f3c9ae3b-ca6e-4f31-94d1-25cce714c460",
   "metadata": {},
   "outputs": [],
   "source": [
    "demo = sex.merge(dob, on = 'person_id', how = 'inner')\n",
    "print(len(demo.index))\n",
    "print(len(demo['person_id'].unique()))\n",
    "demo.head()"
   ]
  },
  {
   "cell_type": "markdown",
   "id": "c2486650-cd80-48fb-9fde-a20e936764bc",
   "metadata": {},
   "source": [
    "### recode sex column"
   ]
  },
  {
   "cell_type": "code",
   "execution_count": null,
   "id": "6cabb915-2bc6-48ce-963c-e24ff64f33e3",
   "metadata": {},
   "outputs": [],
   "source": [
    "demo['Sequenced_gender'].unique()"
   ]
  },
  {
   "cell_type": "code",
   "execution_count": null,
   "id": "783e06b9-6f8b-4f6b-b553-819bb5d786ab",
   "metadata": {},
   "outputs": [],
   "source": [
    "demo['Sequenced_gender'] = demo['Sequenced_gender'].str.replace('Male','1')\n",
    "demo['Sequenced_gender'] = demo['Sequenced_gender'].str.replace('Female','2')\n",
    "demo['Sequenced_gender'].unique()"
   ]
  },
  {
   "cell_type": "markdown",
   "id": "44444dbf-441d-474b-b9ab-ad8a326d41af",
   "metadata": {},
   "source": [
    "### convert dob column to date type"
   ]
  },
  {
   "cell_type": "code",
   "execution_count": null,
   "id": "b43c3e01-88ff-4476-9231-dae09528af1f",
   "metadata": {},
   "outputs": [],
   "source": [
    "demo['birth_datetime'] = pd.to_datetime(demo['birth_datetime'])"
   ]
  },
  {
   "cell_type": "markdown",
   "id": "68f6dfc1-4a71-4d54-88ac-65ac0ad6b9ae",
   "metadata": {},
   "source": [
    "# calculate date at last data release for controls"
   ]
  },
  {
   "cell_type": "markdown",
   "id": "c53aca9b-9961-4c6e-ac0e-1d02d9a809ff",
   "metadata": {},
   "source": [
    "### filter to controls"
   ]
  },
  {
   "cell_type": "code",
   "execution_count": null,
   "id": "6f629d45-a8d4-4360-91c2-aec0c90e134d",
   "metadata": {},
   "outputs": [],
   "source": [
    "print(len(demo_sex.index))\n",
    "demo_control = demo_sex[demo_sex['PMBB_ID'].isin(egfr_mean['PMBB_ID'])]\n",
    "print(len(demo_control.index))\n",
    "demo_control = demo_control[~demo_control['PMBB_ID'].isin(icd_cpt_ckd['PMBB_ID'])]\n",
    "print(len(demo_control.index))\n",
    "demo_control = demo_control[~demo_control['PMBB_ID'].isin(transplant_indiv['PMBB_ID'])]\n",
    "print(len(demo_control.index))\n",
    "demo_control = demo_control[~demo_control['PMBB_ID'].isin(cpt_kt['PMBB_ID'])]\n",
    "len(demo_control.index)"
   ]
  },
  {
   "cell_type": "markdown",
   "id": "fd230be6-6639-4167-af8e-1dee2de7edd4",
   "metadata": {},
   "source": [
    "### calculate age for individuals who are dead"
   ]
  },
  {
   "cell_type": "code",
   "execution_count": null,
   "id": "589802e2-5f09-4793-a46c-629e4c4ba7f7",
   "metadata": {},
   "outputs": [],
   "source": [
    "dead = demo_control[demo_control['death_date_shift'].isna() == False]\n",
    "print(len(dead.index))\n",
    "print(dead['death_date_shift'].max())\n",
    "dead.head()"
   ]
  },
  {
   "cell_type": "code",
   "execution_count": null,
   "id": "0041d408-80ab-4538-bec0-5ae300177bee",
   "metadata": {},
   "outputs": [],
   "source": [
    "dead['AGE'] = pd.to_datetime(dead['death_date_shift']) - pd.to_datetime(dead['birth_date_shift'])\n",
    "dead['AGE'] = dead['AGE'].astype(str).str.replace(' days','')\n",
    "dead['AGE'] = dead['AGE'].astype(float)\n",
    "dead['AGE'] = dead['AGE']/365.2425\n",
    "dead.head()"
   ]
  },
  {
   "cell_type": "markdown",
   "id": "e4081836-7177-4475-b305-e7bbc5151ae2",
   "metadata": {},
   "source": [
    "### calculate age for people who are alive"
   ]
  },
  {
   "cell_type": "code",
   "execution_count": null,
   "id": "4e7a5afb-96ba-4184-9f9f-99540862d918",
   "metadata": {},
   "outputs": [],
   "source": [
    "alive = demo_control[demo_control['death_date_shift'].isna() == True]\n",
    "print(len(alive.index))\n",
    "print(alive['death_date_shift'].max())\n",
    "alive.head()"
   ]
  },
  {
   "cell_type": "code",
   "execution_count": null,
   "id": "a007a695-7075-4f7a-b894-5fe3c565c6e8",
   "metadata": {},
   "outputs": [],
   "source": [
    "alive['AGE'] = (datetime(2023, 6, 13, 0, 0, 0)) - pd.to_datetime(alive['birth_date_shift'])\n",
    "alive['AGE'] = alive['AGE'].astype(str).str.replace(' days','')\n",
    "alive['AGE'] = alive['AGE'].astype(float)\n",
    "alive['AGE'] = alive['AGE']/365.2425\n",
    "alive.head()"
   ]
  },
  {
   "cell_type": "markdown",
   "id": "c83cf5ef-7764-475f-950c-82bcbc2f4857",
   "metadata": {},
   "source": [
    "### concatenate"
   ]
  },
  {
   "cell_type": "code",
   "execution_count": null,
   "id": "5ecad579-7ade-4cea-aebf-a7aad0ede432",
   "metadata": {},
   "outputs": [],
   "source": [
    "demo_control_age = pd.concat([alive, dead],axis = 0)\n",
    "print(len(demo_control_age.index))\n",
    "demo_control_age.head()"
   ]
  },
  {
   "cell_type": "markdown",
   "id": "b2834d96-c91d-4404-bdee-f0868a0c388e",
   "metadata": {},
   "source": [
    "### add CKD column"
   ]
  },
  {
   "cell_type": "code",
   "execution_count": null,
   "id": "06e903bf-7503-4d7d-ad28-063fb2856bbe",
   "metadata": {},
   "outputs": [],
   "source": [
    "demo_control_age['CKD'] = 0"
   ]
  },
  {
   "cell_type": "markdown",
   "id": "964fae0e-22ab-4f16-a613-90ce50763325",
   "metadata": {},
   "source": [
    "### subset"
   ]
  },
  {
   "cell_type": "code",
   "execution_count": null,
   "id": "7137d54a-9761-40df-9606-4f92f9e42405",
   "metadata": {},
   "outputs": [],
   "source": [
    "demo_control_age.drop(columns = ['birth_date_shift','death_date_shift'], inplace = True)\n",
    "demo_control_age.head()"
   ]
  },
  {
   "cell_type": "markdown",
   "id": "3bb844bc-2c5e-42ae-ad41-32c59d62ccc9",
   "metadata": {},
   "source": [
    "## v3"
   ]
  },
  {
   "cell_type": "markdown",
   "id": "6294ade5-4ca9-4624-8a25-565109adca2c",
   "metadata": {},
   "source": [
    "### filter to controls"
   ]
  },
  {
   "cell_type": "code",
   "execution_count": null,
   "id": "34eabb29-fb31-4ce4-9003-9bff4d1b78b0",
   "metadata": {},
   "outputs": [],
   "source": [
    "print(len(demo.index))\n",
    "demo_control = demo[demo['person_id'].isin(egfr_all_mean['person_id'])]\n",
    "print(len(demo_control.index))\n",
    "demo_control = demo_control[~demo_control['person_id'].isin(icd_cpt_ckd['person_id'])]\n",
    "print(len(demo_control.index))\n",
    "demo_control = demo_control[~demo_control['person_id'].isin(transplant_indiv['person_id'])]\n",
    "print(len(demo_control.index))\n",
    "demo_control = demo_control[~demo_control['person_id'].isin(cpt_kt['person_id'])]\n",
    "len(demo_control.index)"
   ]
  },
  {
   "cell_type": "markdown",
   "id": "89fdb4c5-58de-4c49-a0f2-a343dd32eddf",
   "metadata": {},
   "source": [
    "### calculate age for people who are dead"
   ]
  },
  {
   "cell_type": "code",
   "execution_count": null,
   "id": "94e1b809-9aaf-478b-94c3-cfad2c918a40",
   "metadata": {},
   "outputs": [],
   "source": [
    "dead = demo_control.merge(death, on = 'person_id', how = 'inner')\n",
    "print(len(death.index))\n",
    "print(len(dead.index))\n",
    "dead.head()"
   ]
  },
  {
   "cell_type": "code",
   "execution_count": null,
   "id": "1a4f011d-f761-44b0-9896-faf5d226ee2b",
   "metadata": {},
   "outputs": [],
   "source": [
    "dead['AGE'] = pd.to_datetime(dead['death_date']) - dead['birth_datetime']\n",
    "dead['AGE'] = dead['AGE'].astype(str).str.replace(' days','')\n",
    "dead['AGE'] = dead['AGE'].astype(float)\n",
    "dead['AGE'] = dead['AGE']/365.2425\n",
    "dead.head()"
   ]
  },
  {
   "cell_type": "code",
   "execution_count": null,
   "id": "d5cdfab3-f2d6-43c2-ae43-02cd53244049",
   "metadata": {},
   "outputs": [],
   "source": [
    "dead.drop(columns = ['birth_datetime', 'death_date'], inplace = True)"
   ]
  },
  {
   "cell_type": "markdown",
   "id": "f41e9440-69d6-4c76-b01e-31dc27c165f6",
   "metadata": {},
   "source": [
    "### calculate age for people who are alive"
   ]
  },
  {
   "cell_type": "code",
   "execution_count": null,
   "id": "eaf75a83-9a82-4d6b-8b9f-98c7fddd707b",
   "metadata": {},
   "outputs": [],
   "source": [
    "alive = demo_control[~demo_control['person_id'].isin(death['person_id'])]\n",
    "print(len(demo_control.index))\n",
    "print(len(alive.index))\n",
    "alive.head()"
   ]
  },
  {
   "cell_type": "code",
   "execution_count": null,
   "id": "5f7e8f5c-d09b-42f4-9df5-73c43851ad44",
   "metadata": {},
   "outputs": [],
   "source": [
    "alive['AGE'] = pd.to_datetime('2025-01-30') - alive['birth_datetime']\n",
    "alive['AGE'] = alive['AGE'].astype(str).str.replace(' days','')\n",
    "alive['AGE'] = alive['AGE'].astype(float)\n",
    "alive['AGE'] = alive['AGE']/365.2425\n",
    "alive.head()"
   ]
  },
  {
   "cell_type": "code",
   "execution_count": null,
   "id": "11ae43f5-287f-4799-978d-e2f7b3623734",
   "metadata": {},
   "outputs": [],
   "source": [
    "alive.drop(columns = ['birth_datetime'], inplace = True)\n",
    "alive.head()"
   ]
  },
  {
   "cell_type": "markdown",
   "id": "b6845a90-5bc9-4fa5-bd86-f1ce7d19012d",
   "metadata": {},
   "source": [
    "### concatenate"
   ]
  },
  {
   "cell_type": "code",
   "execution_count": null,
   "id": "8dd129c7-92c5-403b-b38e-1c534d1ce3f9",
   "metadata": {},
   "outputs": [],
   "source": [
    "demo_control_age = pd.concat([alive, dead],axis = 0)\n",
    "print(len(demo_control.index))\n",
    "print(len(demo_control_age.index))\n",
    "demo_control_age.head()"
   ]
  },
  {
   "cell_type": "markdown",
   "id": "928af181-d1e7-41bf-8e72-0f7cd0d5bce6",
   "metadata": {},
   "source": [
    "### add ckd column"
   ]
  },
  {
   "cell_type": "code",
   "execution_count": null,
   "id": "8e9af1ce-6e16-485d-a977-f9ba8aec2383",
   "metadata": {},
   "outputs": [],
   "source": [
    "demo_control_age['CKD'] = 0"
   ]
  },
  {
   "cell_type": "markdown",
   "id": "6c07c64c-7d43-4baf-9ea1-66c2b7246dda",
   "metadata": {},
   "source": [
    "# calculate age at first condition for cases"
   ]
  },
  {
   "cell_type": "markdown",
   "id": "55d0aaa4-1e22-4fdf-b7cc-8d3e3115fab9",
   "metadata": {},
   "source": [
    "### original"
   ]
  },
  {
   "cell_type": "markdown",
   "id": "124a4c7c-6584-4a66-8646-ed4fb9dac89a",
   "metadata": {},
   "source": [
    "#### filter to cases"
   ]
  },
  {
   "cell_type": "code",
   "execution_count": null,
   "id": "0e4d6f0c-e27d-4746-bbd2-15dce6b5af94",
   "metadata": {},
   "outputs": [],
   "source": [
    "demo_case = demo_sex[demo_sex['PMBB_ID'].isin(case['id'])]\n",
    "print(len(demo_sex.index))\n",
    "print(len(demo_case['PMBB_ID'].unique()))\n",
    "len(demo_case.index)"
   ]
  },
  {
   "cell_type": "markdown",
   "id": "5d002dba-1c98-4faf-9f4a-bcefedc274c9",
   "metadata": {},
   "source": [
    "#### subset icd column to phecodeX codes"
   ]
  },
  {
   "cell_type": "code",
   "execution_count": null,
   "id": "ce8a9d42-aabc-4f8d-af73-79feb5350f7a",
   "metadata": {},
   "outputs": [],
   "source": [
    "phecode_map_ckd = phecode_map[phecode_map['phecode'].isin(['GU_582.2'])]\n",
    "print(phecode_map_ckd['phecode'].unique())\n",
    "print(phecode_map_ckd['ICD'].unique())\n",
    "phecode_map_ckd.head()"
   ]
  },
  {
   "cell_type": "code",
   "execution_count": null,
   "id": "1403e5ea-f946-414d-a67b-c9943249011b",
   "metadata": {},
   "outputs": [],
   "source": [
    "icd.head()"
   ]
  },
  {
   "cell_type": "code",
   "execution_count": null,
   "id": "795d7b9f-d665-426a-9723-3e61abebb42a",
   "metadata": {},
   "outputs": [],
   "source": [
    "icd_case = icd[icd['code'].isin(phecode_map_ckd['ICD'])]\n",
    "print(icd_case['code'].unique())"
   ]
  },
  {
   "cell_type": "markdown",
   "id": "e2ea3975-eedd-4fd2-98bb-9761b30e0d79",
   "metadata": {},
   "source": [
    "#### get earliest date"
   ]
  },
  {
   "cell_type": "code",
   "execution_count": null,
   "id": "acd27647-898b-44eb-959a-483d2d9ca0c3",
   "metadata": {},
   "outputs": [],
   "source": [
    "icd_case['condition_start_date'] = pd.to_datetime(icd_case['condition_start_date'])"
   ]
  },
  {
   "cell_type": "code",
   "execution_count": null,
   "id": "34d9ddcf-341f-4c6b-a8b1-953a54299640",
   "metadata": {},
   "outputs": [],
   "source": [
    "icd_case.sort_values(by=['PMBB_ID','condition_start_date'],inplace=True)"
   ]
  },
  {
   "cell_type": "code",
   "execution_count": null,
   "id": "371e3827-d907-4cf7-b6d0-5d79c4a25f3e",
   "metadata": {},
   "outputs": [],
   "source": [
    "icd_case_first = icd_case.drop_duplicates(keep='first',subset='PMBB_ID')\n",
    "print(len(icd_case_first.index))\n",
    "print(len(icd_case_first['PMBB_ID'].unique()))\n",
    "icd_case_first.head()"
   ]
  },
  {
   "cell_type": "code",
   "execution_count": null,
   "id": "7a6ca3f4-ac64-4507-be97-462d9fb27c15",
   "metadata": {},
   "outputs": [],
   "source": [
    "icd_case_first.drop(columns = ['code'], inplace = True)"
   ]
  },
  {
   "cell_type": "markdown",
   "id": "726ef749-c58f-4136-bf72-fc96a2bb44f4",
   "metadata": {},
   "source": [
    "#### merge icd and demo df"
   ]
  },
  {
   "cell_type": "code",
   "execution_count": null,
   "id": "1a7a60db-a72b-4810-b811-86f004de42b7",
   "metadata": {},
   "outputs": [],
   "source": [
    "demo_case_icd = demo_case.merge(icd_case_first, on = 'PMBB_ID')\n",
    "print(len(demo_case_icd.index))\n",
    "demo_case_icd.head()"
   ]
  },
  {
   "cell_type": "markdown",
   "id": "6e05895b-29c0-41f2-9c5c-3a5dcc0434bc",
   "metadata": {},
   "source": [
    "#### calculate age"
   ]
  },
  {
   "cell_type": "code",
   "execution_count": null,
   "id": "6e257817-7299-452a-88bd-91cc15b26393",
   "metadata": {},
   "outputs": [],
   "source": [
    "demo_case_icd['AGE'] = demo_case_icd['condition_start_date'] - pd.to_datetime(demo_case_icd['birth_date_shift'])\n",
    "demo_case_icd['AGE'] = demo_case_icd['AGE'].astype(str).str.replace(' days','')\n",
    "demo_case_icd['AGE'] = demo_case_icd['AGE'].astype(float)\n",
    "demo_case_icd['AGE'] = demo_case_icd['AGE']/365.2425\n",
    "demo_case_icd.head()"
   ]
  },
  {
   "cell_type": "markdown",
   "id": "56821140-fc00-4abb-bd05-07830619ca70",
   "metadata": {},
   "source": [
    "#### add CKD column"
   ]
  },
  {
   "cell_type": "code",
   "execution_count": null,
   "id": "69c934d4-f065-4597-943b-712dc89a85f5",
   "metadata": {},
   "outputs": [],
   "source": [
    "demo_case_icd['CKD'] = 1"
   ]
  },
  {
   "cell_type": "markdown",
   "id": "67205db0-87f1-4a96-bf28-fafe8ec9f587",
   "metadata": {},
   "source": [
    "#### subset"
   ]
  },
  {
   "cell_type": "code",
   "execution_count": null,
   "id": "2afc4be6-2f0a-489f-bffb-39aa46f73cc6",
   "metadata": {},
   "outputs": [],
   "source": [
    "demo_case_icd.drop(columns = ['birth_date_shift','death_date_shift','condition_start_date'], inplace = True)\n",
    "demo_case_icd.head()"
   ]
  },
  {
   "cell_type": "markdown",
   "id": "ac6d93d8-fd48-45cc-a4e4-57a81bc83e45",
   "metadata": {},
   "source": [
    "### YK phenotyping"
   ]
  },
  {
   "cell_type": "markdown",
   "id": "0c31ed76-345a-447a-8de2-e4b39ccb9a09",
   "metadata": {},
   "source": [
    "#### merge demo and icd"
   ]
  },
  {
   "cell_type": "code",
   "execution_count": null,
   "id": "7bd8f60d-3a06-4cff-a135-66405f2cb46e",
   "metadata": {},
   "outputs": [],
   "source": [
    "demo_case = demo_sex.merge(case, on = 'person_id', how = 'inner')\n",
    "print(len(demo_sex.index))\n",
    "print(len(demo_case['person_id'].unique()))\n",
    "print(len(demo_case.index))\n",
    "demo_case.head()"
   ]
  },
  {
   "cell_type": "markdown",
   "id": "b66ed984-8acb-437a-bbcd-13780b24e6cc",
   "metadata": {},
   "source": [
    "#### calculate age"
   ]
  },
  {
   "cell_type": "code",
   "execution_count": null,
   "id": "e8a52d4a-84fd-4874-91f3-17d47de0f2d5",
   "metadata": {},
   "outputs": [],
   "source": [
    "demo_case['AGE'] = demo_case['first_date'] - pd.to_datetime(demo_case['birth_date_shift'])\n",
    "demo_case['AGE'] = demo_case['AGE'].astype(str).str.replace(r' days .*', '', regex = True)\n",
    "demo_case['AGE'] = demo_case['AGE'].astype(float)\n",
    "demo_case['AGE'] = demo_case['AGE']/365.2425\n",
    "demo_case.head()"
   ]
  },
  {
   "cell_type": "markdown",
   "id": "fbcbf7fe-45bd-4cc8-b3f1-524659e951d2",
   "metadata": {},
   "source": [
    "#### reorder columns"
   ]
  },
  {
   "cell_type": "code",
   "execution_count": null,
   "id": "f72edc00-1c43-44c5-bcce-ff0b9a9a4bb5",
   "metadata": {},
   "outputs": [],
   "source": [
    "demo_case_sub = demo_case[['PMBB_ID', 'gender', 'AGE', 'CKD']]\n",
    "demo_case_sub.head()"
   ]
  },
  {
   "cell_type": "markdown",
   "id": "68d62faf-daed-4984-977f-413908a451a4",
   "metadata": {},
   "source": [
    "## v3"
   ]
  },
  {
   "cell_type": "markdown",
   "id": "63cdb2ff-f463-43c0-a2b0-06951a9059e7",
   "metadata": {},
   "source": [
    "### merge case and demo dfs"
   ]
  },
  {
   "cell_type": "code",
   "execution_count": null,
   "id": "504e60d2-7a5a-40c0-96bf-51a262243157",
   "metadata": {},
   "outputs": [],
   "source": [
    "demo_case = case.merge(demo, on = 'person_id', how = 'inner')\n",
    "print(len(case['person_id'].unique()))\n",
    "print(len(demo_case['person_id'].unique()))\n",
    "demo_case.head()"
   ]
  },
  {
   "cell_type": "markdown",
   "id": "9ae38f8a-f514-4eb1-8f2b-c35289c107b4",
   "metadata": {},
   "source": [
    "### calculate age"
   ]
  },
  {
   "cell_type": "code",
   "execution_count": null,
   "id": "6ffbd385-1b47-4bb2-b0bc-495cf0b8d998",
   "metadata": {},
   "outputs": [],
   "source": [
    "demo_case['AGE'] = demo_case['first_date'] - demo_case['birth_datetime']\n",
    "demo_case['AGE'] = demo_case['AGE'].astype(str).str.replace(r' days.*', '', regex = True)\n",
    "demo_case['AGE'] = demo_case['AGE'].astype(float)\n",
    "demo_case['AGE'] = demo_case['AGE']/365.2425\n",
    "demo_case.head()"
   ]
  },
  {
   "cell_type": "markdown",
   "id": "17088501-fa5b-4025-9bda-bab4f6126924",
   "metadata": {},
   "source": [
    "### subset"
   ]
  },
  {
   "cell_type": "code",
   "execution_count": null,
   "id": "b30a10f8-809f-4543-93e9-17db53ac1d65",
   "metadata": {},
   "outputs": [],
   "source": [
    "demo_case.drop(columns = ['first_date', 'birth_datetime'], inplace = True)\n",
    "demo_case.head()"
   ]
  },
  {
   "cell_type": "markdown",
   "id": "4cf463ce-0b45-4fd5-8308-56eb89a19d3e",
   "metadata": {},
   "source": [
    "### add CKD column"
   ]
  },
  {
   "cell_type": "code",
   "execution_count": null,
   "id": "24c18a7c-96c8-4e6d-a710-e97dbc356051",
   "metadata": {},
   "outputs": [],
   "source": [
    "demo_case['CKD'] = 1"
   ]
  },
  {
   "cell_type": "markdown",
   "id": "0c89c15f-bb75-49ae-bc4b-6fce399282f2",
   "metadata": {},
   "source": [
    "# concatenate case and control dfs"
   ]
  },
  {
   "cell_type": "markdown",
   "id": "84a75a4b-2628-4da1-b00f-22ae0ca9ef5d",
   "metadata": {
    "jp-MarkdownHeadingCollapsed": true
   },
   "source": [
    "### original"
   ]
  },
  {
   "cell_type": "code",
   "execution_count": null,
   "id": "92cfc5b8-7963-4a3b-b098-3ef5ec265e98",
   "metadata": {},
   "outputs": [],
   "source": [
    "case_control = pd.concat([demo_case_icd, demo_control_age], axis = 0)\n",
    "print(len(case_control.index))\n",
    "case_control.head()"
   ]
  },
  {
   "cell_type": "markdown",
   "id": "c0bf6d43-7195-4254-8eca-fd1d52aacf17",
   "metadata": {},
   "source": [
    "### YK phenotyping"
   ]
  },
  {
   "cell_type": "code",
   "execution_count": null,
   "id": "a180b380-9e6e-4e27-8b6a-901f73e9de31",
   "metadata": {},
   "outputs": [],
   "source": [
    "case_control = pd.concat([demo_case_sub, demo_control_age], axis = 0)\n",
    "print(len(case_control.index))\n",
    "print(case_control['CKD'].value_counts(dropna = False))\n",
    "case_control.head()"
   ]
  },
  {
   "cell_type": "markdown",
   "id": "950bf586-7b9e-4256-beaf-d5ceb367d619",
   "metadata": {},
   "source": [
    "## v3"
   ]
  },
  {
   "cell_type": "code",
   "execution_count": null,
   "id": "b69bcf1c-8b44-4694-8773-e1f08a6617e7",
   "metadata": {},
   "outputs": [],
   "source": [
    "case_control = pd.concat([demo_case, demo_control_age], axis = 0)\n",
    "print(len(case_control.index))\n",
    "case_control.head()"
   ]
  },
  {
   "cell_type": "markdown",
   "id": "2277da99-dcc1-4869-8b0f-d2e2e98464f0",
   "metadata": {},
   "source": [
    "# rename sex and batch columns"
   ]
  },
  {
   "cell_type": "code",
   "execution_count": null,
   "id": "37ad130b-0ec9-4e30-b77e-6bc947aa37c2",
   "metadata": {},
   "outputs": [],
   "source": [
    "case_control.rename(columns = {'gender' : 'SEX'}, inplace = True)\n",
    "case_control.head()"
   ]
  },
  {
   "cell_type": "markdown",
   "id": "82c9e11a-ad57-44c6-ad9c-d8b01994b203",
   "metadata": {},
   "source": [
    "## v3"
   ]
  },
  {
   "cell_type": "code",
   "execution_count": null,
   "id": "5b8239e0-2280-4a37-b7ee-75108d20b397",
   "metadata": {},
   "outputs": [],
   "source": [
    "case_control.rename(columns = {'Sequenced_gender' : 'SEX',\n",
    "                              'Batch' : 'BATCH'}, inplace = True)\n",
    "case_control.head()"
   ]
  },
  {
   "cell_type": "code",
   "execution_count": null,
   "id": "65e95be0-c253-4298-bc1e-9a73253fd039",
   "metadata": {},
   "outputs": [],
   "source": [
    "case_control['BATCH'].value_counts()"
   ]
  },
  {
   "cell_type": "markdown",
   "id": "d3dce0da-daf6-479f-a9e0-660f2dc3104d",
   "metadata": {},
   "source": [
    "# export"
   ]
  },
  {
   "cell_type": "markdown",
   "id": "ca3195b9-d6fd-48e6-8fd2-c3dd6361cade",
   "metadata": {},
   "source": [
    "### original"
   ]
  },
  {
   "cell_type": "code",
   "execution_count": null,
   "id": "2ae6a79b-ff7b-4aaa-a47d-568ed9f9a824",
   "metadata": {},
   "outputs": [],
   "source": [
    "case_control.to_csv('/project/ritchie/projects/PGS_variability/CKD/PMBB/input/PMBB_v2.CKD_PGS.phenotype_covariates.txt',\n",
    "                    sep = '\\t',\n",
    "                    index = None)"
   ]
  },
  {
   "cell_type": "markdown",
   "id": "a4e3963c-fcdd-4cba-8d2c-e982d64dd239",
   "metadata": {},
   "source": [
    "### updated phenotyping"
   ]
  },
  {
   "cell_type": "code",
   "execution_count": null,
   "id": "fe3d8fdf-ddd2-46f5-b280-e2a38d176775",
   "metadata": {},
   "outputs": [],
   "source": [
    "case_control.to_csv('/project/ritchie/projects/PGS_variability/CKD/PMBB/input/PMBB_v2.CKD_PGS.YK_phenotyping.phenotype_covariates.txt',\n",
    "                    sep = '\\t',\n",
    "                    index = None)"
   ]
  },
  {
   "cell_type": "markdown",
   "id": "1a698fd4-f3e3-40df-8b71-1afbbc920960",
   "metadata": {},
   "source": [
    "## v3"
   ]
  },
  {
   "cell_type": "code",
   "execution_count": null,
   "id": "37c8c199-df21-47a6-a702-2f7a8de5aad5",
   "metadata": {},
   "outputs": [],
   "source": [
    "case_control.to_csv('input/PMBB_v3.CKD_PGS.YK_phenotyping.phenotype_covariates.txt',\n",
    "                    sep = '\\t',\n",
    "                    index = None)"
   ]
  },
  {
   "cell_type": "code",
   "execution_count": null,
   "id": "1321a83f-94a2-4ef7-ae67-eae1029a4f5b",
   "metadata": {},
   "outputs": [],
   "source": []
  }
 ],
 "metadata": {
  "kernelspec": {
   "display_name": "Python 3 (ipykernel)",
   "language": "python",
   "name": "python3"
  },
  "language_info": {
   "codemirror_mode": {
    "name": "ipython",
    "version": 3
   },
   "file_extension": ".py",
   "mimetype": "text/x-python",
   "name": "python",
   "nbconvert_exporter": "python",
   "pygments_lexer": "ipython3",
   "version": "3.12.3"
  }
 },
 "nbformat": 4,
 "nbformat_minor": 5
}
