{
 "cells": [
  {
   "cell_type": "markdown",
   "metadata": {},
   "source": [
    "# load packages"
   ]
  },
  {
   "cell_type": "code",
   "execution_count": null,
   "metadata": {},
   "outputs": [],
   "source": [
    "library(rlang)\n",
    "library(bigreadr)\n",
    "library(R.utils)\n",
    "library(tidyverse)\n",
    "library(tidyposterior)\n",
    "library(tidymodels)\n",
    "library(parsnip)\n",
    "library(probably)\n",
    "library(ggpubr)\n",
    "library(colorspace)\n",
    "library(kableExtra)\n",
    "library(IRdisplay)\n",
    "library(ggsci)\n",
    "library(knitr)\n",
    "library(gginnards)\n",
    "library(irr)\n",
    "library(simpleboot)\n",
    "library(boot)\n",
    "library(reshape2)\n",
    "library(data.table)\n",
    "library(eulerr)\n",
    "library(patchwork)\n",
    "library(ggtext)\n",
    "library(rstan)\n",
    "library(posterior)\n",
    "library(truncnorm)\n",
    "library(gridExtra)\n",
    "library(cowplot)"
   ]
  },
  {
   "cell_type": "markdown",
   "metadata": {},
   "source": [
    "# read in input files"
   ]
  },
  {
   "cell_type": "markdown",
   "metadata": {},
   "source": [
    "## score"
   ]
  },
  {
   "cell_type": "code",
   "execution_count": null,
   "metadata": {},
   "outputs": [],
   "source": [
    "score = fread('output/PMBBv3/score/PMBBv3_pgs.txt.gz',\n",
    "                sep = '\\t')\n",
    "head(score)\n",
    "length(unique(score$PGS))\n",
    "length(unique(score$FID))"
   ]
  },
  {
   "cell_type": "markdown",
   "metadata": {},
   "source": [
    "## pheno/covar"
   ]
  },
  {
   "cell_type": "code",
   "execution_count": null,
   "metadata": {},
   "outputs": [],
   "source": [
    "pheno_covar = fread('input/PMBB_v3.CKD_PGS.YK_phenotyping.phenotype_covariates.txt',\n",
    "                    sep = '\\t')\n",
    "head(pheno_covar)"
   ]
  },
  {
   "cell_type": "markdown",
   "metadata": {},
   "source": [
    "## pop"
   ]
  },
  {
   "cell_type": "code",
   "execution_count": null,
   "metadata": {},
   "outputs": [],
   "source": [
    "pop = fread('output/PMBBv3/score/PMBBv3_popsimilarity.txt.gz',\n",
    "            sep = '\\t')\n",
    "head(pop)\n",
    "colnames(pop)"
   ]
  },
  {
   "cell_type": "markdown",
   "metadata": {},
   "source": [
    "## PGS IDs grouped by training sets"
   ]
  },
  {
   "cell_type": "code",
   "execution_count": null,
   "metadata": {},
   "outputs": [],
   "source": [
    "ukbb = read.csv('input/CKD.PGS_list.Training.UKBB.txt',\n",
    "                header = F)\n",
    "head(ukbb)"
   ]
  },
  {
   "cell_type": "code",
   "execution_count": null,
   "metadata": {},
   "outputs": [],
   "source": [
    "ckdgen_eur = read.csv('input/CKD.PGS_list.Training.CKDGen.EUR_only.txt',\n",
    "                      header = F)\n",
    "head(ckdgen_eur)"
   ]
  },
  {
   "cell_type": "code",
   "execution_count": null,
   "metadata": {},
   "outputs": [],
   "source": [
    "ckdgen_multi = read.csv('input/CKD.PGS_list.Training.CKDGen.multi_ancestry.txt',\n",
    "                        header = F)\n",
    "head(ckdgen_multi)"
   ]
  },
  {
   "cell_type": "markdown",
   "metadata": {},
   "source": [
    "## PRScs iteration scores"
   ]
  },
  {
   "cell_type": "code",
   "execution_count": null,
   "metadata": {},
   "outputs": [],
   "source": [
    "afr_egfr = fread('output/AFR.eGFR.flip/PMBBv3PRScs/score/PMBBv3PRScs_pgs.txt.gz',\n",
    "                 sep = '\\t',\n",
    "                 select = c('IID', 'PGS', 'Z_norm2'))\n",
    "head(afr_egfr)\n",
    "length(unique(afr_egfr$PGS))"
   ]
  },
  {
   "cell_type": "code",
   "execution_count": null,
   "metadata": {},
   "outputs": [],
   "source": [
    "eur_egfr = fread('output/EUR.eGFR.flip/PMBBv3PRScs/score/PMBBv3PRScs_pgs.txt.gz',\n",
    "                 sep ='\\t',\n",
    "                 select = c('IID', 'PGS', 'Z_norm2'))\n",
    "head(eur_egfr)\n",
    "length(unique(eur_egfr$PGS))"
   ]
  },
  {
   "cell_type": "code",
   "execution_count": null,
   "metadata": {},
   "outputs": [],
   "source": [
    "meta_egfr1 = fread('/output/META.eGFR.flip/one/PMBBv3PRScs/score/PMBBv3PRScs_pgs.txt.gz',\n",
    "                   sep ='\\t',\n",
    "                   select = c('IID', 'PGS', 'Z_norm2'))\n",
    "head(meta_egfr1)\n",
    "length(unique(meta_egfr1$PGS))"
   ]
  },
  {
   "cell_type": "code",
   "execution_count": null,
   "metadata": {},
   "outputs": [],
   "source": [
    "meta_egfr2 = fread('output/META.eGFR.flip/two/PMBBv3PRScs/score/PMBBv3PRScs_pgs.txt.gz',\n",
    "                   sep ='\\t',\n",
    "                   select = c('IID', 'PGS', 'Z_norm2'))\n",
    "head(meta_egfr2)\n",
    "length(unique(meta_egfr2$PGS))"
   ]
  },
  {
   "cell_type": "markdown",
   "metadata": {},
   "source": [
    "# clean scores"
   ]
  },
  {
   "cell_type": "markdown",
   "metadata": {},
   "source": [
    "## subset and rename"
   ]
  },
  {
   "cell_type": "code",
   "execution_count": null,
   "metadata": {},
   "outputs": [],
   "source": [
    "score_sub = score %>%\n",
    "select(-c(sampleset,FID) ) %>%\n",
    "mutate(PGS = gsub('_hmPOS_GRCh38', '', PGS))\n",
    "head(score_sub)"
   ]
  },
  {
   "cell_type": "code",
   "execution_count": null,
   "metadata": {},
   "outputs": [],
   "source": [
    "pheno_covar_rename = pheno_covar %>%\n",
    "rename('IID' = 'person_id') %>%\n",
    "mutate(IID = as.character(IID)) %>%\n",
    "mutate(CKD = as.factor(CKD))\n",
    "head(pheno_covar_rename)"
   ]
  },
  {
   "cell_type": "code",
   "execution_count": null,
   "metadata": {},
   "outputs": [],
   "source": [
    "pop_sub = pop %>%\n",
    "select(IID, MostSimilarPop)\n",
    "unique(pop_sub$MostSimilarPop)\n",
    "head(pop_sub)"
   ]
  },
  {
   "cell_type": "markdown",
   "metadata": {},
   "source": [
    "## merge"
   ]
  },
  {
   "cell_type": "code",
   "execution_count": null,
   "metadata": {},
   "outputs": [],
   "source": [
    "all_score = score_sub %>%\n",
    "inner_join(pheno_covar_rename, by = 'IID') %>%\n",
    "inner_join(pop_sub, by = 'IID')\n",
    "nrow(all_score)\n",
    "length(unique(all_score$IID))\n",
    "nrow(score_sub)\n",
    "length(unique(score_sub$IID))\n",
    "nrow(pheno_covar_rename)\n",
    "nrow(pop_sub)\n",
    "head(all_score)"
   ]
  },
  {
   "cell_type": "markdown",
   "metadata": {},
   "source": [
    "### PRScs iterations"
   ]
  },
  {
   "cell_type": "code",
   "execution_count": null,
   "metadata": {},
   "outputs": [],
   "source": [
    "afr_egfr_merge = afr_egfr %>%\n",
    "inner_join(pheno_covar_rename, by = 'IID') %>%\n",
    "inner_join(pop_sub, by = 'IID')\n",
    "head(afr_egfr_merge)"
   ]
  },
  {
   "cell_type": "code",
   "execution_count": null,
   "metadata": {},
   "outputs": [],
   "source": [
    "eur_egfr_merge = eur_egfr %>%\n",
    "inner_join(pheno_covar_rename, by = 'IID') %>%\n",
    "inner_join(pop_sub, by = 'IID')\n",
    "head(eur_egfr_merge)"
   ]
  },
  {
   "cell_type": "code",
   "execution_count": null,
   "metadata": {},
   "outputs": [],
   "source": [
    "meta_egfr = rbind(meta_egfr1, meta_egfr2)\n",
    "meta_egfr_merge = meta_egfr %>%\n",
    "inner_join(pheno_covar_rename, by = 'IID') %>%\n",
    "inner_join(pop_sub, by = 'IID')\n",
    "length(unique(meta_egfr_merge$PGS))\n",
    "head(meta_egfr_merge)"
   ]
  },
  {
   "cell_type": "markdown",
   "metadata": {},
   "source": [
    "## subset to EUR and AFR only"
   ]
  },
  {
   "cell_type": "code",
   "execution_count": null,
   "metadata": {},
   "outputs": [],
   "source": [
    "all_score_eur = all_score %>%\n",
    "filter(grepl('EUR', MostSimilarPop))\n",
    "unique(all_score_eur$MostSimilarPop)\n",
    "head(all_score_eur)"
   ]
  },
  {
   "cell_type": "code",
   "execution_count": null,
   "metadata": {},
   "outputs": [],
   "source": [
    "all_score_afr = all_score %>%\n",
    "filter(grepl('AFR', MostSimilarPop))\n",
    "unique(all_score_afr$MostSimilarPop)\n",
    "head(all_score_afr)"
   ]
  },
  {
   "cell_type": "markdown",
   "metadata": {
    "heading_collapsed": true
   },
   "source": [
    "# get summary data"
   ]
  },
  {
   "cell_type": "markdown",
   "metadata": {
    "hidden": true
   },
   "source": [
    "## case/control"
   ]
  },
  {
   "cell_type": "code",
   "execution_count": null,
   "metadata": {
    "hidden": true
   },
   "outputs": [],
   "source": [
    "all_score %>%\n",
    "select(IID, CKD) %>%\n",
    "distinct() %>%\n",
    "group_by(CKD) %>%\n",
    "summarise(n())"
   ]
  },
  {
   "cell_type": "markdown",
   "metadata": {
    "hidden": true
   },
   "source": [
    "## age"
   ]
  },
  {
   "cell_type": "code",
   "execution_count": null,
   "metadata": {
    "hidden": true
   },
   "outputs": [],
   "source": [
    "all_score %>%\n",
    "select(IID, AGE) %>%\n",
    "distinct() %>%\n",
    "select(-c(IID)) %>%\n",
    "summary()"
   ]
  },
  {
   "cell_type": "code",
   "execution_count": null,
   "metadata": {
    "hidden": true
   },
   "outputs": [],
   "source": [
    "all_score %>%\n",
    "select(IID,AGE) %>%\n",
    "distinct() %>%\n",
    "ggplot(aes(x = AGE, fill = 'red')) + geom_density(alpha = 0.5) +\n",
    "ggtitle('PMBB v3 CKD PGS Age Distribution') +\n",
    "theme(legend.position = \"none\")\n",
    "\n",
    "ggsave('output/plots/PMBB_v3.CKD.PGS.YK_phenotyping.all_samples.age_distribution.png')"
   ]
  },
  {
   "cell_type": "code",
   "execution_count": null,
   "metadata": {
    "hidden": true
   },
   "outputs": [],
   "source": [
    "all_score %>%\n",
    "select(IID, CKD, AGE) %>%\n",
    "distinct() %>%\n",
    "group_by(CKD) %>%\n",
    "summarize(Mean_Age = mean(AGE, na.rm = TRUE))"
   ]
  },
  {
   "cell_type": "code",
   "execution_count": null,
   "metadata": {
    "hidden": true
   },
   "outputs": [],
   "source": [
    "all_score %>%\n",
    "select(IID, CKD, AGE) %>%\n",
    "distinct() %>%\n",
    "ggplot(aes(x = AGE, color = CKD, fill = CKD)) + geom_density(alpha = 0.5) +\n",
    "ggtitle('PMBB v3 CKD PGS Age Distribution')\n",
    "\n",
    "ggsave('output/plots/PMBB_v3.CKD.PGS.YK_phenotyping.case_control.age_distribution.png')"
   ]
  },
  {
   "cell_type": "markdown",
   "metadata": {
    "hidden": true
   },
   "source": [
    "## sex"
   ]
  },
  {
   "cell_type": "code",
   "execution_count": null,
   "metadata": {
    "hidden": true
   },
   "outputs": [],
   "source": [
    "all_score %>%\n",
    "select(IID, SEX, CKD) %>%\n",
    "distinct() %>%\n",
    "group_by(SEX) %>%\n",
    "summarize(Count = n()) %>%\n",
    "mutate(Percent = (Count / sum(Count)) * 100)"
   ]
  },
  {
   "cell_type": "code",
   "execution_count": null,
   "metadata": {
    "hidden": true
   },
   "outputs": [],
   "source": [
    "all_score %>%\n",
    "select(IID, SEX) %>%\n",
    "distinct() %>%\n",
    "mutate(SEX = gsub(1, 'Male', SEX)) %>%\n",
    "mutate(SEX = gsub(2, 'Female', SEX)) %>%\n",
    "ggplot(aes(x = SEX, fill = SEX)) + geom_bar() +\n",
    "ggtitle('PMBB v3 CKD PGS Sex Distribution')\n",
    "\n",
    "ggsave('output/plots/PMBB_v3.CKD.PGS.YK_phenotyping.all_samples.sex_distribution.png')"
   ]
  },
  {
   "cell_type": "code",
   "execution_count": null,
   "metadata": {
    "hidden": true
   },
   "outputs": [],
   "source": [
    "all_score %>%\n",
    "select(IID, SEX, CKD) %>%\n",
    "distinct() %>%\n",
    "group_by(CKD, SEX) %>%\n",
    "summarize(Count = n()) %>%\n",
    "mutate(Percent = (Count / sum(Count)) * 100)"
   ]
  },
  {
   "cell_type": "code",
   "execution_count": null,
   "metadata": {
    "hidden": true
   },
   "outputs": [],
   "source": [
    "all_score %>%\n",
    "select(IID, SEX, CKD) %>%\n",
    "distinct() %>%\n",
    "mutate(SEX = gsub(1, 'Male', SEX)) %>%\n",
    "mutate(SEX = gsub(2, 'Female', SEX)) %>%\n",
    "ggplot(aes(x = SEX, fill = CKD)) + geom_bar() +\n",
    "ggtitle('PMBB v3 CKD PGS Sex Distribution')\n",
    "\n",
    "ggsave('output/plots/PMBB_v3.CKD.PGS.YK_phenotyping.case_control.sex_distribution.png')"
   ]
  },
  {
   "cell_type": "markdown",
   "metadata": {
    "hidden": true
   },
   "source": [
    "## ancestry"
   ]
  },
  {
   "cell_type": "code",
   "execution_count": null,
   "metadata": {
    "hidden": true
   },
   "outputs": [],
   "source": [
    "all_score %>%\n",
    "select(IID, MostSimilarPop) %>%\n",
    "distinct() %>%\n",
    "group_by(MostSimilarPop) %>%\n",
    "summarize(Count = n()) %>%\n",
    "mutate(Percent = (Count / sum(Count)) * 100)"
   ]
  },
  {
   "cell_type": "code",
   "execution_count": null,
   "metadata": {
    "hidden": true
   },
   "outputs": [],
   "source": [
    "all_score %>%\n",
    "select(IID, MostSimilarPop) %>%\n",
    "distinct() %>%\n",
    "rename('ANCESTRY' = 'MostSimilarPop') %>%\n",
    "ggplot(aes(x = ANCESTRY, fill = ANCESTRY)) + geom_bar() +\n",
    "ggtitle('PMBB v3 CKD PGS Ancestry Distribution')\n",
    "\n",
    "ggsave('output/plots/PMBB_v3.CKD.PGS.YK_phenotyping.all_samples.ancestry_distribution.png')"
   ]
  },
  {
   "cell_type": "code",
   "execution_count": null,
   "metadata": {
    "hidden": true
   },
   "outputs": [],
   "source": [
    "all_score %>%\n",
    "select(IID, CKD, MostSimilarPop) %>%\n",
    "distinct() %>%\n",
    "group_by(MostSimilarPop, CKD) %>%\n",
    "summarize(Count = n()) %>%\n",
    "mutate(Percent = (Count / sum(Count)) * 100)"
   ]
  },
  {
   "cell_type": "code",
   "execution_count": null,
   "metadata": {
    "hidden": true
   },
   "outputs": [],
   "source": [
    "all_score %>%\n",
    "select(IID, MostSimilarPop, CKD) %>%\n",
    "distinct() %>%\n",
    "rename('ANCESTRY' = 'MostSimilarPop') %>%\n",
    "ggplot(aes(x = ANCESTRY, fill = CKD)) + geom_bar() +\n",
    "ggtitle('PMBB v3 CKD PGS Ancestry Distribution')\n",
    "\n",
    "ggsave('output/plots/PMBB_v3.CKD.PGS.YK_phenotyping.case_control.ancestry_distribution.png')"
   ]
  },
  {
   "cell_type": "markdown",
   "metadata": {},
   "source": [
    "## batch"
   ]
  },
  {
   "cell_type": "code",
   "execution_count": null,
   "metadata": {},
   "outputs": [],
   "source": [
    "all_score %>%\n",
    "select(IID, BATCH) %>%\n",
    "distinct() %>%\n",
    "group_by(BATCH) %>%\n",
    "summarize(Count = n()) %>%\n",
    "mutate(Percent = (Count / sum(Count)) * 100)"
   ]
  },
  {
   "cell_type": "code",
   "execution_count": null,
   "metadata": {},
   "outputs": [],
   "source": [
    "all_score %>%\n",
    "select(IID, BATCH) %>%\n",
    "distinct() %>%\n",
    "mutate(BATCH = gsub(2, 'v3', BATCH)) %>%\n",
    "mutate(BATCH = gsub(1, 'v2', BATCH)) %>%\n",
    "ggplot(aes(x = BATCH, fill = BATCH)) + geom_bar() +\n",
    "ggtitle('PMBB v3 CKD PGS Batch Distribution')\n",
    "\n",
    "ggsave('output/plots/PMBB_v3.CKD.PGS.YK_phenotyping.all_samples.batch_distribution.png')"
   ]
  },
  {
   "cell_type": "code",
   "execution_count": null,
   "metadata": {},
   "outputs": [],
   "source": [
    "all_score %>%\n",
    "select(IID, BATCH, CKD) %>%\n",
    "distinct() %>%\n",
    "group_by(CKD, BATCH) %>%\n",
    "summarize(Count = n()) %>%\n",
    "mutate(Percent = (Count / sum(Count)) * 100)"
   ]
  },
  {
   "cell_type": "code",
   "execution_count": null,
   "metadata": {},
   "outputs": [],
   "source": [
    "all_score %>%\n",
    "select(IID, BATCH, CKD) %>%\n",
    "distinct() %>%\n",
    "mutate(BATCH = gsub(2, 'v3', BATCH)) %>%\n",
    "mutate(BATCH = gsub(1, 'v2', BATCH)) %>%\n",
    "ggplot(aes(x = BATCH, fill = CKD)) + geom_bar() +\n",
    "ggtitle('PMBB v3 CKD PGS Batch Distribution')\n",
    "\n",
    "ggsave('output/plots/PMBB_v3.CKD.PGS.YK_phenotyping.case_control.batch_distribution.png')"
   ]
  },
  {
   "cell_type": "markdown",
   "metadata": {
    "heading_collapsed": true
   },
   "source": [
    "# logisitic regressions"
   ]
  },
  {
   "cell_type": "markdown",
   "metadata": {
    "hidden": true
   },
   "source": [
    "## create score list"
   ]
  },
  {
   "cell_type": "code",
   "execution_count": null,
   "metadata": {
    "hidden": true
   },
   "outputs": [],
   "source": [
    "score_list = unique(all_score$PGS)\n",
    "length(score_list)\n",
    "score_list"
   ]
  },
  {
   "cell_type": "markdown",
   "metadata": {
    "hidden": true
   },
   "source": [
    "## run LR on all scores for all individuals (Znorm2 + age + sex)"
   ]
  },
  {
   "cell_type": "code",
   "execution_count": null,
   "metadata": {
    "hidden": true
   },
   "outputs": [],
   "source": [
    "# create empty lists\n",
    "all_tidy_znorm2_list = list()\n",
    "all_glance_znorm2_list = list()\n",
    "\n",
    "# loop through scores\n",
    "for (score in score_list) {\n",
    "    index <- which(score_list == score)\n",
    "    message(paste0('starting ', score, ' at index ', index))\n",
    "    # filter df to that score\n",
    "    one_score = all_score %>%\n",
    "    filter(grepl(score, PGS))\n",
    "    \n",
    "    # run LR\n",
    "    glm <- glm(data = one_score, as.formula(\"CKD ~ Z_norm2 + AGE + SEX + BATCH\"), family = \"binomial\")\n",
    "    # extract stats\n",
    "    ## term, estimate, std.error, statistic, p.value, conf.low, conf.high\n",
    "    tidy = data.frame(broom::tidy(glm, exponentiate = TRUE, conf.int = TRUE))\n",
    "    ## null.deviance, df.null, logLik, AIC, BIC, deviance, df.residual, nobs\n",
    "    glance = data.frame(broom::glance(glm))\n",
    "    \n",
    "    # add score columns\n",
    "    tidy = tidy %>%\n",
    "    mutate(SCORE = score)\n",
    "    glance = glance %>%\n",
    "    mutate(SCORE = score)\n",
    "    \n",
    "    # add to lists\n",
    "    all_tidy_znorm2_list[[score]] <- tidy\n",
    "    all_glance_znorm2_list[[score]] <- glance\n",
    "}"
   ]
  },
  {
   "cell_type": "code",
   "execution_count": null,
   "metadata": {},
   "outputs": [],
   "source": [
    "all_tidy_znorm2 = bind_rows(all_tidy_znorm2_list)\n",
    "all_glance_znorm2 = bind_rows(all_glance_znorm2_list)"
   ]
  },
  {
   "cell_type": "markdown",
   "metadata": {
    "hidden": true
   },
   "source": [
    "## run LR on EUR only (Znorm2 + age + sex)"
   ]
  },
  {
   "cell_type": "code",
   "execution_count": null,
   "metadata": {
    "hidden": true
   },
   "outputs": [],
   "source": [
    "# create empty dataframes\n",
    "all_tidy_eur_znorm2_list = list()\n",
    "all_glance_eur_znorm2_list = list()\n",
    "\n",
    "# loop through scores\n",
    "for (score in score_list) {\n",
    "    index <- which(score_list == score)\n",
    "    message(paste0('starting ', score, ' at index ', index))\n",
    "    # filter df to that score\n",
    "    one_score = all_score_eur %>%\n",
    "    filter(grepl(score,PGS))\n",
    "    \n",
    "    # run LR\n",
    "    glm <- glm(data = one_score, as.formula(\"CKD ~ Z_norm2 + AGE + SEX + BATCH\"), family = \"binomial\")\n",
    "    # extract stats\n",
    "    ## term, estimate, std.error, statistic, p.value, conf.low, conf.high\n",
    "    tidy = data.frame(broom::tidy(glm, exponentiate = TRUE, conf.int = TRUE))\n",
    "    ## null.deviance, df.null, logLik, AIC, BIC, deviance, df.residual, nobs\n",
    "    glance = data.frame(broom::glance(glm))\n",
    "    \n",
    "    # add score columns\n",
    "    tidy = tidy %>%\n",
    "    mutate(SCORE = score)\n",
    "    glance = glance %>%\n",
    "    mutate(SCORE = score)\n",
    "    \n",
    "    # add to lists\n",
    "    all_tidy_eur_znorm2_list[[score]] <- tidy\n",
    "    all_glance_eur_znorm2_list[[score]] <- glance\n",
    "}"
   ]
  },
  {
   "cell_type": "code",
   "execution_count": null,
   "metadata": {
    "hidden": true
   },
   "outputs": [],
   "source": [
    "all_tidy_eur_znorm2 = bind_rows(all_tidy_eur_znorm2_list)\n",
    "all_glance_eur_znorm2 = bind_rows(all_glance_eur_znorm2_list)"
   ]
  },
  {
   "cell_type": "markdown",
   "metadata": {
    "hidden": true
   },
   "source": [
    "## run LR on AFR only (Znorm2 + age + sex)"
   ]
  },
  {
   "cell_type": "code",
   "execution_count": null,
   "metadata": {
    "hidden": true
   },
   "outputs": [],
   "source": [
    "# create empty dataframes\n",
    "all_tidy_afr_znorm2_list = list()\n",
    "all_glance_afr_znorm2_list = list()\n",
    "\n",
    "# loop through scores\n",
    "for (score in score_list) {\n",
    "    index <- which(score_list == score)\n",
    "    message(paste0('starting ', score, ' at index ', index))\n",
    "    # filter df to that score\n",
    "    one_score = all_score_afr %>%\n",
    "    filter(grepl(score,PGS))\n",
    "    \n",
    "    # run LR\n",
    "    glm <- glm(data = one_score, as.formula(\"CKD ~ Z_norm2 + AGE + SEX + BATCH\"), family = \"binomial\")\n",
    "    # extract stats\n",
    "    ## term, estimate, std.error, statistic, p.value, conf.low, conf.high\n",
    "    tidy = data.frame(broom::tidy(glm, exponentiate = TRUE, conf.int = TRUE))\n",
    "    ## null.deviance, df.null, logLik, AIC, BIC, deviance, df.residual, nobs\n",
    "    glance = data.frame(broom::glance(glm))\n",
    "    \n",
    "    # add score columns\n",
    "    tidy = tidy %>%\n",
    "    mutate(SCORE = score)\n",
    "    glance = glance %>%\n",
    "    mutate(SCORE = score)\n",
    "    \n",
    "    # add to lists\n",
    "    all_tidy_afr_znorm2_list[[score]] <- tidy\n",
    "    all_glance_afr_znorm2_list[[score]] <- glance\n",
    "}"
   ]
  },
  {
   "cell_type": "code",
   "execution_count": null,
   "metadata": {
    "hidden": true
   },
   "outputs": [],
   "source": [
    "all_tidy_afr_znorm2 = bind_rows(all_tidy_afr_znorm2_list)\n",
    "all_glance_afr_znorm2 = bind_rows(all_glance_afr_znorm2_list)"
   ]
  },
  {
   "cell_type": "markdown",
   "metadata": {
    "hidden": true
   },
   "source": [
    "## filter tidy df to only scores, add CI column, and remove score suffix"
   ]
  },
  {
   "cell_type": "code",
   "execution_count": null,
   "metadata": {
    "hidden": true
   },
   "outputs": [],
   "source": [
    "all_tidy_znorm2_score = all_tidy_znorm2 %>%\n",
    "filter(term == \"Z_norm2\") %>%\n",
    "mutate(CI = paste0(\"(\", conf.low, \", \", conf.high, \")\"))\n",
    "summary(all_tidy_znorm2_score$p.value)\n",
    "summary(all_tidy_znorm2_score$estimate)"
   ]
  },
  {
   "cell_type": "code",
   "execution_count": null,
   "metadata": {
    "hidden": true
   },
   "outputs": [],
   "source": [
    "all_tidy_eur_znorm2_score = all_tidy_eur_znorm2 %>%\n",
    "filter(term == \"Z_norm2\") %>%\n",
    "mutate(CI = paste0(\"(\", conf.low, \", \", conf.high, \")\"))\n",
    "summary(all_tidy_eur_znorm2_score$p.value)\n",
    "summary(all_tidy_eur_znorm2_score$estimate)"
   ]
  },
  {
   "cell_type": "code",
   "execution_count": null,
   "metadata": {
    "hidden": true
   },
   "outputs": [],
   "source": [
    "all_tidy_afr_znorm2_score = all_tidy_afr_znorm2 %>%\n",
    "filter(term == \"Z_norm2\") %>%\n",
    "mutate(CI = paste0(\"(\", conf.low, \", \", conf.high, \")\"))\n",
    "summary(all_tidy_afr_znorm2_score$p.value)\n",
    "summary(all_tidy_afr_znorm2_score$estimate)"
   ]
  },
  {
   "cell_type": "markdown",
   "metadata": {
    "hidden": true
   },
   "source": [
    "## export"
   ]
  },
  {
   "cell_type": "code",
   "execution_count": null,
   "metadata": {
    "hidden": true
   },
   "outputs": [],
   "source": [
    "write.table(all_tidy_znorm2_score,\n",
    "            'output/performance_metrics/PMBB_v3.ALL.CKD.YK_Phenotyping.PGS_Znorm2.glm.score.tidy.txt',\n",
    "            sep = '\\t',\n",
    "            col.names = T,\n",
    "            row.names = F,\n",
    "            quote = F)"
   ]
  },
  {
   "cell_type": "code",
   "execution_count": null,
   "metadata": {
    "hidden": true
   },
   "outputs": [],
   "source": [
    "write.table(all_glance_znorm2,\n",
    "            'output/performance_metrics/PMBB_v3.ALL.CKD.YK_Phenotyping.PGS_Znorm2.glm.raw.glance.txt',\n",
    "            sep = '\\t',\n",
    "            col.names = T,\n",
    "            row.names = F,\n",
    "            quote = F)"
   ]
  },
  {
   "cell_type": "code",
   "execution_count": null,
   "metadata": {
    "hidden": true
   },
   "outputs": [],
   "source": [
    "write.table(all_tidy_eur_znorm2_score,\n",
    "            'output/performance_metrics/PMBB_v3.EUR.CKD.YK_Phenotyping.PGS_Znorm2.glm.score.tidy.txt',\n",
    "            sep = '\\t',\n",
    "            col.names = T,\n",
    "            row.names = F,\n",
    "            quote = F)"
   ]
  },
  {
   "cell_type": "code",
   "execution_count": null,
   "metadata": {
    "hidden": true
   },
   "outputs": [],
   "source": [
    "write.table(all_glance_eur_znorm2,\n",
    "            'output/performance_metrics/PMBB_v3.EUR.CKD.YK_Phenotyping.PGS_Znorm2.glm.raw.glance.txt',\n",
    "            sep = '\\t',\n",
    "            col.names = T,\n",
    "            row.names = F,\n",
    "            quote = F)"
   ]
  },
  {
   "cell_type": "code",
   "execution_count": null,
   "metadata": {
    "hidden": true
   },
   "outputs": [],
   "source": [
    "write.table(all_tidy_afr_znorm2_score,\n",
    "            'output/performance_metrics/PMBB_v3.AFR.CKD.YK_Phenotyping.PGS_Znorm2.glm.score.tidy.txt',\n",
    "            sep = '\\t',\n",
    "            col.names = T,\n",
    "            row.names = F,\n",
    "            quote = F)"
   ]
  },
  {
   "cell_type": "code",
   "execution_count": null,
   "metadata": {
    "hidden": true
   },
   "outputs": [],
   "source": [
    "write.table(all_glance_afr_znorm2,\n",
    "            'output/performance_metrics/PMBB_v3.AFR.CKD.YK_Phenotyping.PGS_Znorm2.glm.raw.glance.txt',\n",
    "            sep = '\\t',\n",
    "            col.names = T,\n",
    "            row.names = F,\n",
    "            quote = F)"
   ]
  },
  {
   "cell_type": "markdown",
   "metadata": {
    "heading_collapsed": true
   },
   "source": [
    "# assess effect size"
   ]
  },
  {
   "cell_type": "markdown",
   "metadata": {
    "hidden": true
   },
   "source": [
    "## create forest plots"
   ]
  },
  {
   "cell_type": "code",
   "execution_count": null,
   "metadata": {
    "hidden": true
   },
   "outputs": [],
   "source": [
    "all_tidy_znorm2_score %>% \n",
    "ggplot(., aes(x = estimate, y = SCORE, xmin = conf.low, xmax = conf.high)) +\n",
    "geom_point(position = position_dodge(width = 0.5), size = 3) +\n",
    "geom_errorbarh(height = 0.2, position = position_dodge(width = 0.5)) +\n",
    "geom_vline(xintercept = 1, linetype = \"dashed\", color = \"#4C4E52\", linewidth = 0.75) +\n",
    "labs(x = \"Odds Ratio (OR)\", y = \"Score in Model\") +\n",
    "ggtitle('PMBB v3 ALL CKD PGS Z_norm2 Odds Ratio') +\n",
    "theme_minimal() +\n",
    "theme(legend.position = \"top\") +\n",
    "theme(text = element_text(size = 10)) \n",
    "ggsave(\"output/plots/PMBB_v3.ALL.CKD.YK_Phenotyping.PGS_Znorm2.glm.odds_ratio.forestplot.png\")"
   ]
  },
  {
   "cell_type": "code",
   "execution_count": null,
   "metadata": {
    "hidden": true
   },
   "outputs": [],
   "source": [
    "all_tidy_eur_znorm2_score %>% \n",
    "ggplot(., aes(x = estimate, y = SCORE, xmin = conf.low, xmax = conf.high)) +\n",
    "geom_point(position = position_dodge(width = 0.5), size = 3) +\n",
    "geom_errorbarh(height = 0.2, position = position_dodge(width = 0.5)) +\n",
    "geom_vline(xintercept = 1, linetype = \"dashed\", color = \"#4C4E52\", linewidth = 0.75) +\n",
    "labs(x = \"Odds Ratio (OR)\", y = \"Score in Model\") +\n",
    "ggtitle('PMBB v3 EUR CKD PGS Z_norm2 Odds Ratio') +\n",
    "theme_minimal() +\n",
    "theme(legend.position = \"top\") +\n",
    "theme(text = element_text(size = 10)) \n",
    "ggsave(\"output/plots/PMBB_v3.EUR.CKD.YK_Phenotyping.PGS_Znorm2.glm.odds_ratio.forestplot.png\")"
   ]
  },
  {
   "cell_type": "code",
   "execution_count": null,
   "metadata": {
    "hidden": true
   },
   "outputs": [],
   "source": [
    "all_tidy_afr_znorm2_score %>% \n",
    "ggplot(., aes(x = estimate, y = SCORE, xmin = conf.low, xmax = conf.high)) +\n",
    "geom_point(position = position_dodge(width = 0.5), size = 3) +\n",
    "geom_errorbarh(height = 0.2, position = position_dodge(width = 0.5)) +\n",
    "geom_vline(xintercept = 1, linetype = \"dashed\", color = \"#4C4E52\", linewidth = 0.75) +\n",
    "labs(x = \"Odds Ratio (OR)\", y = \"Score in Model\") +\n",
    "ggtitle('PMBB v3 AFR CKD PGS Z_norm2 Odds Ratio') +\n",
    "theme_minimal() +\n",
    "theme(legend.position = \"top\") +\n",
    "theme(text = element_text(size = 10)) \n",
    "ggsave(\"output/plots/PMBB_v3.AFR.CKD.YK_Phenotyping.PGS_Znorm2.glm.odds_ratio.forestplot.png\")"
   ]
  },
  {
   "cell_type": "markdown",
   "metadata": {},
   "source": [
    "## assess significance"
   ]
  },
  {
   "cell_type": "markdown",
   "metadata": {},
   "source": [
    "### check significance"
   ]
  },
  {
   "cell_type": "code",
   "execution_count": null,
   "metadata": {},
   "outputs": [],
   "source": [
    "nrow(all_tidy_znorm2_score)\n",
    "all_tidy_znorm2_score %>%\n",
    "filter(p.value < 0.05 & statistic > 1) %>%\n",
    "nrow()\n",
    "all_tidy_znorm2_score %>%\n",
    "filter(p.value > 0.05 | statistic < 1)"
   ]
  },
  {
   "cell_type": "code",
   "execution_count": null,
   "metadata": {},
   "outputs": [],
   "source": [
    "nrow(all_tidy_eur_znorm2_score)\n",
    "all_tidy_eur_znorm2_score %>%\n",
    "filter(p.value < 0.05 & statistic > 1) %>%\n",
    "nrow()\n",
    "all_tidy_eur_znorm2_score %>%\n",
    "filter(p.value > 0.05 | statistic < 1)"
   ]
  },
  {
   "cell_type": "code",
   "execution_count": null,
   "metadata": {},
   "outputs": [],
   "source": [
    "nrow(all_tidy_afr_znorm2_score)\n",
    "all_tidy_afr_znorm2_score %>%\n",
    "filter(p.value < 0.05 & statistic > 1) %>%\n",
    "nrow()\n",
    "all_tidy_afr_znorm2_score %>%\n",
    "filter(p.value > 0.05 | statistic < 1)"
   ]
  },
  {
   "cell_type": "markdown",
   "metadata": {},
   "source": [
    "### figure out which ones to keep for afr"
   ]
  },
  {
   "cell_type": "code",
   "execution_count": null,
   "metadata": {},
   "outputs": [],
   "source": [
    "all_tidy_afr_znorm2_score %>%\n",
    "filter(p.value < 0.05) %>%\n",
    "filter(statistic > 1) %>%\n",
    "select(SCORE) %>%\n",
    "unique()"
   ]
  },
  {
   "cell_type": "markdown",
   "metadata": {
    "heading_collapsed": true
   },
   "source": [
    "# compute AUROC & brier score"
   ]
  },
  {
   "cell_type": "markdown",
   "metadata": {
    "hidden": true
   },
   "source": [
    "## make score list"
   ]
  },
  {
   "cell_type": "code",
   "execution_count": null,
   "metadata": {
    "hidden": true
   },
   "outputs": [],
   "source": [
    "score_list = unique(all_score$PGS)\n",
    "score_list = score_list[!score_list %in% c(\"PGS002757\",\n",
    "                                           \"PGS005090\",\n",
    "                                           \"EUR.eGFR.PRScsx\",\n",
    "                                           \"EAS.eGFR.PRScsx\",\n",
    "                                           \"AMR.eGFR.PRScsx\",\n",
    "                                           \"AFR.eGFR.PRScsx\")]\n",
    "length(score_list)\n",
    "print(score_list)\n",
    "class(score_list)"
   ]
  },
  {
   "cell_type": "code",
   "execution_count": null,
   "metadata": {},
   "outputs": [],
   "source": [
    "score_list_multiancestry = unique(all_score$PGS)\n",
    "score_list_multiancestry = score_list_multiancestry[!score_list_multiancestry %in% c(\"PGS002757\",\n",
    "                                                                                     \"PGS005090\",\n",
    "                                                                                     \"EAS.eGFR.PRScsx\",\n",
    "                                                                                     \"AMR.eGFR.PRScsx\",\n",
    "                                                                                     \"AFR.eGFR.PRScsx\",\n",
    "                                                                                     \"EUR.eGFR.PRScsx\",\n",
    "                                                                                     \"EAS.eGFR.flip.PRScsx\",\n",
    "                                                                                     \"AMR.eGFR.flip.PRScsx\",\n",
    "                                                                                     \"AFR.eGFR.flip.PRScsx\",\n",
    "                                                                                     \"AFR.Phe_585.3.PRScsx\",\n",
    "                                                                                     \"EAS.Phe_585.3.PRScsx\")]\n",
    "length(score_list_multiancestry)\n",
    "print(score_list_multiancestry)\n",
    "class(score_list_multiancestry)"
   ]
  },
  {
   "cell_type": "code",
   "execution_count": null,
   "metadata": {},
   "outputs": [],
   "source": [
    "score_list_eur = unique(all_score$PGS)\n",
    "score_list_eur = score_list_eur[!score_list_eur %in% c(\"PGS002757\",\n",
    "                                                       \"PGS005090\",\n",
    "                                                       \"EUR.eGFR.PRScsx\",\n",
    "                                                       \"EAS.eGFR.PRScsx\",\n",
    "                                                       \"AMR.eGFR.PRScsx\",\n",
    "                                                       \"AFR.eGFR.PRScsx\")]\n",
    "length(score_list_eur)\n",
    "print(score_list_eur)\n",
    "class(score_list_eur)"
   ]
  },
  {
   "cell_type": "code",
   "execution_count": null,
   "metadata": {},
   "outputs": [],
   "source": [
    "score_list_eur_multiancestry = unique(all_score$PGS)\n",
    "score_list_eur_multiancestry = score_list_eur_multiancestry[!score_list_eur_multiancestry %in% c(\"PGS002757\",\n",
    "                                                                                                 \"PGS005090\",\n",
    "                                                                                                 \"EAS.eGFR.PRScsx\",\n",
    "                                                                                                 \"AMR.eGFR.PRScsx\",\n",
    "                                                                                                 \"AFR.eGFR.PRScsx\",\n",
    "                                                                                                 \"EUR.eGFR.PRScsx\",\n",
    "                                                                                                 \"EAS.eGFR.flip.PRScsx\",\n",
    "                                                                                                 \"AMR.eGFR.flip.PRScsx\",\n",
    "                                                                                                 \"AFR.eGFR.flip.PRScsx\",\n",
    "                                                                                                 \"AFR.Phe_585.3.PRScsx\",\n",
    "                                                                                                 \"EAS.Phe_585.3.PRScsx\")]\n",
    "length(score_list_eur_multiancestry)\n",
    "print(score_list_eur_multiancestry)\n",
    "class(score_list_eur_multiancestry)"
   ]
  },
  {
   "cell_type": "code",
   "execution_count": null,
   "metadata": {},
   "outputs": [],
   "source": [
    "score_list_afr = c('AFR.Phe_585.3.PRScsx',\n",
    "                   'AFR.eGFR.flip.PRScsx',\n",
    "                   'AMR.eGFR.flip.PRScsx',\n",
    "                   'EAS.Phe_585.3.PRScsx',\n",
    "                   'EAS.eGFR.flip.PRScsx',\n",
    "                   'EUR.Phe_585.3.PRScsx',\n",
    "                   'EUR.eGFR.flip.PRScsx',\n",
    "                   'PGS000728',\n",
    "                   'PGS002237',\n",
    "                   'PGS003988',\n",
    "                   'PGS004004',\n",
    "                   'PGS004016',\n",
    "                   'PGS004030',\n",
    "                   'PGS004045',\n",
    "                   'PGS004058',\n",
    "                   'PGS004074',\n",
    "                   'PGS004088',\n",
    "                   'PGS004101',\n",
    "                   'PGS004128',\n",
    "                   'PGS004142',\n",
    "                   'PGS004158',\n",
    "                   'PGS004889',\n",
    "                   'PGS005113')\n",
    "length(score_list_afr)\n",
    "score_list_afr"
   ]
  },
  {
   "cell_type": "code",
   "execution_count": null,
   "metadata": {},
   "outputs": [],
   "source": [
    "score_list_afr_multiancestry = c('EUR.Phe_585.3.PRScsx',\n",
    "                                 'EUR.eGFR.flip.PRScsx',\n",
    "                                 'PGS000728',\n",
    "                                 'PGS002237',\n",
    "                                 'PGS003988',\n",
    "                                 'PGS004004',\n",
    "                                 'PGS004016',\n",
    "                                 'PGS004030',\n",
    "                                 'PGS004045',\n",
    "                                 'PGS004058',\n",
    "                                 'PGS004074',\n",
    "                                 'PGS004088',\n",
    "                                 'PGS004101',\n",
    "                                 'PGS004128',\n",
    "                                 'PGS004142',\n",
    "                                 'PGS004158',\n",
    "                                 'PGS004889',\n",
    "                                 'PGS005113')\n",
    "length(score_list_afr_multiancestry)\n",
    "score_list_afr_multiancestry"
   ]
  },
  {
   "cell_type": "markdown",
   "metadata": {
    "hidden": true
   },
   "source": [
    "## run models on all individuals and make discrimination & calibration plots"
   ]
  },
  {
   "cell_type": "code",
   "execution_count": null,
   "metadata": {
    "hidden": true,
    "scrolled": true
   },
   "outputs": [],
   "source": [
    "# set glm model\n",
    "message('setting parameters')\n",
    "glm_model <- \n",
    "logistic_reg() %>% \n",
    "set_engine(\"glm\")\n",
    "\n",
    "# define metrics of interest as brier score & auroc\n",
    "cls_met <- metric_set(roc_auc, brier_class)\n",
    "# set parameters\n",
    "control <- control_resamples(save_pred = TRUE, save_workflow = TRUE)\n",
    "\n",
    "# Create list of data frames to store model info\n",
    "model_metrics_dfs = list()\n",
    "workflow_dfs = list()\n",
    "\n",
    "# Create an empty lists to store the results for each predictor\n",
    "roc_plot_list <- list()\n",
    "cal_plot_list <- list()\n",
    "\n",
    "# loop through scores\n",
    "message('starting for loop')\n",
    "for (score in score_list) {\n",
    "    index <- which(score_list == score)\n",
    "    message(paste0('starting ', score, ' at index ', index))\n",
    "    \n",
    "    # set seed again\n",
    "    set.seed(7)\n",
    "    \n",
    "    # filter df to that score\n",
    "    scores_vfold = all_score %>%\n",
    "    filter(grepl(score,PGS))\n",
    "    \n",
    "    # set number of folds and repeats\n",
    "    folds_x <- vfold_cv(scores_vfold, v = 10, repeats = 6, strata = NULL, pool = 0.1)\n",
    "    \n",
    "    # build workflow\n",
    "    glm_workflow <- workflow() %>% \n",
    "    add_model(glm_model) %>% \n",
    "    add_variables(outcome = CKD, predictors = c(Z_norm2, AGE, SEX, BATCH)) # Remove Age and Sex if looking to test null model with just outcome ~ PGS\n",
    "    \n",
    "    # run model with cross validation\n",
    "    glm_fit_all <- fit_resamples(glm_workflow, folds_x, metrics = cls_met, control = control)\n",
    "    \n",
    "    # collect metrics\n",
    "    metrics = data.frame(collect_metrics(glm_fit_all))\n",
    "    metrics = metrics%>%\n",
    "    dplyr::mutate(predictor = score)\n",
    "    model_metrics_dfs[[score]] <- metrics\n",
    "    \n",
    "    # collect predictions\n",
    "    preds <- collect_predictions(glm_fit_all)\n",
    "    \n",
    "    # collect workflow\n",
    "    glm_workflow <- as_workflow_set (!!score := glm_fit_all) \n",
    "    workflow_dfs[[score]] <- glm_workflow\n",
    "    \n",
    "    # make AUROC plot data\n",
    "    roc_data <- preds %>%  \n",
    "    roc_curve(CKD, .pred_1, event_level = \"second\") %>%\n",
    "    dplyr::mutate(predictor = score)\n",
    "    \n",
    "    roc_plot_list[[score]] <- roc_data\n",
    "  \n",
    "    # make calibration plot\n",
    "    cal_plot <- preds %>%\n",
    "    cal_plot_logistic(CKD, .pred_0, smooth = FALSE, conf_level = 0.95,  include_rug = FALSE) + \n",
    "    ggtitle(paste0('PMBB v3 ALL CKD ', score, ' Calibration'))\n",
    "      \n",
    "    cal_plot_list[[score]] <- cal_plot\n",
    "}"
   ]
  },
  {
   "cell_type": "markdown",
   "metadata": {},
   "source": [
    "## run models on all individuals with multiancestry PGS weights"
   ]
  },
  {
   "cell_type": "code",
   "execution_count": null,
   "metadata": {},
   "outputs": [],
   "source": [
    "# set glm model\n",
    "message('setting parameters')\n",
    "glm_model <- \n",
    "logistic_reg() %>% \n",
    "set_engine(\"glm\")\n",
    "\n",
    "# define metrics of interest as brier score, auroc & logloss\n",
    "cls_met <- metric_set(roc_auc, brier_class)\n",
    "# set parameters\n",
    "control <- control_resamples(save_pred = TRUE, save_workflow = TRUE)\n",
    "\n",
    "# Create list of data frames to store model info\n",
    "workflow_multiancestry_score_dfs = list()\n",
    "\n",
    "\n",
    "# loop through scores\n",
    "message('starting for loop')\n",
    "for (score in score_list_multiancestry) {\n",
    "    index <- which(score_list_multiancestry == score)\n",
    "    message(paste0('starting ', score, ' at index ', index))\n",
    "    \n",
    "    # set seed again\n",
    "    set.seed(7)\n",
    "    \n",
    "    # filter df to that score\n",
    "    scores_vfold = all_score %>%\n",
    "    filter(grepl(score,PGS))\n",
    "    \n",
    "    # set number of folds and repeats\n",
    "    folds_x <- vfold_cv(scores_vfold, v = 10, repeats = 6, strata = NULL, pool = 0.1)\n",
    "    \n",
    "    # build workflow\n",
    "    glm_workflow <- workflow() %>% \n",
    "    add_model(glm_model) %>% \n",
    "    add_variables(outcome = CKD, predictors = c(Z_norm2, AGE, SEX, BATCH)) # Remove Age and Sex if looking to test null model with just outcome ~ PGS\n",
    "    \n",
    "    # run model with cross validation\n",
    "    glm_fit_all <- fit_resamples(glm_workflow, folds_x, metrics = cls_met, control = control)\n",
    "    \n",
    "    # collect workflow\n",
    "    glm_workflow <- as_workflow_set (!!score := glm_fit_all) \n",
    "    workflow_multiancestry_score_dfs[[score]] <- glm_workflow\n",
    "}"
   ]
  },
  {
   "cell_type": "markdown",
   "metadata": {
    "hidden": true
   },
   "source": [
    "## run models on EUR individuals and make discrimination/calibration plots"
   ]
  },
  {
   "cell_type": "code",
   "execution_count": null,
   "metadata": {
    "hidden": true
   },
   "outputs": [],
   "source": [
    "# set glm model\n",
    "message('setting parameters')\n",
    "glm_model <- \n",
    "logistic_reg() %>% \n",
    "set_engine(\"glm\")\n",
    "\n",
    "# define metrics of interest as brier score & auroc\n",
    "cls_met <- metric_set(roc_auc, brier_class)\n",
    "# set parameters\n",
    "control <- control_resamples(save_pred = TRUE, save_workflow = TRUE)\n",
    "\n",
    "# Create list of data frames to store model info\n",
    "model_metrics_eur_dfs = list()\n",
    "workflow_eur_dfs = list()\n",
    "\n",
    "# Create an empty lists to store the results for each predictor\n",
    "roc_plot_list_eur <- list()\n",
    "cal_plot_list_eur <- list()\n",
    "\n",
    "# loop through scores\n",
    "message('starting for loop')\n",
    "for (score in score_list_eur) {\n",
    "    index <- which(score_list_eur == score)\n",
    "    message(paste0('starting ', score, ' at index ', index))\n",
    "    \n",
    "    # set seed again\n",
    "    set.seed(7)\n",
    "    \n",
    "    # filter df to that score\n",
    "    scores_vfold = all_score_eur %>%\n",
    "    filter(grepl(score,PGS))\n",
    "    \n",
    "    # set number of folds and repeats\n",
    "    folds_x <- vfold_cv(scores_vfold, v = 10, repeats = 6, strata = NULL, pool = 0.1)\n",
    "    \n",
    "    # build workflow\n",
    "    glm_workflow <- workflow() %>% \n",
    "    add_model(glm_model) %>% \n",
    "    add_variables(outcome = CKD, predictors = c(Z_norm2, AGE, SEX, BATCH)) # Remove Age and Sex if looking to test null model with just outcome ~ PGS\n",
    "    \n",
    "    # run model with cross validation\n",
    "    glm_fit_all <- fit_resamples(glm_workflow, folds_x, metrics = cls_met, control = control)\n",
    "    \n",
    "    # collect metrics\n",
    "    metrics = data.frame(collect_metrics(glm_fit_all))\n",
    "    metrics = metrics%>%\n",
    "    dplyr::mutate(predictor = score)\n",
    "    model_metrics_eur_dfs[[score]] <- metrics\n",
    "    \n",
    "    # collect predictions\n",
    "    preds <- collect_predictions(glm_fit_all)\n",
    "    \n",
    "    # collect workflow\n",
    "    glm_workflow <- as_workflow_set (!!score := glm_fit_all) \n",
    "    workflow_eur_dfs[[score]] <- glm_workflow\n",
    "    \n",
    "    # make AUROC plot data\n",
    "    roc_data <- preds %>%  \n",
    "    roc_curve(CKD, .pred_1, event_level = \"second\") %>%\n",
    "    dplyr::mutate(predictor = score)\n",
    "    \n",
    "    roc_plot_list_eur[[score]] <- roc_data\n",
    "  \n",
    "    # make calibration plot\n",
    "    cal_plot <- preds %>%\n",
    "    cal_plot_logistic(CKD, .pred_0, smooth = FALSE, conf_level = 0.95,  include_rug = FALSE) + \n",
    "    ggtitle(paste('PMBB v3 EUR CKD', score, 'Calibration'))\n",
    "      \n",
    "    cal_plot_list_eur[[score]] <- cal_plot\n",
    "}"
   ]
  },
  {
   "cell_type": "markdown",
   "metadata": {},
   "source": [
    "## run models in EUR individuals with multiancestry PGS weights"
   ]
  },
  {
   "cell_type": "code",
   "execution_count": null,
   "metadata": {},
   "outputs": [],
   "source": [
    "# set glm model\n",
    "message('setting parameters')\n",
    "glm_model <- \n",
    "logistic_reg() %>% \n",
    "set_engine(\"glm\")\n",
    "\n",
    "# define metrics of interest as brier score, auroc & logloss\n",
    "cls_met <- metric_set(roc_auc, brier_class, mn_log_loss)\n",
    "# set parameters\n",
    "control <- control_resamples(save_pred = TRUE, save_workflow = TRUE)\n",
    "\n",
    "# Create list of data frames to store model info\n",
    "workflow_eur_multiancestry_score_dfs = list()\n",
    "\n",
    "# loop through scores\n",
    "message('starting for loop')\n",
    "for (score in score_list_eur_multiancestry) {\n",
    "    index <- which(score_list_eur_multiancestry == score)\n",
    "    message(paste0('starting ', score, ' at index ', index))\n",
    "    \n",
    "    # set seed again\n",
    "    set.seed(7)\n",
    "    \n",
    "    # filter df to that score\n",
    "    scores_vfold = all_score_eur %>%\n",
    "    filter(grepl(score,PGS))\n",
    "    \n",
    "    # set number of folds and repeats\n",
    "    folds_x <- vfold_cv(scores_vfold, v = 10, repeats = 6, strata = NULL, pool = 0.1)\n",
    "    \n",
    "    # build workflow\n",
    "    glm_workflow <- workflow() %>% \n",
    "    add_model(glm_model) %>% \n",
    "    add_variables(outcome = CKD, predictors = c(Z_norm2, AGE, SEX, BATCH)) # Remove Age and Sex if looking to test null model with just outcome ~ PGS\n",
    "    \n",
    "    # run model with cross validation\n",
    "    glm_fit_all <- fit_resamples(glm_workflow, folds_x, metrics = cls_met, control = control)\n",
    "\n",
    "    # collect workflow\n",
    "    glm_workflow <- as_workflow_set (!!score := glm_fit_all) \n",
    "    workflow_eur_multiancestry_score_dfs[[score]] <- glm_workflow\n",
    "}\n"
   ]
  },
  {
   "cell_type": "markdown",
   "metadata": {
    "hidden": true
   },
   "source": [
    "## run models on AFR individuals and make discrimination/calibration plots"
   ]
  },
  {
   "cell_type": "code",
   "execution_count": null,
   "metadata": {
    "hidden": true
   },
   "outputs": [],
   "source": [
    "# set glm model\n",
    "message('setting parameters')\n",
    "glm_model <- \n",
    "logistic_reg() %>% \n",
    "set_engine(\"glm\")\n",
    "\n",
    "# define metrics of interest as brier score & auroc\n",
    "cls_met <- metric_set(roc_auc, brier_class)\n",
    "# set parameters\n",
    "control <- control_resamples(save_pred = TRUE, save_workflow = TRUE)\n",
    "\n",
    "# Create list of data frames to store model info\n",
    "model_metrics_afr_dfs = list()\n",
    "workflow_afr_dfs = list()\n",
    "\n",
    "# Create an empty lists to store the results for each predictor\n",
    "roc_plot_list_afr <- list()\n",
    "cal_plot_list_afr <- list()\n",
    "\n",
    "# loop through scores\n",
    "message('starting for loop')\n",
    "for (score in score_list_afr) {\n",
    "    index <- which(score_list_afr == score)\n",
    "    message(paste0('starting ', score, ' at index ', index))\n",
    "    \n",
    "    # set seed again\n",
    "    set.seed(7)\n",
    "    \n",
    "    # filter df to that score\n",
    "    scores_vfold = all_score_afr %>%\n",
    "    filter(grepl(score,PGS))\n",
    "    \n",
    "    # set number of folds and repeats\n",
    "    folds_x <- vfold_cv(scores_vfold, v = 10, repeats = 6, strata = NULL, pool = 0.1)\n",
    "    \n",
    "    # build workflow\n",
    "    glm_workflow <- workflow() %>% \n",
    "    add_model(glm_model) %>% \n",
    "    add_variables(outcome = CKD, predictors = c(Z_norm2, AGE, SEX, BATCH)) # Remove Age and Sex if looking to test null model with just outcome ~ PGS\n",
    "    \n",
    "    # run model with cross validation\n",
    "    glm_fit_all <- fit_resamples(glm_workflow, folds_x, metrics = cls_met, control = control)\n",
    "    \n",
    "    # collect metrics\n",
    "    metrics = data.frame(collect_metrics(glm_fit_all))\n",
    "    metrics = metrics%>%\n",
    "    dplyr::mutate(predictor = score)\n",
    "    model_metrics_afr_dfs[[score]] <- metrics\n",
    "    \n",
    "    # collect predictions\n",
    "    preds <- collect_predictions(glm_fit_all)\n",
    "    \n",
    "    # collect workflow\n",
    "    glm_workflow <- as_workflow_set (!!score := glm_fit_all) \n",
    "    workflow_afr_dfs[[score]] <- glm_workflow\n",
    "    \n",
    "    # make AUROC plot data\n",
    "    roc_data <- preds %>%  \n",
    "    roc_curve(CKD, .pred_1, event_level = \"second\") %>%\n",
    "    dplyr::mutate(predictor = score)\n",
    "    \n",
    "    roc_plot_list_afr[[score]] <- roc_data\n",
    "  \n",
    "    # make calibration plot\n",
    "    cal_plot <- preds %>%\n",
    "    cal_plot_logistic(CKD, .pred_0, smooth = FALSE, conf_level = 0.95,  include_rug = FALSE) + \n",
    "    ggtitle(paste('PMBB v3 AFR CKD', score, 'Calibration'))\n",
    "      \n",
    "    cal_plot_list_afr[[score]] <- cal_plot\n",
    "}\n"
   ]
  },
  {
   "cell_type": "markdown",
   "metadata": {},
   "source": [
    "## run model on afr individuals with multiancestry weights"
   ]
  },
  {
   "cell_type": "code",
   "execution_count": null,
   "metadata": {},
   "outputs": [],
   "source": [
    "# set glm model\n",
    "message('setting parameters')\n",
    "glm_model <- \n",
    "logistic_reg() %>% \n",
    "set_engine(\"glm\")\n",
    "\n",
    "# define metrics of interest as brier score & auroc\n",
    "cls_met <- metric_set(roc_auc, brier_class)\n",
    "# set parameters\n",
    "control <- control_resamples(save_pred = TRUE, save_workflow = TRUE)\n",
    "\n",
    "# Create list of data frames to store model info\n",
    "workflow_afr_multiancestry_score_dfs = list()\n",
    "\n",
    "# loop through scores\n",
    "message('starting for loop')\n",
    "for (score in score_list_afr_multiancestry) {\n",
    "    index <- which(score_list_afr_multiancestry == score)\n",
    "    message(paste0('starting ', score, ' at index ', index))\n",
    "    \n",
    "    # set seed again\n",
    "    set.seed(7)\n",
    "    \n",
    "    # filter df to that score\n",
    "    scores_vfold = all_score_afr %>%\n",
    "    filter(grepl(score,PGS))\n",
    "    \n",
    "    # set number of folds and repeats\n",
    "    folds_x <- vfold_cv(scores_vfold, v = 10, repeats = 6, strata = NULL, pool = 0.1)\n",
    "    \n",
    "    # build workflow\n",
    "    glm_workflow <- workflow() %>% \n",
    "    add_model(glm_model) %>% \n",
    "    add_variables(outcome = CKD, predictors = c(Z_norm2, AGE, SEX, BATCH)) # Remove Age and Sex if looking to test null model with just outcome ~ PGS\n",
    "    \n",
    "    # run model with cross validation\n",
    "    glm_fit_all <- fit_resamples(glm_workflow, folds_x, metrics = cls_met, control = control)\n",
    "\n",
    "    # collect workflow\n",
    "    glm_workflow <- as_workflow_set (!!score := glm_fit_all) \n",
    "    workflow_afr_multiancestry_score_dfs[[score]] <- glm_workflow\n",
    "}\n"
   ]
  },
  {
   "cell_type": "markdown",
   "metadata": {
    "hidden": true
   },
   "source": [
    "## concatenate"
   ]
  },
  {
   "cell_type": "markdown",
   "metadata": {
    "hidden": true
   },
   "source": [
    "### all"
   ]
  },
  {
   "cell_type": "code",
   "execution_count": null,
   "metadata": {
    "hidden": true
   },
   "outputs": [],
   "source": [
    "workflows = bind_rows(workflow_dfs)\n",
    "nrow(workflows)\n",
    "print(workflows)"
   ]
  },
  {
   "cell_type": "code",
   "execution_count": null,
   "metadata": {
    "hidden": true
   },
   "outputs": [],
   "source": [
    "model_metrics = bind_rows(model_metrics_dfs) %>%\n",
    "select(predictor, .metric, mean) %>%\n",
    "dplyr::rename('metric' = '.metric',\n",
    "              'value' = 'mean')\n",
    "nrow(model_metrics)\n",
    "head(model_metrics)"
   ]
  },
  {
   "cell_type": "code",
   "execution_count": null,
   "metadata": {
    "hidden": true
   },
   "outputs": [],
   "source": [
    "roc_plot_data = bind_rows(roc_plot_list)\n",
    "nrow(roc_plot_data)\n",
    "head(roc_plot_data)"
   ]
  },
  {
   "cell_type": "markdown",
   "metadata": {},
   "source": [
    "### all individuals multiancestry scores"
   ]
  },
  {
   "cell_type": "code",
   "execution_count": null,
   "metadata": {},
   "outputs": [],
   "source": [
    "workflows_multiancestry_score = bind_rows(workflow_multiancestry_score_dfs)\n",
    "nrow(workflows_multiancestry_score)\n",
    "print(workflows_multiancestry_score)"
   ]
  },
  {
   "cell_type": "markdown",
   "metadata": {
    "hidden": true
   },
   "source": [
    "### eur"
   ]
  },
  {
   "cell_type": "code",
   "execution_count": null,
   "metadata": {
    "hidden": true
   },
   "outputs": [],
   "source": [
    "workflows_eur = bind_rows(workflow_eur_dfs)\n",
    "nrow(workflows_eur)\n",
    "print(workflows_eur)"
   ]
  },
  {
   "cell_type": "code",
   "execution_count": null,
   "metadata": {
    "hidden": true
   },
   "outputs": [],
   "source": [
    "model_metrics_eur = bind_rows(model_metrics_eur_dfs) %>%\n",
    "select(predictor, .metric, mean) %>%\n",
    "dplyr::rename('metric' = '.metric',\n",
    "              'value' = 'mean')\n",
    "nrow(model_metrics_eur)\n",
    "head(model_metrics_eur)"
   ]
  },
  {
   "cell_type": "code",
   "execution_count": null,
   "metadata": {
    "hidden": true
   },
   "outputs": [],
   "source": [
    "roc_plot_data_eur = bind_rows(roc_plot_list_eur)\n",
    "nrow(roc_plot_data_eur)\n",
    "head(roc_plot_data_eur)"
   ]
  },
  {
   "cell_type": "markdown",
   "metadata": {},
   "source": [
    "### eur individuals multiancestry scores"
   ]
  },
  {
   "cell_type": "code",
   "execution_count": null,
   "metadata": {},
   "outputs": [],
   "source": [
    "workflows_eur_multiancestry_score = bind_rows(workflow_eur_multiancestry_score_dfs)\n",
    "nrow(workflows_eur_multiancestry_score)\n",
    "print(workflows_eur_multiancestry_score)"
   ]
  },
  {
   "cell_type": "markdown",
   "metadata": {
    "hidden": true
   },
   "source": [
    "### afr"
   ]
  },
  {
   "cell_type": "code",
   "execution_count": null,
   "metadata": {
    "hidden": true
   },
   "outputs": [],
   "source": [
    "workflows_afr = bind_rows(workflow_afr_dfs)\n",
    "nrow(workflows_afr)\n",
    "print(workflows_afr)"
   ]
  },
  {
   "cell_type": "code",
   "execution_count": null,
   "metadata": {
    "hidden": true
   },
   "outputs": [],
   "source": [
    "model_metrics_afr = bind_rows(model_metrics_afr_dfs) %>%\n",
    "select(predictor, .metric, mean) %>%\n",
    "dplyr::rename('metric' = '.metric',\n",
    "              'value' = 'mean')\n",
    "nrow(model_metrics_afr)\n",
    "head(model_metrics_afr)"
   ]
  },
  {
   "cell_type": "code",
   "execution_count": null,
   "metadata": {
    "hidden": true
   },
   "outputs": [],
   "source": [
    "roc_plot_data_afr = bind_rows(roc_plot_list_afr)\n",
    "nrow(roc_plot_data_afr)\n",
    "head(roc_plot_data_afr)"
   ]
  },
  {
   "cell_type": "markdown",
   "metadata": {},
   "source": [
    "### afr individuals multiancestry scores"
   ]
  },
  {
   "cell_type": "code",
   "execution_count": null,
   "metadata": {},
   "outputs": [],
   "source": [
    "workflows_afr_multiancestry_score = bind_rows(workflow_afr_multiancestry_score_dfs)\n",
    "nrow(workflows_afr_multiancestry_score)\n",
    "print(workflows_afr_multiancestry_score)"
   ]
  },
  {
   "cell_type": "markdown",
   "metadata": {
    "hidden": true
   },
   "source": [
    "## make/show & export plots"
   ]
  },
  {
   "cell_type": "markdown",
   "metadata": {
    "hidden": true
   },
   "source": [
    "### AUROC"
   ]
  },
  {
   "cell_type": "code",
   "execution_count": null,
   "metadata": {
    "hidden": true
   },
   "outputs": [],
   "source": [
    "ggplot(roc_plot_data, aes(x = 1 - specificity, y = sensitivity, color = predictor)) +\n",
    "geom_line(linewidth = 1.2) +\n",
    "geom_abline(linetype = \"dashed\") +\n",
    "labs(title = \"PMBB v3 ALL CKD PGS ROC Curves\", x = \"1 - Specificity\", y = \"Sensitivity\") +\n",
    "theme_minimal()\n",
    "ggsave(\"output/plots/PMBB_v3.ALL.CKD.YK_Phenotyping.PGS_Znorm2.cv_glm.roc_curve.png\")"
   ]
  },
  {
   "cell_type": "code",
   "execution_count": null,
   "metadata": {
    "hidden": true
   },
   "outputs": [],
   "source": [
    "ggplot(roc_plot_data_eur, aes(x = 1 - specificity, y = sensitivity, color = predictor)) +\n",
    "geom_line(linewidth = 1.2) +\n",
    "geom_abline(linetype = \"dashed\") +\n",
    "labs(title = \"PMBB v3 EUR CKD PGS ROC Curves\", x = \"1 - Specificity\", y = \"Sensitivity\") +\n",
    "theme_minimal()\n",
    "ggsave(\"output/plots/PMBB_v3.EUR.CKD.YK_Phenotyping.PGS_Znorm2.cv_glm.roc_curve.png\")"
   ]
  },
  {
   "cell_type": "code",
   "execution_count": null,
   "metadata": {
    "hidden": true
   },
   "outputs": [],
   "source": [
    "ggplot(roc_plot_data_afr, aes(x = 1 - specificity, y = sensitivity, color = predictor)) +\n",
    "geom_line(linewidth = 1.2) +\n",
    "geom_abline(linetype = \"dashed\") +\n",
    "labs(title = \"PMBB v3 AFR CKD PGS ROC Curves\", x = \"1 - Specificity\", y = \"Sensitivity\") +\n",
    "theme_minimal()\n",
    "ggsave(\"output/plots/PMBB_v3.AFR.CKD.YK_Phenotyping.PGS_Znorm2.cv_glm.roc_curve.png\")"
   ]
  },
  {
   "cell_type": "markdown",
   "metadata": {
    "hidden": true
   },
   "source": [
    "### Calibration"
   ]
  },
  {
   "cell_type": "markdown",
   "metadata": {
    "hidden": true
   },
   "source": [
    "#### export as RDS to optimize storage"
   ]
  },
  {
   "cell_type": "code",
   "execution_count": null,
   "metadata": {
    "hidden": true
   },
   "outputs": [],
   "source": [
    "plot_list_cal <- lapply(cal_plot_list, function(l) {\n",
    "  drop_vars(l)}) %>% \n",
    "  saveRDS(., file = \"output/plots/PMBB_v3.ALL.CKD.YK_Phenotyping.PGS_Znorm2.cv_glm.calibration_plot.rds\")"
   ]
  },
  {
   "cell_type": "code",
   "execution_count": null,
   "metadata": {
    "hidden": true
   },
   "outputs": [],
   "source": [
    "plot_list_cal_eur <- lapply(cal_plot_list_eur, function(l) {\n",
    "  drop_vars(l)}) %>% \n",
    "  saveRDS(., file = \"output/plots/PMBB_v3.EUR.CKD.YK_Phenotyping.PGS_Znorm2.cv_glm.calibration_plot.rds\")"
   ]
  },
  {
   "cell_type": "code",
   "execution_count": null,
   "metadata": {
    "hidden": true
   },
   "outputs": [],
   "source": [
    "plot_list_cal_afr <- lapply(cal_plot_list_afr, function(l) {\n",
    "  drop_vars(l)}) %>% \n",
    "  saveRDS(., file = \"output/plots/PMBB_v3.AFR.CKD.YK_Phenotyping.PGS_Znorm2.cv_glm.calibration_plot.rds\")"
   ]
  },
  {
   "cell_type": "markdown",
   "metadata": {
    "hidden": true
   },
   "source": [
    "#### export one plot"
   ]
  },
  {
   "cell_type": "code",
   "execution_count": null,
   "metadata": {
    "hidden": true
   },
   "outputs": [],
   "source": [
    "cal_plot_list[[1]]\n",
    "ggsave('output/plots/PMBB_v3.ALL.CKD.YK_Phenotyping.PGS_Znorm2.cv_glm.AFR.Phe_585.3.calibration_plot.png')"
   ]
  },
  {
   "cell_type": "code",
   "execution_count": null,
   "metadata": {
    "hidden": true
   },
   "outputs": [],
   "source": [
    "cal_plot_list_eur[[1]]\n",
    "ggsave('output/plots/PMBB_v3.EUR.CKD.YK_Phenotyping.PGS_Znorm2.cv_glm.AFR.Phe_585.3.calibration_plot.png')"
   ]
  },
  {
   "cell_type": "code",
   "execution_count": null,
   "metadata": {
    "hidden": true
   },
   "outputs": [],
   "source": [
    "cal_plot_list_afr[[1]]\n",
    "ggsave('output/plots/PMBB_v3.AFR.CKD.YK_Phenotyping.PGS_Znorm2.cv_glm.AFR.Phe_585.3.calibration_plot.png')"
   ]
  },
  {
   "cell_type": "markdown",
   "metadata": {
    "hidden": true
   },
   "source": [
    "## make wide form model metrics df"
   ]
  },
  {
   "cell_type": "code",
   "execution_count": null,
   "metadata": {
    "hidden": true
   },
   "outputs": [],
   "source": [
    "model_metrics_wide = model_metrics %>%\n",
    "pivot_wider(values_from = 'value',\n",
    "            names_from = 'metric')\n",
    "head(model_metrics_wide)"
   ]
  },
  {
   "cell_type": "code",
   "execution_count": null,
   "metadata": {
    "hidden": true
   },
   "outputs": [],
   "source": [
    "model_metrics_wide_eur = model_metrics_eur %>%\n",
    "pivot_wider(values_from = 'value',\n",
    "            names_from = 'metric')\n",
    "head(model_metrics_wide_eur)"
   ]
  },
  {
   "cell_type": "code",
   "execution_count": null,
   "metadata": {
    "hidden": true
   },
   "outputs": [],
   "source": [
    "model_metrics_wide_afr = model_metrics_afr %>%\n",
    "pivot_wider(values_from = 'value',\n",
    "            names_from = 'metric')\n",
    "head(model_metrics_wide_afr)"
   ]
  },
  {
   "cell_type": "markdown",
   "metadata": {
    "hidden": true
   },
   "source": [
    "## export model stats"
   ]
  },
  {
   "cell_type": "code",
   "execution_count": null,
   "metadata": {
    "hidden": true
   },
   "outputs": [],
   "source": [
    "write.table(model_metrics,\n",
    "           'output/performance_metrics/PMBB_v3.ALL.CKD.YK_Phenotyping.PGS_Znorm2.cv_glm.performance_metrics.txt',\n",
    "           sep = '\\t',\n",
    "           col.names = T,\n",
    "           row.names = F,\n",
    "           quote = F)"
   ]
  },
  {
   "cell_type": "code",
   "execution_count": null,
   "metadata": {
    "hidden": true
   },
   "outputs": [],
   "source": [
    "write.table(model_metrics_wide,\n",
    "           'output/performance_metrics/PMBB_v3.ALL.CKD.YK_Phenotyping.PGS_Znorm2.cv_glm.performance_metrics.wide_form.csv',\n",
    "           sep = ',',\n",
    "           col.names = T,\n",
    "           row.names = F,\n",
    "           quote = F)"
   ]
  },
  {
   "cell_type": "code",
   "execution_count": null,
   "metadata": {
    "hidden": true
   },
   "outputs": [],
   "source": [
    "write.table(model_metrics_eur,\n",
    "           'output/performance_metrics/PMBB_v3.EUR.CKD.YK_Phenotyping.PGS_Znorm2.cv_glm.performance_metrics.txt',\n",
    "           sep = '\\t',\n",
    "           col.names = T,\n",
    "           row.names = F,\n",
    "           quote = F)"
   ]
  },
  {
   "cell_type": "code",
   "execution_count": null,
   "metadata": {
    "hidden": true
   },
   "outputs": [],
   "source": [
    "write.table(model_metrics_wide_eur,\n",
    "           'output/performance_metrics/PMBB_v3.EUR.CKD.YK_Phenotyping.PGS_Znorm2.cv_glm.performance_metrics.wide_form.csv',\n",
    "           sep = ',',\n",
    "           col.names = T,\n",
    "           row.names = F,\n",
    "           quote = F)"
   ]
  },
  {
   "cell_type": "code",
   "execution_count": null,
   "metadata": {
    "hidden": true
   },
   "outputs": [],
   "source": [
    "write.table(model_metrics_afr,\n",
    "           'output/performance_metrics/PMBB_v3.AFR.CKD.YK_Phenotyping.PGS_Znorm2.cv_glm.performance_metrics.txt',\n",
    "           sep = '\\t',\n",
    "           col.names = T,\n",
    "           row.names = F,\n",
    "           quote = F)"
   ]
  },
  {
   "cell_type": "code",
   "execution_count": null,
   "metadata": {
    "hidden": true
   },
   "outputs": [],
   "source": [
    "write.table(model_metrics_wide_afr,\n",
    "           'output/performance_metrics/PMBB_v3.AFR.CKD.YK_Phenotyping.PGS_Znorm2.cv_glm.performance_metrics.wide_form.csv',\n",
    "           sep = ',',\n",
    "           col.names = T,\n",
    "           row.names = F,\n",
    "           quote = F)"
   ]
  },
  {
   "cell_type": "markdown",
   "metadata": {
    "heading_collapsed": true
   },
   "source": [
    "# bayesian analysis of resampling statistics"
   ]
  },
  {
   "cell_type": "markdown",
   "metadata": {
    "hidden": true
   },
   "source": [
    "## run models on all individuals"
   ]
  },
  {
   "cell_type": "code",
   "execution_count": null,
   "metadata": {
    "hidden": true
   },
   "outputs": [],
   "source": [
    "message('running model')\n",
    "perf_model_brier <- perf_mod(workflows, metric = \"brier_class\", seed = 1, refresh = 0, iter = 10000, cores = 8)\n",
    "message('saving model')\n",
    "saveRDS(perf_model_brier, file = 'output/performance_metrics/PMBB_v3.ALL.CKD.YK_Phenotyping.PGS_Znorm2.cv_glm.perf_model.brier.rds')"
   ]
  },
  {
   "cell_type": "code",
   "execution_count": null,
   "metadata": {
    "hidden": true
   },
   "outputs": [],
   "source": [
    "message('running model')\n",
    "perf_model_auc <- perf_mod(workflows, metric = \"roc_auc\", seed = 1, refresh = 0, iter = 10000, cores = 8)\n",
    "message('saving model')\n",
    "saveRDS(perf_model_auc, file = 'output/performance_metrics/PMBB_v3.ALL.CKD.YK_Phenotyping.PGS_Znorm2.cv_glm.perf_model.auc.rds')"
   ]
  },
  {
   "cell_type": "markdown",
   "metadata": {},
   "source": [
    "## run model on all individuals with multi-ancestry scores"
   ]
  },
  {
   "cell_type": "code",
   "execution_count": null,
   "metadata": {},
   "outputs": [],
   "source": [
    "message('running model')\n",
    "perf_model_brier_multiancestry_score <- perf_mod(workflows_multiancestry_score, metric = \"brier_class\", seed = 1, refresh = 0, iter = 10000, cores = 8)\n",
    "message('saving model')\n",
    "saveRDS(perf_model_brier_multiancestry_score, file = 'output/performance_metrics/PMBB_v3.ALL.CKD.YK_Phenotyping.PGS_Znorm2.multiancestry_scores.cv_glm.perf_model.brier.rds')"
   ]
  },
  {
   "cell_type": "code",
   "execution_count": null,
   "metadata": {},
   "outputs": [],
   "source": [
    "message('running model')\n",
    "perf_model_auc_multiancestry_score <- perf_mod(workflows_multiancestry_score, metric = \"roc_auc\", seed = 1, refresh = 0, iter = 10000, cores = 8)\n",
    "message('saving model')\n",
    "saveRDS(perf_model_auc_multiancestry_score, file = 'output/performance_metrics/PMBB_v3.ALL.CKD.YK_Phenotyping.PGS_Znorm2.multiancestry_scores.cv_glm.perf_model.auc.rds')"
   ]
  },
  {
   "cell_type": "markdown",
   "metadata": {
    "hidden": true
   },
   "source": [
    "## run models on EUR individuals"
   ]
  },
  {
   "cell_type": "code",
   "execution_count": null,
   "metadata": {
    "hidden": true
   },
   "outputs": [],
   "source": [
    "message('running model')\n",
    "perf_model_brier_eur <- perf_mod(workflows_eur, metric = \"brier_class\", seed = 1, refresh = 0, iter = 10000, cores = 8)\n",
    "message('saving model')\n",
    "saveRDS(perf_model_brier_eur, file = 'output/performance_metrics/PMBB_v3.EUR.CKD.YK_Phenotyping.PGS_Znorm2.cv_glm.perf_model.brier.rds')"
   ]
  },
  {
   "cell_type": "code",
   "execution_count": null,
   "metadata": {
    "hidden": true
   },
   "outputs": [],
   "source": [
    "message('running model')\n",
    "perf_model_auc_eur <- perf_mod(workflows_eur, metric = \"roc_auc\", seed = 1, refresh = 0, iter = 10000, cores = 8)\n",
    "message('saving model')\n",
    "saveRDS(perf_model_auc_eur, file = 'output/performance_metrics/PMBB_v3.EUR.CKD.YK_Phenotyping.PGS_Znorm2.cv_glm.perf_model.auc.rds')"
   ]
  },
  {
   "cell_type": "markdown",
   "metadata": {},
   "source": [
    "## run models on EUR individuals with multiancestry scores"
   ]
  },
  {
   "cell_type": "code",
   "execution_count": null,
   "metadata": {},
   "outputs": [],
   "source": [
    "message('running model')\n",
    "perf_model_brier_eur_multiancestry_score <- perf_mod(workflows_eur_multiancestry_score, metric = \"brier_class\", seed = 1, refresh = 0, iter = 10000, cores = 8)\n",
    "message('saving model')\n",
    "saveRDS(perf_model_brier_eur_multiancestry_score, file = 'output/performance_metrics/PMBB_v3.EUR.CKD.YK_Phenotyping.PGS_Znorm2.multiancestry_scores.cv_glm.perf_model.brier.rds')"
   ]
  },
  {
   "cell_type": "code",
   "execution_count": null,
   "metadata": {},
   "outputs": [],
   "source": [
    "message('running model')\n",
    "perf_model_auc_eur_multiancestry_score <- perf_mod(workflows_eur_multiancestry_score, metric = \"roc_auc\", seed = 1, refresh = 0, iter = 10000, cores = 8)\n",
    "message('saving model')\n",
    "saveRDS(perf_model_auc_eur_multiancestry_score, file = 'output/performance_metrics/PMBB_v3.EUR.CKD.YK_Phenotyping.PGS_Znorm2.multiancestry_scores.cv_glm.perf_model.auc.rds')"
   ]
  },
  {
   "cell_type": "markdown",
   "metadata": {
    "hidden": true
   },
   "source": [
    "## run models on AFR individuals"
   ]
  },
  {
   "cell_type": "code",
   "execution_count": null,
   "metadata": {
    "hidden": true
   },
   "outputs": [],
   "source": [
    "message('running model')\n",
    "perf_model_brier_afr <- perf_mod(workflows_afr, metric = \"brier_class\", seed = 1, refresh = 0, iter = 10000, cores = 8)\n",
    "message('saving model')\n",
    "saveRDS(perf_model_brier_afr, file = 'output/performance_metrics/PMBB_v3.AFR.CKD.YK_Phenotyping.PGS_Znorm2.cv_glm.perf_model.brier.rds')"
   ]
  },
  {
   "cell_type": "code",
   "execution_count": null,
   "metadata": {
    "hidden": true
   },
   "outputs": [],
   "source": [
    "message('running model')\n",
    "perf_model_auc_afr <- perf_mod(workflows_afr, metric = \"roc_auc\", seed = 1, refresh = 0, iter = 10000, cores = 8)\n",
    "message('saving model')\n",
    "saveRDS(perf_model_auc_afr, file = 'output/performance_metrics/PMBB_v3.AFR.CKD.YK_Phenotyping.PGS_Znorm2.cv_glm.perf_model.auc.rds')"
   ]
  },
  {
   "cell_type": "markdown",
   "metadata": {},
   "source": [
    "## run models on AFR individuals with multiancestry scores"
   ]
  },
  {
   "cell_type": "code",
   "execution_count": null,
   "metadata": {},
   "outputs": [],
   "source": [
    "message('running model')\n",
    "perf_model_brier_afr_multiancestry_score <- perf_mod(workflows_afr_multiancestry_score, metric = \"brier_class\", seed = 1, refresh = 0, iter = 10000, cores = 8)\n",
    "message('saving model')\n",
    "saveRDS(perf_model_brier_afr_multiancestry_score, file = 'output/performance_metrics/PMBB_v3.AFR.CKD.YK_Phenotyping.PGS_Znorm2.multiancestry_scores.cv_glm.perf_model.brier.rds')"
   ]
  },
  {
   "cell_type": "code",
   "execution_count": null,
   "metadata": {},
   "outputs": [],
   "source": [
    "message('running model')\n",
    "perf_model_auc_afr_multiancestry_score <- perf_mod(workflows_afr_multiancestry_score, metric = \"roc_auc\", seed = 1, refresh = 0, iter = 10000, cores = 8)\n",
    "message('saving model')\n",
    "saveRDS(perf_model_auc_afr_multiancestry_score, file = 'output/performance_metrics/PMBB_v3.AFR.CKD.YK_Phenotyping.PGS_Znorm2.multiancestry_scores.cv_glm.perf_model.auc.rds')"
   ]
  },
  {
   "cell_type": "markdown",
   "metadata": {
    "hidden": true
   },
   "source": [
    "## process models"
   ]
  },
  {
   "cell_type": "markdown",
   "metadata": {
    "hidden": true
   },
   "source": [
    "### all individuals"
   ]
  },
  {
   "cell_type": "markdown",
   "metadata": {
    "hidden": true
   },
   "source": [
    "#### brier"
   ]
  },
  {
   "cell_type": "code",
   "execution_count": null,
   "metadata": {
    "hidden": true
   },
   "outputs": [],
   "source": [
    "# Brier\n",
    "best_brier <- tidy(perf_model_brier, seed = 7) %>%\n",
    "summary() %>% \n",
    "slice_min(mean) %>%\n",
    "pull(model)\n",
    "\n",
    "contrast_models_brier_02 <- list()\n",
    "contrast_models_brier_01 <- list()\n",
    "contrast_models_brier_005 <- list()\n",
    "\n",
    "for (score in score_list) {\n",
    "  \n",
    "    diff <-  contrast_models(\n",
    "        perf_model_brier,\n",
    "        list_1 = score,\n",
    "        list_2 = best_brier,\n",
    "        seed = 7) \n",
    "  \n",
    "    model <- score\n",
    "    \n",
    "    contrast_models_brier_02[[score]] <- diff %>% \n",
    "    summary(., size = 0.02) %>% \n",
    "    mutate(model = score) %>% \n",
    "    rename(pract_equiv_02 = pract_equiv) %>% \n",
    "    select(model, pract_equiv_02, probability)\n",
    "  \n",
    "    contrast_models_brier_01[[score]] <- diff %>% \n",
    "    summary(., size = 0.01) %>% \n",
    "    mutate(model = score) %>% \n",
    "    rename(pract_equiv_01 = pract_equiv) %>% \n",
    "    select(model, pract_equiv_01)\n",
    "  \n",
    "    contrast_models_brier_005[[score]] <- diff %>% \n",
    "    summary(., size = 0.005) %>% \n",
    "    mutate(model = score) %>% \n",
    "    rename(pract_equiv_005 = pract_equiv) %>% \n",
    "    select(model, pract_equiv_005)\n",
    "}\n",
    "\n",
    "brier_ci <- perf_model_brier %>%\n",
    "broom::tidy() %>%\n",
    "summary(.,prob=0.95) %>% # summary, probability 95%\n",
    "mutate(CI_95 = ifelse(lower <= min(upper), 1, 0)) %>%  \n",
    "merge(.,(bind_rows(contrast_models_brier_005)), by = \"model\") %>% \n",
    "mutate(ROPE_005 = ifelse(pract_equiv_005 < 0.95, 0, 1)) %>% \n",
    "merge(.,(bind_rows(contrast_models_brier_01)), by = \"model\") %>%\n",
    "mutate(ROPE_01 = ifelse(pract_equiv_01 < 0.95, 0, 1)) %>% \n",
    "merge(.,(bind_rows(contrast_models_brier_02)), by = \"model\") %>% \n",
    "mutate(ROPE_02 = ifelse(pract_equiv_02 < 0.95, 0, 1)) %>% \n",
    "mutate(prob_dif = ifelse(probability>=0.95,0,1)) %>% \n",
    "mutate(metric = \"Brier Score\") %>% \n",
    "mutate(.,\n",
    "       ROPE_color = as.character(ROPE_005 + ROPE_01 + ROPE_02)) %>% \n",
    "arrange(desc(mean)) "
   ]
  },
  {
   "cell_type": "code",
   "execution_count": null,
   "metadata": {
    "hidden": true
   },
   "outputs": [],
   "source": [
    "head(best_brier)"
   ]
  },
  {
   "cell_type": "markdown",
   "metadata": {
    "hidden": true
   },
   "source": [
    "#### auc"
   ]
  },
  {
   "cell_type": "code",
   "execution_count": null,
   "metadata": {
    "hidden": true
   },
   "outputs": [],
   "source": [
    "# AUC\n",
    "best_auc <- tidy(perf_model_auc, seed = 7) %>%\n",
    "summary() %>% \n",
    "slice_max(mean) %>%\n",
    "pull(model)\n",
    "\n",
    "contrast_models_auc_02 <- list()\n",
    "contrast_models_auc_01 <- list()\n",
    "contrast_models_auc_005 <- list()\n",
    "\n",
    "for (score in score_list) {\n",
    "  \n",
    "    diff <-  contrast_models(\n",
    "        perf_model_auc,\n",
    "        list_1 = best_auc,\n",
    "        list_2 = score,\n",
    "        seed = 7) \n",
    "  \n",
    "    model <- score\n",
    "  \n",
    "    contrast_models_auc_02[[score]] <- diff %>% \n",
    "    summary(., size = 0.02) %>% \n",
    "    mutate(model = score) %>% \n",
    "    rename(pract_equiv_02 = pract_equiv) %>% \n",
    "    select(model, pract_equiv_02, probability)\n",
    "  \n",
    "    contrast_models_auc_01[[score]] <- diff %>% \n",
    "    summary(., size = 0.01) %>% \n",
    "    mutate(model = score) %>% \n",
    "    rename(pract_equiv_01 = pract_equiv) %>% \n",
    "    select(model, pract_equiv_01)\n",
    "  \n",
    "    contrast_models_auc_005[[score]] <- diff %>% \n",
    "    summary(., size = 0.005) %>% \n",
    "    mutate(model = score) %>% \n",
    "    rename(pract_equiv_005 = pract_equiv) %>% \n",
    "    select(model, pract_equiv_005)\n",
    "}\n",
    "\n",
    "# Probability = proportion of the posterior that is > 0 (probability that the positive difference is real)\n",
    "auc_ci <- perf_model_auc %>%\n",
    "broom::tidy() %>%\n",
    "summary(.,prob=0.95) %>% # summary, probability 95%\n",
    "mutate(CI_95 = ifelse(upper >= max(lower), 1, 0)) %>%  \n",
    "merge(.,(bind_rows(contrast_models_auc_005)), by = \"model\") %>% \n",
    "mutate(ROPE_005 = ifelse(pract_equiv_005 < 0.95, 0, 1)) %>% \n",
    "merge(.,(bind_rows(contrast_models_auc_01)), by = \"model\") %>%\n",
    "mutate(ROPE_01 = ifelse(pract_equiv_01 < 0.95, 0, 1)) %>% \n",
    "merge(.,(bind_rows(contrast_models_auc_02)), by = \"model\") %>% \n",
    "mutate(ROPE_02 = ifelse(pract_equiv_02 < 0.95, 0, 1)) %>% \n",
    "mutate(prob_dif = ifelse(probability>=0.95,0,1)) %>% \n",
    "mutate(metric = \"AU ROC\") %>% \n",
    "mutate(.,\n",
    "       ROPE_color = as.character(ROPE_005 + ROPE_01 + ROPE_02)) %>% \n",
    "arrange(desc(mean)) "
   ]
  },
  {
   "cell_type": "code",
   "execution_count": null,
   "metadata": {
    "hidden": true
   },
   "outputs": [],
   "source": [
    "head(best_auc)"
   ]
  },
  {
   "cell_type": "markdown",
   "metadata": {},
   "source": [
    "### all individuals with multiancestry scores"
   ]
  },
  {
   "cell_type": "markdown",
   "metadata": {},
   "source": [
    "#### brier"
   ]
  },
  {
   "cell_type": "code",
   "execution_count": null,
   "metadata": {},
   "outputs": [],
   "source": [
    "# Brier\n",
    "best_brier_multiancestry_score <- tidy(perf_model_brier_multiancestry_score, seed = 7) %>%\n",
    "summary() %>% \n",
    "slice_min(mean) %>%\n",
    "pull(model)\n",
    "\n",
    "contrast_models_brier_02 <- list()\n",
    "contrast_models_brier_01 <- list()\n",
    "contrast_models_brier_005 <- list()\n",
    "\n",
    "for (score in score_list_multiancestry) {\n",
    "  \n",
    "    diff <-  contrast_models(\n",
    "    perf_model_brier_multiancestry_score,\n",
    "    list_1 = score,\n",
    "    list_2 = best_brier_multiancestry_score,\n",
    "    seed = 7) \n",
    "  \n",
    "    model <- score\n",
    "  \n",
    "    contrast_models_brier_02[[score]] <- diff %>% \n",
    "    summary(., size = 0.02) %>% \n",
    "    mutate(model = score) %>% \n",
    "    rename(pract_equiv_02 = pract_equiv) %>% \n",
    "    select(model, pract_equiv_02, probability)\n",
    "  \n",
    "    contrast_models_brier_01[[score]] <- diff %>% \n",
    "    summary(., size = 0.01) %>% \n",
    "    mutate(model = score) %>% \n",
    "    rename(pract_equiv_01 = pract_equiv) %>% \n",
    "    select(model, pract_equiv_01)\n",
    "  \n",
    "    contrast_models_brier_005[[score]] <- diff %>% \n",
    "    summary(., size = 0.005) %>% \n",
    "    mutate(model = score) %>% \n",
    "    rename(pract_equiv_005 = pract_equiv) %>% \n",
    "    select(model, pract_equiv_005)\n",
    "}\n",
    "\n",
    "brier_ci_multiancestry_score <- perf_model_brier_multiancestry_score %>%\n",
    "broom::tidy() %>%\n",
    "summary(.,prob=0.95) %>% # summary, probability 95%\n",
    "mutate(CI_95 = ifelse(lower <= min(upper), 1, 0)) %>%  \n",
    "merge(.,(bind_rows(contrast_models_brier_005)), by = \"model\") %>% \n",
    "mutate(ROPE_005 = ifelse(pract_equiv_005 < 0.95, 0, 1)) %>% \n",
    "merge(.,(bind_rows(contrast_models_brier_01)), by = \"model\") %>%\n",
    "mutate(ROPE_01 = ifelse(pract_equiv_01 < 0.95, 0, 1)) %>% \n",
    "merge(.,(bind_rows(contrast_models_brier_02)), by = \"model\") %>% \n",
    "mutate(ROPE_02 = ifelse(pract_equiv_02 < 0.95, 0, 1)) %>% \n",
    "mutate(prob_dif = ifelse(probability>=0.95,0,1)) %>% \n",
    "mutate(metric = \"Brier Score\") %>% \n",
    "mutate(.,\n",
    "       ROPE_color = as.character(ROPE_005 + ROPE_01 + ROPE_02)) %>% \n",
    "arrange(desc(mean)) "
   ]
  },
  {
   "cell_type": "code",
   "execution_count": null,
   "metadata": {},
   "outputs": [],
   "source": [
    "head(best_brier_multiancestry_score)"
   ]
  },
  {
   "cell_type": "markdown",
   "metadata": {},
   "source": [
    "#### auc"
   ]
  },
  {
   "cell_type": "code",
   "execution_count": null,
   "metadata": {},
   "outputs": [],
   "source": [
    "# AUC\n",
    "best_auc_multiancestry_score <- tidy(perf_model_auc_multiancestry_score, seed = 7) %>%\n",
    "summary() %>% \n",
    "slice_max(mean) %>%\n",
    "pull(model)\n",
    "\n",
    "contrast_models_auc_02 <- list()\n",
    "contrast_models_auc_01 <- list()\n",
    "contrast_models_auc_005 <- list()\n",
    "\n",
    "for (score in score_list_multiancestry) {\n",
    "\n",
    "    diff <-  contrast_models(\n",
    "    perf_model_auc_multiancestry_score,\n",
    "    list_1 = best_auc_multiancestry_score,\n",
    "    list_2 = score,\n",
    "    seed = 7) \n",
    "  \n",
    "    model <- score\n",
    "  \n",
    "    contrast_models_auc_02[[score]] <- diff %>% \n",
    "    summary(., size = 0.02) %>% \n",
    "    mutate(model = score) %>% \n",
    "    rename(pract_equiv_02 = pract_equiv) %>% \n",
    "    select(model, pract_equiv_02, probability)\n",
    "  \n",
    "    contrast_models_auc_01[[score]] <- diff %>% \n",
    "    summary(., size = 0.01) %>% \n",
    "    mutate(model = score) %>% \n",
    "    rename(pract_equiv_01 = pract_equiv) %>% \n",
    "    select(model, pract_equiv_01)\n",
    "  \n",
    "  contrast_models_auc_005[[score]] <- diff %>% \n",
    "    summary(., size = 0.005) %>% \n",
    "    mutate(model = score) %>% \n",
    "    rename(pract_equiv_005 = pract_equiv) %>% \n",
    "    select(model, pract_equiv_005)\n",
    "}\n",
    "\n",
    "# Probability = proportion of the posterior that is > 0 (probability that the positive difference is real)\n",
    "auc_ci_multiancestry_score <- perf_model_auc_multiancestry_score %>%\n",
    "broom::tidy() %>%\n",
    "summary(.,prob=0.95) %>% # summary, probability 95%\n",
    "mutate(CI_95 = ifelse(upper >= max(lower), 1, 0)) %>%  \n",
    "merge(.,(bind_rows(contrast_models_auc_005)), by = \"model\") %>% \n",
    "mutate(ROPE_005 = ifelse(pract_equiv_005 < 0.95, 0, 1)) %>% \n",
    "merge(.,(bind_rows(contrast_models_auc_01)), by = \"model\") %>%\n",
    "mutate(ROPE_01 = ifelse(pract_equiv_01 < 0.95, 0, 1)) %>% \n",
    "merge(.,(bind_rows(contrast_models_auc_02)), by = \"model\") %>% \n",
    "mutate(ROPE_02 = ifelse(pract_equiv_02 < 0.95, 0, 1)) %>% \n",
    "mutate(prob_dif = ifelse(probability>=0.95,0,1)) %>% \n",
    "mutate(metric = \"AU ROC\") %>% \n",
    "mutate(.,\n",
    "       ROPE_color = as.character(ROPE_005 + ROPE_01 + ROPE_02)) %>% \n",
    "arrange(desc(mean)) "
   ]
  },
  {
   "cell_type": "code",
   "execution_count": null,
   "metadata": {},
   "outputs": [],
   "source": [
    "head(best_auc_multiancestry_score)"
   ]
  },
  {
   "cell_type": "markdown",
   "metadata": {
    "hidden": true
   },
   "source": [
    "### EUR individuals"
   ]
  },
  {
   "cell_type": "markdown",
   "metadata": {
    "hidden": true
   },
   "source": [
    "#### brier"
   ]
  },
  {
   "cell_type": "code",
   "execution_count": null,
   "metadata": {
    "hidden": true
   },
   "outputs": [],
   "source": [
    "# Brier\n",
    "best_brier_eur <- tidy(perf_model_brier_eur, seed = 7) %>%\n",
    "summary() %>% \n",
    "slice_min(mean) %>%\n",
    "pull(model)\n",
    "\n",
    "contrast_models_brier_02 <- list()\n",
    "contrast_models_brier_01 <- list()\n",
    "contrast_models_brier_005 <- list()\n",
    "\n",
    "for (score in score_list_eur) {\n",
    "  \n",
    "    diff <-  contrast_models(\n",
    "        perf_model_brier_eur,\n",
    "        list_1 = score,\n",
    "        list_2 = best_brier_eur,\n",
    "        seed = 7) \n",
    "  \n",
    "    model <- score\n",
    "  \n",
    "    contrast_models_brier_02[[score]] <- diff %>% \n",
    "    summary(., size = 0.02) %>% \n",
    "    mutate(model = score) %>% \n",
    "    rename(pract_equiv_02 = pract_equiv) %>% \n",
    "    select(model, pract_equiv_02, probability)\n",
    "  \n",
    "    contrast_models_brier_01[[score]] <- diff %>% \n",
    "    summary(., size = 0.01) %>% \n",
    "    mutate(model = score) %>% \n",
    "    rename(pract_equiv_01 = pract_equiv) %>% \n",
    "    select(model, pract_equiv_01)\n",
    "  \n",
    "    contrast_models_brier_005[[score]] <- diff %>% \n",
    "    summary(., size = 0.005) %>% \n",
    "    mutate(model = score) %>% \n",
    "    rename(pract_equiv_005 = pract_equiv) %>% \n",
    "    select(model, pract_equiv_005)\n",
    "}\n",
    "\n",
    "brier_ci_eur <- perf_model_brier_eur %>%\n",
    "broom::tidy() %>%\n",
    "summary(.,prob=0.95) %>% # summary, probability 95%\n",
    "mutate(CI_95 = ifelse(lower <= min(upper), 1, 0)) %>%  \n",
    "merge(.,(bind_rows(contrast_models_brier_005)), by = \"model\") %>% \n",
    "mutate(ROPE_005 = ifelse(pract_equiv_005 < 0.95, 0, 1)) %>% \n",
    "merge(.,(bind_rows(contrast_models_brier_01)), by = \"model\") %>%\n",
    "mutate(ROPE_01 = ifelse(pract_equiv_01 < 0.95, 0, 1)) %>% \n",
    "merge(.,(bind_rows(contrast_models_brier_02)), by = \"model\") %>% \n",
    "mutate(ROPE_02 = ifelse(pract_equiv_02 < 0.95, 0, 1)) %>% \n",
    "mutate(prob_dif = ifelse(probability>=0.95,0,1)) %>% \n",
    "mutate(metric = \"Brier Score\") %>% \n",
    "mutate(.,\n",
    "       ROPE_color = as.character(ROPE_005 + ROPE_01 + ROPE_02)) %>% \n",
    "arrange(desc(mean)) "
   ]
  },
  {
   "cell_type": "code",
   "execution_count": null,
   "metadata": {
    "hidden": true
   },
   "outputs": [],
   "source": [
    "head(best_brier_eur)"
   ]
  },
  {
   "cell_type": "markdown",
   "metadata": {
    "hidden": true
   },
   "source": [
    "#### auroc"
   ]
  },
  {
   "cell_type": "code",
   "execution_count": null,
   "metadata": {
    "hidden": true
   },
   "outputs": [],
   "source": [
    "# AUC\n",
    "best_auc_eur <- tidy(perf_model_auc_eur, seed = 7) %>%\n",
    "summary() %>% \n",
    "slice_max(mean) %>%\n",
    "pull(model)\n",
    "\n",
    "contrast_models_auc_02 <- list()\n",
    "contrast_models_auc_01 <- list()\n",
    "contrast_models_auc_005 <- list()\n",
    "\n",
    "for (score in score_list_eur) {\n",
    "  \n",
    "    diff <-  contrast_models(\n",
    "        perf_model_auc_eur,\n",
    "        list_1 = best_auc_eur,\n",
    "        list_2 = score,\n",
    "        seed = 7) \n",
    "  \n",
    "    model <- score\n",
    "  \n",
    "    contrast_models_auc_02[[score]] <- diff %>% \n",
    "    summary(., size = 0.02) %>% \n",
    "    mutate(model = score) %>% \n",
    "    rename(pract_equiv_02 = pract_equiv) %>% \n",
    "    select(model, pract_equiv_02, probability)\n",
    "  \n",
    "    contrast_models_auc_01[[score]] <- diff %>% \n",
    "    summary(., size = 0.01) %>% \n",
    "    mutate(model = score) %>% \n",
    "    rename(pract_equiv_01 = pract_equiv) %>% \n",
    "    select(model, pract_equiv_01)\n",
    "  \n",
    "    contrast_models_auc_005[[score]] <- diff %>% \n",
    "    summary(., size = 0.005) %>% \n",
    "    mutate(model = score) %>% \n",
    "    rename(pract_equiv_005 = pract_equiv) %>% \n",
    "    select(model, pract_equiv_005)\n",
    "}\n",
    "\n",
    "# Probability = proportion of the posterior that is > 0 (probability that the positive difference is real)\n",
    "auc_ci_eur <- perf_model_auc_eur %>%\n",
    "broom::tidy() %>%\n",
    "summary(.,prob=0.95) %>% # summary, probability 95%\n",
    "mutate(CI_95 = ifelse(upper >= max(lower), 1, 0)) %>%  \n",
    "merge(.,(bind_rows(contrast_models_auc_005)), by = \"model\") %>% \n",
    "mutate(ROPE_005 = ifelse(pract_equiv_005 < 0.95, 0, 1)) %>% \n",
    "merge(.,(bind_rows(contrast_models_auc_01)), by = \"model\") %>%\n",
    "mutate(ROPE_01 = ifelse(pract_equiv_01 < 0.95, 0, 1)) %>% \n",
    "merge(.,(bind_rows(contrast_models_auc_02)), by = \"model\") %>% \n",
    "mutate(ROPE_02 = ifelse(pract_equiv_02 < 0.95, 0, 1)) %>% \n",
    "mutate(prob_dif = ifelse(probability>=0.95,0,1)) %>% \n",
    "mutate(metric = \"AU ROC\") %>% \n",
    "mutate(.,\n",
    "       ROPE_color = as.character(ROPE_005 + ROPE_01 + ROPE_02)) %>% \n",
    "arrange(desc(mean)) "
   ]
  },
  {
   "cell_type": "code",
   "execution_count": null,
   "metadata": {
    "hidden": true
   },
   "outputs": [],
   "source": [
    "head(best_auc_eur)"
   ]
  },
  {
   "cell_type": "markdown",
   "metadata": {},
   "source": [
    "### eur individuals with multi ancestry scores"
   ]
  },
  {
   "cell_type": "markdown",
   "metadata": {},
   "source": [
    "#### brier"
   ]
  },
  {
   "cell_type": "code",
   "execution_count": null,
   "metadata": {},
   "outputs": [],
   "source": [
    "# Brier\n",
    "best_brier_eur_multiancestry_score <- tidy(perf_model_brier_eur_multiancestry_score, seed = 7) %>%\n",
    "summary() %>% \n",
    "slice_min(mean) %>%\n",
    "pull(model)\n",
    "\n",
    "contrast_models_brier_02 <- list()\n",
    "contrast_models_brier_01 <- list()\n",
    "contrast_models_brier_005 <- list()\n",
    "\n",
    "for (score in score_list_eur_multiancestry) {\n",
    "  \n",
    "    diff <-  contrast_models(\n",
    "    perf_model_brier_eur_multiancestry_score,\n",
    "    list_1 = score,\n",
    "    list_2 = best_brier_eur_multiancestry_score,\n",
    "    seed = 7) \n",
    "  \n",
    "    model <- score\n",
    "  \n",
    "    contrast_models_brier_02[[score]] <- diff %>% \n",
    "    summary(., size = 0.02) %>% \n",
    "    mutate(model = score) %>% \n",
    "    rename(pract_equiv_02 = pract_equiv) %>% \n",
    "    select(model, pract_equiv_02, probability)\n",
    "  \n",
    "    contrast_models_brier_01[[score]] <- diff %>% \n",
    "    summary(., size = 0.01) %>% \n",
    "    mutate(model = score) %>% \n",
    "    rename(pract_equiv_01 = pract_equiv) %>% \n",
    "    select(model, pract_equiv_01)\n",
    "  \n",
    "    contrast_models_brier_005[[score]] <- diff %>% \n",
    "    summary(., size = 0.005) %>% \n",
    "    mutate(model = score) %>% \n",
    "    rename(pract_equiv_005 = pract_equiv) %>% \n",
    "    select(model, pract_equiv_005)\n",
    "}\n",
    "\n",
    "brier_ci_eur_multiancestry_score <- perf_model_brier_eur_multiancestry_score %>%\n",
    "broom::tidy() %>%\n",
    "summary(.,prob=0.95) %>% # summary, probability 95%\n",
    "mutate(CI_95 = ifelse(lower <= min(upper), 1, 0)) %>%  \n",
    "merge(.,(bind_rows(contrast_models_brier_005)), by = \"model\") %>% \n",
    "mutate(ROPE_005 = ifelse(pract_equiv_005 < 0.95, 0, 1)) %>% \n",
    "merge(.,(bind_rows(contrast_models_brier_01)), by = \"model\") %>%\n",
    "mutate(ROPE_01 = ifelse(pract_equiv_01 < 0.95, 0, 1)) %>% \n",
    "merge(.,(bind_rows(contrast_models_brier_02)), by = \"model\") %>% \n",
    "mutate(ROPE_02 = ifelse(pract_equiv_02 < 0.95, 0, 1)) %>% \n",
    "mutate(prob_dif = ifelse(probability>=0.95,0,1)) %>% \n",
    "mutate(metric = \"Brier Score\") %>% \n",
    "mutate(.,\n",
    "       ROPE_color = as.character(ROPE_005 + ROPE_01 + ROPE_02)) %>% \n",
    "arrange(desc(mean)) "
   ]
  },
  {
   "cell_type": "code",
   "execution_count": null,
   "metadata": {},
   "outputs": [],
   "source": [
    "head(best_brier_eur_multiancestry_score)"
   ]
  },
  {
   "cell_type": "markdown",
   "metadata": {},
   "source": [
    "#### auroc"
   ]
  },
  {
   "cell_type": "code",
   "execution_count": null,
   "metadata": {},
   "outputs": [],
   "source": [
    "# AUC\n",
    "best_auc_eur_multiancestry_score <- tidy(perf_model_auc_eur_multiancestry_score, seed = 7) %>%\n",
    "summary() %>% \n",
    "slice_max(mean) %>%\n",
    "pull(model)\n",
    "\n",
    "contrast_models_auc_02 <- list()\n",
    "contrast_models_auc_01 <- list()\n",
    "contrast_models_auc_005 <- list()\n",
    "\n",
    "for (score in score_list_eur_multiancestry) {\n",
    "  \n",
    "    diff <-  contrast_models(\n",
    "    perf_model_auc_eur_multiancestry_score,\n",
    "    list_1 = best_auc_eur_multiancestry_score,\n",
    "    list_2 = score,\n",
    "    seed = 7) \n",
    "  \n",
    "    model <- score\n",
    "   \n",
    "    contrast_models_auc_02[[score]] <- diff %>% \n",
    "    summary(., size = 0.02) %>% \n",
    "    mutate(model = score) %>% \n",
    "    rename(pract_equiv_02 = pract_equiv) %>% \n",
    "    select(model, pract_equiv_02, probability)\n",
    "  \n",
    "    contrast_models_auc_01[[score]] <- diff %>% \n",
    "    summary(., size = 0.01) %>% \n",
    "    mutate(model = score) %>% \n",
    "    rename(pract_equiv_01 = pract_equiv) %>% \n",
    "    select(model, pract_equiv_01)\n",
    "  \n",
    "    contrast_models_auc_005[[score]] <- diff %>% \n",
    "    summary(., size = 0.005) %>% \n",
    "    mutate(model = score) %>% \n",
    "    rename(pract_equiv_005 = pract_equiv) %>% \n",
    "    select(model, pract_equiv_005)\n",
    "}\n",
    "\n",
    "# Probability = proportion of the posterior that is > 0 (probability that the positive difference is real)\n",
    "auc_ci_eur_multiancestry_score <- perf_model_auc_eur_multiancestry_score %>%\n",
    "broom::tidy() %>%\n",
    "summary(.,prob=0.95) %>% # summary, probability 95%\n",
    "mutate(CI_95 = ifelse(upper >= max(lower), 1, 0)) %>%  \n",
    "merge(.,(bind_rows(contrast_models_auc_005)), by = \"model\") %>% \n",
    "mutate(ROPE_005 = ifelse(pract_equiv_005 < 0.95, 0, 1)) %>% \n",
    "merge(.,(bind_rows(contrast_models_auc_01)), by = \"model\") %>%\n",
    "mutate(ROPE_01 = ifelse(pract_equiv_01 < 0.95, 0, 1)) %>% \n",
    "merge(.,(bind_rows(contrast_models_auc_02)), by = \"model\") %>% \n",
    "mutate(ROPE_02 = ifelse(pract_equiv_02 < 0.95, 0, 1)) %>% \n",
    "mutate(prob_dif = ifelse(probability>=0.95,0,1)) %>% \n",
    "mutate(metric = \"AU ROC\") %>% \n",
    "mutate(.,\n",
    "       ROPE_color = as.character(ROPE_005 + ROPE_01 + ROPE_02)) %>% \n",
    "arrange(desc(mean)) "
   ]
  },
  {
   "cell_type": "code",
   "execution_count": null,
   "metadata": {},
   "outputs": [],
   "source": [
    "head(best_auc_eur_multiancestry_score)"
   ]
  },
  {
   "cell_type": "markdown",
   "metadata": {
    "hidden": true
   },
   "source": [
    "### afr"
   ]
  },
  {
   "cell_type": "markdown",
   "metadata": {
    "hidden": true
   },
   "source": [
    "#### brier"
   ]
  },
  {
   "cell_type": "code",
   "execution_count": null,
   "metadata": {
    "hidden": true
   },
   "outputs": [],
   "source": [
    "# Brier\n",
    "best_brier_afr <- tidy(perf_model_brier_afr, seed = 7) %>%\n",
    "summary() %>% \n",
    "slice_min(mean) %>%\n",
    "pull(model)\n",
    "\n",
    "\n",
    "contrast_models_brier_02 <- list()\n",
    "contrast_models_brier_01 <- list()\n",
    "contrast_models_brier_005 <- list()\n",
    "\n",
    "for (score in score_list_afr) {\n",
    "  \n",
    "    diff <-  contrast_models(\n",
    "        perf_model_brier_afr,\n",
    "        list_1 = score,\n",
    "        list_2 = best_brier_afr,\n",
    "        seed = 7) \n",
    "  \n",
    "    model <- score\n",
    "    \n",
    "    contrast_models_brier_02[[score]] <- diff %>% \n",
    "    summary(., size = 0.02) %>% \n",
    "    mutate(model = score) %>% \n",
    "    rename(pract_equiv_02 = pract_equiv) %>% \n",
    "    select(model, pract_equiv_02, probability)\n",
    "  \n",
    "    contrast_models_brier_01[[score]] <- diff %>% \n",
    "    summary(., size = 0.01) %>% \n",
    "    mutate(model = score) %>% \n",
    "    rename(pract_equiv_01 = pract_equiv) %>% \n",
    "    select(model, pract_equiv_01)\n",
    "  \n",
    "    contrast_models_brier_005[[score]] <- diff %>% \n",
    "    summary(., size = 0.005) %>% \n",
    "    mutate(model = score) %>% \n",
    "    rename(pract_equiv_005 = pract_equiv) %>% \n",
    "    select(model, pract_equiv_005)\n",
    "}\n",
    "\n",
    "brier_ci_afr <- perf_model_brier_afr %>%\n",
    "broom::tidy() %>%\n",
    "summary(.,prob=0.95) %>% # summary, probability 95%\n",
    "mutate(CI_95 = ifelse(lower <= min(upper), 1, 0)) %>%  \n",
    "merge(.,(bind_rows(contrast_models_brier_005)), by = \"model\") %>% \n",
    "mutate(ROPE_005 = ifelse(pract_equiv_005 < 0.95, 0, 1)) %>% \n",
    "merge(.,(bind_rows(contrast_models_brier_01)), by = \"model\") %>%\n",
    "mutate(ROPE_01 = ifelse(pract_equiv_01 < 0.95, 0, 1)) %>% \n",
    "merge(.,(bind_rows(contrast_models_brier_02)), by = \"model\") %>% \n",
    "mutate(ROPE_02 = ifelse(pract_equiv_02 < 0.95, 0, 1)) %>% \n",
    "mutate(prob_dif = ifelse(probability>=0.95,0,1)) %>% \n",
    "mutate(metric = \"Brier Score\") %>% \n",
    "mutate(.,\n",
    "       ROPE_color = as.character(ROPE_005 + ROPE_01 + ROPE_02)) %>% \n",
    "arrange(desc(mean)) "
   ]
  },
  {
   "cell_type": "code",
   "execution_count": null,
   "metadata": {
    "hidden": true
   },
   "outputs": [],
   "source": [
    "head(best_brier_afr)"
   ]
  },
  {
   "cell_type": "markdown",
   "metadata": {
    "hidden": true
   },
   "source": [
    "#### auc"
   ]
  },
  {
   "cell_type": "code",
   "execution_count": null,
   "metadata": {
    "hidden": true
   },
   "outputs": [],
   "source": [
    "# AUC\n",
    "best_auc_afr <- tidy(perf_model_auc_afr, seed = 7) %>%\n",
    "summary() %>% \n",
    "slice_max(mean) %>%\n",
    "pull(model)\n",
    "\n",
    "contrast_models_auc_02 <- list()\n",
    "contrast_models_auc_01 <- list()\n",
    "contrast_models_auc_005 <- list()\n",
    "\n",
    "for (score in score_list_afr) {\n",
    "    \n",
    "    diff <-  contrast_models(\n",
    "        perf_model_auc_afr,\n",
    "        list_1 = best_auc_afr,\n",
    "        list_2 = score,\n",
    "        seed = 7) \n",
    "    \n",
    "    model <- score\n",
    "  \n",
    "    contrast_models_auc_02[[score]] <- diff %>% \n",
    "    summary(., size = 0.02) %>% \n",
    "    mutate(model = score) %>% \n",
    "    rename(pract_equiv_02 = pract_equiv) %>% \n",
    "    select(model, pract_equiv_02, probability)\n",
    "  \n",
    "    contrast_models_auc_01[[score]] <- diff %>% \n",
    "    summary(., size = 0.01) %>% \n",
    "    mutate(model = score) %>% \n",
    "    rename(pract_equiv_01 = pract_equiv) %>% \n",
    "    select(model, pract_equiv_01)\n",
    "  \n",
    "    contrast_models_auc_005[[score]] <- diff %>% \n",
    "    summary(., size = 0.005) %>% \n",
    "    mutate(model = score) %>% \n",
    "    rename(pract_equiv_005 = pract_equiv) %>% \n",
    "    select(model, pract_equiv_005)\n",
    "}\n",
    "\n",
    "# Probability = proportion of the posterior that is > 0 (probability that the positive difference is real)\n",
    "auc_ci_afr <- perf_model_auc_afr %>%\n",
    "broom::tidy() %>%\n",
    "summary(.,prob=0.95) %>% # summary, probability 95%\n",
    "mutate(CI_95 = ifelse(upper >= max(lower), 1, 0)) %>%  \n",
    "merge(.,(bind_rows(contrast_models_auc_005)), by = \"model\") %>% \n",
    "mutate(ROPE_005 = ifelse(pract_equiv_005 < 0.95, 0, 1)) %>%\n",
    "merge(.,(bind_rows(contrast_models_auc_01)), by = \"model\") %>%\n",
    "mutate(ROPE_01 = ifelse(pract_equiv_01 < 0.95, 0, 1)) %>% \n",
    "merge(.,(bind_rows(contrast_models_auc_02)), by = \"model\") %>% \n",
    "mutate(ROPE_02 = ifelse(pract_equiv_02 < 0.95, 0, 1)) %>% \n",
    "mutate(prob_dif = ifelse(probability>=0.95,0,1)) %>% \n",
    "mutate(metric = \"AU ROC\") %>% \n",
    "mutate(.,\n",
    "       ROPE_color = as.character(ROPE_005 + ROPE_01 + ROPE_02)) %>% \n",
    "arrange(desc(mean)) "
   ]
  },
  {
   "cell_type": "code",
   "execution_count": null,
   "metadata": {
    "hidden": true
   },
   "outputs": [],
   "source": [
    "head(best_auc_afr)"
   ]
  },
  {
   "cell_type": "markdown",
   "metadata": {},
   "source": [
    "### afr individuals with multiancestry scores"
   ]
  },
  {
   "cell_type": "markdown",
   "metadata": {},
   "source": [
    "#### brier"
   ]
  },
  {
   "cell_type": "code",
   "execution_count": null,
   "metadata": {},
   "outputs": [],
   "source": [
    "# Brier\n",
    "best_brier_afr_multiancestry_score <- tidy(perf_model_brier_afr_multiancestry_score, seed = 7) %>%\n",
    "summary() %>% \n",
    "slice_min(mean) %>%\n",
    "pull(model)\n",
    "\n",
    "contrast_models_brier_02 <- list()\n",
    "contrast_models_brier_01 <- list()\n",
    "contrast_models_brier_005 <- list()\n",
    "\n",
    "for (score in score_list_afr_multiancestry) {\n",
    "  \n",
    "    diff <-  contrast_models(\n",
    "        perf_model_brier_afr_multiancestry_score,\n",
    "        list_1 = score,\n",
    "        list_2 = best_brier_afr_multiancestry_score,\n",
    "        seed = 7) \n",
    "  \n",
    "    model <- score\n",
    "  \n",
    "    contrast_models_brier_02[[score]] <- diff %>% \n",
    "    summary(., size = 0.02) %>% \n",
    "    mutate(model = score) %>% \n",
    "    rename(pract_equiv_02 = pract_equiv) %>% \n",
    "    select(model, pract_equiv_02, probability)\n",
    "  \n",
    "    contrast_models_brier_01[[score]] <- diff %>% \n",
    "    summary(., size = 0.01) %>% \n",
    "    mutate(model = score) %>% \n",
    "    rename(pract_equiv_01 = pract_equiv) %>% \n",
    "    select(model, pract_equiv_01)\n",
    "  \n",
    "    contrast_models_brier_005[[score]] <- diff %>% \n",
    "    summary(., size = 0.005) %>% \n",
    "    mutate(model = score) %>% \n",
    "    rename(pract_equiv_005 = pract_equiv) %>% \n",
    "    select(model, pract_equiv_005)\n",
    "}\n",
    "\n",
    "brier_ci_afr_multiancestry_score <- perf_model_brier_afr_multiancestry_score %>%\n",
    "broom::tidy() %>%\n",
    "summary(.,prob=0.95) %>% # summary, probability 95%\n",
    "mutate(CI_95 = ifelse(lower <= min(upper), 1, 0)) %>%  \n",
    "merge(.,(bind_rows(contrast_models_brier_005)), by = \"model\") %>% \n",
    "mutate(ROPE_005 = ifelse(pract_equiv_005 < 0.95, 0, 1)) %>% \n",
    "merge(.,(bind_rows(contrast_models_brier_01)), by = \"model\") %>%\n",
    "mutate(ROPE_01 = ifelse(pract_equiv_01 < 0.95, 0, 1)) %>% \n",
    "merge(.,(bind_rows(contrast_models_brier_02)), by = \"model\") %>% \n",
    "mutate(ROPE_02 = ifelse(pract_equiv_02 < 0.95, 0, 1)) %>% \n",
    "mutate(prob_dif = ifelse(probability >= 0.95,0,1)) %>% \n",
    "mutate(metric = \"Brier Score\") %>% \n",
    "mutate(.,\n",
    "       ROPE_color = as.character(ROPE_005 + ROPE_01 + ROPE_02)) %>% \n",
    "arrange(desc(mean)) "
   ]
  },
  {
   "cell_type": "code",
   "execution_count": null,
   "metadata": {},
   "outputs": [],
   "source": [
    "head(best_brier_afr_multiancestry_score)"
   ]
  },
  {
   "cell_type": "markdown",
   "metadata": {},
   "source": [
    "#### auroc"
   ]
  },
  {
   "cell_type": "code",
   "execution_count": null,
   "metadata": {},
   "outputs": [],
   "source": [
    "# AUC\n",
    "best_auc_afr_multiancestry_score <- tidy(perf_model_auc_afr_multiancestry_score, seed = 7) %>%\n",
    "summary() %>% \n",
    "slice_max(mean) %>%\n",
    "pull(model)\n",
    "\n",
    "contrast_models_auc_02 <- list()\n",
    "contrast_models_auc_01 <- list()\n",
    "contrast_models_auc_005 <- list()\n",
    "\n",
    "for (score in score_list_afr_multiancestry) {\n",
    "    \n",
    "    diff <-  contrast_models(\n",
    "        perf_model_auc_afr_multiancestry_score,\n",
    "        list_1 = best_auc_afr_multiancestry_score,\n",
    "        list_2 = score,\n",
    "        seed = 7) \n",
    "    \n",
    "    model <- score\n",
    "\n",
    "    contrast_models_auc_02[[score]] <- diff %>% \n",
    "    summary(., size = 0.02) %>% \n",
    "    mutate(model = score) %>% \n",
    "    rename(pract_equiv_02 = pract_equiv) %>% \n",
    "    select(model, pract_equiv_02, probability)\n",
    "  \n",
    "    contrast_models_auc_01[[score]] <- diff %>% \n",
    "    summary(., size = 0.01) %>% \n",
    "    mutate(model = score) %>% \n",
    "    rename(pract_equiv_01 = pract_equiv) %>% \n",
    "    select(model, pract_equiv_01)\n",
    "  \n",
    "    contrast_models_auc_005[[score]] <- diff %>% \n",
    "    summary(., size = 0.005) %>% \n",
    "    mutate(model = score) %>% \n",
    "    rename(pract_equiv_005 = pract_equiv) %>% \n",
    "    select(model, pract_equiv_005)\n",
    "}\n",
    "\n",
    "# Probability = proportion of the posterior that is > 0 (probability that the positive difference is real)\n",
    "auc_ci_afr_multiancestry_score <- perf_model_auc_afr_multiancestry_score %>%\n",
    "broom::tidy() %>%\n",
    "summary(.,prob=0.95) %>% # summary, probability 95%\n",
    "mutate(CI_95 = ifelse(upper >= max(lower), 1, 0)) %>%  \n",
    "merge(.,(bind_rows(contrast_models_auc_005)), by = \"model\") %>% \n",
    "mutate(ROPE_005 = ifelse(pract_equiv_005 < 0.95, 0, 1)) %>% \n",
    "merge(.,(bind_rows(contrast_models_auc_01)), by = \"model\") %>%\n",
    "mutate(ROPE_01 = ifelse(pract_equiv_01 < 0.95, 0, 1)) %>% \n",
    "merge(.,(bind_rows(contrast_models_auc_02)), by = \"model\") %>% \n",
    "mutate(ROPE_02 = ifelse(pract_equiv_02 < 0.95, 0, 1)) %>% \n",
    "mutate(prob_dif = ifelse(probability >= 0.95,0,1)) %>% \n",
    "mutate(metric = \"AU ROC\") %>% \n",
    "mutate(.,\n",
    "       ROPE_color = as.character(ROPE_005 + ROPE_01 + ROPE_02)) %>% \n",
    "arrange(desc(mean)) "
   ]
  },
  {
   "cell_type": "code",
   "execution_count": null,
   "metadata": {},
   "outputs": [],
   "source": [
    "head(best_auc_afr_multiancestry_score)"
   ]
  },
  {
   "cell_type": "markdown",
   "metadata": {
    "hidden": true
   },
   "source": [
    "## combine models"
   ]
  },
  {
   "cell_type": "markdown",
   "metadata": {},
   "source": [
    "### all individuals"
   ]
  },
  {
   "cell_type": "code",
   "execution_count": null,
   "metadata": {
    "hidden": true
   },
   "outputs": [],
   "source": [
    "# AUC AND Brier\n",
    "model_metrics_df <- rbind(brier_ci, auc_ci)\n",
    "nrow(model_metrics_df)\n",
    "head(model_metrics_df)"
   ]
  },
  {
   "cell_type": "markdown",
   "metadata": {},
   "source": [
    "### all individuals with multi ancestry scores"
   ]
  },
  {
   "cell_type": "code",
   "execution_count": null,
   "metadata": {},
   "outputs": [],
   "source": [
    "# AUC AND Brier\n",
    "model_metrics_df_multiancestry_score <- rbind(brier_ci_multiancestry_score, auc_ci_multiancestry_score)\n",
    "nrow(model_metrics_df_multiancestry_score)\n",
    "head(model_metrics_df_multiancestry_score)"
   ]
  },
  {
   "cell_type": "markdown",
   "metadata": {},
   "source": [
    "### eur individuals"
   ]
  },
  {
   "cell_type": "code",
   "execution_count": null,
   "metadata": {
    "hidden": true
   },
   "outputs": [],
   "source": [
    "# AUC AND Brier\n",
    "model_metrics_df_eur <- rbind(brier_ci_eur, auc_ci_eur)\n",
    "nrow(model_metrics_df_eur)\n",
    "head(model_metrics_df_eur)"
   ]
  },
  {
   "cell_type": "markdown",
   "metadata": {},
   "source": [
    "### eur individuals with multi ancestry scores"
   ]
  },
  {
   "cell_type": "code",
   "execution_count": null,
   "metadata": {},
   "outputs": [],
   "source": [
    "# AUC AND Brier\n",
    "model_metrics_df_eur_multiancestry_score <- rbind(brier_ci_eur_multiancestry_score, auc_ci_eur_multiancestry_score)\n",
    "nrow(model_metrics_df_eur_multiancestry_score)\n",
    "head(model_metrics_df_eur_multiancestry_score)"
   ]
  },
  {
   "cell_type": "markdown",
   "metadata": {},
   "source": [
    "### afr individuals"
   ]
  },
  {
   "cell_type": "code",
   "execution_count": null,
   "metadata": {
    "hidden": true
   },
   "outputs": [],
   "source": [
    "# AUC AND Brier\n",
    "model_metrics_df_afr <- rbind(brier_ci_afr, auc_ci_afr)\n",
    "nrow(model_metrics_df_afr)\n",
    "head(model_metrics_df_afr)"
   ]
  },
  {
   "cell_type": "markdown",
   "metadata": {},
   "source": [
    "### afr individuals with multi ancestry scores"
   ]
  },
  {
   "cell_type": "code",
   "execution_count": null,
   "metadata": {},
   "outputs": [],
   "source": [
    "# AUC AND Brier\n",
    "model_metrics_df_afr_multiancestry_score <- rbind(brier_ci_afr_multiancestry_score, auc_ci_afr_multiancestry_score)\n",
    "nrow(model_metrics_df_afr_multiancestry_score)\n",
    "head(model_metrics_df_afr_multiancestry_score)"
   ]
  },
  {
   "cell_type": "markdown",
   "metadata": {
    "hidden": true
   },
   "source": [
    "## export"
   ]
  },
  {
   "cell_type": "markdown",
   "metadata": {},
   "source": [
    "### all individuals"
   ]
  },
  {
   "cell_type": "code",
   "execution_count": null,
   "metadata": {},
   "outputs": [],
   "source": [
    "# Save output\n",
    "write.table(model_metrics_df,\n",
    "           'output/performance_metrics/PMBB_v3.ALL.CKD.YK_Phenotyping.PGS_Znorm2.cv_glm.perf_model.performance_metrics.txt',\n",
    "           sep = '\\t',\n",
    "           col.names = T,\n",
    "           row.names = F,\n",
    "           quote = F)"
   ]
  },
  {
   "cell_type": "markdown",
   "metadata": {},
   "source": [
    "### all individuals with multiancestry scores"
   ]
  },
  {
   "cell_type": "code",
   "execution_count": null,
   "metadata": {},
   "outputs": [],
   "source": [
    "# Save output\n",
    "write.table(model_metrics_df_multiancestry_score,\n",
    "           'output/performance_metrics/PMBB_v3.ALL.CKD.YK_Phenotyping.PGS_Znorm2.multiancestry_scores.cv_glm.perf_model.performance_metrics.txt',\n",
    "           sep = '\\t',\n",
    "           col.names = T,\n",
    "           row.names = F,\n",
    "           quote = F)"
   ]
  },
  {
   "cell_type": "markdown",
   "metadata": {},
   "source": [
    "### eur individuals"
   ]
  },
  {
   "cell_type": "code",
   "execution_count": null,
   "metadata": {
    "hidden": true
   },
   "outputs": [],
   "source": [
    "# Save output\n",
    "write.table(model_metrics_df_eur,\n",
    "           'output/performance_metrics/PMBB_v3.EUR.CKD.YK_Phenotyping.PGS_Znorm2.cv_glm.perf_model.performance_metrics.txt',\n",
    "           sep = '\\t',\n",
    "           col.names = T,\n",
    "           row.names = F,\n",
    "           quote = F)"
   ]
  },
  {
   "cell_type": "markdown",
   "metadata": {},
   "source": [
    "### eur individuals with multiancestry scores"
   ]
  },
  {
   "cell_type": "code",
   "execution_count": null,
   "metadata": {},
   "outputs": [],
   "source": [
    "# Save output\n",
    "write.table(model_metrics_df_eur_multiancestry_score,\n",
    "           'output/performance_metrics/PMBB_v3.EUR.CKD.YK_Phenotyping.PGS_Znorm2.multiancestry_scores.cv_glm.perf_model.performance_metrics.txt',\n",
    "           sep = '\\t',\n",
    "           col.names = T,\n",
    "           row.names = F,\n",
    "           quote = F)"
   ]
  },
  {
   "cell_type": "markdown",
   "metadata": {},
   "source": [
    "### afr individuals"
   ]
  },
  {
   "cell_type": "code",
   "execution_count": null,
   "metadata": {
    "hidden": true
   },
   "outputs": [],
   "source": [
    "# Save output\n",
    "write.table(model_metrics_df_afr,\n",
    "           'output/performance_metrics/PMBB_v3.AFR.CKD.YK_Phenotyping.PGS_Znorm2.cv_glm.perf_model.performance_metrics.txt',\n",
    "           sep = '\\t',\n",
    "           col.names = T,\n",
    "           row.names = F,\n",
    "           quote = F)"
   ]
  },
  {
   "cell_type": "markdown",
   "metadata": {},
   "source": [
    "### afr individuals with multiancestry scores"
   ]
  },
  {
   "cell_type": "code",
   "execution_count": null,
   "metadata": {},
   "outputs": [],
   "source": [
    "# Save output\n",
    "write.table(model_metrics_df_afr_multiancestry_score,\n",
    "           'output/performance_metrics/PMBB_v3.AFR.CKD.YK_Phenotyping.PGS_Znorm2.multiancestry_scores.cv_glm.perf_model.performance_metrics.txt',\n",
    "           sep = '\\t',\n",
    "           col.names = T,\n",
    "           row.names = F,\n",
    "           quote = F)"
   ]
  },
  {
   "cell_type": "markdown",
   "metadata": {
    "hidden": true
   },
   "source": [
    "## make and export variance plots"
   ]
  },
  {
   "cell_type": "markdown",
   "metadata": {
    "hidden": true
   },
   "source": [
    "### read in model metrics df (if needed)"
   ]
  },
  {
   "cell_type": "code",
   "execution_count": null,
   "metadata": {
    "hidden": true
   },
   "outputs": [],
   "source": [
    "model_metrics_df_eur = read.csv('output/performance_metrics/PMBB_v2.EUR.CKD.PGS_Znorm2.cv_glm.perf_model.performance_metrics.txt',\n",
    "                                sep = '\\t')"
   ]
  },
  {
   "cell_type": "code",
   "execution_count": null,
   "metadata": {},
   "outputs": [],
   "source": [
    "model_metrics_df_afr = read.csv('output/performance_metrics/PMBB_v2.AFR.CKD.PGS_Znorm2.cv_glm.perf_model.performance_metrics.txt',\n",
    "                                sep = '\\t')"
   ]
  },
  {
   "cell_type": "markdown",
   "metadata": {
    "hidden": true
   },
   "source": [
    "### All"
   ]
  },
  {
   "cell_type": "markdown",
   "metadata": {
    "hidden": true
   },
   "source": [
    "#### ROPE 0.02"
   ]
  },
  {
   "cell_type": "code",
   "execution_count": null,
   "metadata": {
    "hidden": true
   },
   "outputs": [],
   "source": [
    "model_metrics_plotCI_rope_02 <- model_metrics_df %>%\n",
    "mutate(sig_color = case_when(prob_dif == 1 ~ '2',\n",
    "                             prob_dif == 1 & ROPE_02 == 1 ~ '2',\n",
    "                             ROPE_02 == 1 & prob_dif != 1 ~ '1',\n",
    "                             ROPE_02 != 1 & prob_dif != 1 ~ '0')) %>%\n",
    "group_by(metric) %>% \n",
    "mutate(name=factor(model, levels=model)) %>%\n",
    "ungroup() %>% \n",
    "ggplot(., aes(x = mean, y = name, xmin = lower, xmax = upper, color = sig_color)) +\n",
    "geom_point(position = position_dodge(width = 0.5), size = 3) +\n",
    "geom_errorbarh(height = 0.2, position = position_dodge(width = 0.5)) +\n",
    "labs(x = \"95% Credible Interval \", y = \"Score\", title = 'PMBB v3 ALL CKD Variance by ROPE 0.02') +\n",
    "theme_light() +\n",
    "theme(legend.position = \"top\",\n",
    "      strip.text = element_text(size = 14, colour = 'black')) +\n",
    "guides(color = guide_legend(nrow = 3, byrow = TRUE)) +\n",
    "scale_color_manual(values = c(\"0\" = \"black\", \"1\" = \"red\", \"2\" = \"blue\"), name = \"\", \n",
    "                   labels = c(\"0\" = \"Significantly Different\", \"1\" = \"Practically Equivalent (ROPE 0.02)\", \"2\" = \"Statistically Equivalent\"))  +\n",
    "facet_wrap(~ metric, scales = \"free_x\")\n",
    "\n",
    "model_metrics_plotCI_rope_02\n",
    "ggsave('output/plots/PMBB_v3.ALL.CKD.YK_Phenotyping.PGS_Znorm2.cv_glm.perf_model.rope_0.02.equivalance_plot.png')"
   ]
  },
  {
   "cell_type": "markdown",
   "metadata": {
    "hidden": true
   },
   "source": [
    "#### ROPE 0.01"
   ]
  },
  {
   "cell_type": "code",
   "execution_count": null,
   "metadata": {
    "hidden": true
   },
   "outputs": [],
   "source": [
    "model_metrics_plotCI_rope_01 <- model_metrics_df %>%\n",
    "mutate(sig_color = case_when(prob_dif == 1 ~ '2',\n",
    "                             prob_dif == 1 & ROPE_01 == 1 ~ '2',\n",
    "                             ROPE_01 == 1 & prob_dif != 1 ~ '1',\n",
    "                             ROPE_01 != 1 & prob_dif != 1 ~ '0')) %>%\n",
    "group_by(metric) %>% \n",
    "mutate(name=factor(model, levels=model)) %>%\n",
    "ungroup() %>% \n",
    "ggplot(., aes(x = mean, y = name, xmin = lower, xmax = upper, color = sig_color)) +\n",
    "geom_point(position = position_dodge(width = 0.5), size = 3) +\n",
    "geom_errorbarh(height = 0.2, position = position_dodge(width = 0.5)) +\n",
    "labs(x = \"95% Credible Interval \", y = \"Score\", title = 'PMBB v3 ALL CKD Variance by ROPE 0.01') +\n",
    "theme_light() +\n",
    "theme(legend.position = \"top\",\n",
    "      strip.text = element_text(size = 14, colour = 'black')) +\n",
    "guides(color = guide_legend(nrow = 3, byrow = TRUE)) +\n",
    "scale_color_manual(values = c(\"0\" = \"black\", \"1\" = \"red\", \"2\" = \"blue\"), name = \"\", \n",
    "                   labels = c(\"0\" = \"Significantly Different\", \"1\" = \"Practically Equivalent (ROPE 0.01)\", \"2\" = \"Statistically Equivalent\"))  +\n",
    "facet_wrap(~ metric, scales = \"free_x\")\n",
    "\n",
    "model_metrics_plotCI_rope_01\n",
    "ggsave('output/plots/PMBB_v3.ALL.CKD.YK_Phenotyping.PGS_Znorm2.cv_glm.perf_model.rope_0.01.equivalance_plot.png')"
   ]
  },
  {
   "cell_type": "markdown",
   "metadata": {
    "hidden": true
   },
   "source": [
    "#### ROPE 0.005"
   ]
  },
  {
   "cell_type": "code",
   "execution_count": null,
   "metadata": {
    "hidden": true
   },
   "outputs": [],
   "source": [
    "model_metrics_plotCI_rope_005 <- model_metrics_df %>%\n",
    "mutate(sig_color = case_when(prob_dif == 1 ~ '2',\n",
    "                             prob_dif == 1 & ROPE_005 == 1 ~ '2',\n",
    "                             ROPE_005 == 1 & prob_dif != 1 ~ '1',\n",
    "                             ROPE_005 != 1 & prob_dif != 1 ~ '0')) %>%\n",
    "group_by(metric) %>% \n",
    "mutate(name=factor(model, levels=model)) %>%\n",
    "ungroup() %>% \n",
    "ggplot(., aes(x = mean, y = name, xmin = lower, xmax = upper, color = sig_color)) +\n",
    "geom_point(position = position_dodge(width = 0.5), size = 3) +\n",
    "geom_errorbarh(height = 0.2, position = position_dodge(width = 0.5)) +\n",
    "labs(x = \"95% Credible Interval \", y = \"Score\", title = 'PMBB v3 ALL CKD Variance by ROPE 0.005') +\n",
    "theme_light() +\n",
    "theme(legend.position = \"top\",\n",
    "      strip.text = element_text(size = 14, colour = 'black')) +\n",
    "guides(color = guide_legend(nrow = 3, byrow = TRUE)) +\n",
    "scale_color_manual(values = c(\"0\" = \"black\", \"1\" = \"red\", \"2\" = \"blue\"), name = \"\", \n",
    "                   labels = c(\"0\" = \"Significantly Different\", \"1\" = \"Practically Equivalent (ROPE 0.005)\", \"2\" = \"Statistically Equivalent\"))  +\n",
    "facet_wrap(~ metric, scales = \"free_x\")\n",
    "\n",
    "model_metrics_plotCI_rope_005\n",
    "ggsave('output/plots/PMBB_v3.ALL.CKD.YK_Phenotyping.PGS_Znorm2.cv_glm.perf_model.rope_0.005.equivalance_plot.png')"
   ]
  },
  {
   "cell_type": "markdown",
   "metadata": {},
   "source": [
    "### all individuals with multiancestry scores"
   ]
  },
  {
   "cell_type": "markdown",
   "metadata": {},
   "source": [
    "#### ROPE 0.02"
   ]
  },
  {
   "cell_type": "code",
   "execution_count": null,
   "metadata": {},
   "outputs": [],
   "source": [
    "model_metrics_plotCI_rope_02_multiancestry_score <- model_metrics_df_multiancestry_score %>%\n",
    "mutate(sig_color = case_when(prob_dif == 1 ~ '2',\n",
    "                             prob_dif == 1 & ROPE_02 == 1 ~ '2',\n",
    "                             ROPE_02 == 1 & prob_dif != 1 ~ '1',\n",
    "                             ROPE_02 != 1 & prob_dif != 1 ~ '0')) %>%\n",
    "group_by(metric) %>% \n",
    "mutate(name=factor(model, levels=model)) %>%\n",
    "ungroup() %>% \n",
    "ggplot(., aes(x = mean, y = name, xmin = lower, xmax = upper, color = sig_color)) +\n",
    "geom_point(position = position_dodge(width = 0.5), size = 3) +\n",
    "geom_errorbarh(height = 0.2, position = position_dodge(width = 0.5)) +\n",
    "labs(x = \"95% Credible Interval \", y = \"Score\", title = 'PMBB v3 ALL CKD Variance by ROPE 0.02') +\n",
    "theme_light() +\n",
    "theme(legend.position = \"top\",\n",
    "      strip.text = element_text(size = 14, colour = 'black')) +\n",
    "guides(color = guide_legend(nrow = 3, byrow = TRUE)) +\n",
    "scale_color_manual(values = c(\"0\" = \"black\", \"1\" = \"red\", \"2\" = \"blue\"), name = \"\", \n",
    "                   labels = c(\"0\" = \"Significantly Different\", \"1\" = \"Practically Equivalent (ROPE 0.02)\", \"2\" = \"Statistically Equivalent\"))  +\n",
    "facet_wrap(~ metric, scales = \"free_x\")\n",
    "\n",
    "model_metrics_plotCI_rope_02_multiancestry_score\n",
    "ggsave('output/plots/PMBB_v3.ALL.CKD.YK_Phenotyping.PGS_Znorm2.multiancestry_scores.cv_glm.perf_model.rope_0.02.equivalance_plot.png')"
   ]
  },
  {
   "cell_type": "markdown",
   "metadata": {},
   "source": [
    "#### ROPE 0.01"
   ]
  },
  {
   "cell_type": "code",
   "execution_count": null,
   "metadata": {},
   "outputs": [],
   "source": [
    "model_metrics_plotCI_rope_01_multiancestry_score <- model_metrics_df_multiancestry_score %>%\n",
    "mutate(sig_color = case_when(prob_dif == 1 ~ '2',\n",
    "                             prob_dif == 1 & ROPE_01 == 1 ~ '2',\n",
    "                             ROPE_01 == 1 & prob_dif != 1 ~ '1',\n",
    "                             ROPE_01 != 1 & prob_dif != 1 ~ '0')) %>%\n",
    "group_by(metric) %>% \n",
    "mutate(name=factor(model, levels=model)) %>%\n",
    "ungroup() %>% \n",
    "ggplot(., aes(x = mean, y = name, xmin = lower, xmax = upper, color = sig_color)) +\n",
    "geom_point(position = position_dodge(width = 0.5), size = 3) +\n",
    "geom_errorbarh(height = 0.2, position = position_dodge(width = 0.5)) +\n",
    "labs(x = \"95% Credible Interval \", y = \"Score\", title = 'PMBB v3 ALL CKD Variance by ROPE 0.01') +\n",
    "theme_light() +\n",
    "theme(legend.position = \"top\",\n",
    "      strip.text = element_text(size = 14, colour = 'black')) +\n",
    "guides(color = guide_legend(nrow = 3, byrow = TRUE)) +\n",
    "scale_color_manual(values = c(\"0\" = \"black\", \"1\" = \"red\", \"2\" = \"blue\"), name = \"\", \n",
    "                   labels = c(\"0\" = \"Significantly Different\", \"1\" = \"Practically Equivalent (ROPE 0.01)\", \"2\" = \"Statistically Equivalent\"))  +\n",
    "facet_wrap(~ metric, scales = \"free_x\")\n",
    "\n",
    "model_metrics_plotCI_rope_01_multiancestry_score\n",
    "ggsave('output/plots/PMBB_v3.ALL.CKD.YK_Phenotyping.PGS_Znorm2.multiancestry_scores.cv_glm.perf_model.rope_0.01.equivalance_plot.png')"
   ]
  },
  {
   "cell_type": "markdown",
   "metadata": {},
   "source": [
    "#### ROPE 0.005"
   ]
  },
  {
   "cell_type": "code",
   "execution_count": null,
   "metadata": {},
   "outputs": [],
   "source": [
    "model_metrics_plotCI_rope_005_multiancestry_score <- model_metrics_df_multiancestry_score %>%\n",
    "mutate(sig_color = case_when(prob_dif == 1 ~ '2',\n",
    "                             prob_dif == 1 & ROPE_005 == 1 ~ '2',\n",
    "                             ROPE_005 == 1 & prob_dif != 1 ~ '1',\n",
    "                             ROPE_005 != 1 & prob_dif != 1 ~ '0')) %>%\n",
    "group_by(metric) %>% \n",
    "mutate(name=factor(model, levels=model)) %>%\n",
    "ungroup() %>% \n",
    "ggplot(., aes(x = mean, y = name, xmin = lower, xmax = upper, color = sig_color)) +\n",
    "geom_point(position = position_dodge(width = 0.5), size = 3) +\n",
    "geom_errorbarh(height = 0.2, position = position_dodge(width = 0.5)) +\n",
    "labs(x = \"95% Credible Interval \", y = \"Score\", title = 'PMBB v3 ALL CKD Variance by ROPE 0.005') +\n",
    "theme_light() +\n",
    "theme(legend.position = \"top\",\n",
    "      strip.text = element_text(size = 14, colour = 'black')) +\n",
    "guides(color = guide_legend(nrow = 3, byrow = TRUE)) +\n",
    "scale_color_manual(values = c(\"0\" = \"black\", \"1\" = \"red\", \"2\" = \"blue\"), name = \"\", \n",
    "                   labels = c(\"0\" = \"Significantly Different\", \"1\" = \"Practically Equivalent (ROPE 0.005)\", \"2\" = \"Statistically Equivalent\"))  +\n",
    "facet_wrap(~ metric, scales = \"free_x\")\n",
    "\n",
    "model_metrics_plotCI_rope_005_multiancestry_score\n",
    "ggsave('output/plots/PMBB_v3.ALL.CKD.YK_Phenotyping.PGS_Znorm2.multiancestry_scores.cv_glm.perf_model.rope_0.005.equivalance_plot.png')"
   ]
  },
  {
   "cell_type": "markdown",
   "metadata": {
    "hidden": true
   },
   "source": [
    "### EUR"
   ]
  },
  {
   "cell_type": "markdown",
   "metadata": {
    "hidden": true
   },
   "source": [
    "#### ROPE 0.02"
   ]
  },
  {
   "cell_type": "code",
   "execution_count": null,
   "metadata": {
    "hidden": true
   },
   "outputs": [],
   "source": [
    "model_metrics_plotCI_rope_02_eur <- model_metrics_df_eur %>%\n",
    "mutate(sig_color = case_when(prob_dif == 1 ~ '2',\n",
    "                             prob_dif == 1 & ROPE_02 == 1 ~ '2',\n",
    "                             ROPE_02 == 1 & prob_dif != 1 ~ '1',\n",
    "                             ROPE_02 != 1 & prob_dif != 1 ~ '0')) %>%\n",
    "group_by(metric) %>% \n",
    "mutate(name=factor(model, levels=model)) %>%\n",
    "ungroup() %>% \n",
    "ggplot(., aes(x = mean, y = name, xmin = lower, xmax = upper, color = sig_color)) +\n",
    "geom_point(position = position_dodge(width = 0.5), size = 3) +\n",
    "geom_errorbarh(height = 0.2, position = position_dodge(width = 0.5)) +\n",
    "labs(x = \"95% Credible Interval \", y = \"Score\", title = 'PMBB v3 EUR CKD Variance by ROPE 0.02') +\n",
    "theme_light() +\n",
    "theme(legend.position = \"top\",\n",
    "      strip.text = element_text(size = 14, colour = 'black')) +\n",
    "guides(color = guide_legend(nrow = 3, byrow = TRUE)) +\n",
    "scale_color_manual(values = c(\"0\" = \"black\", \"1\" = \"red\", \"2\" = \"blue\"), name = \"\", \n",
    "                   labels = c(\"0\" = \"Significantly Different\", \"1\" = \"Practically Equivalent (ROPE 0.02)\", \"2\" = \"Statistically Equivalent\"))  +\n",
    "facet_wrap(~ metric, scales = \"free_x\")\n",
    "\n",
    "model_metrics_plotCI_rope_02_eur\n",
    "ggsave('output/plots/PMBB_v3.EUR.CKD.YK_Phenotyping.PGS_Znorm2.cv_glm.perf_model.rope_0.02.equivalance_plot.png')"
   ]
  },
  {
   "cell_type": "markdown",
   "metadata": {
    "hidden": true
   },
   "source": [
    "#### ROPE 0.01"
   ]
  },
  {
   "cell_type": "code",
   "execution_count": null,
   "metadata": {
    "hidden": true
   },
   "outputs": [],
   "source": [
    "model_metrics_plotCI_rope_01_eur <- model_metrics_df_eur %>%\n",
    "mutate(sig_color = case_when(prob_dif == 1 ~ '2',\n",
    "                             prob_dif == 1 & ROPE_01 == 1 ~ '2',\n",
    "                             ROPE_01 == 1 & prob_dif != 1 ~ '1',\n",
    "                             ROPE_01 != 1 & prob_dif != 1 ~ '0')) %>%\n",
    "group_by(metric) %>% \n",
    "mutate(name=factor(model, levels=model)) %>%\n",
    "ungroup() %>% \n",
    "ggplot(., aes(x = mean, y = name, xmin = lower, xmax = upper, color = sig_color)) +\n",
    "geom_point(position = position_dodge(width = 0.5), size = 3) +\n",
    "geom_errorbarh(height = 0.2, position = position_dodge(width = 0.5)) +\n",
    "labs(x = \"95% Credible Interval \", y = \"Score\", title = 'PMBB v3 EUR CKD Variance by ROPE 0.01') +\n",
    "theme_light() +\n",
    "theme(legend.position = \"top\",\n",
    "      strip.text = element_text(size = 14, colour = 'black')) +\n",
    "guides(color = guide_legend(nrow = 3, byrow = TRUE)) +\n",
    "scale_color_manual(values = c(\"0\" = \"black\", \"1\" = \"red\", \"2\" = \"blue\"), name = \"\", \n",
    "                   labels = c(\"0\" = \"Significantly Different\", \"1\" = \"Practically Equivalent (ROPE 0.01)\", \"2\" = \"Statistically Equivalent\"))  +\n",
    "facet_wrap(~ metric, scales = \"free_x\")\n",
    "\n",
    "model_metrics_plotCI_rope_01_eur\n",
    "ggsave('output/plots/PMBB_v3.EUR.CKD.YK_Phenotyping.PGS_Znorm2.cv_glm.perf_model.rope_0.01.equivalance_plot.png')"
   ]
  },
  {
   "cell_type": "markdown",
   "metadata": {
    "hidden": true
   },
   "source": [
    "#### ROPE 0.005"
   ]
  },
  {
   "cell_type": "code",
   "execution_count": null,
   "metadata": {
    "hidden": true
   },
   "outputs": [],
   "source": [
    "model_metrics_plotCI_rope_005_eur <- model_metrics_df_eur %>%\n",
    "mutate(sig_color = case_when(prob_dif == 1 ~ '2',\n",
    "                             prob_dif == 1 & ROPE_005 == 1 ~ '2',\n",
    "                             ROPE_005 == 1 & prob_dif != 1 ~ '1',\n",
    "                             ROPE_005 != 1 & prob_dif != 1 ~ '0')) %>%\n",
    "group_by(metric) %>% \n",
    "mutate(name=factor(model, levels=model)) %>%\n",
    "ungroup() %>% \n",
    "ggplot(., aes(x = mean, y = name, xmin = lower, xmax = upper, color = sig_color)) +\n",
    "geom_point(position = position_dodge(width = 0.5), size = 3) +\n",
    "geom_errorbarh(height = 0.2, position = position_dodge(width = 0.5)) +\n",
    "labs(x = \"95% Credible Interval \", y = \"Score\", title = 'PMBB v3 EUR CKD Variance by ROPE 0.005') +\n",
    "theme_light() +\n",
    "theme(legend.position = \"top\",\n",
    "      strip.text = element_text(size = 14, colour = 'black')) +\n",
    "guides(color = guide_legend(nrow = 3, byrow = TRUE)) +\n",
    "scale_color_manual(values = c(\"0\" = \"black\", \"1\" = \"red\", \"2\" = \"blue\"), name = \"\", \n",
    "                   labels = c(\"0\" = \"Significantly Different\", \"1\" = \"Practically Equivalent (ROPE 0.005)\", \"2\" = \"Statistically Equivalent\"))  +\n",
    "facet_wrap(~ metric, scales = \"free_x\")\n",
    "\n",
    "model_metrics_plotCI_rope_005_eur\n",
    "ggsave('output/plots/PMBB_v3.EUR.CKD.YK_Phenotyping.PGS_Znorm2.cv_glm.perf_model.rope_0.005.equivalance_plot.png')"
   ]
  },
  {
   "cell_type": "markdown",
   "metadata": {},
   "source": [
    "### EUR individuals with multi ancetry scores"
   ]
  },
  {
   "cell_type": "markdown",
   "metadata": {},
   "source": [
    "#### ROPE 0.02"
   ]
  },
  {
   "cell_type": "code",
   "execution_count": null,
   "metadata": {},
   "outputs": [],
   "source": [
    "model_metrics_plotCI_rope_02_eur_multiancestry_score <- model_metrics_df_eur_multiancestry_score %>%\n",
    "mutate(sig_color = case_when(prob_dif == 1 ~ '2',\n",
    "                             prob_dif == 1 & ROPE_02 == 1 ~ '2',\n",
    "                             ROPE_02 == 1 & prob_dif != 1 ~ '1',\n",
    "                             ROPE_02 != 1 & prob_dif != 1 ~ '0')) %>%\n",
    "group_by(metric) %>% \n",
    "mutate(name=factor(model, levels=model)) %>%\n",
    "ungroup() %>% \n",
    "ggplot(., aes(x = mean, y = name, xmin = lower, xmax = upper, color = sig_color)) +\n",
    "geom_point(position = position_dodge(width = 0.5), size = 3) +\n",
    "geom_errorbarh(height = 0.2, position = position_dodge(width = 0.5)) +\n",
    "labs(x = \"95% Credible Interval \", y = \"Score\", title = 'PMBB v3 EUR CKD Variance by ROPE 0.02') +\n",
    "theme_light() +\n",
    "theme(legend.position = \"top\",\n",
    "      strip.text = element_text(size = 14, colour = 'black')) +\n",
    "guides(color = guide_legend(nrow = 3, byrow = TRUE)) +\n",
    "scale_color_manual(values = c(\"0\" = \"black\", \"1\" = \"red\", \"2\" = \"blue\"), name = \"\", \n",
    "                   labels = c(\"0\" = \"Significantly Different\", \"1\" = \"Practically Equivalent (ROPE 0.02)\", \"2\" = \"Statistically Equivalent\"))  +\n",
    "facet_wrap(~ metric, scales = \"free_x\")\n",
    "\n",
    "model_metrics_plotCI_rope_02_eur_multiancestry_score\n",
    "ggsave('output/plots/PMBB_v3.EUR.CKD.YK_Phenotyping.PGS_Znorm2.multiancestry_scores.cv_glm.perf_model.rope_0.02.equivalance_plot.png')"
   ]
  },
  {
   "cell_type": "markdown",
   "metadata": {},
   "source": [
    "#### ROPE 0.01"
   ]
  },
  {
   "cell_type": "code",
   "execution_count": null,
   "metadata": {},
   "outputs": [],
   "source": [
    "model_metrics_plotCI_rope_01_eur_multiancestry_score <- model_metrics_df_eur_multiancestry_score %>%\n",
    "mutate(sig_color = case_when(prob_dif == 1 ~ '2',\n",
    "                             prob_dif == 1 & ROPE_01 == 1 ~ '2',\n",
    "                             ROPE_01 == 1 & prob_dif != 1 ~ '1',\n",
    "                             ROPE_01 != 1 & prob_dif != 1 ~ '0')) %>%\n",
    "group_by(metric) %>% \n",
    "mutate(name=factor(model, levels=model)) %>%\n",
    "ungroup() %>% \n",
    "ggplot(., aes(x = mean, y = name, xmin = lower, xmax = upper, color = sig_color)) +\n",
    "geom_point(position = position_dodge(width = 0.5), size = 3) +\n",
    "geom_errorbarh(height = 0.2, position = position_dodge(width = 0.5)) +\n",
    "labs(x = \"95% Credible Interval \", y = \"Score\", title = 'PMBB v3 EUR CKD Variance by ROPE 0.01') +\n",
    "theme_light() +\n",
    "theme(legend.position = \"top\",\n",
    "      strip.text = element_text(size = 14, colour = 'black')) +\n",
    "guides(color = guide_legend(nrow = 3, byrow = TRUE)) +\n",
    "scale_color_manual(values = c(\"0\" = \"black\", \"1\" = \"red\", \"2\" = \"blue\"), name = \"\", \n",
    "                   labels = c(\"0\" = \"Significantly Different\", \"1\" = \"Practically Equivalent (ROPE 0.01)\", \"2\" = \"Statistically Equivalent\"))  +\n",
    "facet_wrap(~ metric, scales = \"free_x\")\n",
    "\n",
    "model_metrics_plotCI_rope_01_eur_multiancestry_score\n",
    "ggsave('output/plots/PMBB_v3.EUR.CKD.YK_Phenotyping.PGS_Znorm2.multiancestry_scores.cv_glm.perf_model.rope_0.01.equivalance_plot.png')"
   ]
  },
  {
   "cell_type": "markdown",
   "metadata": {},
   "source": [
    "#### ROPE 0.005"
   ]
  },
  {
   "cell_type": "code",
   "execution_count": null,
   "metadata": {},
   "outputs": [],
   "source": [
    "model_metrics_plotCI_rope_005_eur_multiancestry_score <- model_metrics_df_eur_multiancestry_score %>%\n",
    "mutate(sig_color = case_when(prob_dif == 1 ~ '2',\n",
    "                             prob_dif == 1 & ROPE_005 == 1 ~ '2',\n",
    "                             ROPE_005 == 1 & prob_dif != 1 ~ '1',\n",
    "                             ROPE_005 != 1 & prob_dif != 1 ~ '0')) %>%\n",
    "group_by(metric) %>% \n",
    "mutate(name=factor(model, levels=model)) %>%\n",
    "ungroup() %>% \n",
    "ggplot(., aes(x = mean, y = name, xmin = lower, xmax = upper, color = sig_color)) +\n",
    "geom_point(position = position_dodge(width = 0.5), size = 3) +\n",
    "geom_errorbarh(height = 0.2, position = position_dodge(width = 0.5)) +\n",
    "labs(x = \"95% Credible Interval \", y = \"Score\", title = 'PMBB v3 EUR CKD Variance by ROPE 0.005') +\n",
    "theme_light() +\n",
    "theme(legend.position = \"top\",\n",
    "      strip.text = element_text(size = 14, colour = 'black')) +\n",
    "guides(color = guide_legend(nrow = 3, byrow = TRUE)) +\n",
    "scale_color_manual(values = c(\"0\" = \"black\", \"1\" = \"red\", \"2\" = \"blue\"), name = \"\", \n",
    "                   labels = c(\"0\" = \"Significantly Different\", \"1\" = \"Practically Equivalent (ROPE 0.005)\", \"2\" = \"Statistically Equivalent\"))  +\n",
    "facet_wrap(~ metric, scales = \"free_x\")\n",
    "\n",
    "model_metrics_plotCI_rope_005_eur_multiancestry_score\n",
    "ggsave('output/plots/PMBB_v3.EUR.CKD.YK_Phenotyping.PGS_Znorm2.multiancestry_scores.cv_glm.perf_model.rope_0.005.equivalance_plot.png')"
   ]
  },
  {
   "cell_type": "markdown",
   "metadata": {
    "hidden": true
   },
   "source": [
    "### AFR"
   ]
  },
  {
   "cell_type": "markdown",
   "metadata": {
    "hidden": true
   },
   "source": [
    "#### ROPE 0.02"
   ]
  },
  {
   "cell_type": "code",
   "execution_count": null,
   "metadata": {
    "hidden": true
   },
   "outputs": [],
   "source": [
    "model_metrics_plotCI_rope_02_afr <- model_metrics_df_afr %>%\n",
    "mutate(sig_color = case_when(prob_dif == 1 ~ '2',\n",
    "                             prob_dif == 1 & ROPE_02 == 1 ~ '2',\n",
    "                             ROPE_02 == 1 & prob_dif != 1 ~ '1',\n",
    "                             ROPE_02 != 1 & prob_dif != 1 ~ '0')) %>%\n",
    "group_by(metric) %>% \n",
    "mutate(name=factor(model, levels=model)) %>%\n",
    "ungroup() %>% \n",
    "ggplot(., aes(x = mean, y = name, xmin = lower, xmax = upper, color = sig_color)) +\n",
    "geom_point(position = position_dodge(width = 0.5), size = 3) +\n",
    "geom_errorbarh(height = 0.2, position = position_dodge(width = 0.5)) +\n",
    "labs(x = \"95% Credible Interval \", y = \"Score\", title = 'PMBB v3 AFR CKD Variance by ROPE 0.02') +\n",
    "theme_light() +\n",
    "theme(legend.position = \"top\",\n",
    "      strip.text = element_text(size = 14, colour = 'black')) +\n",
    "guides(color = guide_legend(nrow = 3, byrow = TRUE)) +\n",
    "scale_color_manual(values = c(\"0\" = \"black\", \"1\" = \"red\", \"2\" = \"blue\"), name = \"\", \n",
    "                   labels = c(\"0\" = \"Significantly Different\", \"1\" = \"Practically Equivalent (ROPE 0.02)\", \"2\" = \"Statistically Equivalent\"))  +\n",
    "facet_wrap(~ metric, scales = \"free_x\")\n",
    "\n",
    "model_metrics_plotCI_rope_02_afr\n",
    "ggsave('output/plots/PMBB_v3.AFR.CKD.YK_Phenotyping.PGS_Znorm2.cv_glm.perf_model.rope_0.02.equivalance_plot.png')"
   ]
  },
  {
   "cell_type": "markdown",
   "metadata": {
    "hidden": true
   },
   "source": [
    "#### ROPE 0.01"
   ]
  },
  {
   "cell_type": "code",
   "execution_count": null,
   "metadata": {
    "hidden": true
   },
   "outputs": [],
   "source": [
    "model_metrics_plotCI_rope_01_afr <- model_metrics_df_afr %>%\n",
    "mutate(sig_color = case_when(prob_dif == 1 ~ '2',\n",
    "                             prob_dif == 1 & ROPE_01 == 1 ~ '2',\n",
    "                             ROPE_01 == 1 & prob_dif != 1 ~ '1',\n",
    "                             ROPE_01 != 1 & prob_dif != 1 ~ '0')) %>%\n",
    "group_by(metric) %>% \n",
    "mutate(name=factor(model, levels=model)) %>%\n",
    "ungroup() %>% \n",
    "ggplot(., aes(x = mean, y = name, xmin = lower, xmax = upper, color = sig_color)) +\n",
    "geom_point(position = position_dodge(width = 0.5), size = 3) +\n",
    "geom_errorbarh(height = 0.2, position = position_dodge(width = 0.5)) +\n",
    "labs(x = \"95% Credible Interval \", y = \"Score\", title = 'PMBB v3 AFR CKD Variance by ROPE 0.01') +\n",
    "theme_light() +\n",
    "theme(legend.position = \"top\",\n",
    "      strip.text = element_text(size = 14, colour = 'black')) +\n",
    "guides(color = guide_legend(nrow = 3, byrow = TRUE)) +\n",
    "scale_color_manual(values = c(\"0\" = \"black\", \"1\" = \"red\", \"2\" = \"blue\"), name = \"\", \n",
    "                   labels = c(\"0\" = \"Significantly Different\", \"1\" = \"Practically Equivalent (ROPE 0.01)\", \"2\" = \"Statistically Equivalent\"))  +\n",
    "facet_wrap(~ metric, scales = \"free_x\")\n",
    "\n",
    "model_metrics_plotCI_rope_01_afr\n",
    "ggsave('output/plots/PMBB_v3.AFR.CKD.YK_Phenotyping.PGS_Znorm2.cv_glm.perf_model.rope_0.01.equivalance_plot.png')"
   ]
  },
  {
   "cell_type": "markdown",
   "metadata": {
    "hidden": true
   },
   "source": [
    "#### ROPE 0.005"
   ]
  },
  {
   "cell_type": "code",
   "execution_count": null,
   "metadata": {
    "hidden": true
   },
   "outputs": [],
   "source": [
    "model_metrics_plotCI_rope_005_afr <- model_metrics_df_afr %>%\n",
    "mutate(sig_color = case_when(prob_dif == 1 ~ '2',\n",
    "                             prob_dif == 1 & ROPE_005 == 1 ~ '2',\n",
    "                             ROPE_005 == 1 & prob_dif != 1 ~ '1',\n",
    "                             ROPE_005 != 1 & prob_dif != 1 ~ '0')) %>%\n",
    "group_by(metric) %>% \n",
    "mutate(name=factor(model, levels=model)) %>%\n",
    "ungroup() %>% \n",
    "ggplot(., aes(x = mean, y = name, xmin = lower, xmax = upper, color = sig_color)) +\n",
    "geom_point(position = position_dodge(width = 0.5), size = 3) +\n",
    "geom_errorbarh(height = 0.2, position = position_dodge(width = 0.5)) +\n",
    "labs(x = \"95% Credible Interval \", y = \"Score\", title = 'PMBB v3 AFR CKD Variance by ROPE 0.005') +\n",
    "theme_light() +\n",
    "theme(legend.position = \"top\",\n",
    "      strip.text = element_text(size = 14, colour = 'black')) +\n",
    "guides(color = guide_legend(nrow = 3, byrow = TRUE)) +\n",
    "scale_color_manual(values = c(\"0\" = \"black\", \"1\" = \"red\", \"2\" = \"blue\"), name = \"\", \n",
    "                   labels = c(\"0\" = \"Significantly Different\", \"1\" = \"Practically Equivalent (ROPE 0.005)\", \"2\" = \"Statistically Equivalent\"))  +\n",
    "facet_wrap(~ metric, scales = \"free_x\")\n",
    "\n",
    "model_metrics_plotCI_rope_005_afr\n",
    "ggsave('output/plots/PMBB_v3.AFR.CKD.YK_Phenotyping.PGS_Znorm2.cv_glm.perf_model.rope_0.005.equivalance_plot.png')"
   ]
  },
  {
   "cell_type": "markdown",
   "metadata": {},
   "source": [
    "### afr individuals with multi ancestry scores"
   ]
  },
  {
   "cell_type": "markdown",
   "metadata": {},
   "source": [
    "#### ROPE 0.02"
   ]
  },
  {
   "cell_type": "code",
   "execution_count": null,
   "metadata": {},
   "outputs": [],
   "source": [
    "model_metrics_plotCI_rope_02_afr_multiancestry_score <- model_metrics_df_afr_multiancestry_score %>%\n",
    "mutate(sig_color = case_when(prob_dif == 1 ~ '2',\n",
    "                             prob_dif == 1 & ROPE_02 == 1 ~ '2',\n",
    "                             ROPE_02 == 1 & prob_dif != 1 ~ '1',\n",
    "                             ROPE_02 != 1 & prob_dif != 1 ~ '0')) %>%\n",
    "group_by(metric) %>% \n",
    "mutate(name=factor(model, levels=model)) %>%\n",
    "ungroup() %>% \n",
    "ggplot(., aes(x = mean, y = name, xmin = lower, xmax = upper, color = sig_color)) +\n",
    "geom_point(position = position_dodge(width = 0.5), size = 3) +\n",
    "geom_errorbarh(height = 0.2, position = position_dodge(width = 0.5)) +\n",
    "labs(x = \"95% Credible Interval \", y = \"Score\", title = 'PMBB v3 AFR CKD Variance by ROPE 0.02') +\n",
    "theme_light() +\n",
    "theme(legend.position = \"top\",\n",
    "      strip.text = element_text(size = 14, colour = 'black')) +\n",
    "guides(color = guide_legend(nrow = 3, byrow = TRUE)) +\n",
    "scale_color_manual(values = c(\"0\" = \"black\", \"1\" = \"red\", \"2\" = \"blue\"), name = \"\", \n",
    "                   labels = c(\"0\" = \"Significantly Different\", \"1\" = \"Practically Equivalent (ROPE 0.02)\", \"2\" = \"Statistically Equivalent\"))  +\n",
    "facet_wrap(~ metric, scales = \"free_x\")\n",
    "\n",
    "model_metrics_plotCI_rope_02_afr_multiancestry_score\n",
    "ggsave('output/plots/PMBB_v3.AFR.CKD.YK_Phenotyping.PGS_Znorm2.multiancestry_scores.cv_glm.perf_model.rope_0.02.equivalance_plot.png')"
   ]
  },
  {
   "cell_type": "markdown",
   "metadata": {},
   "source": [
    "#### ROPE 0.01"
   ]
  },
  {
   "cell_type": "code",
   "execution_count": null,
   "metadata": {},
   "outputs": [],
   "source": [
    "model_metrics_plotCI_rope_01_afr_multiancestry_score <- model_metrics_df_afr_multiancestry_score %>%\n",
    "mutate(sig_color = case_when(prob_dif == 1 ~ '2',\n",
    "                             prob_dif == 1 & ROPE_01 == 1 ~ '2',\n",
    "                             ROPE_01 == 1 & prob_dif != 1 ~ '1',\n",
    "                             ROPE_01 != 1 & prob_dif != 1 ~ '0')) %>%\n",
    "group_by(metric) %>% \n",
    "mutate(name=factor(model, levels=model)) %>%\n",
    "ungroup() %>% \n",
    "ggplot(., aes(x = mean, y = name, xmin = lower, xmax = upper, color = sig_color)) +\n",
    "geom_point(position = position_dodge(width = 0.5), size = 3) +\n",
    "geom_errorbarh(height = 0.2, position = position_dodge(width = 0.5)) +\n",
    "labs(x = \"95% Credible Interval \", y = \"Score\", title = 'PMBB v3 AFR CKD Variance by ROPE 0.01') +\n",
    "theme_light() +\n",
    "theme(legend.position = \"top\",\n",
    "      strip.text = element_text(size = 14, colour = 'black')) +\n",
    "guides(color = guide_legend(nrow = 3, byrow = TRUE)) +\n",
    "scale_color_manual(values = c(\"0\" = \"black\", \"1\" = \"red\", \"2\" = \"blue\"), name = \"\", \n",
    "                   labels = c(\"0\" = \"Significantly Different\", \"1\" = \"Practically Equivalent (ROPE 0.01)\", \"2\" = \"Statistically Equivalent\"))  +\n",
    "facet_wrap(~ metric, scales = \"free_x\")\n",
    "\n",
    "model_metrics_plotCI_rope_01_afr_multiancestry_score\n",
    "ggsave('output/plots/PMBB_v3.AFR.CKD.YK_Phenotyping.PGS_Znorm2.multiancestry_scores.cv_glm.perf_model.rope_0.01.equivalance_plot.png')"
   ]
  },
  {
   "cell_type": "markdown",
   "metadata": {},
   "source": [
    "#### ROPE 0.005"
   ]
  },
  {
   "cell_type": "code",
   "execution_count": null,
   "metadata": {},
   "outputs": [],
   "source": [
    "model_metrics_plotCI_rope_005_afr_multiancestry_score <- model_metrics_df_afr_multiancestry_score %>%\n",
    "mutate(sig_color = case_when(prob_dif == 1 ~ '2',\n",
    "                             prob_dif == 1 & ROPE_005 == 1 ~ '2',\n",
    "                             ROPE_005 == 1 & prob_dif != 1 ~ '1',\n",
    "                             ROPE_005 != 1 & prob_dif != 1 ~ '0')) %>%\n",
    "group_by(metric) %>% \n",
    "mutate(name=factor(model, levels=model)) %>%\n",
    "ungroup() %>% \n",
    "ggplot(., aes(x = mean, y = name, xmin = lower, xmax = upper, color = sig_color)) +\n",
    "geom_point(position = position_dodge(width = 0.5), size = 3) +\n",
    "geom_errorbarh(height = 0.2, position = position_dodge(width = 0.5)) +\n",
    "labs(x = \"95% Credible Interval \", y = \"Score\", title = 'PMBB v3 AFR CKD Variance by ROPE 0.005') +\n",
    "theme_light() +\n",
    "theme(legend.position = \"top\",\n",
    "      strip.text = element_text(size = 14, colour = 'black')) +\n",
    "guides(color = guide_legend(nrow = 3, byrow = TRUE)) +\n",
    "scale_color_manual(values = c(\"0\" = \"black\", \"1\" = \"red\", \"2\" = \"blue\"), name = \"\", \n",
    "                   labels = c(\"0\" = \"Significantly Different\", \"1\" = \"Practically Equivalent (ROPE 0.005)\", \"2\" = \"Statistically Equivalent\"))  +\n",
    "facet_wrap(~ metric, scales = \"free_x\")\n",
    "\n",
    "model_metrics_plotCI_rope_005_afr_multiancestry_score\n",
    "ggsave('output/plots/PMBB_v3.AFR.CKD.YK_Phenotyping.PGS_Znorm2.multiancestry_scores.cv_glm.perf_model.rope_0.005.equivalance_plot.png')"
   ]
  },
  {
   "cell_type": "markdown",
   "metadata": {},
   "source": [
    "# individual score percentile"
   ]
  },
  {
   "cell_type": "markdown",
   "metadata": {},
   "source": [
    "## read in input file (if needed)"
   ]
  },
  {
   "cell_type": "code",
   "execution_count": null,
   "metadata": {},
   "outputs": [],
   "source": [
    "model_metrics_df = read.csv('output/performance_metrics/PMBB_v3.ALL.CKD.YK_Phenotyping.PGS_Znorm2.cv_glm.perf_model.performance_metrics.txt',\n",
    "                            sep = '\\t')"
   ]
  },
  {
   "cell_type": "code",
   "execution_count": null,
   "metadata": {},
   "outputs": [],
   "source": [
    "model_metrics_df_eur = read.csv('output/performance_metrics/PMBB_v3.EUR.CKD.YK_Phenotyping.PGS_Znorm2.cv_glm.perf_model.performance_metrics.txt',\n",
    "                                sep = '\\t')"
   ]
  },
  {
   "cell_type": "code",
   "execution_count": null,
   "metadata": {},
   "outputs": [],
   "source": [
    "model_metrics_df_afr = read.csv('output/performance_metrics/PMBB_v3.AFR.CKD.YK_Phenotyping.PGS_Znorm2.cv_glm.perf_model.performance_metrics.txt',\n",
    "                                sep = '\\t')"
   ]
  },
  {
   "cell_type": "markdown",
   "metadata": {},
   "source": [
    "## calculate"
   ]
  },
  {
   "cell_type": "markdown",
   "metadata": {},
   "source": [
    "### all individuals"
   ]
  },
  {
   "cell_type": "code",
   "execution_count": null,
   "metadata": {},
   "outputs": [],
   "source": [
    "df_ntile_norm <- all_score %>% \n",
    "filter(!grepl('PGS005090|PGS002757|AFR.eGFR.PRScsx|AMR.eGFR.PRScsx|EAS.eGFR.PRScsx|EUR.eGFR.PRScsx',PGS)) %>%\n",
    "dplyr::mutate(ntile = 100 * pnorm(Z_norm2))\n",
    "head(df_ntile_norm)\n",
    "length(unique(df_ntile_norm$PGS))"
   ]
  },
  {
   "cell_type": "markdown",
   "metadata": {},
   "source": [
    "### all individuals multiancestry scores"
   ]
  },
  {
   "cell_type": "code",
   "execution_count": null,
   "metadata": {},
   "outputs": [],
   "source": [
    "df_ntile_norm_multiancestry_score <- all_score %>% \n",
    "filter(!grepl(\"PGS002757|PGS005090|AFR|AMR|EAS|EUR.eGFR.PRScsx\", PGS)) %>%\n",
    "dplyr::mutate(ntile = 100 * pnorm(Z_norm2))\n",
    "head(df_ntile_norm_multiancestry_score)\n",
    "length(unique(df_ntile_norm_multiancestry_score$PGS))"
   ]
  },
  {
   "cell_type": "markdown",
   "metadata": {},
   "source": [
    "### eur"
   ]
  },
  {
   "cell_type": "code",
   "execution_count": null,
   "metadata": {},
   "outputs": [],
   "source": [
    "df_ntile_norm_eur <- all_score_eur %>% \n",
    "filter(!grepl('PGS005090|PGS002757|AFR.eGFR.PRScsx|AMR.eGFR.PRScsx|EAS.eGFR.PRScsx|EUR.eGFR.PRScsx',PGS)) %>%\n",
    "dplyr::mutate(ntile = 100 * pnorm(Z_norm2))\n",
    "head(df_ntile_norm_eur)\n",
    "length(unique(df_ntile_norm_eur$PGS))"
   ]
  },
  {
   "cell_type": "markdown",
   "metadata": {},
   "source": [
    "### eur individuals multiancestry scores"
   ]
  },
  {
   "cell_type": "code",
   "execution_count": null,
   "metadata": {},
   "outputs": [],
   "source": [
    "df_ntile_norm_eur_multiancestry_score <- all_score_eur %>% \n",
    "filter(!grepl(\"PGS002757|PGS005090|AFR|AMR|EAS|EUR.eGFR.PRScsx\", PGS)) %>%\n",
    "dplyr::mutate(ntile = 100 * pnorm(Z_norm2))\n",
    "head(df_ntile_norm_eur_multiancestry_score)\n",
    "length(unique(df_ntile_norm_eur_multiancestry_score$PGS))"
   ]
  },
  {
   "cell_type": "markdown",
   "metadata": {},
   "source": [
    "### afr"
   ]
  },
  {
   "cell_type": "code",
   "execution_count": null,
   "metadata": {},
   "outputs": [],
   "source": [
    "df_ntile_norm_afr <- all_score_afr %>% \n",
    "filter(grepl('AFR.Phe_585.3.PRScsx|AFR.eGFR.flip.PRScsx|AMR.eGFR.flip.PRScsx|EAS.Phe_585.3.PRScsx|EAS.eGFR.flip.PRScsx|EUR.Phe_585.3.PRScsx|EUR.eGFR.flip.PRScsx|PGS000728|PGS002237|PGS003988|PGS004004|PGS004016|PGS004030|PGS004045|PGS004058|PGS004074|PGS004088|PGS004101|PGS004128|PGS004142|PGS004158|PGS004889|PGS005113',\n",
    "             PGS)) %>%\n",
    "dplyr::mutate(ntile = 100 * pnorm(Z_norm2))\n",
    "head(df_ntile_norm_afr)\n",
    "length(unique(df_ntile_norm_afr$PGS))"
   ]
  },
  {
   "cell_type": "markdown",
   "metadata": {},
   "source": [
    "### afr individuals multiancestry scores"
   ]
  },
  {
   "cell_type": "code",
   "execution_count": null,
   "metadata": {},
   "outputs": [],
   "source": [
    "df_ntile_norm_afr_multiancestry_score <- all_score_afr %>% \n",
    "filter(grepl('EUR.Phe_585.3.PRScsx|EUR.eGFR.flip.PRScsx|PGS000728|PGS002237|PGS003988|PGS004004|PGS004016|PGS004030|PGS004045|PGS004058|PGS004074|PGS004088|PGS004101|PGS004128|PGS004142|PGS004158|PGS004889|PGS005113',\n",
    "             PGS)) %>%\n",
    "dplyr::mutate(ntile = 100 * pnorm(Z_norm2))\n",
    "head(df_ntile_norm_afr_multiancestry_score)\n",
    "length(unique(df_ntile_norm_afr_multiancestry_score$PGS))"
   ]
  },
  {
   "cell_type": "markdown",
   "metadata": {},
   "source": [
    "### PRScs iterations"
   ]
  },
  {
   "cell_type": "code",
   "execution_count": null,
   "metadata": {},
   "outputs": [],
   "source": [
    "df_ntile_norm_afr_egfr <- afr_egfr_merge %>% \n",
    "dplyr::mutate(ntile = 100 * pnorm(Z_norm2))\n",
    "head(df_ntile_norm_afr_egfr)\n",
    "length(unique(df_ntile_norm_afr_egfr$PGS))"
   ]
  },
  {
   "cell_type": "code",
   "execution_count": null,
   "metadata": {},
   "outputs": [],
   "source": [
    "df_ntile_norm_eur_egfr <- eur_egfr_merge %>% \n",
    "dplyr::mutate(ntile = 100 * pnorm(Z_norm2))\n",
    "head(df_ntile_norm_eur_egfr)\n",
    "length(unique(df_ntile_norm_eur_egfr$PGS))"
   ]
  },
  {
   "cell_type": "code",
   "execution_count": null,
   "metadata": {},
   "outputs": [],
   "source": [
    "df_ntile_norm_meta_egfr <- meta_egfr_merge %>% \n",
    "dplyr::mutate(ntile = 100 * pnorm(Z_norm2))\n",
    "head(df_ntile_norm_meta_egfr)\n",
    "length(unique(df_ntile_norm_meta_egfr$PGS))"
   ]
  },
  {
   "cell_type": "markdown",
   "metadata": {},
   "source": [
    "## reformat df for individual percentile plots"
   ]
  },
  {
   "cell_type": "markdown",
   "metadata": {},
   "source": [
    "### all individuals"
   ]
  },
  {
   "cell_type": "code",
   "execution_count": null,
   "metadata": {},
   "outputs": [],
   "source": [
    "df_ntile_norm_wide = df_ntile_norm %>%\n",
    "pivot_wider(names_from = 'PGS',\n",
    "           values_from = 'ntile',\n",
    "           id_cols = 'IID',\n",
    "           names_prefix = 'ntile_')\n",
    "dim(df_ntile_norm_wide)\n",
    "head(df_ntile_norm_wide)\n",
    "write.table(df_ntile_norm_wide,\n",
    "           'output/performance_metrics/PMBB_v3.ALL.CKD.YK_Phenotyping.PGS_Znorm2.individual_percentile.wide_form.txt',\n",
    "           sep = '\\t',\n",
    "           col.names = T,\n",
    "           row.names = F,\n",
    "           quote = F)"
   ]
  },
  {
   "cell_type": "markdown",
   "metadata": {},
   "source": [
    "### all individuals multiancestry scores"
   ]
  },
  {
   "cell_type": "code",
   "execution_count": null,
   "metadata": {},
   "outputs": [],
   "source": [
    "df_ntile_norm_wide_multiancestry_score = df_ntile_norm_multiancestry_score %>%\n",
    "pivot_wider(names_from = 'PGS',\n",
    "           values_from = 'ntile',\n",
    "           id_cols = 'IID',\n",
    "           names_prefix = 'ntile_')\n",
    "dim(df_ntile_norm_wide_multiancestry_score)\n",
    "head(df_ntile_norm_wide_multiancestry_score)\n",
    "write.table(df_ntile_norm_wide_multiancestry_score,\n",
    "           'output/performance_metrics/PMBB_v3.ALL.CKD.YK_Phenotyping.PGS_Znorm2.multiancestry_scores.individual_percentile.wide_form.txt',\n",
    "           sep = '\\t',\n",
    "           col.names = T,\n",
    "           row.names = F,\n",
    "           quote = F)"
   ]
  },
  {
   "cell_type": "markdown",
   "metadata": {},
   "source": [
    "### eur"
   ]
  },
  {
   "cell_type": "code",
   "execution_count": null,
   "metadata": {},
   "outputs": [],
   "source": [
    "df_ntile_norm_wide_eur = df_ntile_norm_eur %>%\n",
    "pivot_wider(names_from = 'PGS',\n",
    "           values_from = 'ntile',\n",
    "           id_cols = 'IID',\n",
    "           names_prefix = 'ntile_')\n",
    "dim(df_ntile_norm_wide_eur)\n",
    "head(df_ntile_norm_wide_eur)\n",
    "write.table(df_ntile_norm_wide_eur,\n",
    "           'output/performance_metrics/PMBB_v3.EUR.CKD.YK_Phenotyping.PGS_Znorm2.individual_percentile.wide_form.txt',\n",
    "           sep = '\\t',\n",
    "           col.names = T,\n",
    "           row.names = F,\n",
    "           quote = F)"
   ]
  },
  {
   "cell_type": "markdown",
   "metadata": {},
   "source": [
    "### eur individuals multiancestry scores"
   ]
  },
  {
   "cell_type": "code",
   "execution_count": null,
   "metadata": {},
   "outputs": [],
   "source": [
    "df_ntile_norm_wide_eur_multiancestry_score = df_ntile_norm_eur_multiancestry_score %>%\n",
    "pivot_wider(names_from = 'PGS',\n",
    "           values_from = 'ntile',\n",
    "           id_cols = 'IID',\n",
    "           names_prefix = 'ntile_')\n",
    "dim(df_ntile_norm_wide_eur_multiancestry_score)\n",
    "head(df_ntile_norm_wide_eur_multiancestry_score)\n",
    "write.table(df_ntile_norm_wide_eur_multiancestry_score,\n",
    "           'output/performance_metrics/PMBB_v3.EUR.CKD.YK_Phenotyping.PGS_Znorm2.multiancestry_scores.individual_percentile.wide_form.txt',\n",
    "           sep = '\\t',\n",
    "           col.names = T,\n",
    "           row.names = F,\n",
    "           quote = F)"
   ]
  },
  {
   "cell_type": "markdown",
   "metadata": {},
   "source": [
    "### afr"
   ]
  },
  {
   "cell_type": "code",
   "execution_count": null,
   "metadata": {},
   "outputs": [],
   "source": [
    "df_ntile_norm_wide_afr = df_ntile_norm_afr %>%\n",
    "pivot_wider(names_from = 'PGS',\n",
    "           values_from = 'ntile',\n",
    "           id_cols = 'IID',\n",
    "           names_prefix = 'ntile_')\n",
    "dim(df_ntile_norm_wide_afr)\n",
    "head(df_ntile_norm_wide_afr)\n",
    "write.table(df_ntile_norm_wide_afr,\n",
    "           'output/performance_metrics/PMBB_v3.AFR.CKD.YK_Phenotyping.PGS_Znorm2.individual_percentile.wide_form.txt',\n",
    "           sep = '\\t',\n",
    "           col.names = T,\n",
    "           row.names = F,\n",
    "           quote = F)"
   ]
  },
  {
   "cell_type": "markdown",
   "metadata": {},
   "source": [
    "### afr individuals multiancestry scores"
   ]
  },
  {
   "cell_type": "code",
   "execution_count": null,
   "metadata": {},
   "outputs": [],
   "source": [
    "df_ntile_norm_wide_afr_multiancestry_score = df_ntile_norm_afr_multiancestry_score %>%\n",
    "pivot_wider(names_from = 'PGS',\n",
    "           values_from = 'ntile',\n",
    "           id_cols = 'IID',\n",
    "           names_prefix = 'ntile_')\n",
    "dim(df_ntile_norm_wide_afr_multiancestry_score)\n",
    "head(df_ntile_norm_wide_afr_multiancestry_score)\n",
    "write.table(df_ntile_norm_wide_afr_multiancestry_score,\n",
    "           'output/performance_metrics/PMBB_v3.AFR.CKD.YK_Phenotyping.PGS_Znorm2.multiancestry_scores.individual_percentile.wide_form.txt',\n",
    "           sep = '\\t',\n",
    "           col.names = T,\n",
    "           row.names = F,\n",
    "           quote = F)"
   ]
  },
  {
   "cell_type": "markdown",
   "metadata": {},
   "source": [
    "### PRScs iterations"
   ]
  },
  {
   "cell_type": "code",
   "execution_count": null,
   "metadata": {},
   "outputs": [],
   "source": [
    "df_ntile_norm_wide_afr_egfr = df_ntile_norm_afr_egfr %>%\n",
    "pivot_wider(names_from = 'PGS',\n",
    "           values_from = 'ntile',\n",
    "           id_cols = 'IID',\n",
    "           names_prefix = 'ntile_')\n",
    "dim(df_ntile_norm_wide_afr_egfr)\n",
    "head(df_ntile_norm_wide_afr_egfr)\n",
    "write.table(df_ntile_norm_wide_afr_egfr,\n",
    "           'output/performance_metrics/PMBB_v2.ALL.CKD.PGS_Znorm2.AFR_eGFR_flip.PRScs_iterations.individual_percentile.wide_form.txt',\n",
    "           sep = '\\t',\n",
    "           col.names = T,\n",
    "           row.names = F,\n",
    "           quote = F)"
   ]
  },
  {
   "cell_type": "code",
   "execution_count": null,
   "metadata": {},
   "outputs": [],
   "source": [
    "df_ntile_norm_wide_amr_egfr = df_ntile_norm_amr_egfr %>%\n",
    "pivot_wider(names_from = 'PGS',\n",
    "           values_from = 'ntile',\n",
    "           id_cols = 'IID',\n",
    "           names_prefix = 'ntile_')\n",
    "dim(df_ntile_norm_wide_amr_egfr)\n",
    "head(df_ntile_norm_wide_amr_egfr)\n",
    "write.table(df_ntile_norm_wide_amr_egfr,\n",
    "           'output/performance_metrics/PMBB_v2.ALL.CKD.PGS_Znorm2.AMR_eGFR_flip.PRScs_iterations.individual_percentile.wide_form.txt',\n",
    "           sep = '\\t',\n",
    "           col.names = T,\n",
    "           row.names = F,\n",
    "           quote = F)"
   ]
  },
  {
   "cell_type": "markdown",
   "metadata": {},
   "source": [
    "### eur egfr- all"
   ]
  },
  {
   "cell_type": "code",
   "execution_count": null,
   "metadata": {},
   "outputs": [],
   "source": [
    "df_ntile_norm_wide_eur_egfr = df_ntile_norm_eur_egfr %>%\n",
    "pivot_wider(names_from = 'PGS',\n",
    "           values_from = 'ntile',\n",
    "           id_cols = 'IID',\n",
    "           names_prefix = 'ntile_')\n",
    "dim(df_ntile_norm_wide_eur_egfr)\n",
    "head(df_ntile_norm_wide_eur_egfr)\n",
    "write.table(df_ntile_norm_wide_eur_egfr,\n",
    "           'output/performance_metrics/PMBB_v2.ALL.CKD.PGS_Znorm2.EUR_eGFR_flip.PRScs_iterations.individual_percentile.wide_form.txt',\n",
    "           sep = '\\t',\n",
    "           col.names = T,\n",
    "           row.names = F,\n",
    "           quote = F)"
   ]
  },
  {
   "cell_type": "code",
   "execution_count": null,
   "metadata": {},
   "outputs": [],
   "source": [
    "df_ntile_norm_wide_eur_phe = df_ntile_norm_eur_phe %>%\n",
    "pivot_wider(names_from = 'PGS',\n",
    "           values_from = 'ntile',\n",
    "           id_cols = 'IID',\n",
    "           names_prefix = 'ntile_')\n",
    "dim(df_ntile_norm_wide_eur_phe)\n",
    "head(df_ntile_norm_wide_eur_phe)\n",
    "write.table(df_ntile_norm_wide_eur_phe,\n",
    "           'output/performance_metrics/PMBB_v2.ALL.CKD.PGS_Znorm2.EUR_Phe_585.3.PRScs_iterations.individual_percentile.wide_form.txt',\n",
    "           sep = '\\t',\n",
    "           col.names = T,\n",
    "           row.names = F,\n",
    "           quote = F)"
   ]
  },
  {
   "cell_type": "code",
   "execution_count": null,
   "metadata": {},
   "outputs": [],
   "source": [
    "df_ntile_norm_wide_eas_egfr = df_ntile_norm_eas_egfr %>%\n",
    "pivot_wider(names_from = 'PGS',\n",
    "           values_from = 'ntile',\n",
    "           id_cols = 'IID',\n",
    "           names_prefix = 'ntile_')\n",
    "dim(df_ntile_norm_wide_eas_egfr)\n",
    "head(df_ntile_norm_wide_eas_egfr)\n",
    "write.table(df_ntile_norm_wide_eas_egfr,\n",
    "           'output/performance_metrics/PMBB_v2.ALL.CKD.PGS_Znorm2.EAS_eGFR_flip.PRScs_iterations.individual_percentile.wide_form.txt',\n",
    "           sep = '\\t',\n",
    "           col.names = T,\n",
    "           row.names = F,\n",
    "           quote = F)"
   ]
  },
  {
   "cell_type": "code",
   "execution_count": null,
   "metadata": {},
   "outputs": [],
   "source": [
    "df_ntile_norm_wide_eas_phe = df_ntile_norm_eas_phe %>%\n",
    "pivot_wider(names_from = 'PGS',\n",
    "           values_from = 'ntile',\n",
    "           id_cols = 'IID',\n",
    "           names_prefix = 'ntile_')\n",
    "dim(df_ntile_norm_wide_eas_phe)\n",
    "head(df_ntile_norm_wide_eas_phe)\n",
    "write.table(df_ntile_norm_wide_eas_phe,\n",
    "           'output/performance_metrics/PMBB_v2.ALL.CKD.PGS_Znorm2.EAS_Phe_585.3.PRScs_iterations.individual_percentile.wide_form.txt',\n",
    "           sep = '\\t',\n",
    "           col.names = T,\n",
    "           row.names = F,\n",
    "           quote = F)"
   ]
  },
  {
   "cell_type": "markdown",
   "metadata": {},
   "source": [
    "## score lists function"
   ]
  },
  {
   "cell_type": "code",
   "execution_count": null,
   "metadata": {},
   "outputs": [],
   "source": [
    "equiv_scores <- function(df, criteria, ntile = FALSE) {\n",
    "    # Ensure criteria is a column in df\n",
    "    if (!criteria %in% names(df)) {\n",
    "        stop(paste0(\"Criteria column \", criteria, \" not found in dataframe\"))\n",
    "    }\n",
    "  \n",
    "    # Filter models based on criteria for each group\n",
    "    models <- df %>%\n",
    "    group_by(model) %>%\n",
    "    filter(all(.data[[criteria]] == 1)) %>%\n",
    "    ungroup() %>%\n",
    "    pull(model) %>%\n",
    "    unique()\n",
    "  \n",
    "    # Sort models\n",
    "    sorted_models <- models\n",
    "  \n",
    "    # Return the appropriate list based on ntile flag\n",
    "    if (ntile) {\n",
    "        ntile_list <- paste(\"ntile_\", sorted_models, sep = \"\")\n",
    "        return(ntile_list)\n",
    "    } else {\n",
    "        return(sorted_models)\n",
    "    }\n",
    "}"
   ]
  },
  {
   "cell_type": "markdown",
   "metadata": {},
   "source": [
    "## make dot plot for 5 individuals PRS percentiles across scores"
   ]
  },
  {
   "cell_type": "markdown",
   "metadata": {},
   "source": [
    "### all individuals"
   ]
  },
  {
   "cell_type": "code",
   "execution_count": null,
   "metadata": {},
   "outputs": [],
   "source": [
    "# Make into a function\n",
    "plot_indiv_score <- function(df_ntile, all_metrics_df, criteria = \"ROPE_02\", n_indiv = 5, seed = 7) {\n",
    "    \n",
    "    ntile_list <- equiv_scores(all_metrics_df, criteria , ntile = TRUE)\n",
    "    model_list <- equiv_scores(all_metrics_df, criteria , ntile = FALSE)\n",
    "  \n",
    "    random_ntile <- sample_n(df_ntile, n_indiv) %>% \n",
    "    select(IID, all_of(ntile_list))\n",
    "  \n",
    "    melt_random_ntile <- reshape2::melt(random_ntile, id = c(\"IID\"))  %>% \n",
    "    mutate(variable = str_replace(variable, \"ntile_\", \"\"))\n",
    "  \n",
    "    melt_random_ntile$variable <- factor(melt_random_ntile$variable, levels = model_list)\n",
    "    melt_random_ntile$IID <- factor(melt_random_ntile$IID)\n",
    "  \n",
    "    score_plot_ntile_all <- ggplot(data = melt_random_ntile, aes(x = variable, y = value, color = IID, group = IID)) +\n",
    "    geom_point(size = 3) +\n",
    "    labs(x = \"Score\", y = \"Percentile\", title = \"PMBB v3 ALL CKD PGS Percentile Variation\") + \n",
    "    facet_wrap(IID ~ . , nrow = n_indiv) +\n",
    "    scale_color_viridis_d(option = 'H') +\n",
    "    theme(axis.text.x = element_text(angle = 30, hjust = 1, vjust = 1),\n",
    "          strip.background = element_blank(),\n",
    "          strip.text.x = element_blank(),\n",
    "         plot.margin = unit(c(1, 1, 2, 2), \"cm\"))\n",
    "  \n",
    "    return(score_plot_ntile_all)\n",
    "}\n",
    "\n",
    "\n",
    "indiv_dot_plot <- plot_indiv_score(df_ntile_norm_wide, model_metrics_df)\n",
    "indiv_dot_plot\n",
    "ggsave('/output/plots/PMBB_v3.ALL.CKD.YK_Phenotyping.PGS_Znorm2.individual_percentile.dot_plot.png',\n",
    "       width = 9,\n",
    "       height = 6,\n",
    "       dpi = 300)"
   ]
  },
  {
   "cell_type": "markdown",
   "metadata": {},
   "source": [
    "### eur individuals"
   ]
  },
  {
   "cell_type": "code",
   "execution_count": null,
   "metadata": {},
   "outputs": [],
   "source": [
    "# Make into a function\n",
    "plot_indiv_score <- function(df_ntile, all_metrics_df, criteria = \"ROPE_02\", n_indiv = 5, seed = 7) {\n",
    "    \n",
    "    ntile_list <- equiv_scores(all_metrics_df, criteria , ntile = TRUE)\n",
    "    model_list <- equiv_scores(all_metrics_df, criteria , ntile = FALSE)\n",
    "  \n",
    "    random_ntile <- sample_n(df_ntile, n_indiv) %>% \n",
    "    select(IID, all_of(ntile_list))\n",
    "  \n",
    "    melt_random_ntile <- reshape2::melt(random_ntile, id = c(\"IID\"))  %>% \n",
    "    mutate(variable = str_replace(variable, \"ntile_\", \"\"))\n",
    "  \n",
    "    melt_random_ntile$variable <- factor(melt_random_ntile$variable, levels = model_list)\n",
    "    melt_random_ntile$IID <- factor(melt_random_ntile$IID)\n",
    "  \n",
    "    score_plot_ntile_all <- ggplot(data = melt_random_ntile, aes(x = variable, y = value, color = IID, group = IID)) +\n",
    "    geom_point(size = 3) +\n",
    "    labs(x = \"Score\", y = \"Percentile\", title = \"PMBB v3 EUR CKD PGS Percentile Variation\") + \n",
    "    facet_wrap(IID ~ . , nrow = n_indiv) +\n",
    "    scale_color_viridis_d(option = 'H') +\n",
    "    theme(axis.text.x = element_text(angle = 30, hjust = 1, vjust = 1),\n",
    "          strip.background = element_blank(),\n",
    "          strip.text.x = element_blank(),\n",
    "         plot.margin = unit(c(1, 1, 2, 2), \"cm\"))\n",
    "  \n",
    "    return(score_plot_ntile_all)\n",
    "}\n",
    "\n",
    "\n",
    "indiv_dot_plot_eur <- plot_indiv_score(df_ntile_norm_wide_eur, model_metrics_df_eur)\n",
    "indiv_dot_plot_eur\n",
    "ggsave('output/plots/PMBB_v3.EUR.CKD.YK_Phenotyping.PGS_Znorm2.individual_percentile.dot_plot.png',\n",
    "       width = 9,\n",
    "       height = 6,\n",
    "       dpi = 300)"
   ]
  },
  {
   "cell_type": "markdown",
   "metadata": {},
   "source": [
    "### afr"
   ]
  },
  {
   "cell_type": "code",
   "execution_count": null,
   "metadata": {},
   "outputs": [],
   "source": [
    "# Make into a function\n",
    "plot_indiv_score <- function(df_ntile, all_metrics_df, criteria = \"ROPE_02\", n_indiv = 5, seed = 7) {\n",
    "    \n",
    "    ntile_list <- equiv_scores(all_metrics_df, criteria , ntile = TRUE)\n",
    "    model_list <- equiv_scores(all_metrics_df, criteria , ntile = FALSE)\n",
    "  \n",
    "    random_ntile <- sample_n(df_ntile, n_indiv) %>% \n",
    "    select(IID, all_of(ntile_list))\n",
    "  \n",
    "    melt_random_ntile <- reshape2::melt(random_ntile, id = c(\"IID\"))  %>% \n",
    "    mutate(variable = str_replace(variable, \"ntile_\", \"\"))\n",
    "  \n",
    "    melt_random_ntile$variable <- factor(melt_random_ntile$variable, levels = model_list)\n",
    "    melt_random_ntile$IID <- factor(melt_random_ntile$IID)\n",
    "  \n",
    "    score_plot_ntile_all <- ggplot(data = melt_random_ntile, aes(x = variable, y = value, color = IID, group = IID)) +\n",
    "    geom_point(size = 3) +\n",
    "    labs(x = \"Score\", y = \"Percentile\", title = \"PMBB v3 AFR CKD PGS Percentile Variation\") + \n",
    "    facet_wrap(IID ~ . , nrow = n_indiv) +\n",
    "    scale_color_viridis_d(option = 'H') +\n",
    "    theme(axis.text.x = element_text(angle = 30, hjust = 1, vjust = 1),\n",
    "          strip.background = element_blank(),\n",
    "          strip.text.x = element_blank(),\n",
    "         plot.margin = unit(c(1, 1, 2, 2), \"cm\"))\n",
    "  \n",
    "    return(score_plot_ntile_all)\n",
    "}\n",
    "\n",
    "\n",
    "indiv_dot_plot_afr <- plot_indiv_score(df_ntile_norm_wide_afr, model_metrics_df_afr)\n",
    "indiv_dot_plot_afr\n",
    "ggsave('output/plots/PMBB_v3.AFR.CKD.YK_Phenotyping.PGS_Znorm2.individual_percentile.dot_plot.png',\n",
    "       width = 9,\n",
    "       height = 6,\n",
    "       dpi = 300)"
   ]
  },
  {
   "cell_type": "markdown",
   "metadata": {},
   "source": [
    "## reformat df for percentile stats function"
   ]
  },
  {
   "cell_type": "code",
   "execution_count": null,
   "metadata": {},
   "outputs": [],
   "source": [
    "all_score_pheno_covar = all_score %>%\n",
    "select(IID, SEX, AGE, CKD, MostSimilarPop) %>%\n",
    "distinct()\n",
    "\n",
    "df_score_wide = df_ntile_norm %>%\n",
    "pivot_wider(names_from = 'PGS',\n",
    "           values_from = 'Z_norm2',\n",
    "           id_cols = 'IID')\n",
    "\n",
    "df_ntile_norm_score_wide_pheno_covar = df_ntile_norm_wide %>%\n",
    "inner_join(all_score_pheno_covar, by = 'IID') %>%\n",
    "inner_join(df_score_wide, by = 'IID')\n",
    "dim(df_ntile_norm_score_wide_pheno_covar)\n",
    "head(df_ntile_norm_score_wide_pheno_covar)"
   ]
  },
  {
   "cell_type": "markdown",
   "metadata": {},
   "source": [
    "## calculate percentile stats across all individuals"
   ]
  },
  {
   "cell_type": "code",
   "execution_count": null,
   "metadata": {},
   "outputs": [],
   "source": [
    "make_sumscores_pivot <- function(df_ntile_norm, all_metrics_df = model_metrics_df,  criteria = \"ROPE_02\") {\n",
    "    ntile_list <- equiv_scores(all_metrics_df, criteria , ntile = TRUE)\n",
    "    model_list <- equiv_scores(all_metrics_df, criteria , ntile = FALSE)\n",
    "    pheno <- \"CKD_status\"\n",
    "    \n",
    "    sumscores_pivot <- df_ntile_norm %>% \n",
    "    select(IID, AGE, SEX, MostSimilarPop, CKD, all_of(ntile_list), all_of(model_list)) %>% \n",
    "    mutate(!!pheno := base::as.factor(CKD)) %>%\n",
    "    pivot_longer(cols = matches(\"^(PGS|EAS|AFR|AMR|EUR)\"), names_to = \"PGS_method\", values_to = \"PGS\") %>% \n",
    "    pivot_longer(cols = starts_with(\"ntile\"), names_to = \"ntile_method\", values_to = \"ntile\")\n",
    "  \n",
    "    return(sumscores_pivot)\n",
    "}\n",
    "\n",
    "sumscores_pivot <- make_sumscores_pivot(df_ntile_norm_score_wide_pheno_covar)\n",
    "\n",
    "sum_ntile <- sumscores_pivot %>% \n",
    "  desc_statby(., measure.var = \"ntile\", grps = c(\"IID\"))"
   ]
  },
  {
   "cell_type": "code",
   "execution_count": null,
   "metadata": {},
   "outputs": [],
   "source": [
    "head(sumscores_pivot)\n",
    "nrow(sumscores_pivot)"
   ]
  },
  {
   "cell_type": "code",
   "execution_count": null,
   "metadata": {},
   "outputs": [],
   "source": [
    "head(sum_ntile)\n",
    "nrow(sum_ntile)"
   ]
  },
  {
   "cell_type": "code",
   "execution_count": null,
   "metadata": {},
   "outputs": [],
   "source": [
    "write.table(sumscores_pivot,\n",
    "           gzfile('output/performance_metrics/PMBB_v3.ALL.CKD.YK_Phenotyping.PGS_Znorm2.individual_percentile.pivot.txt.gz'),\n",
    "           sep = '\\t',\n",
    "           col.names = T,\n",
    "           row.names = F,\n",
    "           quote = F)"
   ]
  },
  {
   "cell_type": "code",
   "execution_count": null,
   "metadata": {},
   "outputs": [],
   "source": [
    "write.table(sum_ntile,\n",
    "           'output/performance_metrics/PMBB_v3.ALL.CKD.YK_Phenotyping.PGS_Znorm2.individual_percentile.sumstats.individual_level.txt',\n",
    "           sep = '\\t',\n",
    "           col.names = T,\n",
    "           row.names = F,\n",
    "           quote = F)"
   ]
  },
  {
   "cell_type": "markdown",
   "metadata": {},
   "source": [
    "## make \"all individual percentile plots\" aggreated by mean, sd, and cv"
   ]
  },
  {
   "cell_type": "code",
   "execution_count": null,
   "metadata": {},
   "outputs": [],
   "source": [
    "sum_metrics <- c(\"mean\", \"sd\", \"cv\")\n",
    "metric_labels <- c(\"mean\" = \"Mean\", \"sd\" = \"Standard Deviation\", \"cv\" = \"Coefficient of Variation\")\n",
    "titles = c(\"mean\" = \"Distribution of Mean PGS Percentiles per Individual\",\n",
    "          \"sd\" = \"Distribution of PGS Percentile Standard Deviation per Individual\",\n",
    "          \"cv\" = \"Distribution of PGS Percentile Coefficient of Variance per Individual\")\n",
    "\n",
    "# Revised version with percentile labels\n",
    "plot_list <- list()\n",
    "\n",
    "# density plot\n",
    "for (metric in sum_metrics) {\n",
    "    metric_label <- metric_labels[metric]\n",
    "    title <- titles[metric]\n",
    "    plot <- ggplot(sum_ntile, aes(x = .data[[metric]])) + geom_density(alpha = .7, color = \"#B24745FF\",  fill = \"#B24745FF\") + \n",
    "    labs(title = title,\n",
    "         x = paste(\"PMBB v3 PGS Percentile\", metric_label),\n",
    "         y = \"Density\"\n",
    "        ) + theme(legend.position = \"none\")\n",
    "    # Add the plot to the list\n",
    "    plot_list[[metric]] <- plot\n",
    "}\n",
    "# Create a named list of plots\n",
    "named_plot_list <- setNames(plot_list, sum_metrics)\n",
    "mean <-(named_plot_list[[1]])\n",
    "sd <-(named_plot_list[[2]])\n",
    "cv <-(named_plot_list[[3]])"
   ]
  },
  {
   "cell_type": "code",
   "execution_count": null,
   "metadata": {},
   "outputs": [],
   "source": [
    "mean\n",
    "ggsave('output/plots/PMBB_v3.ALL.CKD.YK_Phenotyping.PGS_Znorm2.individual_mean_percentile.density_plot.png')"
   ]
  },
  {
   "cell_type": "code",
   "execution_count": null,
   "metadata": {},
   "outputs": [],
   "source": [
    "sd\n",
    "ggsave('output/plots/PMBB_v3.ALL.CKD.YK_Phenotyping.PGS_Znorm2.individual_stdev_percentile.density_plot.png')"
   ]
  },
  {
   "cell_type": "code",
   "execution_count": null,
   "metadata": {},
   "outputs": [],
   "source": [
    "cv\n",
    "ggsave('output/plots/PMBB_v3.ALL.CKD.YK_Phenotyping.PGS_Znorm2.individual_coefficient_variation_percentile.density_plot.png')"
   ]
  },
  {
   "cell_type": "markdown",
   "metadata": {},
   "source": [
    "## compute avg stats acorss all people and scores"
   ]
  },
  {
   "cell_type": "code",
   "execution_count": null,
   "metadata": {},
   "outputs": [],
   "source": [
    "sum_metrics <- c(\"mean\", \"sd\", \"cv\")\n",
    "\n",
    "avg_stats <- lapply(sum_metrics, function(met) {\n",
    "  boot_med <- simpleboot::one.boot(sum_ntile[[met]], median, R = 1000)\n",
    "  ci_result <- boot::boot.ci(boot_med, conf = 0.95, type = \"norm\")\n",
    "\n",
    "  # Adjust this part based on the structure of 'ci_result'\n",
    "  # For example, if 'ci_result' has elements named 'normal', 'basic', etc.\n",
    "  # Extract the desired confidence interval bounds from the correct sub-element\n",
    "  lower_bound <- ci_result$normal[[2]]  \n",
    "  upper_bound <- ci_result$normal[[3]]\n",
    "  median <- ci_result$t0\n",
    "\n",
    "  df_result <- data.frame(Metric = met, \n",
    "                          Lower = lower_bound, \n",
    "                          Upper = upper_bound,\n",
    "                          median = median)\n",
    "  return(df_result)\n",
    "}) %>% \n",
    "  bind_rows(.)\n",
    "\n",
    "\n",
    "write.table(avg_stats,\n",
    "            'output/performance_metrics/PMBB_v3.ALL.CKD.YK_Phenotyping.PGS_Znorm2.individual_percentile.sumstats.all_individuals_scores.txt',\n",
    "            sep = '\\t',\n",
    "            col.names = T,\n",
    "            row.names = F,\n",
    "            quote = F)\n",
    "            \n",
    "head(avg_stats)"
   ]
  },
  {
   "cell_type": "markdown",
   "metadata": {},
   "source": [
    "## make plots showing range of individual-level discordance in percentile classification"
   ]
  },
  {
   "cell_type": "markdown",
   "metadata": {},
   "source": [
    "### create score list function (if needed)"
   ]
  },
  {
   "cell_type": "code",
   "execution_count": null,
   "metadata": {},
   "outputs": [],
   "source": [
    "equiv_scores <- function(df, criteria, ntile = FALSE) {\n",
    "  # Ensure criteria is a column in df\n",
    "  if (!criteria %in% names(df)) {\n",
    "    stop(paste0(\"Criteria column \", criteria, \" not found in dataframe\"))\n",
    "  }\n",
    "  \n",
    "  # Filter models based on criteria for each group\n",
    "  models <- df %>%\n",
    "    group_by(model) %>%\n",
    "    filter(all(.data[[criteria]] == 1)) %>%\n",
    "    ungroup() %>%\n",
    "    pull(model) %>%\n",
    "    unique()\n",
    "  \n",
    "  # Sort models\n",
    "  sorted_models <- models\n",
    "  \n",
    "  # Return the appropriate list based on ntile flag\n",
    "  if (ntile) {\n",
    "    ntile_list <- paste(\"ntile_\", sorted_models, sep = \"\")\n",
    "    return(ntile_list)\n",
    "  } else {\n",
    "    return(sorted_models)\n",
    "  }\n",
    "}"
   ]
  },
  {
   "cell_type": "markdown",
   "metadata": {},
   "source": [
    "### make inputs"
   ]
  },
  {
   "cell_type": "markdown",
   "metadata": {},
   "source": [
    "#### all individuals"
   ]
  },
  {
   "cell_type": "code",
   "execution_count": null,
   "metadata": {},
   "outputs": [],
   "source": [
    "metrics <- c(\"ROPE_02\")\n",
    "ntile_list <- equiv_scores(model_metrics_df, metrics , ntile = TRUE)\n",
    "model_list <- equiv_scores(model_metrics_df, metrics , ntile = FALSE)\n",
    "\n",
    "ntile_df_plot <- df_ntile_norm_wide %>% \n",
    "    select(IID, all_of(ntile_list))  %>% # ntile list is list of score names with ntile prefix to include\n",
    "    pivot_longer(cols = -IID) %>% \n",
    "    mutate(name = str_replace(name, \"ntile_\", \"\")) %>% \n",
    "    filter(name %in% model_list) %>% \n",
    "    #select(IID, value) %>% # just get to IID and values\n",
    "    group_by(IID) %>%\n",
    "    mutate(max_score = max(value), min_score = min(value)) %>%\n",
    "    ungroup() %>% # This gets you a data frame with IID, Score name, score value, and that IID's max and min score\n",
    "    select(IID, max_score, min_score) %>%\n",
    "    mutate(score_range = max_score - min_score) %>%\n",
    "    distinct()\n",
    "\n",
    "ntile_plot_groups <- ntile_df_plot %>%\n",
    "mutate(risk = case_when(\n",
    "    max_score > 98 & min_score < 2 ~ \"Above 98% and Below 2%\",\n",
    "    max_score > 95 & min_score < 5 ~ \"Above 95% and Below 5%\",\n",
    "    max_score > 80 & min_score < 20 ~ \"Above 80% and Below 20%\",\n",
    "    .default = \"Intermediate agreement\")) %>%\n",
    "mutate(risk = forcats::fct_relevel(risk, \n",
    "                                   c(\"Above 98% and Below 2%\",\n",
    "                                     \"Above 95% and Below 5%\", \n",
    "                                     \"Above 80% and Below 20%\", \n",
    "                                     \"Intermediate agreement\")))\n",
    "      \n",
    "head(ntile_plot_groups)\n",
    "unique(ntile_plot_groups$risk)\n",
    "ntile_df_plot %>%\n",
    "    filter(score_range>= 98) %>%\n",
    "    nrow()"
   ]
  },
  {
   "cell_type": "markdown",
   "metadata": {},
   "source": [
    "#### eur"
   ]
  },
  {
   "cell_type": "code",
   "execution_count": null,
   "metadata": {},
   "outputs": [],
   "source": [
    "metrics <- c(\"ROPE_02\")\n",
    "ntile_list <- equiv_scores(model_metrics_df_eur, metrics , ntile = TRUE)\n",
    "model_list <- equiv_scores(model_metrics_df_eur, metrics , ntile = FALSE)\n",
    "\n",
    "ntile_df_plot_eur <- df_ntile_norm_wide_eur %>% \n",
    "    select(IID, all_of(ntile_list))  %>% # ntile list is list of score names with ntile prefix to include\n",
    "    pivot_longer(cols = -IID) %>% \n",
    "    mutate(name = str_replace(name, \"ntile_\", \"\")) %>% \n",
    "    filter(name %in% model_list) %>% \n",
    "    #select(IID, value) %>% # just get to IID and values\n",
    "    group_by(IID) %>%\n",
    "    mutate(max_score = max(value), min_score = min(value)) %>%\n",
    "    ungroup() %>% # This gets you a data frame with IID, Score name, score value, and that IID's max and min score\n",
    "    select(IID, max_score, min_score) %>%\n",
    "    mutate(score_range = max_score - min_score) %>%\n",
    "    distinct()\n",
    "\n",
    "ntile_plot_groups_eur <- ntile_df_plot_eur %>%\n",
    "mutate(risk = case_when(\n",
    "    max_score > 98 & min_score < 2 ~ \"Above 98% and Below 2%\",\n",
    "    max_score > 95 & min_score < 5 ~ \"Above 95% and Below 5%\",\n",
    "    max_score > 80 & min_score < 20 ~ \"Above 80% and Below 20%\",\n",
    "    .default = \"Intermediate agreement\")) %>%\n",
    "mutate(risk = forcats::fct_relevel(risk, \n",
    "                                   c(\"Above 98% and Below 2%\",\n",
    "                                     \"Above 95% and Below 5%\", \n",
    "                                     \"Above 80% and Below 20%\", \n",
    "                                     \"Intermediate agreement\")))\n",
    "      \n",
    "head(ntile_plot_groups_eur)\n",
    "unique(ntile_plot_groups_eur$risk)\n",
    "ntile_df_plot_eur %>%\n",
    "    filter(score_range>= 98) %>%\n",
    "    nrow()"
   ]
  },
  {
   "cell_type": "markdown",
   "metadata": {},
   "source": [
    "#### afr"
   ]
  },
  {
   "cell_type": "code",
   "execution_count": null,
   "metadata": {},
   "outputs": [],
   "source": [
    "metrics <- c(\"ROPE_02\")\n",
    "ntile_list <- equiv_scores(model_metrics_df_afr, metrics , ntile = TRUE)\n",
    "model_list <- equiv_scores(model_metrics_df_afr, metrics , ntile = FALSE)\n",
    "\n",
    "ntile_df_plot_afr <- df_ntile_norm_wide_afr %>% \n",
    "    select(IID, all_of(ntile_list))  %>% # ntile list is list of score names with ntile prefix to include\n",
    "    pivot_longer(cols = -IID) %>% \n",
    "    mutate(name = str_replace(name, \"ntile_\", \"\")) %>% \n",
    "    filter(name %in% model_list) %>% \n",
    "    #select(IID, value) %>% # just get to IID and values\n",
    "    group_by(IID) %>%\n",
    "    mutate(max_score = max(value), min_score = min(value)) %>%\n",
    "    ungroup() %>% # This gets you a data frame with IID, Score name, score value, and that IID's max and min score\n",
    "    select(IID, max_score, min_score) %>%\n",
    "    mutate(score_range = max_score - min_score) %>%\n",
    "    distinct()\n",
    "\n",
    "ntile_plot_groups_afr <- ntile_df_plot_afr %>%\n",
    "mutate(risk = case_when(\n",
    "    max_score > 98 & min_score < 2 ~ \"Above 98% and Below 2%\",\n",
    "    max_score > 95 & min_score < 5 ~ \"Above 95% and Below 5%\",\n",
    "    max_score > 80 & min_score < 20 ~ \"Above 80% and Below 20%\",\n",
    "    .default = \"Intermediate agreement\")) %>%\n",
    "mutate(risk = forcats::fct_relevel(risk, \n",
    "                                   c(\"Above 98% and Below 2%\",\n",
    "                                     \"Above 95% and Below 5%\", \n",
    "                                     \"Above 80% and Below 20%\", \n",
    "                                     \"Intermediate agreement\")))\n",
    "      \n",
    "head(ntile_plot_groups_afr)\n",
    "unique(ntile_plot_groups_afr$risk)\n",
    "ntile_df_plot_afr %>%\n",
    "    filter(score_range>= 98) %>%\n",
    "    nrow()"
   ]
  },
  {
   "cell_type": "markdown",
   "metadata": {},
   "source": [
    "### make pretty plot"
   ]
  },
  {
   "cell_type": "markdown",
   "metadata": {},
   "source": [
    "#### all individuals"
   ]
  },
  {
   "cell_type": "code",
   "execution_count": null,
   "metadata": {},
   "outputs": [],
   "source": [
    "ntile_plot_groups %>%\n",
    "ggplot(aes(x = max_score, y = min_score)) +\n",
    "geom_abline(slope = 1, intercept = 0, linetype = \"dashed\") +\n",
    "geom_point(aes(fill = risk), shape = 21, size = 2) +\n",
    "geom_hline(yintercept = c(5, 20), linetype = \"dotted\") +\n",
    "geom_vline(xintercept = c(80, 95), linetype = \"dotted\") +\n",
    "scale_x_continuous(labels = scales::percent_format(scale = 1), limits = c(0, 100)) +\n",
    "scale_y_continuous(labels = scales::percent_format(scale = 1), limits = c(0, 100)) +\n",
    "labs(x = \"Maximum Score Percentile\",\n",
    "     y = \"Minimum Score Percentile\",\n",
    "     title = \"PMBB v3 ALL CKD PGS Percentile Consistency Across Models\",\n",
    "     fill = \"Risk Groups\") +\n",
    "guides(fill = guide_legend(override.aes = list(alpha = 1, size = 3))) +\n",
    "coord_fixed() +\n",
    "scale_fill_manual(values = c(\"Above 98% and Below 2%\" = \"orange\",\n",
    "                              \"Above 95% and Below 5%\" = \"darkorchid1\",\n",
    "                              \"Above 80% and Below 20%\" = \"skyblue\",\n",
    "                             \"Intermediate agreement\" = \"pink\"))\n",
    "ggsave('output/plots/PMBB_v3.ALL.CKD.YK_Phenotyping.PGS_Znorm2.individual_percentile_variation_range.png')"
   ]
  },
  {
   "cell_type": "markdown",
   "metadata": {},
   "source": [
    "#### eur"
   ]
  },
  {
   "cell_type": "code",
   "execution_count": null,
   "metadata": {},
   "outputs": [],
   "source": [
    "ntile_plot_groups_eur %>%\n",
    "ggplot(aes(x = max_score, y = min_score)) +\n",
    "geom_abline(slope = 1, intercept = 0, linetype = \"dashed\") +\n",
    "geom_point(aes(fill = risk), shape = 21, size = 2) +\n",
    "geom_hline(yintercept = c(5, 20), linetype = \"dotted\") +\n",
    "geom_vline(xintercept = c(80, 95), linetype = \"dotted\") +\n",
    "scale_x_continuous(labels = scales::percent_format(scale = 1), limits = c(0, 100)) +\n",
    "scale_y_continuous(labels = scales::percent_format(scale = 1), limits = c(0, 100)) +\n",
    "labs(x = \"Maximum Score Percentile\",\n",
    "     y = \"Minimum Score Percentile\",\n",
    "     title = \"PMBB v3 EUR CKD PGS Percentile Consistency Across Models\",\n",
    "     fill = \"Risk Groups\") +\n",
    "guides(fill = guide_legend(override.aes = list(alpha = 1, size = 3))) +\n",
    "coord_fixed() +\n",
    "scale_fill_manual(values = c(\"Above 98% and Below 2%\" = \"orange\",\n",
    "                              \"Above 95% and Below 5%\" = \"darkorchid1\",\n",
    "                              \"Above 80% and Below 20%\" = \"skyblue\",\n",
    "                             \"Intermediate agreement\" = \"pink\"))\n",
    "ggsave('output/plots/PMBB_v3.EUR.CKD.YK_Phenotyping.PGS_Znorm2.individual_percentile_variation_range.png')"
   ]
  },
  {
   "cell_type": "markdown",
   "metadata": {},
   "source": [
    "#### afr"
   ]
  },
  {
   "cell_type": "code",
   "execution_count": null,
   "metadata": {},
   "outputs": [],
   "source": [
    "ntile_plot_groups_afr %>%\n",
    "ggplot(aes(x = max_score, y = min_score)) +\n",
    "geom_abline(slope = 1, intercept = 0, linetype = \"dashed\") +\n",
    "geom_point(aes(fill = risk), shape = 21, size = 2) +\n",
    "geom_hline(yintercept = c(5, 20), linetype = \"dotted\") +\n",
    "geom_vline(xintercept = c(80, 95), linetype = \"dotted\") +\n",
    "scale_x_continuous(labels = scales::percent_format(scale = 1), limits = c(0, 100)) +\n",
    "scale_y_continuous(labels = scales::percent_format(scale = 1), limits = c(0, 100)) +\n",
    "labs(x = \"Maximum Score Percentile\",\n",
    "     y = \"Minimum Score Percentile\",\n",
    "     title = \"PMBB v3 AFR CKD PGS Percentile Consistency Across Models\",\n",
    "     fill = \"Risk Groups\") +\n",
    "guides(fill = guide_legend(override.aes = list(alpha = 1, size = 3))) +\n",
    "coord_fixed() +\n",
    "scale_fill_manual(values = c(\"Above 98% and Below 2%\" = \"orange\",\n",
    "                              \"Above 95% and Below 5%\" = \"darkorchid1\",\n",
    "                              \"Above 80% and Below 20%\" = \"skyblue\",\n",
    "                             \"Intermediate agreement\" = \"pink\"))\n",
    "ggsave('output/plots/PMBB_v3.AFR.CKD.YK_Phenotyping.PGS_Znorm2.individual_percentile_variation_range.png')"
   ]
  },
  {
   "cell_type": "markdown",
   "metadata": {},
   "source": [
    "### compute summary stats for these differences"
   ]
  },
  {
   "cell_type": "markdown",
   "metadata": {},
   "source": [
    "#### all"
   ]
  },
  {
   "cell_type": "code",
   "execution_count": null,
   "metadata": {},
   "outputs": [],
   "source": [
    "risk_stats <- ntile_df_plot %>%\n",
    "        summarise(\n",
    "          total = n(),\n",
    "          extreme = sum(max_score > 95 & min_score < 5),\n",
    "          wide = sum(max_score > 80 & min_score < 20),\n",
    "          intermediate = sum(!(max_score > 80 & min_score < 20))\n",
    "        ) %>%\n",
    "        mutate(\n",
    "          extreme_pct = extreme / total * 100,\n",
    "          wide_pct = wide / total * 100,\n",
    "          intermediate_pct = intermediate / total * 100\n",
    "        )\n",
    "\n",
    "risk_labels <- c(\n",
    "        \"Above 95% and Below 5%\" = sprintf(\"Above 95%% and Below 5%% (%.1f%% of participants)\", risk_stats$extreme_pct),\n",
    "        \"Above 80% and Below 20%\" = sprintf(\"Above 80%% and Below 20%% (%.1f%% of participants)\", risk_stats$wide_pct),\n",
    "        \"Intermediate agreement\" = sprintf(\"Intermediate agreement (%.1f%% of participants)\", risk_stats$intermediate_pct)\n",
    "      )\n",
    "head(risk_stats)\n",
    "write.table(risk_stats,\n",
    "           'output/performance_metrics/PMBB_v3.ALL.CKD.YK_Phenotyping.PGS_Znorm2.individual_percentile_variation_range.sumstats.txt',\n",
    "           sep = '\\t',\n",
    "           col.names = T,\n",
    "           row.names = F,\n",
    "           quote = F)"
   ]
  },
  {
   "cell_type": "markdown",
   "metadata": {},
   "source": [
    "#### eur"
   ]
  },
  {
   "cell_type": "code",
   "execution_count": null,
   "metadata": {},
   "outputs": [],
   "source": [
    "risk_stats_eur <- ntile_df_plot_eur %>%\n",
    "        summarise(\n",
    "          total = n(),\n",
    "          extreme = sum(max_score > 95 & min_score < 5),\n",
    "          wide = sum(max_score > 80 & min_score < 20),\n",
    "          intermediate = sum(!(max_score > 80 & min_score < 20))\n",
    "        ) %>%\n",
    "        mutate(\n",
    "          extreme_pct = extreme / total * 100,\n",
    "          wide_pct = wide / total * 100,\n",
    "          intermediate_pct = intermediate / total * 100\n",
    "        )\n",
    "\n",
    "risk_labels <- c(\n",
    "        \"Above 95% and Below 5%\" = sprintf(\"Above 95%% and Below 5%% (%.1f%% of participants)\", risk_stats_eur$extreme_pct),\n",
    "        \"Above 80% and Below 20%\" = sprintf(\"Above 80%% and Below 20%% (%.1f%% of participants)\", risk_stats_eur$wide_pct),\n",
    "        \"Intermediate agreement\" = sprintf(\"Intermediate agreement (%.1f%% of participants)\", risk_stats_eur$intermediate_pct)\n",
    "      )\n",
    "head(risk_stats_eur)\n",
    "write.table(risk_stats_eur,\n",
    "           'output/performance_metrics/PMBB_v3.EUR.CKD.YK_Phenotyping.PGS_Znorm2.individual_percentile_variation_range.sumstats.txt',\n",
    "           sep = '\\t',\n",
    "           col.names = T,\n",
    "           row.names = F,\n",
    "           quote = F)"
   ]
  },
  {
   "cell_type": "markdown",
   "metadata": {},
   "source": [
    "#### afr"
   ]
  },
  {
   "cell_type": "code",
   "execution_count": null,
   "metadata": {},
   "outputs": [],
   "source": [
    "risk_stats_afr <- ntile_df_plot_afr %>%\n",
    "        summarise(\n",
    "          total = n(),\n",
    "          extreme = sum(max_score > 95 & min_score < 5),\n",
    "          wide = sum(max_score > 80 & min_score < 20),\n",
    "          intermediate = sum(!(max_score > 80 & min_score < 20))\n",
    "        ) %>%\n",
    "        mutate(\n",
    "          extreme_pct = extreme / total * 100,\n",
    "          wide_pct = wide / total * 100,\n",
    "          intermediate_pct = intermediate / total * 100\n",
    "        )\n",
    "\n",
    "risk_labels <- c(\n",
    "        \"Above 95% and Below 5%\" = sprintf(\"Above 95%% and Below 5%% (%.1f%% of participants)\", risk_stats_afr$extreme_pct),\n",
    "        \"Above 80% and Below 20%\" = sprintf(\"Above 80%% and Below 20%% (%.1f%% of participants)\", risk_stats_afr$wide_pct),\n",
    "        \"Intermediate agreement\" = sprintf(\"Intermediate agreement (%.1f%% of participants)\", risk_stats_afr$intermediate_pct)\n",
    "      )\n",
    "head(risk_stats_afr)\n",
    "write.table(risk_stats_afr,\n",
    "           'output/performance_metrics/PMBB_v3.AFR.CKD.YK_Phenotyping.PGS_Znorm2.individual_percentile_variation_range.sumstats.txt',\n",
    "           sep = '\\t',\n",
    "           col.names = T,\n",
    "           row.names = F,\n",
    "           quote = F)"
   ]
  },
  {
   "cell_type": "markdown",
   "metadata": {},
   "source": [
    "# identify individuals with 95% confidence"
   ]
  },
  {
   "cell_type": "raw",
   "metadata": {},
   "source": [
    "# steps\n",
    "1. took the average of those 100 scores per person to get the \"posterior mean PGS\"\n",
    "2. found the PGS value corresponding to the eMERGE percentile risk cutoff in the \"posterior mean PGS\" across everyone - for T2D this was top 2% (also top 2% for CKD)\n",
    "3. then per person, i counted the number of those 100 scores that are above that PGS value from (2). If 95 or more of those scores are over the value, then they are called as having >95% confidence for high risk"
   ]
  },
  {
   "cell_type": "markdown",
   "metadata": {},
   "source": [
    "## compute mean PGS"
   ]
  },
  {
   "cell_type": "code",
   "execution_count": null,
   "metadata": {},
   "outputs": [],
   "source": [
    "df_ntile_norm_afr_egfr_mean = df_ntile_norm_afr_egfr %>%\n",
    "group_by(IID) %>%\n",
    "summarise(MEAN_PGS = mean(ntile))\n",
    "summary(df_ntile_norm_afr_egfr_mean$MEAN_PGS)"
   ]
  },
  {
   "cell_type": "code",
   "execution_count": null,
   "metadata": {},
   "outputs": [],
   "source": [
    "df_ntile_norm_eur_egfr_mean = df_ntile_norm_eur_egfr %>%\n",
    "group_by(IID) %>%\n",
    "summarise(MEAN_PGS = mean(ntile))\n",
    "summary(df_ntile_norm_eur_egfr_mean$MEAN_PGS)"
   ]
  },
  {
   "cell_type": "code",
   "execution_count": null,
   "metadata": {},
   "outputs": [],
   "source": [
    "df_ntile_norm_meta_egfr_mean = df_ntile_norm_meta_egfr %>%\n",
    "group_by(IID) %>%\n",
    "summarise(MEAN_PGS = mean(ntile))\n",
    "summary(df_ntile_norm_meta_egfr_mean$MEAN_PGS)"
   ]
  },
  {
   "cell_type": "markdown",
   "metadata": {},
   "source": [
    "## get N scores in top 2% per person"
   ]
  },
  {
   "cell_type": "code",
   "execution_count": null,
   "metadata": {},
   "outputs": [],
   "source": [
    "df_ntile_norm_afr_egfr_count = df_ntile_norm_afr_egfr %>%\n",
    "filter(ntile >= 98) %>%\n",
    "group_by(IID) %>%\n",
    "summarise(COUNT_PGS = n())\n",
    "summary(df_ntile_norm_afr_egfr_count$COUNT_PGS)"
   ]
  },
  {
   "cell_type": "code",
   "execution_count": null,
   "metadata": {},
   "outputs": [],
   "source": [
    "df_ntile_norm_eur_egfr_count = df_ntile_norm_eur_egfr %>%\n",
    "filter(ntile >= 98) %>%\n",
    "group_by(IID) %>%\n",
    "summarise(COUNT_PGS = n())\n",
    "summary(df_ntile_norm_eur_egfr_count$COUNT_PGS)"
   ]
  },
  {
   "cell_type": "code",
   "execution_count": null,
   "metadata": {},
   "outputs": [],
   "source": [
    "df_ntile_norm_meta_egfr_count = df_ntile_norm_meta_egfr %>%\n",
    "filter(ntile >= 98) %>%\n",
    "group_by(IID) %>%\n",
    "summarise(COUNT_PGS = n())\n",
    "summary(df_ntile_norm_meta_egfr_count$COUNT_PGS)"
   ]
  },
  {
   "cell_type": "code",
   "execution_count": null,
   "metadata": {},
   "outputs": [],
   "source": [
    "df_ntile_norm_afr_phe_count = df_ntile_norm_afr_phe %>%\n",
    "filter(ntile >= 98) %>%\n",
    "group_by(IID) %>%\n",
    "summarise(COUNT_PGS = n())\n",
    "summary(df_ntile_norm_afr_phe_count$COUNT_PGS)"
   ]
  },
  {
   "cell_type": "code",
   "execution_count": null,
   "metadata": {},
   "outputs": [],
   "source": [
    "df_ntile_norm_amr_egfr_count = df_ntile_norm_amr_egfr %>%\n",
    "filter(ntile >= 98) %>%\n",
    "group_by(IID) %>%\n",
    "summarise(COUNT_PGS = n())\n",
    "summary(df_ntile_norm_amr_egfr_count$COUNT_PGS)"
   ]
  },
  {
   "cell_type": "code",
   "execution_count": null,
   "metadata": {},
   "outputs": [],
   "source": [
    "df_ntile_norm_eur_phe_count = df_ntile_norm_eur_phe %>%\n",
    "filter(ntile >= 98) %>%\n",
    "group_by(IID) %>%\n",
    "summarise(COUNT_PGS = n())\n",
    "summary(df_ntile_norm_eur_phe_count$COUNT_PGS)"
   ]
  },
  {
   "cell_type": "code",
   "execution_count": null,
   "metadata": {},
   "outputs": [],
   "source": [
    "df_ntile_norm_eas_egfr_count = df_ntile_norm_eas_egfr %>%\n",
    "filter(ntile >= 98) %>%\n",
    "group_by(IID) %>%\n",
    "summarise(COUNT_PGS = n())\n",
    "summary(df_ntile_norm_eas_egfr_count$COUNT_PGS)"
   ]
  },
  {
   "cell_type": "code",
   "execution_count": null,
   "metadata": {},
   "outputs": [],
   "source": [
    "df_ntile_norm_eas_phe_count = df_ntile_norm_eas_phe %>%\n",
    "filter(ntile >= 98) %>%\n",
    "group_by(IID) %>%\n",
    "summarise(COUNT_PGS = n())\n",
    "summary(df_ntile_norm_eas_phe_count$COUNT_PGS)"
   ]
  },
  {
   "cell_type": "code",
   "execution_count": null,
   "metadata": {},
   "outputs": [],
   "source": [
    "df_ntile_norm_meta_phe_count = df_ntile_norm_meta_phe %>%\n",
    "filter(ntile >= 98) %>%\n",
    "group_by(IID) %>%\n",
    "summarise(COUNT_PGS = n())\n",
    "summary(df_ntile_norm_meta_phe_count$COUNT_PGS)"
   ]
  },
  {
   "cell_type": "markdown",
   "metadata": {},
   "source": [
    "## get N scores in bottom 2%"
   ]
  },
  {
   "cell_type": "code",
   "execution_count": null,
   "metadata": {},
   "outputs": [],
   "source": [
    "df_ntile_norm_afr_egfr_count_low = df_ntile_norm_afr_egfr %>%\n",
    "filter(ntile <= 2) %>%\n",
    "group_by(IID) %>%\n",
    "summarise(COUNT_PGS = n())\n",
    "summary(df_ntile_norm_afr_egfr_count_low$COUNT_PGS)"
   ]
  },
  {
   "cell_type": "code",
   "execution_count": null,
   "metadata": {},
   "outputs": [],
   "source": [
    "df_ntile_norm_eur_egfr_count_low = df_ntile_norm_eur_egfr %>%\n",
    "filter(ntile <= 2) %>%\n",
    "group_by(IID) %>%\n",
    "summarise(COUNT_PGS = n())\n",
    "summary(df_ntile_norm_eur_egfr_count_low$COUNT_PGS)"
   ]
  },
  {
   "cell_type": "code",
   "execution_count": null,
   "metadata": {},
   "outputs": [],
   "source": [
    "df_ntile_norm_meta_egfr_count_low = df_ntile_norm_meta_egfr %>%\n",
    "filter(ntile <= 2) %>%\n",
    "group_by(IID) %>%\n",
    "summarise(COUNT_PGS = n())\n",
    "summary(df_ntile_norm_meta_egfr_count_low$COUNT_PGS)"
   ]
  },
  {
   "cell_type": "markdown",
   "metadata": {},
   "source": [
    "## create eur and afr dfs"
   ]
  },
  {
   "cell_type": "code",
   "execution_count": null,
   "metadata": {},
   "outputs": [],
   "source": [
    "afr = pop_sub %>%\n",
    "filter(MostSimilarPop == 'AFR')\n",
    "nrow(afr)"
   ]
  },
  {
   "cell_type": "code",
   "execution_count": null,
   "metadata": {},
   "outputs": [],
   "source": [
    "eur = pop_sub %>%\n",
    "filter(MostSimilarPop == 'EUR')\n",
    "nrow(eur)"
   ]
  },
  {
   "cell_type": "markdown",
   "metadata": {},
   "source": [
    "## see how many individuals have count > 95"
   ]
  },
  {
   "cell_type": "markdown",
   "metadata": {},
   "source": [
    "### afr egfr"
   ]
  },
  {
   "cell_type": "markdown",
   "metadata": {},
   "source": [
    "#### top 98%"
   ]
  },
  {
   "cell_type": "code",
   "execution_count": null,
   "metadata": {},
   "outputs": [],
   "source": [
    "df_ntile_norm_afr_egfr_90 = df_ntile_norm_afr_egfr_count %>%\n",
    "filter(COUNT_PGS >= 90)\n",
    "nrow(df_ntile_norm_afr_egfr_90)\n",
    "nrow(df_ntile_norm_afr_egfr_90[df_ntile_norm_afr_egfr_90$IID %in% eur$IID,])\n",
    "nrow(df_ntile_norm_afr_egfr_90[df_ntile_norm_afr_egfr_90$IID %in% afr$IID,])"
   ]
  },
  {
   "cell_type": "code",
   "execution_count": null,
   "metadata": {},
   "outputs": [],
   "source": [
    "df_ntile_norm_afr_egfr_80 = df_ntile_norm_afr_egfr_count %>%\n",
    "filter(COUNT_PGS >= 80)\n",
    "nrow(df_ntile_norm_afr_egfr_80)\n",
    "nrow(df_ntile_norm_afr_egfr_80[df_ntile_norm_afr_egfr_80$IID %in% eur$IID,])\n",
    "nrow(df_ntile_norm_afr_egfr_80[df_ntile_norm_afr_egfr_80$IID %in% afr$IID,])"
   ]
  },
  {
   "cell_type": "code",
   "execution_count": null,
   "metadata": {},
   "outputs": [],
   "source": [
    "df_ntile_norm_afr_egfr_70 = df_ntile_norm_afr_egfr_count %>%\n",
    "filter(COUNT_PGS >= 70)\n",
    "nrow(df_ntile_norm_afr_egfr_70)\n",
    "nrow(df_ntile_norm_afr_egfr_70[df_ntile_norm_afr_egfr_70$IID %in% eur$IID,])\n",
    "nrow(df_ntile_norm_afr_egfr_70[df_ntile_norm_afr_egfr_70$IID %in% afr$IID,])"
   ]
  },
  {
   "cell_type": "code",
   "execution_count": null,
   "metadata": {},
   "outputs": [],
   "source": [
    "df_ntile_norm_afr_egfr_50 = df_ntile_norm_afr_egfr_count %>%\n",
    "filter(COUNT_PGS >= 50)\n",
    "nrow(df_ntile_norm_afr_egfr_50)\n",
    "nrow(df_ntile_norm_afr_egfr_50[df_ntile_norm_afr_egfr_50$IID %in% eur$IID,])\n",
    "nrow(df_ntile_norm_afr_egfr_50[df_ntile_norm_afr_egfr_50$IID %in% afr$IID,])"
   ]
  },
  {
   "cell_type": "markdown",
   "metadata": {},
   "source": [
    "#### bottom 2%"
   ]
  },
  {
   "cell_type": "code",
   "execution_count": null,
   "metadata": {},
   "outputs": [],
   "source": [
    "df_ntile_norm_afr_egfr_90_low = df_ntile_norm_afr_egfr_count_low %>%\n",
    "filter(COUNT_PGS >= 90)\n",
    "nrow(df_ntile_norm_afr_egfr_90_low)\n",
    "nrow(df_ntile_norm_afr_egfr_90_low[df_ntile_norm_afr_egfr_90_low$IID %in% eur$IID,])\n",
    "nrow(df_ntile_norm_afr_egfr_90_low[df_ntile_norm_afr_egfr_90_low$IID %in% afr$IID,])"
   ]
  },
  {
   "cell_type": "code",
   "execution_count": null,
   "metadata": {},
   "outputs": [],
   "source": [
    "df_ntile_norm_afr_egfr_80_low = df_ntile_norm_afr_egfr_count_low %>%\n",
    "filter(COUNT_PGS >= 80)\n",
    "nrow(df_ntile_norm_afr_egfr_80_low)\n",
    "nrow(df_ntile_norm_afr_egfr_80_low[df_ntile_norm_afr_egfr_80_low$IID %in% eur$IID,])\n",
    "nrow(df_ntile_norm_afr_egfr_80_low[df_ntile_norm_afr_egfr_80_low$IID %in% afr$IID,])"
   ]
  },
  {
   "cell_type": "code",
   "execution_count": null,
   "metadata": {},
   "outputs": [],
   "source": [
    "df_ntile_norm_afr_egfr_70_low = df_ntile_norm_afr_egfr_count_low %>%\n",
    "filter(COUNT_PGS >= 70)\n",
    "nrow(df_ntile_norm_afr_egfr_70_low)\n",
    "nrow(df_ntile_norm_afr_egfr_70_low[df_ntile_norm_afr_egfr_70_low$IID %in% eur$IID,])\n",
    "nrow(df_ntile_norm_afr_egfr_70_low[df_ntile_norm_afr_egfr_70_low$IID %in% afr$IID,])"
   ]
  },
  {
   "cell_type": "code",
   "execution_count": null,
   "metadata": {},
   "outputs": [],
   "source": [
    "df_ntile_norm_afr_egfr_50_low = df_ntile_norm_afr_egfr_count_low %>%\n",
    "filter(COUNT_PGS >= 50)\n",
    "nrow(df_ntile_norm_afr_egfr_50_low)\n",
    "nrow(df_ntile_norm_afr_egfr_50_low[df_ntile_norm_afr_egfr_50_low$IID %in% eur$IID,])\n",
    "nrow(df_ntile_norm_afr_egfr_50_low[df_ntile_norm_afr_egfr_50_low$IID %in% afr$IID,])"
   ]
  },
  {
   "cell_type": "code",
   "execution_count": null,
   "metadata": {},
   "outputs": [],
   "source": [
    "df_ntile_norm_afr_phe_70 = df_ntile_norm_afr_phe_count%>%\n",
    "filter(COUNT_PGS >= 70)\n",
    "nrow(df_ntile_norm_afr_phe_70)\n",
    "nrow(df_ntile_norm_afr_phe_70[df_ntile_norm_afr_phe_70$IID %in% eur$IID,])\n",
    "nrow(df_ntile_norm_afr_phe_70[df_ntile_norm_afr_phe_70$IID %in% afr$IID,])"
   ]
  },
  {
   "cell_type": "code",
   "execution_count": null,
   "metadata": {},
   "outputs": [],
   "source": [
    "df_ntile_norm_afr_phe_50 = df_ntile_norm_afr_phe_count%>%\n",
    "filter(COUNT_PGS >= 50)\n",
    "nrow(df_ntile_norm_afr_phe_50)\n",
    "nrow(df_ntile_norm_afr_phe_50[df_ntile_norm_afr_phe_50$IID %in% eur$IID,])\n",
    "nrow(df_ntile_norm_afr_phe_50[df_ntile_norm_afr_phe_50$IID %in% afr$IID,])"
   ]
  },
  {
   "cell_type": "code",
   "execution_count": null,
   "metadata": {},
   "outputs": [],
   "source": [
    "df_ntile_norm_amr_egfr_50 = df_ntile_norm_amr_egfr_count%>%\n",
    "filter(COUNT_PGS >= 50)\n",
    "nrow(df_ntile_norm_amr_egfr_50)\n",
    "nrow(df_ntile_norm_amr_egfr_50[df_ntile_norm_amr_egfr_50$IID %in% eur$IID,])\n",
    "nrow(df_ntile_norm_amr_egfr_50[df_ntile_norm_amr_egfr_50$IID %in% afr$IID,])"
   ]
  },
  {
   "cell_type": "markdown",
   "metadata": {},
   "source": [
    "### eur egfr"
   ]
  },
  {
   "cell_type": "markdown",
   "metadata": {},
   "source": [
    "#### top 2%"
   ]
  },
  {
   "cell_type": "code",
   "execution_count": null,
   "metadata": {},
   "outputs": [],
   "source": [
    "df_ntile_norm_eur_egfr_95 = df_ntile_norm_eur_egfr_count %>%\n",
    "filter(COUNT_PGS >= 95)\n",
    "nrow(df_ntile_norm_eur_egfr_95)\n",
    "nrow(df_ntile_norm_eur_egfr_95[df_ntile_norm_eur_egfr_95$IID %in% eur$IID,])\n",
    "nrow(df_ntile_norm_eur_egfr_95[df_ntile_norm_eur_egfr_95$IID %in% afr$IID,])"
   ]
  },
  {
   "cell_type": "code",
   "execution_count": null,
   "metadata": {},
   "outputs": [],
   "source": [
    "df_ntile_norm_eur_egfr_90 = df_ntile_norm_eur_egfr_count %>%\n",
    "filter(COUNT_PGS >= 90)\n",
    "nrow(df_ntile_norm_eur_egfr_90)\n",
    "nrow(df_ntile_norm_eur_egfr_90[df_ntile_norm_eur_egfr_90$IID %in% eur$IID,])\n",
    "nrow(df_ntile_norm_eur_egfr_90[df_ntile_norm_eur_egfr_90$IID %in% afr$IID,])"
   ]
  },
  {
   "cell_type": "code",
   "execution_count": null,
   "metadata": {},
   "outputs": [],
   "source": [
    "df_ntile_norm_eur_egfr_80 = df_ntile_norm_eur_egfr_count %>%\n",
    "filter(COUNT_PGS >= 80)\n",
    "nrow(df_ntile_norm_eur_egfr_80)\n",
    "nrow(df_ntile_norm_eur_egfr_80[df_ntile_norm_eur_egfr_80$IID %in% eur$IID,])\n",
    "nrow(df_ntile_norm_eur_egfr_80[df_ntile_norm_eur_egfr_80$IID %in% afr$IID,])"
   ]
  },
  {
   "cell_type": "code",
   "execution_count": null,
   "metadata": {},
   "outputs": [],
   "source": [
    "df_ntile_norm_eur_egfr_70 = df_ntile_norm_eur_egfr_count %>%\n",
    "filter(COUNT_PGS >= 70)\n",
    "nrow(df_ntile_norm_eur_egfr_70)\n",
    "nrow(df_ntile_norm_eur_egfr_70[df_ntile_norm_eur_egfr_70$IID %in% eur$IID,])\n",
    "nrow(df_ntile_norm_eur_egfr_70[df_ntile_norm_eur_egfr_70$IID %in% afr$IID,])"
   ]
  },
  {
   "cell_type": "code",
   "execution_count": null,
   "metadata": {},
   "outputs": [],
   "source": [
    "df_ntile_norm_eur_egfr_50 = df_ntile_norm_eur_egfr_count %>%\n",
    "filter(COUNT_PGS >= 50)\n",
    "nrow(df_ntile_norm_eur_egfr_50)\n",
    "nrow(df_ntile_norm_eur_egfr_50[df_ntile_norm_eur_egfr_50$IID %in% eur$IID,])\n",
    "nrow(df_ntile_norm_eur_egfr_50[df_ntile_norm_eur_egfr_50$IID %in% afr$IID,])"
   ]
  },
  {
   "cell_type": "markdown",
   "metadata": {},
   "source": [
    "#### bottom 2%"
   ]
  },
  {
   "cell_type": "code",
   "execution_count": null,
   "metadata": {},
   "outputs": [],
   "source": [
    "df_ntile_norm_eur_egfr_95_low = df_ntile_norm_eur_egfr_count_low %>%\n",
    "filter(COUNT_PGS >= 95)\n",
    "nrow(df_ntile_norm_eur_egfr_95_low)\n",
    "nrow(df_ntile_norm_eur_egfr_95_low[df_ntile_norm_eur_egfr_95_low$IID %in% eur$IID,])\n",
    "nrow(df_ntile_norm_eur_egfr_95_low[df_ntile_norm_eur_egfr_95_low$IID %in% afr$IID,])"
   ]
  },
  {
   "cell_type": "code",
   "execution_count": null,
   "metadata": {},
   "outputs": [],
   "source": [
    "df_ntile_norm_eur_egfr_90_low = df_ntile_norm_eur_egfr_count_low %>%\n",
    "filter(COUNT_PGS >= 90)\n",
    "nrow(df_ntile_norm_eur_egfr_90_low)\n",
    "nrow(df_ntile_norm_eur_egfr_90_low[df_ntile_norm_eur_egfr_90_low$IID %in% eur$IID,])\n",
    "nrow(df_ntile_norm_eur_egfr_90_low[df_ntile_norm_eur_egfr_90_low$IID %in% afr$IID,])"
   ]
  },
  {
   "cell_type": "code",
   "execution_count": null,
   "metadata": {},
   "outputs": [],
   "source": [
    "df_ntile_norm_eur_egfr_80_low = df_ntile_norm_eur_egfr_count_low %>%\n",
    "filter(COUNT_PGS >= 80)\n",
    "nrow(df_ntile_norm_eur_egfr_80_low)\n",
    "nrow(df_ntile_norm_eur_egfr_80_low[df_ntile_norm_eur_egfr_80_low$IID %in% eur$IID,])\n",
    "nrow(df_ntile_norm_eur_egfr_80_low[df_ntile_norm_eur_egfr_80_low$IID %in% afr$IID,])"
   ]
  },
  {
   "cell_type": "code",
   "execution_count": null,
   "metadata": {},
   "outputs": [],
   "source": [
    "df_ntile_norm_eur_egfr_70_low = df_ntile_norm_eur_egfr_count_low %>%\n",
    "filter(COUNT_PGS >= 70)\n",
    "nrow(df_ntile_norm_eur_egfr_70_low)\n",
    "nrow(df_ntile_norm_eur_egfr_70_low[df_ntile_norm_eur_egfr_70_low$IID %in% eur$IID,])\n",
    "nrow(df_ntile_norm_eur_egfr_70_low[df_ntile_norm_eur_egfr_70_low$IID %in% afr$IID,])"
   ]
  },
  {
   "cell_type": "code",
   "execution_count": null,
   "metadata": {},
   "outputs": [],
   "source": [
    "df_ntile_norm_eur_egfr_50_low = df_ntile_norm_eur_egfr_count_low %>%\n",
    "filter(COUNT_PGS >= 50)\n",
    "nrow(df_ntile_norm_eur_egfr_50_low)\n",
    "nrow(df_ntile_norm_eur_egfr_50_low[df_ntile_norm_eur_egfr_50_low$IID %in% eur$IID,])\n",
    "nrow(df_ntile_norm_eur_egfr_50_low[df_ntile_norm_eur_egfr_50_low$IID %in% afr$IID,])"
   ]
  },
  {
   "cell_type": "code",
   "execution_count": null,
   "metadata": {},
   "outputs": [],
   "source": [
    "df_ntile_norm_eur_phe_50 = df_ntile_norm_eur_phe_count%>%\n",
    "filter(COUNT_PGS >= 50)\n",
    "nrow(df_ntile_norm_eur_phe_50)\n",
    "nrow(df_ntile_norm_eur_phe_50[df_ntile_norm_eur_phe_50$IID %in% eur$IID,])\n",
    "nrow(df_ntile_norm_eur_phe_50[df_ntile_norm_eur_phe_50$IID %in% afr$IID,])"
   ]
  },
  {
   "cell_type": "code",
   "execution_count": null,
   "metadata": {},
   "outputs": [],
   "source": [
    "df_ntile_norm_eas_egfr_70 = df_ntile_norm_eas_egfr_count%>%\n",
    "filter(COUNT_PGS >= 70)\n",
    "nrow(df_ntile_norm_eas_egfr_70)\n",
    "nrow(df_ntile_norm_eas_egfr_70[df_ntile_norm_eas_egfr_70$IID %in% eur$IID,])\n",
    "nrow(df_ntile_norm_eas_egfr_70[df_ntile_norm_eas_egfr_70$IID %in% afr$IID,])"
   ]
  },
  {
   "cell_type": "code",
   "execution_count": null,
   "metadata": {},
   "outputs": [],
   "source": [
    "df_ntile_norm_eas_egfr_50 = df_ntile_norm_eas_egfr_count%>%\n",
    "filter(COUNT_PGS >= 50)\n",
    "nrow(df_ntile_norm_eas_egfr_50)\n",
    "nrow(df_ntile_norm_eas_egfr_50[df_ntile_norm_eas_egfr_50$IID %in% eur$IID,])\n",
    "nrow(df_ntile_norm_eas_egfr_50[df_ntile_norm_eas_egfr_50$IID %in% afr$IID,])"
   ]
  },
  {
   "cell_type": "markdown",
   "metadata": {},
   "source": [
    "### meta egfr"
   ]
  },
  {
   "cell_type": "markdown",
   "metadata": {},
   "source": [
    "#### top 2%"
   ]
  },
  {
   "cell_type": "code",
   "execution_count": null,
   "metadata": {},
   "outputs": [],
   "source": [
    "df_ntile_norm_meta_egfr_95 = df_ntile_norm_meta_egfr_count %>%\n",
    "filter(COUNT_PGS >= (95 * 4))\n",
    "nrow(df_ntile_norm_meta_egfr_95)\n",
    "nrow(df_ntile_norm_meta_egfr_95[df_ntile_norm_meta_egfr_95$IID %in% eur$IID,])\n",
    "nrow(df_ntile_norm_meta_egfr_95[df_ntile_norm_meta_egfr_95$IID %in% afr$IID,])"
   ]
  },
  {
   "cell_type": "code",
   "execution_count": null,
   "metadata": {},
   "outputs": [],
   "source": [
    "df_ntile_norm_meta_egfr_90 = df_ntile_norm_meta_egfr_count %>%\n",
    "filter(COUNT_PGS >= (90 * 4))\n",
    "nrow(df_ntile_norm_meta_egfr_90)\n",
    "nrow(df_ntile_norm_meta_egfr_90[df_ntile_norm_meta_egfr_90$IID %in% eur$IID,])\n",
    "nrow(df_ntile_norm_meta_egfr_90[df_ntile_norm_meta_egfr_90$IID %in% afr$IID,])"
   ]
  },
  {
   "cell_type": "code",
   "execution_count": null,
   "metadata": {},
   "outputs": [],
   "source": [
    "df_ntile_norm_meta_egfr_80 = df_ntile_norm_meta_egfr_count %>%\n",
    "filter(COUNT_PGS >= (80 * 4))\n",
    "nrow(df_ntile_norm_meta_egfr_80)\n",
    "nrow(df_ntile_norm_meta_egfr_80[df_ntile_norm_meta_egfr_80$IID %in% eur$IID,])\n",
    "nrow(df_ntile_norm_meta_egfr_80[df_ntile_norm_meta_egfr_80$IID %in% afr$IID,])"
   ]
  },
  {
   "cell_type": "code",
   "execution_count": null,
   "metadata": {},
   "outputs": [],
   "source": [
    "df_ntile_norm_meta_egfr_70 = df_ntile_norm_meta_egfr_count %>%\n",
    "filter(COUNT_PGS >= (70 * 4))\n",
    "nrow(df_ntile_norm_meta_egfr_70)\n",
    "nrow(df_ntile_norm_meta_egfr_70[df_ntile_norm_meta_egfr_70$IID %in% eur$IID,])\n",
    "nrow(df_ntile_norm_meta_egfr_70[df_ntile_norm_meta_egfr_70$IID %in% afr$IID,])"
   ]
  },
  {
   "cell_type": "code",
   "execution_count": null,
   "metadata": {},
   "outputs": [],
   "source": [
    "df_ntile_norm_meta_egfr_50 = df_ntile_norm_meta_egfr_count %>%\n",
    "filter(COUNT_PGS >= (50 * 4))\n",
    "nrow(df_ntile_norm_meta_egfr_50)\n",
    "nrow(df_ntile_norm_meta_egfr_50[df_ntile_norm_meta_egfr_50$IID %in% eur$IID,])\n",
    "nrow(df_ntile_norm_meta_egfr_50[df_ntile_norm_meta_egfr_50$IID %in% afr$IID,])"
   ]
  },
  {
   "cell_type": "markdown",
   "metadata": {},
   "source": [
    "#### bottom 2%"
   ]
  },
  {
   "cell_type": "code",
   "execution_count": null,
   "metadata": {},
   "outputs": [],
   "source": [
    "df_ntile_norm_meta_egfr_95_low = df_ntile_norm_meta_egfr_count_low %>%\n",
    "filter(COUNT_PGS >= (95 * 4))\n",
    "nrow(df_ntile_norm_meta_egfr_95_low)\n",
    "nrow(df_ntile_norm_meta_egfr_95_low[df_ntile_norm_meta_egfr_95_low$IID %in% eur$IID,])\n",
    "nrow(df_ntile_norm_meta_egfr_95_low[df_ntile_norm_meta_egfr_95_low$IID %in% afr$IID,])"
   ]
  },
  {
   "cell_type": "code",
   "execution_count": null,
   "metadata": {},
   "outputs": [],
   "source": [
    "df_ntile_norm_meta_egfr_90_low = df_ntile_norm_meta_egfr_count_low %>%\n",
    "filter(COUNT_PGS >= (90 * 4))\n",
    "nrow(df_ntile_norm_meta_egfr_90_low)\n",
    "nrow(df_ntile_norm_meta_egfr_90_low[df_ntile_norm_meta_egfr_90_low$IID %in% eur$IID,])\n",
    "nrow(df_ntile_norm_meta_egfr_90_low[df_ntile_norm_meta_egfr_90_low$IID %in% afr$IID,])"
   ]
  },
  {
   "cell_type": "code",
   "execution_count": null,
   "metadata": {},
   "outputs": [],
   "source": [
    "df_ntile_norm_meta_egfr_80_low = df_ntile_norm_meta_egfr_count_low %>%\n",
    "filter(COUNT_PGS >= (80 * 4))\n",
    "nrow(df_ntile_norm_meta_egfr_80_low)\n",
    "nrow(df_ntile_norm_meta_egfr_80_low[df_ntile_norm_meta_egfr_80_low$IID %in% eur$IID,])\n",
    "nrow(df_ntile_norm_meta_egfr_80_low[df_ntile_norm_meta_egfr_80_low$IID %in% afr$IID,])"
   ]
  },
  {
   "cell_type": "code",
   "execution_count": null,
   "metadata": {},
   "outputs": [],
   "source": [
    "df_ntile_norm_meta_egfr_70_low = df_ntile_norm_meta_egfr_count_low %>%\n",
    "filter(COUNT_PGS >= (70 * 4))\n",
    "nrow(df_ntile_norm_meta_egfr_70_low)\n",
    "nrow(df_ntile_norm_meta_egfr_70_low[df_ntile_norm_meta_egfr_70_low$IID %in% eur$IID,])\n",
    "nrow(df_ntile_norm_meta_egfr_70_low[df_ntile_norm_meta_egfr_70_low$IID %in% afr$IID,])"
   ]
  },
  {
   "cell_type": "code",
   "execution_count": null,
   "metadata": {},
   "outputs": [],
   "source": [
    "df_ntile_norm_meta_egfr_50_low = df_ntile_norm_meta_egfr_count_low %>%\n",
    "filter(COUNT_PGS >= (50 * 4))\n",
    "nrow(df_ntile_norm_meta_egfr_50_low)\n",
    "nrow(df_ntile_norm_meta_egfr_50_low[df_ntile_norm_meta_egfr_50_low$IID %in% eur$IID,])\n",
    "nrow(df_ntile_norm_meta_egfr_50_low[df_ntile_norm_meta_egfr_50_low$IID %in% afr$IID,])"
   ]
  },
  {
   "cell_type": "markdown",
   "metadata": {},
   "source": [
    "# calculate stability"
   ]
  },
  {
   "cell_type": "markdown",
   "metadata": {},
   "source": [
    "## read in input files (if needed)"
   ]
  },
  {
   "cell_type": "markdown",
   "metadata": {},
   "source": [
    "### all"
   ]
  },
  {
   "cell_type": "code",
   "execution_count": null,
   "metadata": {},
   "outputs": [],
   "source": [
    "model_metrics_df = read.csv('output/performance_metrics/PMBB_v3.ALL.CKD.YK_Phenotyping.PGS_Znorm2.cv_glm.perf_model.performance_metrics.txt',\n",
    "                            sep = '\\t')"
   ]
  },
  {
   "cell_type": "markdown",
   "metadata": {},
   "source": [
    "### all individuals multiancestry scores"
   ]
  },
  {
   "cell_type": "code",
   "execution_count": null,
   "metadata": {},
   "outputs": [],
   "source": [
    "model_metrics_df_multiancestry_score = read.csv('output/performance_metrics/PMBB_v3.ALL.CKD.YK_Phenotyping.PGS_Znorm2.multiancestry_scores.cv_glm.perf_model.performance_metrics.txt',\n",
    "                                                sep = '\\t')"
   ]
  },
  {
   "cell_type": "markdown",
   "metadata": {},
   "source": [
    "### eur"
   ]
  },
  {
   "cell_type": "code",
   "execution_count": null,
   "metadata": {},
   "outputs": [],
   "source": [
    "model_metrics_df_eur = read.csv('output/performance_metrics/PMBB_v3.EUR.CKD.YK_Phenotyping.PGS_Znorm2.cv_glm.perf_model.performance_metrics.txt',\n",
    "                                sep = '\\t')"
   ]
  },
  {
   "cell_type": "markdown",
   "metadata": {},
   "source": [
    "### eur individuals multiancestry scores"
   ]
  },
  {
   "cell_type": "code",
   "execution_count": null,
   "metadata": {},
   "outputs": [],
   "source": [
    "model_metrics_df_eur_multiancestry_score = read.csv('output/performance_metrics/PMBB_v3.EUR.CKD.YK_Phenotyping.PGS_Znorm2.multiancestry_scores.cv_glm.perf_model.performance_metrics.txt',\n",
    "                                                    sep = '\\t')"
   ]
  },
  {
   "cell_type": "markdown",
   "metadata": {},
   "source": [
    "### afr"
   ]
  },
  {
   "cell_type": "code",
   "execution_count": null,
   "metadata": {},
   "outputs": [],
   "source": [
    "model_metrics_df_afr = read.csv('output/performance_metrics/PMBB_v3.AFR.CKD.YK_Phenotyping.PGS_Znorm2.cv_glm.perf_model.performance_metrics.txt',\n",
    "                                sep = '\\t')"
   ]
  },
  {
   "cell_type": "markdown",
   "metadata": {},
   "source": [
    "### afr individuals multiancestry scores"
   ]
  },
  {
   "cell_type": "code",
   "execution_count": null,
   "metadata": {},
   "outputs": [],
   "source": [
    "model_metrics_df_afr_multiancestry_score = read.csv('output/performance_metrics/PMBB_v3.AFR.CKD.YK_Phenotyping.PGS_Znorm2.multiancestry_scores.cv_glm.perf_model.performance_metrics.txt',\n",
    "                                                    sep = '\\t')"
   ]
  },
  {
   "cell_type": "markdown",
   "metadata": {},
   "source": [
    "## create function (if needed)"
   ]
  },
  {
   "cell_type": "code",
   "execution_count": null,
   "metadata": {},
   "outputs": [],
   "source": [
    "equiv_scores <- function(df, criteria, ntile = FALSE) {\n",
    "    # Ensure criteria is a column in df\n",
    "    if (!criteria %in% names(df)) {\n",
    "        stop(paste0(\"Criteria column \", criteria, \" not found in dataframe\"))\n",
    "    }\n",
    "  \n",
    "    # Filter models based on criteria for each group\n",
    "    models <- df %>%\n",
    "    group_by(model) %>%\n",
    "    filter(all(.data[[criteria]] == 1)) %>%\n",
    "    ungroup() %>%\n",
    "    pull(model) %>%\n",
    "    unique()\n",
    "  \n",
    "    # Sort models\n",
    "    sorted_models <- models\n",
    "  \n",
    "    # Return the appropriate list based on ntile flag\n",
    "    if (ntile) {\n",
    "        ntile_list <- paste(\"ntile_\", sorted_models, sep = \"\")\n",
    "        return(ntile_list)\n",
    "    } else {\n",
    "        return(sorted_models)\n",
    "    }\n",
    "}"
   ]
  },
  {
   "cell_type": "markdown",
   "metadata": {},
   "source": [
    "## simulate null data"
   ]
  },
  {
   "cell_type": "code",
   "execution_count": null,
   "metadata": {},
   "outputs": [],
   "source": [
    "sim_null = df_ntile_norm %>%\n",
    "select(IID, PGS) %>%\n",
    "mutate(ntile = rtruncnorm(n(), a = 0, b = 100, mean = 50, sd = 15))\n",
    "nrow(df_ntile_norm)\n",
    "nrow(sim_null)\n",
    "head(sim_null)"
   ]
  },
  {
   "cell_type": "code",
   "execution_count": null,
   "metadata": {},
   "outputs": [],
   "source": [
    "summary(df_ntile_norm$ntile)"
   ]
  },
  {
   "cell_type": "code",
   "execution_count": null,
   "metadata": {},
   "outputs": [],
   "source": [
    "summary(sim_null$ntile)"
   ]
  },
  {
   "cell_type": "markdown",
   "metadata": {},
   "source": [
    "## calculate number of >=98th percentile classifications per each score and individual"
   ]
  },
  {
   "cell_type": "markdown",
   "metadata": {},
   "source": [
    "### all"
   ]
  },
  {
   "cell_type": "code",
   "execution_count": null,
   "metadata": {},
   "outputs": [],
   "source": [
    "ntile_list <- equiv_scores(model_metrics_df, \"ROPE_02\", ntile = FALSE)\n",
    "n_scores = length(ntile_list)\n",
    "print(n_scores)\n",
    "\n",
    "n_class = df_ntile_norm %>%\n",
    "filter(PGS %in% ntile_list) %>%\n",
    "filter(ntile >= 98) %>%\n",
    "group_by(IID) %>%\n",
    "summarise(COUNT_PGS = n_distinct(PGS)) %>%\n",
    "mutate(STABILITY = (COUNT_PGS/n_scores) * 100)\n",
    "\n",
    "head(n_class)\n",
    "summary(n_class$COUNT_PGS)\n",
    "summary(n_class$STABILITY)\n",
    "length(unique(n_class$IID))"
   ]
  },
  {
   "cell_type": "markdown",
   "metadata": {},
   "source": [
    "### all individuals multiancestry scores"
   ]
  },
  {
   "cell_type": "code",
   "execution_count": null,
   "metadata": {},
   "outputs": [],
   "source": [
    "ntile_list <- equiv_scores(model_metrics_df_multiancestry_score, \"ROPE_02\", ntile = FALSE)\n",
    "n_scores = length(ntile_list)\n",
    "print(n_scores)\n",
    "\n",
    "n_class_multiancestry_score = df_ntile_norm_multiancestry_score %>%\n",
    "filter(PGS %in% ntile_list) %>%\n",
    "filter(ntile >= 98) %>%\n",
    "group_by(IID) %>%\n",
    "summarise(COUNT_PGS = n_distinct(PGS)) %>%\n",
    "mutate(STABILITY = (COUNT_PGS/n_scores) * 100)\n",
    "\n",
    "head(n_class_multiancestry_score)\n",
    "summary(n_class_multiancestry_score$COUNT_PGS)\n",
    "summary(n_class_multiancestry_score$STABILITY)\n",
    "length(unique(n_class_multiancestry_score$IID))"
   ]
  },
  {
   "cell_type": "markdown",
   "metadata": {},
   "source": [
    "### eur"
   ]
  },
  {
   "cell_type": "code",
   "execution_count": null,
   "metadata": {},
   "outputs": [],
   "source": [
    "ntile_list <- equiv_scores(model_metrics_df, \"ROPE_02\", ntile = FALSE)\n",
    "n_scores = length(ntile_list)\n",
    "print(n_scores)\n",
    "\n",
    "n_class_eur = df_ntile_norm_eur %>%\n",
    "filter(PGS %in% ntile_list) %>%\n",
    "filter(ntile >= 98) %>%\n",
    "group_by(IID) %>%\n",
    "summarise(COUNT_PGS = n_distinct(PGS)) %>%\n",
    "mutate(STABILITY = (COUNT_PGS/n_scores) * 100)\n",
    "\n",
    "head(n_class_eur)\n",
    "summary(n_class_eur$COUNT_PGS)\n",
    "summary(n_class_eur$STABILITY)\n",
    "length(unique(n_class_eur$IID))"
   ]
  },
  {
   "cell_type": "markdown",
   "metadata": {},
   "source": [
    "### eur individuals multiancestry scores"
   ]
  },
  {
   "cell_type": "code",
   "execution_count": null,
   "metadata": {},
   "outputs": [],
   "source": [
    "ntile_list <- equiv_scores(model_metrics_df_multiancestry_score, \"ROPE_02\", ntile = FALSE)\n",
    "n_scores = length(ntile_list)\n",
    "print(n_scores)\n",
    "\n",
    "n_class_eur_multiancestry_score = df_ntile_norm_eur_multiancestry_score %>%\n",
    "filter(PGS %in% ntile_list) %>%\n",
    "filter(ntile >= 98) %>%\n",
    "group_by(IID) %>%\n",
    "summarise(COUNT_PGS = n_distinct(PGS)) %>%\n",
    "mutate(STABILITY = (COUNT_PGS/n_scores) * 100)\n",
    "\n",
    "head(n_class_eur_multiancestry_score)\n",
    "summary(n_class_eur_multiancestry_score$COUNT_PGS)\n",
    "summary(n_class_eur_multiancestry_score$STABILITY)\n",
    "length(unique(n_class_eur_multiancestry_score$IID))"
   ]
  },
  {
   "cell_type": "markdown",
   "metadata": {},
   "source": [
    "### afr"
   ]
  },
  {
   "cell_type": "code",
   "execution_count": null,
   "metadata": {},
   "outputs": [],
   "source": [
    "ntile_list <- equiv_scores(model_metrics_df, \"ROPE_02\", ntile = FALSE)\n",
    "n_scores = length(ntile_list)\n",
    "print(n_scores)\n",
    "\n",
    "n_class_afr = df_ntile_norm_afr %>%\n",
    "filter(PGS %in% ntile_list) %>%\n",
    "filter(ntile >= 98) %>%\n",
    "group_by(IID) %>%\n",
    "summarise(COUNT_PGS = n_distinct(PGS)) %>%\n",
    "mutate(STABILITY = (COUNT_PGS/n_scores) * 100)\n",
    "\n",
    "head(n_class_afr)\n",
    "summary(n_class_afr$COUNT_PGS)\n",
    "summary(n_class_afr$STABILITY)\n",
    "length(unique(n_class_afr$IID))"
   ]
  },
  {
   "cell_type": "markdown",
   "metadata": {},
   "source": [
    "### afr individuals multiancestry scores"
   ]
  },
  {
   "cell_type": "code",
   "execution_count": null,
   "metadata": {},
   "outputs": [],
   "source": [
    "ntile_list <- equiv_scores(model_metrics_df_multiancestry_score, \"ROPE_02\", ntile = FALSE)\n",
    "n_scores = length(ntile_list)\n",
    "print(n_scores)\n",
    "\n",
    "n_class_afr_multiancestry_score = df_ntile_norm_afr_multiancestry_score %>%\n",
    "filter(PGS %in% ntile_list) %>%\n",
    "filter(ntile >= 98) %>%\n",
    "group_by(IID) %>%\n",
    "summarise(COUNT_PGS = n_distinct(PGS)) %>%\n",
    "mutate(STABILITY = (COUNT_PGS/n_scores) * 100)\n",
    "\n",
    "head(n_class_afr_multiancestry_score)\n",
    "summary(n_class_afr_multiancestry_score$COUNT_PGS)\n",
    "summary(n_class_afr_multiancestry_score$STABILITY)\n",
    "length(unique(n_class_afr_multiancestry_score$IID))"
   ]
  },
  {
   "cell_type": "markdown",
   "metadata": {},
   "source": [
    "### simulated data- all scores"
   ]
  },
  {
   "cell_type": "code",
   "execution_count": null,
   "metadata": {},
   "outputs": [],
   "source": [
    "ntile_list <- equiv_scores(model_metrics_df, \"ROPE_02\", ntile = FALSE)\n",
    "n_scores = length(ntile_list)\n",
    "print(n_scores)\n",
    "\n",
    "n_class_sim_null = sim_null %>%\n",
    "filter(PGS %in% ntile_list) %>%\n",
    "filter(ntile >= 98) %>%\n",
    "group_by(IID) %>%\n",
    "summarise(COUNT_PGS = n_distinct(PGS)) %>%\n",
    "mutate(STABILITY = (COUNT_PGS/n_scores) * 100)\n",
    "\n",
    "head(n_class_sim_null)\n",
    "summary(n_class_sim_null$COUNT_PGS)\n",
    "summary(n_class_sim_null$STABILITY)\n",
    "length(unique(n_class_sim_null$IID))"
   ]
  },
  {
   "cell_type": "markdown",
   "metadata": {},
   "source": [
    "### simulated data- eur/multiancestry scores only"
   ]
  },
  {
   "cell_type": "code",
   "execution_count": null,
   "metadata": {},
   "outputs": [],
   "source": [
    "ntile_list <- equiv_scores(model_metrics_df_multiancestry_score, \"ROPE_02\", ntile = FALSE)\n",
    "n_scores = length(ntile_list)\n",
    "print(n_scores)\n",
    "\n",
    "n_class_sim_null_multiancestry_score = sim_null %>%\n",
    "filter(PGS %in% ntile_list) %>%\n",
    "filter(ntile >= 98) %>%\n",
    "group_by(IID) %>%\n",
    "summarise(COUNT_PGS = n_distinct(PGS)) %>%\n",
    "mutate(STABILITY = (COUNT_PGS/n_scores) * 100)\n",
    "\n",
    "head(n_class_sim_null_multiancestry_score)\n",
    "summary(n_class_sim_null_multiancestry_score$COUNT_PGS)\n",
    "summary(n_class_sim_null_multiancestry_score$STABILITY)\n",
    "length(unique(n_class_sim_null_multiancestry_score$IID))"
   ]
  },
  {
   "cell_type": "markdown",
   "metadata": {},
   "source": [
    "## calculate number of <=2nd percentile classifications per each score and individual"
   ]
  },
  {
   "cell_type": "markdown",
   "metadata": {},
   "source": [
    "### all"
   ]
  },
  {
   "cell_type": "code",
   "execution_count": null,
   "metadata": {},
   "outputs": [],
   "source": [
    "ntile_list <- equiv_scores(model_metrics_df, \"ROPE_02\", ntile = FALSE)\n",
    "n_scores = length(ntile_list)\n",
    "print(n_scores)\n",
    "\n",
    "n_class_low = df_ntile_norm %>%\n",
    "filter(PGS %in% ntile_list) %>%\n",
    "filter(ntile <= 2) %>%\n",
    "group_by(IID) %>%\n",
    "summarise(COUNT_PGS = n_distinct(PGS)) %>%\n",
    "mutate(STABILITY = (COUNT_PGS/n_scores) * 100)\n",
    "\n",
    "head(n_class_low)\n",
    "summary(n_class_low$COUNT_PGS)\n",
    "summary(n_class_low$STABILITY)\n",
    "length(unique(n_class_low$IID))"
   ]
  },
  {
   "cell_type": "markdown",
   "metadata": {},
   "source": [
    "### all individuals multiancesty scores"
   ]
  },
  {
   "cell_type": "code",
   "execution_count": null,
   "metadata": {},
   "outputs": [],
   "source": [
    "ntile_list <- equiv_scores(model_metrics_df_multiancestry_score, \"ROPE_02\", ntile = FALSE)\n",
    "n_scores = length(ntile_list)\n",
    "print(n_scores)\n",
    "\n",
    "n_class_low_multiancestry_score = df_ntile_norm_multiancestry_score %>%\n",
    "filter(PGS %in% ntile_list) %>%\n",
    "filter(ntile <= 2) %>%\n",
    "group_by(IID) %>%\n",
    "summarise(COUNT_PGS = n_distinct(PGS)) %>%\n",
    "mutate(STABILITY = (COUNT_PGS/n_scores) * 100)\n",
    "\n",
    "head(n_class_low_multiancestry_score)\n",
    "summary(n_class_low_multiancestry_score$COUNT_PGS)\n",
    "summary(n_class_low_multiancestry_score$STABILITY)\n",
    "length(unique(n_class_low_multiancestry_score$IID))"
   ]
  },
  {
   "cell_type": "markdown",
   "metadata": {},
   "source": [
    "### eur"
   ]
  },
  {
   "cell_type": "code",
   "execution_count": null,
   "metadata": {},
   "outputs": [],
   "source": [
    "ntile_list <- equiv_scores(model_metrics_df, \"ROPE_02\", ntile = FALSE)\n",
    "n_scores = length(ntile_list)\n",
    "print(n_scores)\n",
    "\n",
    "n_class_low_eur = df_ntile_norm_eur %>%\n",
    "filter(PGS %in% ntile_list) %>%\n",
    "filter(ntile <= 2) %>%\n",
    "group_by(IID) %>%\n",
    "summarise(COUNT_PGS = n_distinct(PGS)) %>%\n",
    "mutate(STABILITY = (COUNT_PGS/n_scores) * 100)\n",
    "\n",
    "head(n_class_low_eur)\n",
    "summary(n_class_low_eur$COUNT_PGS)\n",
    "summary(n_class_low_eur$STABILITY)\n",
    "length(unique(n_class_low_eur$IID))"
   ]
  },
  {
   "cell_type": "markdown",
   "metadata": {},
   "source": [
    "### eur individuals multiancestry scores"
   ]
  },
  {
   "cell_type": "code",
   "execution_count": null,
   "metadata": {},
   "outputs": [],
   "source": [
    "ntile_list <- equiv_scores(model_metrics_df_multiancestry_score, \"ROPE_02\", ntile = FALSE)\n",
    "n_scores = length(ntile_list)\n",
    "print(n_scores)\n",
    "\n",
    "n_class_low_eur_multiancestry_score = df_ntile_norm_eur_multiancestry_score %>%\n",
    "filter(PGS %in% ntile_list) %>%\n",
    "filter(ntile <= 2) %>%\n",
    "group_by(IID) %>%\n",
    "summarise(COUNT_PGS = n_distinct(PGS)) %>%\n",
    "mutate(STABILITY = (COUNT_PGS/n_scores) * 100)\n",
    "\n",
    "head(n_class_low_eur_multiancestry_score)\n",
    "summary(n_class_low_eur_multiancestry_score$COUNT_PGS)\n",
    "summary(n_class_low_eur_multiancestry_score$STABILITY)\n",
    "length(unique(n_class_low_eur_multiancestry_score$IID))"
   ]
  },
  {
   "cell_type": "markdown",
   "metadata": {},
   "source": [
    "### afr"
   ]
  },
  {
   "cell_type": "code",
   "execution_count": null,
   "metadata": {},
   "outputs": [],
   "source": [
    "ntile_list <- equiv_scores(model_metrics_df, \"ROPE_02\", ntile = FALSE)\n",
    "n_scores = length(ntile_list)\n",
    "print(n_scores)\n",
    "\n",
    "n_class_low_afr = df_ntile_norm_afr %>%\n",
    "filter(PGS %in% ntile_list) %>%\n",
    "filter(ntile <= 2) %>%\n",
    "group_by(IID) %>%\n",
    "summarise(COUNT_PGS = n_distinct(PGS)) %>%\n",
    "mutate(STABILITY = (COUNT_PGS/n_scores) * 100)\n",
    "\n",
    "head(n_class_low_afr)\n",
    "summary(n_class_low_afr$COUNT_PGS)\n",
    "summary(n_class_low_afr$STABILITY)\n",
    "length(unique(n_class_low_afr$IID))"
   ]
  },
  {
   "cell_type": "markdown",
   "metadata": {},
   "source": [
    "### afr individuals multiancestry scores"
   ]
  },
  {
   "cell_type": "code",
   "execution_count": null,
   "metadata": {},
   "outputs": [],
   "source": [
    "ntile_list <- equiv_scores(model_metrics_df_multiancestry_score, \"ROPE_02\", ntile = FALSE)\n",
    "n_scores = length(ntile_list)\n",
    "print(n_scores)\n",
    "\n",
    "n_class_low_afr_multiancestry_score = df_ntile_norm_afr_multiancestry_score %>%\n",
    "filter(PGS %in% ntile_list) %>%\n",
    "filter(ntile <= 2) %>%\n",
    "group_by(IID) %>%\n",
    "summarise(COUNT_PGS = n_distinct(PGS)) %>%\n",
    "mutate(STABILITY = (COUNT_PGS/n_scores) * 100)\n",
    "\n",
    "head(n_class_low_afr_multiancestry_score)\n",
    "summary(n_class_low_afr_multiancestry_score$COUNT_PGS)\n",
    "summary(n_class_low_afr_multiancestry_score$STABILITY)\n",
    "length(unique(n_class_low_afr_multiancestry_score$IID))"
   ]
  },
  {
   "cell_type": "markdown",
   "metadata": {},
   "source": [
    "### simulated data- all scores"
   ]
  },
  {
   "cell_type": "code",
   "execution_count": null,
   "metadata": {},
   "outputs": [],
   "source": [
    "ntile_list <- equiv_scores(model_metrics_df, \"ROPE_02\", ntile = FALSE)\n",
    "n_scores = length(ntile_list)\n",
    "print(n_scores)\n",
    "\n",
    "n_class_low_sim_null = sim_null %>%\n",
    "filter(PGS %in% ntile_list) %>%\n",
    "filter(ntile <= 2) %>%\n",
    "group_by(IID) %>%\n",
    "summarise(COUNT_PGS = n_distinct(PGS)) %>%\n",
    "mutate(STABILITY = (COUNT_PGS/n_scores) * 100)\n",
    "\n",
    "head(n_class_low_sim_null)\n",
    "summary(n_class_low_sim_null$COUNT_PGS)\n",
    "summary(n_class_low_sim_null$STABILITY)\n",
    "length(unique(n_class_low_sim_null$IID))"
   ]
  },
  {
   "cell_type": "markdown",
   "metadata": {},
   "source": [
    "### simulated data- eur/multiancestry scores"
   ]
  },
  {
   "cell_type": "code",
   "execution_count": null,
   "metadata": {},
   "outputs": [],
   "source": [
    "ntile_list <- equiv_scores(model_metrics_df_multiancestry_score, \"ROPE_02\", ntile = FALSE)\n",
    "n_scores = length(ntile_list)\n",
    "print(n_scores)\n",
    "\n",
    "n_class_low_sim_null_multiancestry_score = sim_null %>%\n",
    "filter(PGS %in% ntile_list) %>%\n",
    "filter(ntile <= 2) %>%\n",
    "group_by(IID) %>%\n",
    "summarise(COUNT_PGS = n_distinct(PGS)) %>%\n",
    "mutate(STABILITY = (COUNT_PGS/n_scores) * 100)\n",
    "\n",
    "head(n_class_low_sim_null_multiancestry_score)\n",
    "summary(n_class_low_sim_null_multiancestry_score$COUNT_PGS)\n",
    "summary(n_class_low_sim_null_multiancestry_score$STABILITY)\n",
    "length(unique(n_class_low_sim_null_multiancestry_score$IID))"
   ]
  },
  {
   "cell_type": "markdown",
   "metadata": {},
   "source": [
    "## filter to high confidence individuals >= 98th percentile"
   ]
  },
  {
   "cell_type": "markdown",
   "metadata": {},
   "source": [
    "### all"
   ]
  },
  {
   "cell_type": "markdown",
   "metadata": {},
   "source": [
    "#### eur eGFR"
   ]
  },
  {
   "cell_type": "code",
   "execution_count": null,
   "metadata": {},
   "outputs": [],
   "source": [
    "n_class_eur_egfr_95 = n_class[n_class$IID %in% df_ntile_norm_eur_egfr_95$IID,]\n",
    "\n",
    "summary(n_class_eur_egfr_95$COUNT_PGS)\n",
    "summary(n_class_eur_egfr_95$STABILITY)\n",
    "length(unique(n_class_eur_egfr_95$IID))"
   ]
  },
  {
   "cell_type": "code",
   "execution_count": null,
   "metadata": {},
   "outputs": [],
   "source": [
    "n_class_eur_egfr_90 = n_class[n_class$IID %in% df_ntile_norm_eur_egfr_90$IID,]\n",
    "\n",
    "summary(n_class_eur_egfr_90$COUNT_PGS)\n",
    "summary(n_class_eur_egfr_90$STABILITY)\n",
    "length(unique(n_class_eur_egfr_90$IID))"
   ]
  },
  {
   "cell_type": "code",
   "execution_count": null,
   "metadata": {},
   "outputs": [],
   "source": [
    "n_class_eur_egfr_80 = n_class[n_class$IID %in% df_ntile_norm_eur_egfr_80$IID,]\n",
    "\n",
    "summary(n_class_eur_egfr_80$COUNT_PGS)\n",
    "summary(n_class_eur_egfr_80$STABILITY)\n",
    "length(unique(n_class_eur_egfr_80$IID))"
   ]
  },
  {
   "cell_type": "code",
   "execution_count": null,
   "metadata": {},
   "outputs": [],
   "source": [
    "n_class_eur_egfr_70 = n_class[n_class$IID %in% df_ntile_norm_eur_egfr_70$IID,]\n",
    "\n",
    "summary(n_class_eur_egfr_70$COUNT_PGS)\n",
    "summary(n_class_eur_egfr_70$STABILITY)\n",
    "length(unique(n_class_eur_egfr_70$IID))"
   ]
  },
  {
   "cell_type": "code",
   "execution_count": null,
   "metadata": {},
   "outputs": [],
   "source": [
    "n_class_eur_egfr_50 = n_class[n_class$IID %in% df_ntile_norm_eur_egfr_50$IID,]\n",
    "\n",
    "summary(n_class_eur_egfr_50$COUNT_PGS)\n",
    "summary(n_class_eur_egfr_50$STABILITY)\n",
    "length(unique(n_class_eur_egfr_50$IID))"
   ]
  },
  {
   "cell_type": "markdown",
   "metadata": {},
   "source": [
    "#### afr egfr"
   ]
  },
  {
   "cell_type": "code",
   "execution_count": null,
   "metadata": {},
   "outputs": [],
   "source": [
    "n_class_afr_egfr_80 = n_class[n_class$IID %in% df_ntile_norm_afr_egfr_80$IID,]\n",
    "\n",
    "summary(n_class_afr_egfr_80$COUNT_PGS)\n",
    "summary(n_class_afr_egfr_80$STABILITY)\n",
    "length(unique(n_class_afr_egfr_80$IID))"
   ]
  },
  {
   "cell_type": "code",
   "execution_count": null,
   "metadata": {},
   "outputs": [],
   "source": [
    "n_class_afr_egfr_70 = n_class[n_class$IID %in% df_ntile_norm_afr_egfr_70$IID,]\n",
    "\n",
    "summary(n_class_afr_egfr_70$COUNT_PGS)\n",
    "summary(n_class_afr_egfr_70$STABILITY)\n",
    "length(unique(n_class_afr_egfr_70$IID))"
   ]
  },
  {
   "cell_type": "code",
   "execution_count": null,
   "metadata": {},
   "outputs": [],
   "source": [
    "n_class_afr_egfr_50 = n_class[n_class$IID %in% df_ntile_norm_afr_egfr_50$IID,]\n",
    "\n",
    "summary(n_class_afr_egfr_50$COUNT_PGS)\n",
    "summary(n_class_afr_egfr_50$STABILITY)\n",
    "length(unique(n_class_afr_egfr_50$IID))"
   ]
  },
  {
   "cell_type": "markdown",
   "metadata": {},
   "source": [
    "#### meta egfr"
   ]
  },
  {
   "cell_type": "code",
   "execution_count": null,
   "metadata": {},
   "outputs": [],
   "source": [
    "n_class_meta_egfr_95 = n_class[n_class$IID %in% df_ntile_norm_meta_egfr_95$IID,]\n",
    "\n",
    "summary(n_class_meta_egfr_95$COUNT_PGS)\n",
    "summary(n_class_meta_egfr_95$STABILITY)\n",
    "length(unique(n_class_meta_egfr_95$IID))"
   ]
  },
  {
   "cell_type": "code",
   "execution_count": null,
   "metadata": {},
   "outputs": [],
   "source": [
    "n_class_meta_egfr_90 = n_class[n_class$IID %in% df_ntile_norm_meta_egfr_90$IID,]\n",
    "\n",
    "summary(n_class_meta_egfr_90$COUNT_PGS)\n",
    "summary(n_class_meta_egfr_90$STABILITY)\n",
    "length(unique(n_class_meta_egfr_90$IID))"
   ]
  },
  {
   "cell_type": "code",
   "execution_count": null,
   "metadata": {},
   "outputs": [],
   "source": [
    "n_class_meta_egfr_80 = n_class[n_class$IID %in% df_ntile_norm_meta_egfr_80$IID,]\n",
    "\n",
    "summary(n_class_meta_egfr_80$COUNT_PGS)\n",
    "summary(n_class_meta_egfr_80$STABILITY)\n",
    "length(unique(n_class_meta_egfr_80$IID))"
   ]
  },
  {
   "cell_type": "code",
   "execution_count": null,
   "metadata": {},
   "outputs": [],
   "source": [
    "n_class_meta_egfr_70 = n_class[n_class$IID %in% df_ntile_norm_meta_egfr_70$IID,]\n",
    "\n",
    "summary(n_class_meta_egfr_70$COUNT_PGS)\n",
    "summary(n_class_meta_egfr_70$STABILITY)\n",
    "length(unique(n_class_meta_egfr_70$IID))"
   ]
  },
  {
   "cell_type": "code",
   "execution_count": null,
   "metadata": {},
   "outputs": [],
   "source": [
    "n_class_meta_egfr_50 = n_class[n_class$IID %in% df_ntile_norm_meta_egfr_50$IID,]\n",
    "\n",
    "summary(n_class_meta_egfr_50$COUNT_PGS)\n",
    "summary(n_class_meta_egfr_50$STABILITY)\n",
    "length(unique(n_class_meta_egfr_50$IID))"
   ]
  },
  {
   "cell_type": "markdown",
   "metadata": {},
   "source": [
    "### all individuals multiancestry scores"
   ]
  },
  {
   "cell_type": "markdown",
   "metadata": {},
   "source": [
    "#### eur egfr"
   ]
  },
  {
   "cell_type": "code",
   "execution_count": null,
   "metadata": {},
   "outputs": [],
   "source": [
    "n_class_multiancestry_score_eur_egfr_95 = n_class_multiancestry_score[n_class_multiancestry_score$IID %in% df_ntile_norm_eur_egfr_95$IID,]\n",
    "\n",
    "summary(n_class_multiancestry_score_eur_egfr_95$COUNT_PGS)\n",
    "summary(n_class_multiancestry_score_eur_egfr_95$STABILITY)\n",
    "length(unique(n_class_multiancestry_score_eur_egfr_95$IID))"
   ]
  },
  {
   "cell_type": "code",
   "execution_count": null,
   "metadata": {},
   "outputs": [],
   "source": [
    "n_class_multiancestry_score_eur_egfr_90 = n_class_multiancestry_score[n_class_multiancestry_score$IID %in% df_ntile_norm_eur_egfr_90$IID,]\n",
    "\n",
    "summary(n_class_multiancestry_score_eur_egfr_90$COUNT_PGS)\n",
    "summary(n_class_multiancestry_score_eur_egfr_90$STABILITY)\n",
    "length(unique(n_class_multiancestry_score_eur_egfr_90$IID))"
   ]
  },
  {
   "cell_type": "code",
   "execution_count": null,
   "metadata": {},
   "outputs": [],
   "source": [
    "n_class_multiancestry_score_eur_egfr_80 = n_class_multiancestry_score[n_class_multiancestry_score$IID %in% df_ntile_norm_eur_egfr_80$IID,]\n",
    "\n",
    "summary(n_class_multiancestry_score_eur_egfr_80$COUNT_PGS)\n",
    "summary(n_class_multiancestry_score_eur_egfr_80$STABILITY)\n",
    "length(unique(n_class_multiancestry_score_eur_egfr_80$IID))"
   ]
  },
  {
   "cell_type": "code",
   "execution_count": null,
   "metadata": {},
   "outputs": [],
   "source": [
    "n_class_multiancestry_score_eur_egfr_70 = n_class_multiancestry_score[n_class_multiancestry_score$IID %in% df_ntile_norm_eur_egfr_70$IID,]\n",
    "\n",
    "summary(n_class_multiancestry_score_eur_egfr_70$COUNT_PGS)\n",
    "summary(n_class_multiancestry_score_eur_egfr_70$STABILITY)\n",
    "length(unique(n_class_multiancestry_score_eur_egfr_70$IID))"
   ]
  },
  {
   "cell_type": "code",
   "execution_count": null,
   "metadata": {},
   "outputs": [],
   "source": [
    "n_class_multiancestry_score_eur_egfr_50 = n_class_multiancestry_score[n_class_multiancestry_score$IID %in% df_ntile_norm_eur_egfr_50$IID,]\n",
    "\n",
    "summary(n_class_multiancestry_score_eur_egfr_50$COUNT_PGS)\n",
    "summary(n_class_multiancestry_score_eur_egfr_50$STABILITY)\n",
    "length(unique(n_class_multiancestry_score_eur_egfr_50$IID))"
   ]
  },
  {
   "cell_type": "markdown",
   "metadata": {},
   "source": [
    "#### afr egfr"
   ]
  },
  {
   "cell_type": "code",
   "execution_count": null,
   "metadata": {},
   "outputs": [],
   "source": [
    "n_class_multiancestry_score_afr_egfr_80 = n_class_multiancestry_score[n_class_multiancestry_score$IID %in% df_ntile_norm_afr_egfr_80$IID,]\n",
    "\n",
    "summary(n_class_multiancestry_score_afr_egfr_80$COUNT_PGS)\n",
    "summary(n_class_multiancestry_score_afr_egfr_80$STABILITY)\n",
    "length(unique(n_class_multiancestry_score_afr_egfr_80$IID))"
   ]
  },
  {
   "cell_type": "code",
   "execution_count": null,
   "metadata": {},
   "outputs": [],
   "source": [
    "n_class_multiancestry_score_afr_egfr_70 = n_class_multiancestry_score[n_class_multiancestry_score$IID %in% df_ntile_norm_afr_egfr_70$IID,]\n",
    "\n",
    "summary(n_class_multiancestry_score_afr_egfr_70$COUNT_PGS)\n",
    "summary(n_class_multiancestry_score_afr_egfr_70$STABILITY)\n",
    "length(unique(n_class_multiancestry_score_afr_egfr_70$IID))"
   ]
  },
  {
   "cell_type": "code",
   "execution_count": null,
   "metadata": {},
   "outputs": [],
   "source": [
    "n_class_multiancestry_score_afr_egfr_50 = n_class_multiancestry_score[n_class_multiancestry_score$IID %in% df_ntile_norm_afr_egfr_50$IID,]\n",
    "\n",
    "summary(n_class_multiancestry_score_afr_egfr_50$COUNT_PGS)\n",
    "summary(n_class_multiancestry_score_afr_egfr_50$STABILITY)\n",
    "length(unique(n_class_multiancestry_score_afr_egfr_50$IID))"
   ]
  },
  {
   "cell_type": "markdown",
   "metadata": {},
   "source": [
    "#### meta egfr"
   ]
  },
  {
   "cell_type": "code",
   "execution_count": null,
   "metadata": {},
   "outputs": [],
   "source": [
    "n_class_multiancestry_score_meta_egfr_95 = n_class_multiancestry_score[n_class_multiancestry_score$IID %in% df_ntile_norm_meta_egfr_95$IID,]\n",
    "\n",
    "summary(n_class_multiancestry_score_meta_egfr_95$COUNT_PGS)\n",
    "summary(n_class_multiancestry_score_meta_egfr_95$STABILITY)\n",
    "length(unique(n_class_multiancestry_score_meta_egfr_95$IID))"
   ]
  },
  {
   "cell_type": "code",
   "execution_count": null,
   "metadata": {},
   "outputs": [],
   "source": [
    "n_class_multiancestry_score_meta_egfr_90 = n_class_multiancestry_score[n_class_multiancestry_score$IID %in% df_ntile_norm_meta_egfr_90$IID,]\n",
    "\n",
    "summary(n_class_multiancestry_score_meta_egfr_90$COUNT_PGS)\n",
    "summary(n_class_multiancestry_score_meta_egfr_90$STABILITY)\n",
    "length(unique(n_class_multiancestry_score_meta_egfr_90$IID))"
   ]
  },
  {
   "cell_type": "code",
   "execution_count": null,
   "metadata": {},
   "outputs": [],
   "source": [
    "n_class_multiancestry_score_meta_egfr_80 = n_class_multiancestry_score[n_class_multiancestry_score$IID %in% df_ntile_norm_meta_egfr_80$IID,]\n",
    "\n",
    "summary(n_class_multiancestry_score_meta_egfr_80$COUNT_PGS)\n",
    "summary(n_class_multiancestry_score_meta_egfr_80$STABILITY)\n",
    "length(unique(n_class_multiancestry_score_meta_egfr_80$IID))"
   ]
  },
  {
   "cell_type": "code",
   "execution_count": null,
   "metadata": {},
   "outputs": [],
   "source": [
    "n_class_multiancestry_score_meta_egfr_70 = n_class_multiancestry_score[n_class_multiancestry_score$IID %in% df_ntile_norm_meta_egfr_70$IID,]\n",
    "\n",
    "summary(n_class_multiancestry_score_meta_egfr_70$COUNT_PGS)\n",
    "summary(n_class_multiancestry_score_meta_egfr_70$STABILITY)\n",
    "length(unique(n_class_multiancestry_score_meta_egfr_70$IID))"
   ]
  },
  {
   "cell_type": "code",
   "execution_count": null,
   "metadata": {},
   "outputs": [],
   "source": [
    "n_class_multiancestry_score_meta_egfr_50 = n_class_multiancestry_score[n_class_multiancestry_score$IID %in% df_ntile_norm_meta_egfr_50$IID,]\n",
    "\n",
    "summary(n_class_multiancestry_score_meta_egfr_50$COUNT_PGS)\n",
    "summary(n_class_multiancestry_score_meta_egfr_50$STABILITY)\n",
    "length(unique(n_class_multiancestry_score_meta_egfr_50$IID))"
   ]
  },
  {
   "cell_type": "markdown",
   "metadata": {},
   "source": [
    "### eur"
   ]
  },
  {
   "cell_type": "markdown",
   "metadata": {},
   "source": [
    "#### eur egfr"
   ]
  },
  {
   "cell_type": "code",
   "execution_count": null,
   "metadata": {},
   "outputs": [],
   "source": [
    "n_class_eur_indiv_eur_egfr_95 = n_class_eur[n_class_eur$IID %in% df_ntile_norm_eur_egfr_95$IID,]\n",
    "\n",
    "summary(n_class_eur_indiv_eur_egfr_95$COUNT_PGS)\n",
    "summary(n_class_eur_indiv_eur_egfr_95$STABILITY)\n",
    "length(unique(n_class_eur_indiv_eur_egfr_95$IID))"
   ]
  },
  {
   "cell_type": "code",
   "execution_count": null,
   "metadata": {},
   "outputs": [],
   "source": [
    "n_class_eur_indiv_eur_egfr_90 = n_class_eur[n_class_eur$IID %in% df_ntile_norm_eur_egfr_90$IID,]\n",
    "\n",
    "summary(n_class_eur_indiv_eur_egfr_90$COUNT_PGS)\n",
    "summary(n_class_eur_indiv_eur_egfr_90$STABILITY)\n",
    "length(unique(n_class_eur_indiv_eur_egfr_90$IID))"
   ]
  },
  {
   "cell_type": "code",
   "execution_count": null,
   "metadata": {},
   "outputs": [],
   "source": [
    "n_class_eur_indiv_eur_egfr_80 = n_class_eur[n_class_eur$IID %in% df_ntile_norm_eur_egfr_80$IID,]\n",
    "\n",
    "summary(n_class_eur_indiv_eur_egfr_80$COUNT_PGS)\n",
    "summary(n_class_eur_indiv_eur_egfr_80$STABILITY)\n",
    "length(unique(n_class_eur_indiv_eur_egfr_80$IID))"
   ]
  },
  {
   "cell_type": "code",
   "execution_count": null,
   "metadata": {},
   "outputs": [],
   "source": [
    "n_class_eur_indiv_eur_egfr_70 = n_class_eur[n_class_eur$IID %in% df_ntile_norm_eur_egfr_70$IID,]\n",
    "\n",
    "summary(n_class_eur_indiv_eur_egfr_70$COUNT_PGS)\n",
    "summary(n_class_eur_indiv_eur_egfr_70$STABILITY)\n",
    "length(unique(n_class_eur_indiv_eur_egfr_70$IID))"
   ]
  },
  {
   "cell_type": "code",
   "execution_count": null,
   "metadata": {},
   "outputs": [],
   "source": [
    "n_class_eur_indiv_eur_egfr_50 = n_class_eur[n_class_eur$IID %in% df_ntile_norm_eur_egfr_50$IID,]\n",
    "\n",
    "summary(n_class_eur_indiv_eur_egfr_50$COUNT_PGS)\n",
    "summary(n_class_eur_indiv_eur_egfr_50$STABILITY)\n",
    "length(unique(n_class_eur_indiv_eur_egfr_50$IID))"
   ]
  },
  {
   "cell_type": "markdown",
   "metadata": {},
   "source": [
    "#### meta egfr"
   ]
  },
  {
   "cell_type": "code",
   "execution_count": null,
   "metadata": {},
   "outputs": [],
   "source": [
    "n_class_eur_indiv_meta_egfr_95 = n_class_eur[n_class_eur$IID %in% df_ntile_norm_meta_egfr_95$IID,]\n",
    "\n",
    "summary(n_class_eur_indiv_meta_egfr_95$COUNT_PGS)\n",
    "summary(n_class_eur_indiv_meta_egfr_95$STABILITY)\n",
    "length(unique(n_class_eur_indiv_meta_egfr_95$IID))"
   ]
  },
  {
   "cell_type": "code",
   "execution_count": null,
   "metadata": {},
   "outputs": [],
   "source": [
    "n_class_eur_indiv_meta_egfr_90 = n_class_eur[n_class_eur$IID %in% df_ntile_norm_meta_egfr_90$IID,]\n",
    "\n",
    "summary(n_class_eur_indiv_meta_egfr_90$COUNT_PGS)\n",
    "summary(n_class_eur_indiv_meta_egfr_90$STABILITY)\n",
    "length(unique(n_class_eur_indiv_meta_egfr_90$IID))"
   ]
  },
  {
   "cell_type": "code",
   "execution_count": null,
   "metadata": {},
   "outputs": [],
   "source": [
    "n_class_eur_indiv_meta_egfr_80 = n_class_eur[n_class_eur$IID %in% df_ntile_norm_meta_egfr_80$IID,]\n",
    "\n",
    "summary(n_class_eur_indiv_meta_egfr_80$COUNT_PGS)\n",
    "summary(n_class_eur_indiv_meta_egfr_80$STABILITY)\n",
    "length(unique(n_class_eur_indiv_meta_egfr_80$IID))"
   ]
  },
  {
   "cell_type": "code",
   "execution_count": null,
   "metadata": {},
   "outputs": [],
   "source": [
    "n_class_eur_indiv_meta_egfr_70 = n_class_eur[n_class_eur$IID %in% df_ntile_norm_meta_egfr_70$IID,]\n",
    "\n",
    "summary(n_class_eur_indiv_meta_egfr_70$COUNT_PGS)\n",
    "summary(n_class_eur_indiv_meta_egfr_70$STABILITY)\n",
    "length(unique(n_class_eur_indiv_meta_egfr_70$IID))"
   ]
  },
  {
   "cell_type": "code",
   "execution_count": null,
   "metadata": {},
   "outputs": [],
   "source": [
    "n_class_eur_indiv_meta_egfr_50 = n_class_eur[n_class_eur$IID %in% df_ntile_norm_meta_egfr_50$IID,]\n",
    "\n",
    "summary(n_class_eur_indiv_meta_egfr_50$COUNT_PGS)\n",
    "summary(n_class_eur_indiv_meta_egfr_50$STABILITY)\n",
    "length(unique(n_class_eur_indiv_meta_egfr_50$IID))"
   ]
  },
  {
   "cell_type": "markdown",
   "metadata": {},
   "source": [
    "### eur individuals multiancestry scores"
   ]
  },
  {
   "cell_type": "markdown",
   "metadata": {},
   "source": [
    "#### eur egfr"
   ]
  },
  {
   "cell_type": "code",
   "execution_count": null,
   "metadata": {},
   "outputs": [],
   "source": [
    "n_class_eur_indiv_multiancestry_score_eur_egfr_95 = n_class_eur_multiancestry_score[n_class_eur_multiancestry_score$IID %in% df_ntile_norm_eur_egfr_95$IID,]\n",
    "\n",
    "summary(n_class_eur_indiv_multiancestry_score_eur_egfr_95$COUNT_PGS)\n",
    "summary(n_class_eur_indiv_multiancestry_score_eur_egfr_95$STABILITY)\n",
    "length(unique(n_class_eur_indiv_multiancestry_score_eur_egfr_95$IID))"
   ]
  },
  {
   "cell_type": "code",
   "execution_count": null,
   "metadata": {},
   "outputs": [],
   "source": [
    "n_class_eur_indiv_multiancestry_score_eur_egfr_90 = n_class_eur_multiancestry_score[n_class_eur_multiancestry_score$IID %in% df_ntile_norm_eur_egfr_90$IID,]\n",
    "\n",
    "summary(n_class_eur_indiv_multiancestry_score_eur_egfr_90$COUNT_PGS)\n",
    "summary(n_class_eur_indiv_multiancestry_score_eur_egfr_90$STABILITY)\n",
    "length(unique(n_class_eur_indiv_multiancestry_score_eur_egfr_90$IID))"
   ]
  },
  {
   "cell_type": "code",
   "execution_count": null,
   "metadata": {},
   "outputs": [],
   "source": [
    "n_class_eur_indiv_multiancestry_score_eur_egfr_80 = n_class_eur_multiancestry_score[n_class_eur_multiancestry_score$IID %in% df_ntile_norm_eur_egfr_80$IID,]\n",
    "\n",
    "summary(n_class_eur_indiv_multiancestry_score_eur_egfr_80$COUNT_PGS)\n",
    "summary(n_class_eur_indiv_multiancestry_score_eur_egfr_80$STABILITY)\n",
    "length(unique(n_class_eur_indiv_multiancestry_score_eur_egfr_80$IID))"
   ]
  },
  {
   "cell_type": "code",
   "execution_count": null,
   "metadata": {},
   "outputs": [],
   "source": [
    "n_class_eur_indiv_multiancestry_score_eur_egfr_70 = n_class_eur_multiancestry_score[n_class_eur_multiancestry_score$IID %in% df_ntile_norm_eur_egfr_70$IID,]\n",
    "\n",
    "summary(n_class_eur_indiv_multiancestry_score_eur_egfr_70$COUNT_PGS)\n",
    "summary(n_class_eur_indiv_multiancestry_score_eur_egfr_70$STABILITY)\n",
    "length(unique(n_class_eur_indiv_multiancestry_score_eur_egfr_70$IID))"
   ]
  },
  {
   "cell_type": "code",
   "execution_count": null,
   "metadata": {},
   "outputs": [],
   "source": [
    "n_class_eur_indiv_multiancestry_score_eur_egfr_50 = n_class_eur_multiancestry_score[n_class_eur_multiancestry_score$IID %in% df_ntile_norm_eur_egfr_50$IID,]\n",
    "\n",
    "summary(n_class_eur_indiv_multiancestry_score_eur_egfr_50$COUNT_PGS)\n",
    "summary(n_class_eur_indiv_multiancestry_score_eur_egfr_50$STABILITY)\n",
    "length(unique(n_class_eur_indiv_multiancestry_score_eur_egfr_50$IID))"
   ]
  },
  {
   "cell_type": "markdown",
   "metadata": {},
   "source": [
    "#### meta egfr"
   ]
  },
  {
   "cell_type": "code",
   "execution_count": null,
   "metadata": {},
   "outputs": [],
   "source": [
    "n_class_eur_indiv_multiancestry_score_meta_egfr_95 = n_class_eur_multiancestry_score[n_class_eur_multiancestry_score$IID %in% df_ntile_norm_meta_egfr_95$IID,]\n",
    "\n",
    "summary(n_class_eur_indiv_multiancestry_score_meta_egfr_95$COUNT_PGS)\n",
    "summary(n_class_eur_indiv_multiancestry_score_meta_egfr_95$STABILITY)\n",
    "length(unique(n_class_eur_indiv_multiancestry_score_meta_egfr_95$IID))"
   ]
  },
  {
   "cell_type": "code",
   "execution_count": null,
   "metadata": {},
   "outputs": [],
   "source": [
    "n_class_eur_indiv_multiancestry_score_meta_egfr_90 = n_class_eur_multiancestry_score[n_class_eur_multiancestry_score$IID %in% df_ntile_norm_meta_egfr_90$IID,]\n",
    "\n",
    "summary(n_class_eur_indiv_multiancestry_score_meta_egfr_90$COUNT_PGS)\n",
    "summary(n_class_eur_indiv_multiancestry_score_meta_egfr_90$STABILITY)\n",
    "length(unique(n_class_eur_indiv_multiancestry_score_meta_egfr_90$IID))"
   ]
  },
  {
   "cell_type": "code",
   "execution_count": null,
   "metadata": {},
   "outputs": [],
   "source": [
    "n_class_eur_indiv_multiancestry_score_meta_egfr_80 = n_class_eur_multiancestry_score[n_class_eur_multiancestry_score$IID %in% df_ntile_norm_meta_egfr_80$IID,]\n",
    "\n",
    "summary(n_class_eur_indiv_multiancestry_score_meta_egfr_80$COUNT_PGS)\n",
    "summary(n_class_eur_indiv_multiancestry_score_meta_egfr_80$STABILITY)\n",
    "length(unique(n_class_eur_indiv_multiancestry_score_meta_egfr_80$IID))"
   ]
  },
  {
   "cell_type": "code",
   "execution_count": null,
   "metadata": {},
   "outputs": [],
   "source": [
    "n_class_eur_indiv_multiancestry_score_meta_egfr_70 = n_class_eur_multiancestry_score[n_class_eur_multiancestry_score$IID %in% df_ntile_norm_meta_egfr_70$IID,]\n",
    "\n",
    "summary(n_class_eur_indiv_multiancestry_score_meta_egfr_70$COUNT_PGS)\n",
    "summary(n_class_eur_indiv_multiancestry_score_meta_egfr_70$STABILITY)\n",
    "length(unique(n_class_eur_indiv_multiancestry_score_meta_egfr_70$IID))"
   ]
  },
  {
   "cell_type": "code",
   "execution_count": null,
   "metadata": {},
   "outputs": [],
   "source": [
    "n_class_eur_indiv_multiancestry_score_meta_egfr_50 = n_class_eur_multiancestry_score[n_class_eur_multiancestry_score$IID %in% df_ntile_norm_meta_egfr_50$IID,]\n",
    "\n",
    "summary(n_class_eur_indiv_multiancestry_score_meta_egfr_50$COUNT_PGS)\n",
    "summary(n_class_eur_indiv_multiancestry_score_meta_egfr_50$STABILITY)\n",
    "length(unique(n_class_eur_indiv_multiancestry_score_meta_egfr_50$IID))"
   ]
  },
  {
   "cell_type": "markdown",
   "metadata": {},
   "source": [
    "### afr"
   ]
  },
  {
   "cell_type": "markdown",
   "metadata": {},
   "source": [
    "#### afr egfr"
   ]
  },
  {
   "cell_type": "code",
   "execution_count": null,
   "metadata": {},
   "outputs": [],
   "source": [
    "n_class_afr_indiv_afr_egfr_80 = n_class_afr[n_class_afr$IID %in% df_ntile_norm_afr_egfr_80$IID,]\n",
    "\n",
    "summary(n_class_afr_indiv_afr_egfr_80$COUNT_PGS)\n",
    "summary(n_class_afr_indiv_afr_egfr_80$STABILITY)\n",
    "length(unique(n_class_afr_indiv_afr_egfr_80$IID))"
   ]
  },
  {
   "cell_type": "code",
   "execution_count": null,
   "metadata": {},
   "outputs": [],
   "source": [
    "n_class_afr_indiv_afr_egfr_70 = n_class_afr[n_class_afr$IID %in% df_ntile_norm_afr_egfr_70$IID,]\n",
    "\n",
    "summary(n_class_afr_indiv_afr_egfr_70$COUNT_PGS)\n",
    "summary(n_class_afr_indiv_afr_egfr_70$STABILITY)\n",
    "length(unique(n_class_afr_indiv_afr_egfr_70$IID))"
   ]
  },
  {
   "cell_type": "code",
   "execution_count": null,
   "metadata": {},
   "outputs": [],
   "source": [
    "n_class_afr_indiv_afr_egfr_50 = n_class_afr[n_class_afr$IID %in% df_ntile_norm_afr_egfr_50$IID,]\n",
    "\n",
    "summary(n_class_afr_indiv_afr_egfr_50$COUNT_PGS)\n",
    "summary(n_class_afr_indiv_afr_egfr_50$STABILITY)\n",
    "length(unique(n_class_afr_indiv_afr_egfr_50$IID))"
   ]
  },
  {
   "cell_type": "markdown",
   "metadata": {},
   "source": [
    "#### meta egfr"
   ]
  },
  {
   "cell_type": "code",
   "execution_count": null,
   "metadata": {},
   "outputs": [],
   "source": [
    "n_class_afr_indiv_meta_egfr_80 = n_class_afr[n_class_afr$IID %in% df_ntile_norm_meta_egfr_80$IID,]\n",
    "\n",
    "summary(n_class_afr_indiv_meta_egfr_80$COUNT_PGS)\n",
    "summary(n_class_afr_indiv_meta_egfr_80$STABILITY)\n",
    "length(unique(n_class_afr_indiv_meta_egfr_80$IID))"
   ]
  },
  {
   "cell_type": "code",
   "execution_count": null,
   "metadata": {},
   "outputs": [],
   "source": [
    "n_class_afr_indiv_meta_egfr_70 = n_class_afr[n_class_afr$IID %in% df_ntile_norm_meta_egfr_70$IID,]\n",
    "\n",
    "summary(n_class_afr_indiv_meta_egfr_70$COUNT_PGS)\n",
    "summary(n_class_afr_indiv_meta_egfr_70$STABILITY)\n",
    "length(unique(n_class_afr_indiv_meta_egfr_70$IID))"
   ]
  },
  {
   "cell_type": "code",
   "execution_count": null,
   "metadata": {},
   "outputs": [],
   "source": [
    "n_class_afr_indiv_meta_egfr_50 = n_class_afr[n_class_afr$IID %in% df_ntile_norm_meta_egfr_50$IID,]\n",
    "\n",
    "summary(n_class_afr_indiv_meta_egfr_50$COUNT_PGS)\n",
    "summary(n_class_afr_indiv_meta_egfr_50$STABILITY)\n",
    "length(unique(n_class_afr_indiv_meta_egfr_50$IID))"
   ]
  },
  {
   "cell_type": "markdown",
   "metadata": {},
   "source": [
    "### afr individuals multiancestry scores"
   ]
  },
  {
   "cell_type": "markdown",
   "metadata": {},
   "source": [
    "#### afr egfr"
   ]
  },
  {
   "cell_type": "code",
   "execution_count": null,
   "metadata": {},
   "outputs": [],
   "source": [
    "n_class_afr_indiv_multiancestry_score_afr_egfr_80 = n_class_afr_multiancestry_score[n_class_afr_multiancestry_score$IID %in% df_ntile_norm_afr_egfr_80$IID,]\n",
    "\n",
    "summary(n_class_afr_indiv_multiancestry_score_afr_egfr_80$COUNT_PGS)\n",
    "summary(n_class_afr_indiv_multiancestry_score_afr_egfr_80$STABILITY)\n",
    "length(unique(n_class_afr_indiv_multiancestry_score_afr_egfr_80$IID))"
   ]
  },
  {
   "cell_type": "code",
   "execution_count": null,
   "metadata": {},
   "outputs": [],
   "source": [
    "n_class_afr_indiv_multiancestry_score_afr_egfr_70 = n_class_afr_multiancestry_score[n_class_afr_multiancestry_score$IID %in% df_ntile_norm_afr_egfr_70$IID,]\n",
    "\n",
    "summary(n_class_afr_indiv_multiancestry_score_afr_egfr_70$COUNT_PGS)\n",
    "summary(n_class_afr_indiv_multiancestry_score_afr_egfr_70$STABILITY)\n",
    "length(unique(n_class_afr_indiv_multiancestry_score_afr_egfr_70$IID))"
   ]
  },
  {
   "cell_type": "code",
   "execution_count": null,
   "metadata": {},
   "outputs": [],
   "source": [
    "n_class_afr_indiv_multiancestry_score_afr_egfr_50 = n_class_afr_multiancestry_score[n_class_afr_multiancestry_score$IID %in% df_ntile_norm_afr_egfr_50$IID,]\n",
    "\n",
    "summary(n_class_afr_indiv_multiancestry_score_afr_egfr_50$COUNT_PGS)\n",
    "summary(n_class_afr_indiv_multiancestry_score_afr_egfr_50$STABILITY)\n",
    "length(unique(n_class_afr_indiv_multiancestry_score_afr_egfr_50$IID))"
   ]
  },
  {
   "cell_type": "markdown",
   "metadata": {},
   "source": [
    "#### meta egfr"
   ]
  },
  {
   "cell_type": "code",
   "execution_count": null,
   "metadata": {},
   "outputs": [],
   "source": [
    "n_class_afr_indiv_multiancestry_score_meta_egfr_80 = n_class_afr_multiancestry_score[n_class_afr_multiancestry_score$IID %in% df_ntile_norm_meta_egfr_80$IID,]\n",
    "\n",
    "summary(n_class_afr_indiv_multiancestry_score_meta_egfr_80$COUNT_PGS)\n",
    "summary(n_class_afr_indiv_multiancestry_score_meta_egfr_80$STABILITY)\n",
    "length(unique(n_class_afr_indiv_multiancestry_score_meta_egfr_80$IID))"
   ]
  },
  {
   "cell_type": "code",
   "execution_count": null,
   "metadata": {},
   "outputs": [],
   "source": [
    "n_class_afr_indiv_multiancestry_score_meta_egfr_70 = n_class_afr_multiancestry_score[n_class_afr_multiancestry_score$IID %in% df_ntile_norm_meta_egfr_70$IID,]\n",
    "\n",
    "summary(n_class_afr_indiv_multiancestry_score_meta_egfr_70$COUNT_PGS)\n",
    "summary(n_class_afr_indiv_multiancestry_score_meta_egfr_70$STABILITY)\n",
    "length(unique(n_class_afr_indiv_multiancestry_score_meta_egfr_70$IID))"
   ]
  },
  {
   "cell_type": "code",
   "execution_count": null,
   "metadata": {},
   "outputs": [],
   "source": [
    "n_class_afr_indiv_multiancestry_score_meta_egfr_50 = n_class_afr_multiancestry_score[n_class_afr_multiancestry_score$IID %in% df_ntile_norm_meta_egfr_50$IID,]\n",
    "\n",
    "summary(n_class_afr_indiv_multiancestry_score_meta_egfr_50$COUNT_PGS)\n",
    "summary(n_class_afr_indiv_multiancestry_score_meta_egfr_50$STABILITY)\n",
    "length(unique(n_class_afr_indiv_multiancestry_score_meta_egfr_50$IID))"
   ]
  },
  {
   "cell_type": "markdown",
   "metadata": {},
   "source": [
    "## filter to high confidence individuals <= 2nd percentile"
   ]
  },
  {
   "cell_type": "markdown",
   "metadata": {},
   "source": [
    "### all"
   ]
  },
  {
   "cell_type": "markdown",
   "metadata": {},
   "source": [
    "#### eur egfr"
   ]
  },
  {
   "cell_type": "code",
   "execution_count": null,
   "metadata": {},
   "outputs": [],
   "source": [
    "n_class_low_eur_egfr_95 = n_class_low[n_class_low$IID %in% df_ntile_norm_eur_egfr_95_low$IID,]\n",
    "\n",
    "summary(n_class_low_eur_egfr_95$COUNT_PGS)\n",
    "summary(n_class_low_eur_egfr_95$STABILITY)\n",
    "length(unique(n_class_low_eur_egfr_95$IID))"
   ]
  },
  {
   "cell_type": "code",
   "execution_count": null,
   "metadata": {},
   "outputs": [],
   "source": [
    "n_class_low_eur_egfr_90 = n_class_low[n_class_low$IID %in% df_ntile_norm_eur_egfr_90_low$IID,]\n",
    "\n",
    "summary(n_class_low_eur_egfr_90$COUNT_PGS)\n",
    "summary(n_class_low_eur_egfr_90$STABILITY)\n",
    "length(unique(n_class_low_eur_egfr_90$IID))"
   ]
  },
  {
   "cell_type": "code",
   "execution_count": null,
   "metadata": {},
   "outputs": [],
   "source": [
    "n_class_low_eur_egfr_80 = n_class_low[n_class_low$IID %in% df_ntile_norm_eur_egfr_80_low$IID,]\n",
    "\n",
    "summary(n_class_low_eur_egfr_80$COUNT_PGS)\n",
    "summary(n_class_low_eur_egfr_80$STABILITY)\n",
    "length(unique(n_class_low_eur_egfr_80$IID))"
   ]
  },
  {
   "cell_type": "code",
   "execution_count": null,
   "metadata": {},
   "outputs": [],
   "source": [
    "n_class_low_eur_egfr_70 = n_class_low[n_class_low$IID %in% df_ntile_norm_eur_egfr_70_low$IID,]\n",
    "\n",
    "summary(n_class_low_eur_egfr_70$COUNT_PGS)\n",
    "summary(n_class_low_eur_egfr_70$STABILITY)\n",
    "length(unique(n_class_low_eur_egfr_70$IID))"
   ]
  },
  {
   "cell_type": "code",
   "execution_count": null,
   "metadata": {},
   "outputs": [],
   "source": [
    "n_class_low_eur_egfr_50 = n_class_low[n_class_low$IID %in% df_ntile_norm_eur_egfr_50_low$IID,]\n",
    "\n",
    "summary(n_class_low_eur_egfr_50$COUNT_PGS)\n",
    "summary(n_class_low_eur_egfr_50$STABILITY)\n",
    "length(unique(n_class_low_eur_egfr_50$IID))"
   ]
  },
  {
   "cell_type": "markdown",
   "metadata": {},
   "source": [
    "#### afr egfr"
   ]
  },
  {
   "cell_type": "code",
   "execution_count": null,
   "metadata": {},
   "outputs": [],
   "source": [
    "n_class_low_afr_egfr_80 = n_class_low[n_class_low$IID %in% df_ntile_norm_afr_egfr_80_low$IID,]\n",
    "\n",
    "summary(n_class_low_afr_egfr_80$COUNT_PGS)\n",
    "summary(n_class_low_afr_egfr_80$STABILITY)\n",
    "length(unique(n_class_low_afr_egfr_80$IID))"
   ]
  },
  {
   "cell_type": "code",
   "execution_count": null,
   "metadata": {},
   "outputs": [],
   "source": [
    "n_class_low_afr_egfr_70 = n_class_low[n_class_low$IID %in% df_ntile_norm_afr_egfr_70_low$IID,]\n",
    "\n",
    "summary(n_class_low_afr_egfr_70$COUNT_PGS)\n",
    "summary(n_class_low_afr_egfr_70$STABILITY)\n",
    "length(unique(n_class_low_afr_egfr_70$IID))"
   ]
  },
  {
   "cell_type": "code",
   "execution_count": null,
   "metadata": {},
   "outputs": [],
   "source": [
    "n_class_low_afr_egfr_50 = n_class_low[n_class_low$IID %in% df_ntile_norm_afr_egfr_50_low$IID,]\n",
    "\n",
    "summary(n_class_low_afr_egfr_50$COUNT_PGS)\n",
    "summary(n_class_low_afr_egfr_50$STABILITY)\n",
    "length(unique(n_class_low_afr_egfr_50$IID))"
   ]
  },
  {
   "cell_type": "markdown",
   "metadata": {},
   "source": [
    "#### meta egfr"
   ]
  },
  {
   "cell_type": "code",
   "execution_count": null,
   "metadata": {},
   "outputs": [],
   "source": [
    "n_class_low_meta_egfr_95 = n_class_low[n_class_low$IID %in% df_ntile_norm_meta_egfr_95_low$IID,]\n",
    "\n",
    "summary(n_class_low_meta_egfr_95$COUNT_PGS)\n",
    "summary(n_class_low_meta_egfr_95$STABILITY)\n",
    "length(unique(n_class_low_meta_egfr_95$IID))"
   ]
  },
  {
   "cell_type": "code",
   "execution_count": null,
   "metadata": {},
   "outputs": [],
   "source": [
    "n_class_low_meta_egfr_90 = n_class_low[n_class_low$IID %in% df_ntile_norm_meta_egfr_90_low$IID,]\n",
    "\n",
    "summary(n_class_low_meta_egfr_90$COUNT_PGS)\n",
    "summary(n_class_low_meta_egfr_90$STABILITY)\n",
    "length(unique(n_class_low_meta_egfr_90$IID))"
   ]
  },
  {
   "cell_type": "code",
   "execution_count": null,
   "metadata": {},
   "outputs": [],
   "source": [
    "n_class_low_meta_egfr_80 = n_class_low[n_class_low$IID %in% df_ntile_norm_meta_egfr_80_low$IID,]\n",
    "\n",
    "summary(n_class_low_meta_egfr_80$COUNT_PGS)\n",
    "summary(n_class_low_meta_egfr_80$STABILITY)\n",
    "length(unique(n_class_low_meta_egfr_80$IID))"
   ]
  },
  {
   "cell_type": "code",
   "execution_count": null,
   "metadata": {},
   "outputs": [],
   "source": [
    "n_class_low_meta_egfr_70 = n_class_low[n_class_low$IID %in% df_ntile_norm_meta_egfr_70_low$IID,]\n",
    "\n",
    "summary(n_class_low_meta_egfr_70$COUNT_PGS)\n",
    "summary(n_class_low_meta_egfr_70$STABILITY)\n",
    "length(unique(n_class_low_meta_egfr_70$IID))"
   ]
  },
  {
   "cell_type": "code",
   "execution_count": null,
   "metadata": {},
   "outputs": [],
   "source": [
    "n_class_low_meta_egfr_50 = n_class_low[n_class_low$IID %in% df_ntile_norm_meta_egfr_50_low$IID,]\n",
    "\n",
    "summary(n_class_low_meta_egfr_50$COUNT_PGS)\n",
    "summary(n_class_low_meta_egfr_50$STABILITY)\n",
    "length(unique(n_class_low_meta_egfr_50$IID))"
   ]
  },
  {
   "cell_type": "markdown",
   "metadata": {},
   "source": [
    "### all individuals multiancestry scores"
   ]
  },
  {
   "cell_type": "markdown",
   "metadata": {},
   "source": [
    "#### eur egfr"
   ]
  },
  {
   "cell_type": "code",
   "execution_count": null,
   "metadata": {},
   "outputs": [],
   "source": [
    "n_class_low_multiancestry_score_eur_egfr_95 = n_class_low_multiancestry_score[n_class_low_multiancestry_score$IID %in% df_ntile_norm_eur_egfr_95_low$IID,]\n",
    "\n",
    "summary(n_class_low_multiancestry_score_eur_egfr_95$COUNT_PGS)\n",
    "summary(n_class_low_multiancestry_score_eur_egfr_95$STABILITY)\n",
    "length(unique(n_class_low_multiancestry_score_eur_egfr_95$IID))"
   ]
  },
  {
   "cell_type": "code",
   "execution_count": null,
   "metadata": {},
   "outputs": [],
   "source": [
    "n_class_low_multiancestry_score_eur_egfr_90 = n_class_low_multiancestry_score[n_class_low_multiancestry_score$IID %in% df_ntile_norm_eur_egfr_90_low$IID,]\n",
    "\n",
    "summary(n_class_low_multiancestry_score_eur_egfr_90$COUNT_PGS)\n",
    "summary(n_class_low_multiancestry_score_eur_egfr_90$STABILITY)\n",
    "length(unique(n_class_low_multiancestry_score_eur_egfr_90$IID))"
   ]
  },
  {
   "cell_type": "code",
   "execution_count": null,
   "metadata": {},
   "outputs": [],
   "source": [
    "n_class_low_multiancestry_score_eur_egfr_80 = n_class_low_multiancestry_score[n_class_low_multiancestry_score$IID %in% df_ntile_norm_eur_egfr_80_low$IID,]\n",
    "\n",
    "summary(n_class_low_multiancestry_score_eur_egfr_80$COUNT_PGS)\n",
    "summary(n_class_low_multiancestry_score_eur_egfr_80$STABILITY)\n",
    "length(unique(n_class_low_multiancestry_score_eur_egfr_80$IID))"
   ]
  },
  {
   "cell_type": "code",
   "execution_count": null,
   "metadata": {},
   "outputs": [],
   "source": [
    "n_class_low_multiancestry_score_eur_egfr_70 = n_class_low_multiancestry_score[n_class_low_multiancestry_score$IID %in% df_ntile_norm_eur_egfr_70_low$IID,]\n",
    "\n",
    "summary(n_class_low_multiancestry_score_eur_egfr_70$COUNT_PGS)\n",
    "summary(n_class_low_multiancestry_score_eur_egfr_70$STABILITY)\n",
    "length(unique(n_class_low_multiancestry_score_eur_egfr_70$IID))"
   ]
  },
  {
   "cell_type": "code",
   "execution_count": null,
   "metadata": {},
   "outputs": [],
   "source": [
    "n_class_low_multiancestry_score_eur_egfr_50 = n_class_low_multiancestry_score[n_class_low_multiancestry_score$IID %in% df_ntile_norm_eur_egfr_50_low$IID,]\n",
    "\n",
    "summary(n_class_low_multiancestry_score_eur_egfr_50$COUNT_PGS)\n",
    "summary(n_class_low_multiancestry_score_eur_egfr_50$STABILITY)\n",
    "length(unique(n_class_low_multiancestry_score_eur_egfr_95$IID))"
   ]
  },
  {
   "cell_type": "markdown",
   "metadata": {},
   "source": [
    "#### afr egfr"
   ]
  },
  {
   "cell_type": "code",
   "execution_count": null,
   "metadata": {},
   "outputs": [],
   "source": [
    "n_class_low_multiancestry_score_afr_egfr_80 = n_class_low_multiancestry_score[n_class_low_multiancestry_score$IID %in% df_ntile_norm_afr_egfr_80_low$IID,]\n",
    "\n",
    "summary(n_class_low_multiancestry_score_afr_egfr_80$COUNT_PGS)\n",
    "summary(n_class_low_multiancestry_score_afr_egfr_80$STABILITY)\n",
    "length(unique(n_class_low_multiancestry_score_afr_egfr_80$IID))"
   ]
  },
  {
   "cell_type": "code",
   "execution_count": null,
   "metadata": {},
   "outputs": [],
   "source": [
    "n_class_low_multiancestry_score_afr_egfr_70 = n_class_low_multiancestry_score[n_class_low_multiancestry_score$IID %in% df_ntile_norm_afr_egfr_70_low$IID,]\n",
    "\n",
    "summary(n_class_low_multiancestry_score_afr_egfr_70$COUNT_PGS)\n",
    "summary(n_class_low_multiancestry_score_afr_egfr_70$STABILITY)\n",
    "length(unique(n_class_low_multiancestry_score_afr_egfr_70$IID))"
   ]
  },
  {
   "cell_type": "code",
   "execution_count": null,
   "metadata": {},
   "outputs": [],
   "source": [
    "n_class_low_multiancestry_score_afr_egfr_50 = n_class_low_multiancestry_score[n_class_low_multiancestry_score$IID %in% df_ntile_norm_afr_egfr_50_low$IID,]\n",
    "\n",
    "summary(n_class_low_multiancestry_score_afr_egfr_50$COUNT_PGS)\n",
    "summary(n_class_low_multiancestry_score_afr_egfr_50$STABILITY)\n",
    "length(unique(n_class_low_multiancestry_score_afr_egfr_50$IID))"
   ]
  },
  {
   "cell_type": "markdown",
   "metadata": {},
   "source": [
    "#### meta egfr"
   ]
  },
  {
   "cell_type": "code",
   "execution_count": null,
   "metadata": {},
   "outputs": [],
   "source": [
    "n_class_low_multiancestry_score_meta_egfr_95 = n_class_low_multiancestry_score[n_class_low_multiancestry_score$IID %in% df_ntile_norm_meta_egfr_95_low$IID,]\n",
    "\n",
    "summary(n_class_low_multiancestry_score_meta_egfr_95$COUNT_PGS)\n",
    "summary(n_class_low_multiancestry_score_meta_egfr_95$STABILITY)\n",
    "length(unique(n_class_low_multiancestry_score_meta_egfr_95$IID))"
   ]
  },
  {
   "cell_type": "code",
   "execution_count": null,
   "metadata": {},
   "outputs": [],
   "source": [
    "n_class_low_multiancestry_score_meta_egfr_90 = n_class_low_multiancestry_score[n_class_low_multiancestry_score$IID %in% df_ntile_norm_meta_egfr_90_low$IID,]\n",
    "\n",
    "summary(n_class_low_multiancestry_score_meta_egfr_90$COUNT_PGS)\n",
    "summary(n_class_low_multiancestry_score_meta_egfr_90$STABILITY)\n",
    "length(unique(n_class_low_multiancestry_score_meta_egfr_90$IID))"
   ]
  },
  {
   "cell_type": "code",
   "execution_count": null,
   "metadata": {},
   "outputs": [],
   "source": [
    "n_class_low_multiancestry_score_meta_egfr_80 = n_class_low_multiancestry_score[n_class_low_multiancestry_score$IID %in% df_ntile_norm_meta_egfr_80_low$IID,]\n",
    "\n",
    "summary(n_class_low_multiancestry_score_meta_egfr_80$COUNT_PGS)\n",
    "summary(n_class_low_multiancestry_score_meta_egfr_80$STABILITY)\n",
    "length(unique(n_class_low_multiancestry_score_meta_egfr_80$IID))"
   ]
  },
  {
   "cell_type": "code",
   "execution_count": null,
   "metadata": {},
   "outputs": [],
   "source": [
    "n_class_low_multiancestry_score_meta_egfr_70 = n_class_low_multiancestry_score[n_class_low_multiancestry_score$IID %in% df_ntile_norm_meta_egfr_70_low$IID,]\n",
    "\n",
    "summary(n_class_low_multiancestry_score_meta_egfr_70$COUNT_PGS)\n",
    "summary(n_class_low_multiancestry_score_meta_egfr_70$STABILITY)\n",
    "length(unique(n_class_low_multiancestry_score_meta_egfr_70$IID))"
   ]
  },
  {
   "cell_type": "code",
   "execution_count": null,
   "metadata": {},
   "outputs": [],
   "source": [
    "n_class_low_multiancestry_score_meta_egfr_50 = n_class_low_multiancestry_score[n_class_low_multiancestry_score$IID %in% df_ntile_norm_meta_egfr_50_low$IID,]\n",
    "\n",
    "summary(n_class_low_multiancestry_score_meta_egfr_50$COUNT_PGS)\n",
    "summary(n_class_low_multiancestry_score_meta_egfr_50$STABILITY)\n",
    "length(unique(n_class_low_multiancestry_score_meta_egfr_50$IID))"
   ]
  },
  {
   "cell_type": "markdown",
   "metadata": {},
   "source": [
    "### eur"
   ]
  },
  {
   "cell_type": "markdown",
   "metadata": {},
   "source": [
    "#### eur egfr"
   ]
  },
  {
   "cell_type": "code",
   "execution_count": null,
   "metadata": {},
   "outputs": [],
   "source": [
    "n_class_low_eur_indiv_eur_egfr_95 = n_class_low_eur[n_class_low_eur$IID %in% df_ntile_norm_eur_egfr_95_low$IID,]\n",
    "\n",
    "summary(n_class_low_eur_indiv_eur_egfr_95$COUNT_PGS)\n",
    "summary(n_class_low_eur_indiv_eur_egfr_95$STABILITY)\n",
    "length(unique(n_class_low_eur_indiv_eur_egfr_95$IID))"
   ]
  },
  {
   "cell_type": "code",
   "execution_count": null,
   "metadata": {},
   "outputs": [],
   "source": [
    "n_class_low_eur_indiv_eur_egfr_90 = n_class_low_eur[n_class_low_eur$IID %in% df_ntile_norm_eur_egfr_90_low$IID,]\n",
    "\n",
    "summary(n_class_low_eur_indiv_eur_egfr_90$COUNT_PGS)\n",
    "summary(n_class_low_eur_indiv_eur_egfr_90$STABILITY)\n",
    "length(unique(n_class_low_eur_indiv_eur_egfr_90$IID))"
   ]
  },
  {
   "cell_type": "code",
   "execution_count": null,
   "metadata": {},
   "outputs": [],
   "source": [
    "n_class_low_eur_indiv_eur_egfr_80 = n_class_low_eur[n_class_low_eur$IID %in% df_ntile_norm_eur_egfr_80_low$IID,]\n",
    "\n",
    "summary(n_class_low_eur_indiv_eur_egfr_80$COUNT_PGS)\n",
    "summary(n_class_low_eur_indiv_eur_egfr_80$STABILITY)\n",
    "length(unique(n_class_low_eur_indiv_eur_egfr_80$IID))"
   ]
  },
  {
   "cell_type": "code",
   "execution_count": null,
   "metadata": {},
   "outputs": [],
   "source": [
    "n_class_low_eur_indiv_eur_egfr_70 = n_class_low_eur[n_class_low_eur$IID %in% df_ntile_norm_eur_egfr_70_low$IID,]\n",
    "\n",
    "summary(n_class_low_eur_indiv_eur_egfr_70$COUNT_PGS)\n",
    "summary(n_class_low_eur_indiv_eur_egfr_70$STABILITY)\n",
    "length(unique(n_class_low_eur_indiv_eur_egfr_70$IID))"
   ]
  },
  {
   "cell_type": "code",
   "execution_count": null,
   "metadata": {},
   "outputs": [],
   "source": [
    "n_class_low_eur_indiv_eur_egfr_50 = n_class_low_eur[n_class_low_eur$IID %in% df_ntile_norm_eur_egfr_50_low$IID,]\n",
    "\n",
    "summary(n_class_low_eur_indiv_eur_egfr_50$COUNT_PGS)\n",
    "summary(n_class_low_eur_indiv_eur_egfr_50$STABILITY)\n",
    "length(unique(n_class_low_eur_indiv_eur_egfr_50$IID))"
   ]
  },
  {
   "cell_type": "markdown",
   "metadata": {},
   "source": [
    "#### meta egfr"
   ]
  },
  {
   "cell_type": "code",
   "execution_count": null,
   "metadata": {},
   "outputs": [],
   "source": [
    "n_class_low_eur_indiv_meta_egfr_95 = n_class_low_eur[n_class_low_eur$IID %in% df_ntile_norm_meta_egfr_95_low$IID,]\n",
    "\n",
    "summary(n_class_low_eur_indiv_meta_egfr_95$COUNT_PGS)\n",
    "summary(n_class_low_eur_indiv_meta_egfr_95$STABILITY)\n",
    "length(unique(n_class_low_eur_indiv_meta_egfr_95$IID))"
   ]
  },
  {
   "cell_type": "code",
   "execution_count": null,
   "metadata": {},
   "outputs": [],
   "source": [
    "n_class_low_eur_indiv_meta_egfr_90 = n_class_low_eur[n_class_low_eur$IID %in% df_ntile_norm_meta_egfr_90_low$IID,]\n",
    "\n",
    "summary(n_class_low_eur_indiv_meta_egfr_90$COUNT_PGS)\n",
    "summary(n_class_low_eur_indiv_meta_egfr_90$STABILITY)\n",
    "length(unique(n_class_low_eur_indiv_meta_egfr_90$IID))"
   ]
  },
  {
   "cell_type": "code",
   "execution_count": null,
   "metadata": {},
   "outputs": [],
   "source": [
    "n_class_low_eur_indiv_meta_egfr_80 = n_class_low_eur[n_class_low_eur$IID %in% df_ntile_norm_meta_egfr_80_low$IID,]\n",
    "\n",
    "summary(n_class_low_eur_indiv_meta_egfr_80$COUNT_PGS)\n",
    "summary(n_class_low_eur_indiv_meta_egfr_80$STABILITY)\n",
    "length(unique(n_class_low_eur_indiv_meta_egfr_80$IID))"
   ]
  },
  {
   "cell_type": "code",
   "execution_count": null,
   "metadata": {},
   "outputs": [],
   "source": [
    "n_class_low_eur_indiv_meta_egfr_70 = n_class_low_eur[n_class_low_eur$IID %in% df_ntile_norm_meta_egfr_70_low$IID,]\n",
    "\n",
    "summary(n_class_low_eur_indiv_meta_egfr_70$COUNT_PGS)\n",
    "summary(n_class_low_eur_indiv_meta_egfr_70$STABILITY)\n",
    "length(unique(n_class_low_eur_indiv_meta_egfr_70$IID))"
   ]
  },
  {
   "cell_type": "code",
   "execution_count": null,
   "metadata": {},
   "outputs": [],
   "source": [
    "n_class_low_eur_indiv_meta_egfr_50 = n_class_low_eur[n_class_low_eur$IID %in% df_ntile_norm_meta_egfr_50_low$IID,]\n",
    "\n",
    "summary(n_class_low_eur_indiv_meta_egfr_50$COUNT_PGS)\n",
    "summary(n_class_low_eur_indiv_meta_egfr_50$STABILITY)\n",
    "length(unique(n_class_low_eur_indiv_meta_egfr_50$IID))"
   ]
  },
  {
   "cell_type": "markdown",
   "metadata": {},
   "source": [
    "### eur individuals multiancestry scores"
   ]
  },
  {
   "cell_type": "markdown",
   "metadata": {},
   "source": [
    "#### eur egfr"
   ]
  },
  {
   "cell_type": "code",
   "execution_count": null,
   "metadata": {},
   "outputs": [],
   "source": [
    "n_class_low_eur_indiv_multiancestry_score_eur_egfr_95 = n_class_low_eur_multiancestry_score[n_class_low_eur_multiancestry_score$IID %in% df_ntile_norm_eur_egfr_95_low$IID,]\n",
    "\n",
    "summary(n_class_low_eur_indiv_multiancestry_score_eur_egfr_95$COUNT_PGS)\n",
    "summary(n_class_low_eur_indiv_multiancestry_score_eur_egfr_95$STABILITY)\n",
    "length(unique(n_class_low_eur_indiv_multiancestry_score_eur_egfr_95$IID))"
   ]
  },
  {
   "cell_type": "code",
   "execution_count": null,
   "metadata": {},
   "outputs": [],
   "source": [
    "n_class_low_eur_indiv_multiancestry_score_eur_egfr_90 = n_class_low_eur_multiancestry_score[n_class_low_eur_multiancestry_score$IID %in% df_ntile_norm_eur_egfr_90_low$IID,]\n",
    "\n",
    "summary(n_class_low_eur_indiv_multiancestry_score_eur_egfr_90$COUNT_PGS)\n",
    "summary(n_class_low_eur_indiv_multiancestry_score_eur_egfr_90$STABILITY)\n",
    "length(unique(n_class_low_eur_indiv_multiancestry_score_eur_egfr_90$IID))"
   ]
  },
  {
   "cell_type": "code",
   "execution_count": null,
   "metadata": {},
   "outputs": [],
   "source": [
    "n_class_low_eur_indiv_multiancestry_score_eur_egfr_80 = n_class_low_eur_multiancestry_score[n_class_low_eur_multiancestry_score$IID %in% df_ntile_norm_eur_egfr_80_low$IID,]\n",
    "\n",
    "summary(n_class_low_eur_indiv_multiancestry_score_eur_egfr_80$COUNT_PGS)\n",
    "summary(n_class_low_eur_indiv_multiancestry_score_eur_egfr_80$STABILITY)\n",
    "length(unique(n_class_low_eur_indiv_multiancestry_score_eur_egfr_80$IID))"
   ]
  },
  {
   "cell_type": "code",
   "execution_count": null,
   "metadata": {},
   "outputs": [],
   "source": [
    "n_class_low_eur_indiv_multiancestry_score_eur_egfr_70 = n_class_low_eur_multiancestry_score[n_class_low_eur_multiancestry_score$IID %in% df_ntile_norm_eur_egfr_70_low$IID,]\n",
    "\n",
    "summary(n_class_low_eur_indiv_multiancestry_score_eur_egfr_70$COUNT_PGS)\n",
    "summary(n_class_low_eur_indiv_multiancestry_score_eur_egfr_70$STABILITY)\n",
    "length(unique(n_class_low_eur_indiv_multiancestry_score_eur_egfr_70$IID))"
   ]
  },
  {
   "cell_type": "code",
   "execution_count": null,
   "metadata": {},
   "outputs": [],
   "source": [
    "n_class_low_eur_indiv_multiancestry_score_eur_egfr_50 = n_class_low_eur_multiancestry_score[n_class_low_eur_multiancestry_score$IID %in% df_ntile_norm_eur_egfr_50_low$IID,]\n",
    "\n",
    "summary(n_class_low_eur_indiv_multiancestry_score_eur_egfr_50$COUNT_PGS)\n",
    "summary(n_class_low_eur_indiv_multiancestry_score_eur_egfr_50$STABILITY)\n",
    "length(unique(n_class_low_eur_indiv_multiancestry_score_eur_egfr_50$IID))"
   ]
  },
  {
   "cell_type": "markdown",
   "metadata": {},
   "source": [
    "#### meta egfr"
   ]
  },
  {
   "cell_type": "code",
   "execution_count": null,
   "metadata": {},
   "outputs": [],
   "source": [
    "n_class_low_eur_indiv_multiancestry_score_meta_egfr_95 = n_class_low_eur_multiancestry_score[n_class_low_eur_multiancestry_score$IID %in% df_ntile_norm_meta_egfr_95_low$IID,]\n",
    "\n",
    "summary(n_class_low_eur_indiv_multiancestry_score_meta_egfr_95$COUNT_PGS)\n",
    "summary(n_class_low_eur_indiv_multiancestry_score_meta_egfr_95$STABILITY)\n",
    "length(unique(n_class_low_eur_indiv_multiancestry_score_meta_egfr_95$IID))"
   ]
  },
  {
   "cell_type": "code",
   "execution_count": null,
   "metadata": {},
   "outputs": [],
   "source": [
    "n_class_low_eur_indiv_multiancestry_score_meta_egfr_90 = n_class_low_eur_multiancestry_score[n_class_low_eur_multiancestry_score$IID %in% df_ntile_norm_meta_egfr_90_low$IID,]\n",
    "\n",
    "summary(n_class_low_eur_indiv_multiancestry_score_meta_egfr_90$COUNT_PGS)\n",
    "summary(n_class_low_eur_indiv_multiancestry_score_meta_egfr_90$STABILITY)\n",
    "length(unique(n_class_low_eur_indiv_multiancestry_score_meta_egfr_90$IID))"
   ]
  },
  {
   "cell_type": "code",
   "execution_count": null,
   "metadata": {},
   "outputs": [],
   "source": [
    "n_class_low_eur_indiv_multiancestry_score_meta_egfr_80 = n_class_low_eur_multiancestry_score[n_class_low_eur_multiancestry_score$IID %in% df_ntile_norm_meta_egfr_80_low$IID,]\n",
    "\n",
    "summary(n_class_low_eur_indiv_multiancestry_score_meta_egfr_80$COUNT_PGS)\n",
    "summary(n_class_low_eur_indiv_multiancestry_score_meta_egfr_80$STABILITY)\n",
    "length(unique(n_class_low_eur_indiv_multiancestry_score_meta_egfr_80$IID))"
   ]
  },
  {
   "cell_type": "code",
   "execution_count": null,
   "metadata": {},
   "outputs": [],
   "source": [
    "n_class_low_eur_indiv_multiancestry_score_meta_egfr_70 = n_class_low_eur_multiancestry_score[n_class_low_eur_multiancestry_score$IID %in% df_ntile_norm_meta_egfr_70_low$IID,]\n",
    "\n",
    "summary(n_class_low_eur_indiv_multiancestry_score_meta_egfr_70$COUNT_PGS)\n",
    "summary(n_class_low_eur_indiv_multiancestry_score_meta_egfr_70$STABILITY)\n",
    "length(unique(n_class_low_eur_indiv_multiancestry_score_meta_egfr_70$IID))"
   ]
  },
  {
   "cell_type": "code",
   "execution_count": null,
   "metadata": {},
   "outputs": [],
   "source": [
    "n_class_low_eur_indiv_multiancestry_score_meta_egfr_50 = n_class_low_eur_multiancestry_score[n_class_low_eur_multiancestry_score$IID %in% df_ntile_norm_meta_egfr_50_low$IID,]\n",
    "\n",
    "summary(n_class_low_eur_indiv_multiancestry_score_meta_egfr_50$COUNT_PGS)\n",
    "summary(n_class_low_eur_indiv_multiancestry_score_meta_egfr_50$STABILITY)\n",
    "length(unique(n_class_low_eur_indiv_multiancestry_score_meta_egfr_50$IID))"
   ]
  },
  {
   "cell_type": "markdown",
   "metadata": {},
   "source": [
    "### afr"
   ]
  },
  {
   "cell_type": "markdown",
   "metadata": {},
   "source": [
    "#### afr egfr"
   ]
  },
  {
   "cell_type": "code",
   "execution_count": null,
   "metadata": {},
   "outputs": [],
   "source": [
    "n_class_low_afr_indiv_afr_egfr_80 = n_class_low_afr[n_class_low_afr$IID %in% df_ntile_norm_afr_egfr_80_low$IID,]\n",
    "\n",
    "summary(n_class_low_afr_indiv_afr_egfr_80$COUNT_PGS)\n",
    "summary(n_class_low_afr_indiv_afr_egfr_80$STABILITY)\n",
    "length(unique(n_class_low_afr_indiv_afr_egfr_80$IID))"
   ]
  },
  {
   "cell_type": "code",
   "execution_count": null,
   "metadata": {},
   "outputs": [],
   "source": [
    "n_class_low_afr_indiv_afr_egfr_70 = n_class_low_afr[n_class_low_afr$IID %in% df_ntile_norm_afr_egfr_70_low$IID,]\n",
    "\n",
    "summary(n_class_low_afr_indiv_afr_egfr_70$COUNT_PGS)\n",
    "summary(n_class_low_afr_indiv_afr_egfr_70$STABILITY)\n",
    "length(unique(n_class_low_afr_indiv_afr_egfr_70$IID))"
   ]
  },
  {
   "cell_type": "code",
   "execution_count": null,
   "metadata": {},
   "outputs": [],
   "source": [
    "n_class_low_afr_indiv_afr_egfr_50 = n_class_low_afr[n_class_low_afr$IID %in% df_ntile_norm_afr_egfr_50_low$IID,]\n",
    "\n",
    "summary(n_class_low_afr_indiv_afr_egfr_50$COUNT_PGS)\n",
    "summary(n_class_low_afr_indiv_afr_egfr_50$STABILITY)\n",
    "length(unique(n_class_low_afr_indiv_afr_egfr_50$IID))"
   ]
  },
  {
   "cell_type": "markdown",
   "metadata": {},
   "source": [
    "#### meta egfr"
   ]
  },
  {
   "cell_type": "code",
   "execution_count": null,
   "metadata": {},
   "outputs": [],
   "source": [
    "n_class_low_afr_indiv_meta_egfr_50 = n_class_low_afr[n_class_low_afr$IID %in% df_ntile_norm_meta_egfr_50_low$IID,]\n",
    "\n",
    "summary(n_class_low_afr_indiv_meta_egfr_50$COUNT_PGS)\n",
    "summary(n_class_low_afr_indiv_meta_egfr_50$STABILITY)\n",
    "length(unique(n_class_low_afr_indiv_meta_egfr_50$IID))"
   ]
  },
  {
   "cell_type": "markdown",
   "metadata": {},
   "source": [
    "### afr individuals multiancestry scores"
   ]
  },
  {
   "cell_type": "markdown",
   "metadata": {},
   "source": [
    "#### afr egfr"
   ]
  },
  {
   "cell_type": "code",
   "execution_count": null,
   "metadata": {},
   "outputs": [],
   "source": [
    "n_class_low_afr_indiv_multiancestry_score_afr_egfr_80 = n_class_low_afr_multiancestry_score[n_class_low_afr_multiancestry_score$IID %in% df_ntile_norm_afr_egfr_80_low$IID,]\n",
    "\n",
    "summary(n_class_low_afr_indiv_multiancestry_score_afr_egfr_80$COUNT_PGS)\n",
    "summary(n_class_low_afr_indiv_multiancestry_score_afr_egfr_80$STABILITY)\n",
    "length(unique(n_class_low_afr_indiv_multiancestry_score_afr_egfr_80$IID))"
   ]
  },
  {
   "cell_type": "code",
   "execution_count": null,
   "metadata": {},
   "outputs": [],
   "source": [
    "n_class_low_afr_indiv_multiancestry_score_afr_egfr_70 = n_class_low_afr_multiancestry_score[n_class_low_afr_multiancestry_score$IID %in% df_ntile_norm_afr_egfr_70_low$IID,]\n",
    "\n",
    "summary(n_class_low_afr_indiv_multiancestry_score_afr_egfr_70$COUNT_PGS)\n",
    "summary(n_class_low_afr_indiv_multiancestry_score_afr_egfr_70$STABILITY)\n",
    "length(unique(n_class_low_afr_indiv_multiancestry_score_afr_egfr_70$IID))"
   ]
  },
  {
   "cell_type": "code",
   "execution_count": null,
   "metadata": {},
   "outputs": [],
   "source": [
    "n_class_low_afr_indiv_multiancestry_score_afr_egfr_50 = n_class_low_afr_multiancestry_score[n_class_low_afr_multiancestry_score$IID %in% df_ntile_norm_afr_egfr_50_low$IID,]\n",
    "\n",
    "summary(n_class_low_afr_indiv_multiancestry_score_afr_egfr_50$COUNT_PGS)\n",
    "summary(n_class_low_afr_indiv_multiancestry_score_afr_egfr_50$STABILITY)\n",
    "length(unique(n_class_low_afr_indiv_multiancestry_score_afr_egfr_50$IID))"
   ]
  },
  {
   "cell_type": "markdown",
   "metadata": {},
   "source": [
    "#### meta egfr"
   ]
  },
  {
   "cell_type": "code",
   "execution_count": null,
   "metadata": {},
   "outputs": [],
   "source": [
    "n_class_low_afr_indiv_multiancestry_score_meta_egfr_50 = n_class_low_afr_multiancestry_score[n_class_low_afr_multiancestry_score$IID %in% df_ntile_norm_meta_egfr_50_low$IID,]\n",
    "\n",
    "summary(n_class_low_afr_indiv_multiancestry_score_meta_egfr_50$COUNT_PGS)\n",
    "summary(n_class_low_afr_indiv_multiancestry_score_meta_egfr_50$STABILITY)\n",
    "length(unique(n_class_low_afr_indiv_multiancestry_score_meta_egfr_50$IID))"
   ]
  },
  {
   "cell_type": "markdown",
   "metadata": {},
   "source": [
    "## make plot inputs for >= 98th percentile"
   ]
  },
  {
   "cell_type": "markdown",
   "metadata": {},
   "source": [
    "### all"
   ]
  },
  {
   "cell_type": "markdown",
   "metadata": {},
   "source": [
    "#### eur egfr"
   ]
  },
  {
   "cell_type": "code",
   "execution_count": null,
   "metadata": {},
   "outputs": [],
   "source": [
    "stability_plot_input_eur_egfr = n_class %>%\n",
    "select(-c(COUNT_PGS)) %>%\n",
    "rename('ALL' = 'STABILITY') %>%\n",
    "full_join(n_class_eur_egfr_95, by = 'IID') %>%\n",
    "select(-c(COUNT_PGS)) %>%\n",
    "rename('95%_CONF' = 'STABILITY') %>%\n",
    "full_join(n_class_eur_egfr_90, by = 'IID') %>%\n",
    "select(-c(COUNT_PGS)) %>%\n",
    "rename('90%_CONF' = 'STABILITY') %>%\n",
    "full_join(n_class_eur_egfr_80, by = 'IID') %>%\n",
    "select(-c(COUNT_PGS)) %>%\n",
    "rename('80%_CONF' = 'STABILITY') %>%\n",
    "full_join(n_class_eur_egfr_70, by = 'IID') %>%\n",
    "select(-c(COUNT_PGS)) %>%\n",
    "rename('70%_CONF' = 'STABILITY') %>%\n",
    "full_join(n_class_eur_egfr_50, by = 'IID') %>%\n",
    "select(-c(COUNT_PGS)) %>%\n",
    "rename('50%_CONF' = 'STABILITY') %>%\n",
    "pivot_longer(cols = c('ALL', '95%_CONF', '90%_CONF', '80%_CONF', '70%_CONF', '50%_CONF'), names_to = \"CONF_THRES\", values_to = \"STABILITY\") %>%\n",
    "mutate(CONF_THRES = as.factor(CONF_THRES, levels = c('ALL', '95%_CONF', '90%_CONF', '80%_CONF', '70%_CONF', '50%_CONF'))) %>%\n",
    "mutate(TRAINING_GROUP = 'EUR.eGFR.PRScs')\n",
    "head(stability_plot_input_eur_egfr)"
   ]
  },
  {
   "cell_type": "markdown",
   "metadata": {},
   "source": [
    "#### afr egfr"
   ]
  },
  {
   "cell_type": "code",
   "execution_count": null,
   "metadata": {},
   "outputs": [],
   "source": [
    "stability_plot_input_afr_egfr = n_class %>%\n",
    "select(-c(COUNT_PGS)) %>%\n",
    "rename('ALL' = 'STABILITY') %>%\n",
    "full_join(n_class_afr_egfr_80, by = 'IID') %>%\n",
    "select(-c(COUNT_PGS)) %>%\n",
    "rename('80%_CONF' = 'STABILITY') %>%\n",
    "full_join(n_class_afr_egfr_70, by = 'IID') %>%\n",
    "select(-c(COUNT_PGS)) %>%\n",
    "rename('70%_CONF' = 'STABILITY') %>%\n",
    "full_join(n_class_afr_egfr_50, by = 'IID') %>%\n",
    "select(-c(COUNT_PGS)) %>%\n",
    "rename('50%_CONF' = 'STABILITY') %>%\n",
    "pivot_longer(cols = c('ALL', '80%_CONF', '70%_CONF', '50%_CONF'), names_to = \"CONF_THRES\", values_to = \"STABILITY\") %>%\n",
    "mutate(CONF_THRES = as.factor(CONF_THRES, levels = c('ALL', '80%_CONF', '70%_CONF', '50%_CONF'))) %>%\n",
    "mutate(TRAINING_GROUP = 'AFR.eGFR.PRScs')\n",
    "head(stability_plot_input_afr_egfr)"
   ]
  },
  {
   "cell_type": "markdown",
   "metadata": {},
   "source": [
    "#### meta egfr"
   ]
  },
  {
   "cell_type": "code",
   "execution_count": null,
   "metadata": {},
   "outputs": [],
   "source": [
    "stability_plot_input_meta_egfr = n_class %>%\n",
    "select(-c(COUNT_PGS)) %>%\n",
    "rename('ALL' = 'STABILITY') %>%\n",
    "full_join(n_class_meta_egfr_95, by = 'IID') %>%\n",
    "select(-c(COUNT_PGS)) %>%\n",
    "rename('95%_CONF' = 'STABILITY') %>%\n",
    "full_join(n_class_meta_egfr_90, by = 'IID') %>%\n",
    "select(-c(COUNT_PGS)) %>%\n",
    "rename('90%_CONF' = 'STABILITY') %>%\n",
    "full_join(n_class_meta_egfr_80, by = 'IID') %>%\n",
    "select(-c(COUNT_PGS)) %>%\n",
    "rename('80%_CONF' = 'STABILITY') %>%\n",
    "full_join(n_class_meta_egfr_70, by = 'IID') %>%\n",
    "select(-c(COUNT_PGS)) %>%\n",
    "rename('70%_CONF' = 'STABILITY') %>%\n",
    "full_join(n_class_meta_egfr_50, by = 'IID') %>%\n",
    "select(-c(COUNT_PGS)) %>%\n",
    "rename('50%_CONF' = 'STABILITY') %>%\n",
    "pivot_longer(cols = c('ALL', '95%_CONF', '90%_CONF', '80%_CONF', '70%_CONF', '50%_CONF'), names_to = \"CONF_THRES\", values_to = \"STABILITY\") %>%\n",
    "mutate(CONF_THRES = as.factor(CONF_THRES, levels = c('ALL', '95%_CONF', '90%_CONF', '80%_CONF', '70%_CONF', '50%_CONF'))) %>%\n",
    "mutate(TRAINING_GROUP = 'META.eGFR.PRScsx')\n",
    "head(stability_plot_input_meta_egfr)"
   ]
  },
  {
   "cell_type": "markdown",
   "metadata": {},
   "source": [
    "#### combined"
   ]
  },
  {
   "cell_type": "code",
   "execution_count": null,
   "metadata": {},
   "outputs": [],
   "source": [
    "stability_plot_input_comb = stability_plot_input_eur_egfr %>%\n",
    "bind_rows(stability_plot_input_afr_egfr) %>%\n",
    "bind_rows(stability_plot_input_meta_egfr)\n",
    "head(stability_plot_input_comb)"
   ]
  },
  {
   "cell_type": "markdown",
   "metadata": {},
   "source": [
    "### all individuals multiancestry scores"
   ]
  },
  {
   "cell_type": "markdown",
   "metadata": {},
   "source": [
    "#### eur egfr"
   ]
  },
  {
   "cell_type": "code",
   "execution_count": null,
   "metadata": {},
   "outputs": [],
   "source": [
    "stability_plot_input_multiancestry_score_eur_egfr = n_class_multiancestry_score %>%\n",
    "select(-c(COUNT_PGS)) %>%\n",
    "rename('ALL' = 'STABILITY') %>%\n",
    "full_join(n_class_multiancestry_score_eur_egfr_95, by = 'IID') %>%\n",
    "select(-c(COUNT_PGS)) %>%\n",
    "rename('95%_CONF' = 'STABILITY') %>%\n",
    "full_join(n_class_multiancestry_score_eur_egfr_90, by = 'IID') %>%\n",
    "select(-c(COUNT_PGS)) %>%\n",
    "rename('90%_CONF' = 'STABILITY') %>%\n",
    "full_join(n_class_multiancestry_score_eur_egfr_80, by = 'IID') %>%\n",
    "select(-c(COUNT_PGS)) %>%\n",
    "rename('80%_CONF' = 'STABILITY') %>%\n",
    "full_join(n_class_multiancestry_score_eur_egfr_70, by = 'IID') %>%\n",
    "select(-c(COUNT_PGS)) %>%\n",
    "rename('70%_CONF' = 'STABILITY') %>%\n",
    "full_join(n_class_multiancestry_score_eur_egfr_50, by = 'IID') %>%\n",
    "select(-c(COUNT_PGS)) %>%\n",
    "rename('50%_CONF' = 'STABILITY') %>%\n",
    "pivot_longer(cols = c('ALL', '95%_CONF', '90%_CONF', '80%_CONF', '70%_CONF', '50%_CONF'), names_to = \"CONF_THRES\", values_to = \"STABILITY\") %>%\n",
    "mutate(CONF_THRES = as.factor(CONF_THRES, levels = c('ALL', '95%_CONF', '90%_CONF', '80%_CONF', '70%_CONF', '50%_CONF'))) %>%\n",
    "mutate(TRAINING_GROUP = 'EUR.eGFR.PRScs')\n",
    "head(stability_plot_input_multiancestry_score_eur_egfr)"
   ]
  },
  {
   "cell_type": "markdown",
   "metadata": {},
   "source": [
    "#### afr egfr"
   ]
  },
  {
   "cell_type": "code",
   "execution_count": null,
   "metadata": {},
   "outputs": [],
   "source": [
    "stability_plot_input_multiancestry_score_afr_egfr = n_class_multiancestry_score %>%\n",
    "select(-c(COUNT_PGS)) %>%\n",
    "rename('ALL' = 'STABILITY') %>%\n",
    "full_join(n_class_multiancestry_score_afr_egfr_80, by = 'IID') %>%\n",
    "select(-c(COUNT_PGS)) %>%\n",
    "rename('80%_CONF' = 'STABILITY') %>%\n",
    "full_join(n_class_multiancestry_score_afr_egfr_70, by = 'IID') %>%\n",
    "select(-c(COUNT_PGS)) %>%\n",
    "rename('70%_CONF' = 'STABILITY') %>%\n",
    "full_join(n_class_multiancestry_score_afr_egfr_50, by = 'IID') %>%\n",
    "select(-c(COUNT_PGS)) %>%\n",
    "rename('50%_CONF' = 'STABILITY') %>%\n",
    "pivot_longer(cols = c('ALL', '80%_CONF', '70%_CONF', '50%_CONF'), names_to = \"CONF_THRES\", values_to = \"STABILITY\") %>%\n",
    "mutate(CONF_THRES = as.factor(CONF_THRES, levels = c('ALL', '80%_CONF', '70%_CONF', '50%_CONF'))) %>%\n",
    "mutate(TRAINING_GROUP = 'AFR.eGFR.PRScs')\n",
    "head(stability_plot_input_multiancestry_score_afr_egfr)"
   ]
  },
  {
   "cell_type": "markdown",
   "metadata": {},
   "source": [
    "#### meta egfr"
   ]
  },
  {
   "cell_type": "code",
   "execution_count": null,
   "metadata": {},
   "outputs": [],
   "source": [
    "stability_plot_input_multiancestry_score_meta_egfr = n_class_multiancestry_score %>%\n",
    "select(-c(COUNT_PGS)) %>%\n",
    "rename('ALL' = 'STABILITY') %>%\n",
    "full_join(n_class_multiancestry_score_meta_egfr_95, by = 'IID') %>%\n",
    "select(-c(COUNT_PGS)) %>%\n",
    "rename('95%_CONF' = 'STABILITY') %>%\n",
    "full_join(n_class_multiancestry_score_meta_egfr_90, by = 'IID') %>%\n",
    "select(-c(COUNT_PGS)) %>%\n",
    "rename('90%_CONF' = 'STABILITY') %>%\n",
    "full_join(n_class_multiancestry_score_meta_egfr_80, by = 'IID') %>%\n",
    "select(-c(COUNT_PGS)) %>%\n",
    "rename('80%_CONF' = 'STABILITY') %>%\n",
    "full_join(n_class_multiancestry_score_meta_egfr_70, by = 'IID') %>%\n",
    "select(-c(COUNT_PGS)) %>%\n",
    "rename('70%_CONF' = 'STABILITY') %>%\n",
    "full_join(n_class_multiancestry_score_meta_egfr_50, by = 'IID') %>%\n",
    "select(-c(COUNT_PGS)) %>%\n",
    "rename('50%_CONF' = 'STABILITY') %>%\n",
    "pivot_longer(cols = c('ALL', '95%_CONF', '90%_CONF', '80%_CONF', '70%_CONF', '50%_CONF'), names_to = \"CONF_THRES\", values_to = \"STABILITY\") %>%\n",
    "mutate(CONF_THRES = as.factor(CONF_THRES, levels = c('ALL', '95%_CONF', '90%_CONF', '80%_CONF', '70%_CONF', '50%_CONF'))) %>%\n",
    "mutate(TRAINING_GROUP = 'META.eGFR.PRScsx')\n",
    "head(stability_plot_input_multiancestry_score_meta_egfr)"
   ]
  },
  {
   "cell_type": "markdown",
   "metadata": {},
   "source": [
    "#### combined"
   ]
  },
  {
   "cell_type": "code",
   "execution_count": null,
   "metadata": {},
   "outputs": [],
   "source": [
    "stability_plot_input_multiancestry_score_comb = stability_plot_input_multiancestry_score_eur_egfr %>%\n",
    "bind_rows(stability_plot_input_multiancestry_score_afr_egfr) %>%\n",
    "bind_rows(stability_plot_input_multiancestry_score_meta_egfr)\n",
    "head(stability_plot_input_multiancestry_score_comb)"
   ]
  },
  {
   "cell_type": "markdown",
   "metadata": {},
   "source": [
    "### eur"
   ]
  },
  {
   "cell_type": "markdown",
   "metadata": {},
   "source": [
    "#### eur egfr"
   ]
  },
  {
   "cell_type": "code",
   "execution_count": null,
   "metadata": {},
   "outputs": [],
   "source": [
    "stability_plot_input_eur_indiv_eur_egfr = n_class_eur %>%\n",
    "select(-c(COUNT_PGS)) %>%\n",
    "rename('ALL' = 'STABILITY') %>%\n",
    "full_join(n_class_eur_indiv_eur_egfr_95, by = 'IID') %>%\n",
    "select(-c(COUNT_PGS)) %>%\n",
    "rename('95%_CONF' = 'STABILITY') %>%\n",
    "full_join(n_class_eur_indiv_eur_egfr_90, by = 'IID') %>%\n",
    "select(-c(COUNT_PGS)) %>%\n",
    "rename('90%_CONF' = 'STABILITY') %>%\n",
    "full_join(n_class_eur_indiv_eur_egfr_80, by = 'IID') %>%\n",
    "select(-c(COUNT_PGS)) %>%\n",
    "rename('80%_CONF' = 'STABILITY') %>%\n",
    "full_join(n_class_eur_indiv_eur_egfr_70, by = 'IID') %>%\n",
    "select(-c(COUNT_PGS)) %>%\n",
    "rename('70%_CONF' = 'STABILITY') %>%\n",
    "full_join(n_class_eur_indiv_eur_egfr_50, by = 'IID') %>%\n",
    "select(-c(COUNT_PGS)) %>%\n",
    "rename('50%_CONF' = 'STABILITY') %>%\n",
    "pivot_longer(cols = c('ALL', '95%_CONF', '90%_CONF', '80%_CONF', '70%_CONF', '50%_CONF'), names_to = \"CONF_THRES\", values_to = \"STABILITY\") %>%\n",
    "mutate(CONF_THRES = as.factor(CONF_THRES, levels = c('ALL', '95%_CONF', '90%_CONF', '80%_CONF', '70%_CONF', '50%_CONF'))) %>%\n",
    "mutate(TRAINING_GROUP = 'EUR.eGFR.PRScs')\n",
    "head(stability_plot_input_eur_indiv_eur_egfr)"
   ]
  },
  {
   "cell_type": "markdown",
   "metadata": {},
   "source": [
    "#### meta egfr"
   ]
  },
  {
   "cell_type": "code",
   "execution_count": null,
   "metadata": {},
   "outputs": [],
   "source": [
    "stability_plot_input_eur_indiv_meta_egfr = n_class_eur %>%\n",
    "select(-c(COUNT_PGS)) %>%\n",
    "rename('ALL' = 'STABILITY') %>%\n",
    "full_join(n_class_eur_indiv_meta_egfr_95, by = 'IID') %>%\n",
    "select(-c(COUNT_PGS)) %>%\n",
    "rename('95%_CONF' = 'STABILITY') %>%\n",
    "full_join(n_class_eur_indiv_meta_egfr_90, by = 'IID') %>%\n",
    "select(-c(COUNT_PGS)) %>%\n",
    "rename('90%_CONF' = 'STABILITY') %>%\n",
    "full_join(n_class_eur_indiv_meta_egfr_80, by = 'IID') %>%\n",
    "select(-c(COUNT_PGS)) %>%\n",
    "rename('80%_CONF' = 'STABILITY') %>%\n",
    "full_join(n_class_eur_indiv_meta_egfr_70, by = 'IID') %>%\n",
    "select(-c(COUNT_PGS)) %>%\n",
    "rename('70%_CONF' = 'STABILITY') %>%\n",
    "full_join(n_class_eur_indiv_meta_egfr_50, by = 'IID') %>%\n",
    "select(-c(COUNT_PGS)) %>%\n",
    "rename('50%_CONF' = 'STABILITY') %>%\n",
    "pivot_longer(cols = c('ALL', '95%_CONF', '90%_CONF', '80%_CONF', '70%_CONF', '50%_CONF'), names_to = \"CONF_THRES\", values_to = \"STABILITY\") %>%\n",
    "mutate(CONF_THRES = as.factor(CONF_THRES, levels = c('ALL', '95%_CONF', '90%_CONF', '80%_CONF', '70%_CONF', '50%_CONF'))) %>%\n",
    "mutate(TRAINING_GROUP = 'META.eGFR.PRScsx')\n",
    "head(stability_plot_input_eur_indiv_meta_egfr)"
   ]
  },
  {
   "cell_type": "markdown",
   "metadata": {},
   "source": [
    "#### combined"
   ]
  },
  {
   "cell_type": "code",
   "execution_count": null,
   "metadata": {},
   "outputs": [],
   "source": [
    "stability_plot_input_eur_indiv_comb = stability_plot_input_eur_indiv_eur_egfr %>%\n",
    "bind_rows(stability_plot_input_eur_indiv_meta_egfr)\n",
    "head(stability_plot_input_eur_indiv_comb)"
   ]
  },
  {
   "cell_type": "markdown",
   "metadata": {},
   "source": [
    "### eur individuals multiancestry scores"
   ]
  },
  {
   "cell_type": "markdown",
   "metadata": {},
   "source": [
    "#### eur egfr"
   ]
  },
  {
   "cell_type": "code",
   "execution_count": null,
   "metadata": {},
   "outputs": [],
   "source": [
    "stability_plot_input_eur_indiv_multiancestry_score_eur_egfr = n_class_eur_multiancestry_score %>%\n",
    "select(-c(COUNT_PGS)) %>%\n",
    "rename('ALL' = 'STABILITY') %>%\n",
    "full_join(n_class_eur_indiv_multiancestry_score_eur_egfr_95, by = 'IID') %>%\n",
    "select(-c(COUNT_PGS)) %>%\n",
    "rename('95%_CONF' = 'STABILITY') %>%\n",
    "full_join(n_class_eur_indiv_multiancestry_score_eur_egfr_90, by = 'IID') %>%\n",
    "select(-c(COUNT_PGS)) %>%\n",
    "rename('90%_CONF' = 'STABILITY') %>%\n",
    "full_join(n_class_eur_indiv_multiancestry_score_eur_egfr_80, by = 'IID') %>%\n",
    "select(-c(COUNT_PGS)) %>%\n",
    "rename('80%_CONF' = 'STABILITY') %>%\n",
    "full_join(n_class_eur_indiv_multiancestry_score_eur_egfr_70, by = 'IID') %>%\n",
    "select(-c(COUNT_PGS)) %>%\n",
    "rename('70%_CONF' = 'STABILITY') %>%\n",
    "full_join(n_class_eur_indiv_multiancestry_score_eur_egfr_50, by = 'IID') %>%\n",
    "select(-c(COUNT_PGS)) %>%\n",
    "rename('50%_CONF' = 'STABILITY') %>%\n",
    "pivot_longer(cols = c('ALL', '95%_CONF', '90%_CONF', '80%_CONF', '70%_CONF', '50%_CONF'), names_to = \"CONF_THRES\", values_to = \"STABILITY\") %>%\n",
    "mutate(CONF_THRES = as.factor(CONF_THRES, levels = c('ALL', '95%_CONF', '90%_CONF', '80%_CONF', '70%_CONF', '50%_CONF'))) %>%\n",
    "mutate(TRAINING_GROUP = 'EUR.eGFR.PRScs')\n",
    "head(stability_plot_input_eur_indiv_multiancestry_score_eur_egfr)"
   ]
  },
  {
   "cell_type": "markdown",
   "metadata": {},
   "source": [
    "#### meta egfr"
   ]
  },
  {
   "cell_type": "code",
   "execution_count": null,
   "metadata": {},
   "outputs": [],
   "source": [
    "stability_plot_input_eur_indiv_multiancestry_score_meta_egfr = n_class_eur_multiancestry_score %>%\n",
    "select(-c(COUNT_PGS)) %>%\n",
    "rename('ALL' = 'STABILITY') %>%\n",
    "full_join(n_class_eur_indiv_multiancestry_score_meta_egfr_95, by = 'IID') %>%\n",
    "select(-c(COUNT_PGS)) %>%\n",
    "rename('95%_CONF' = 'STABILITY') %>%\n",
    "full_join(n_class_eur_indiv_multiancestry_score_meta_egfr_90, by = 'IID') %>%\n",
    "select(-c(COUNT_PGS)) %>%\n",
    "rename('90%_CONF' = 'STABILITY') %>%\n",
    "full_join(n_class_eur_indiv_multiancestry_score_meta_egfr_80, by = 'IID') %>%\n",
    "select(-c(COUNT_PGS)) %>%\n",
    "rename('80%_CONF' = 'STABILITY') %>%\n",
    "full_join(n_class_eur_indiv_multiancestry_score_meta_egfr_70, by = 'IID') %>%\n",
    "select(-c(COUNT_PGS)) %>%\n",
    "rename('70%_CONF' = 'STABILITY') %>%\n",
    "full_join(n_class_eur_indiv_multiancestry_score_meta_egfr_50, by = 'IID') %>%\n",
    "select(-c(COUNT_PGS)) %>%\n",
    "rename('50%_CONF' = 'STABILITY') %>%\n",
    "pivot_longer(cols = c('ALL', '95%_CONF', '90%_CONF', '80%_CONF', '70%_CONF', '50%_CONF'), names_to = \"CONF_THRES\", values_to = \"STABILITY\") %>%\n",
    "mutate(CONF_THRES = as.factor(CONF_THRES, levels = c('ALL', '95%_CONF', '90%_CONF', '80%_CONF', '70%_CONF', '50%_CONF'))) %>%\n",
    "mutate(TRAINING_GROUP = 'META.eGFR.PRScsx')\n",
    "head(stability_plot_input_eur_indiv_multiancestry_score_meta_egfr)"
   ]
  },
  {
   "cell_type": "markdown",
   "metadata": {},
   "source": [
    "#### combined"
   ]
  },
  {
   "cell_type": "code",
   "execution_count": null,
   "metadata": {},
   "outputs": [],
   "source": [
    "stability_plot_input_eur_indiv_multiancestry_score_comb = stability_plot_input_eur_indiv_multiancestry_score_eur_egfr %>%\n",
    "bind_rows(stability_plot_input_eur_indiv_multiancestry_score_meta_egfr)\n",
    "head(stability_plot_input_eur_indiv_multiancestry_score_comb)"
   ]
  },
  {
   "cell_type": "markdown",
   "metadata": {},
   "source": [
    "### afr"
   ]
  },
  {
   "cell_type": "markdown",
   "metadata": {},
   "source": [
    "#### afr egfr"
   ]
  },
  {
   "cell_type": "code",
   "execution_count": null,
   "metadata": {},
   "outputs": [],
   "source": [
    "stability_plot_input_afr_indiv_afr_egfr = n_class_afr %>%\n",
    "select(-c(COUNT_PGS)) %>%\n",
    "rename('ALL' = 'STABILITY') %>%\n",
    "full_join(n_class_afr_indiv_afr_egfr_80, by = 'IID') %>%\n",
    "select(-c(COUNT_PGS)) %>%\n",
    "rename('80%_CONF' = 'STABILITY') %>%\n",
    "full_join(n_class_afr_indiv_afr_egfr_70, by = 'IID') %>%\n",
    "select(-c(COUNT_PGS)) %>%\n",
    "rename('70%_CONF' = 'STABILITY') %>%\n",
    "full_join(n_class_afr_indiv_afr_egfr_50, by = 'IID') %>%\n",
    "select(-c(COUNT_PGS)) %>%\n",
    "rename('50%_CONF' = 'STABILITY') %>%\n",
    "pivot_longer(cols = c('ALL', '80%_CONF', '70%_CONF', '50%_CONF'), names_to = \"CONF_THRES\", values_to = \"STABILITY\") %>%\n",
    "mutate(CONF_THRES = as.factor(CONF_THRES, levels = c('ALL', '80%_CONF', '70%_CONF', '50%_CONF'))) %>%\n",
    "mutate(TRAINING_GROUP = 'AFR.eGFR.PRScs')\n",
    "head(stability_plot_input_afr_indiv_afr_egfr)"
   ]
  },
  {
   "cell_type": "markdown",
   "metadata": {},
   "source": [
    "#### meta egfr"
   ]
  },
  {
   "cell_type": "code",
   "execution_count": null,
   "metadata": {},
   "outputs": [],
   "source": [
    "stability_plot_input_afr_indiv_meta_egfr = n_class_afr %>%\n",
    "select(-c(COUNT_PGS)) %>%\n",
    "rename('ALL' = 'STABILITY') %>%\n",
    "full_join(n_class_afr_indiv_meta_egfr_70, by = 'IID') %>%\n",
    "select(-c(COUNT_PGS)) %>%\n",
    "rename('70%_CONF' = 'STABILITY') %>%\n",
    "full_join(n_class_afr_indiv_meta_egfr_50, by = 'IID') %>%\n",
    "select(-c(COUNT_PGS)) %>%\n",
    "rename('50%_CONF' = 'STABILITY') %>%\n",
    "pivot_longer(cols = c('ALL', '70%_CONF', '50%_CONF'), names_to = \"CONF_THRES\", values_to = \"STABILITY\") %>%\n",
    "mutate(CONF_THRES = as.factor(CONF_THRES, levels = c('ALL', '70%_CONF', '50%_CONF'))) %>%\n",
    "mutate(TRAINING_GROUP = 'META.eGFR.PRScsx')\n",
    "head(stability_plot_input_afr_indiv_meta_egfr)"
   ]
  },
  {
   "cell_type": "markdown",
   "metadata": {},
   "source": [
    "#### combined"
   ]
  },
  {
   "cell_type": "code",
   "execution_count": null,
   "metadata": {},
   "outputs": [],
   "source": [
    "stability_plot_input_afr_indiv_comb = stability_plot_input_afr_indiv_afr_egfr %>%\n",
    "bind_rows(stability_plot_input_afr_indiv_meta_egfr)\n",
    "head(stability_plot_input_afr_indiv_comb)"
   ]
  },
  {
   "cell_type": "markdown",
   "metadata": {},
   "source": [
    "### afr individuals multiancestry scores"
   ]
  },
  {
   "cell_type": "markdown",
   "metadata": {},
   "source": [
    "#### afr egfr"
   ]
  },
  {
   "cell_type": "code",
   "execution_count": null,
   "metadata": {},
   "outputs": [],
   "source": [
    "stability_plot_input_afr_indiv_multiancestry_score_afr_egfr = n_class_afr_multiancestry_score %>%\n",
    "select(-c(COUNT_PGS)) %>%\n",
    "rename('ALL' = 'STABILITY') %>%\n",
    "full_join(n_class_afr_indiv_multiancestry_score_afr_egfr_80, by = 'IID') %>%\n",
    "select(-c(COUNT_PGS)) %>%\n",
    "rename('80%_CONF' = 'STABILITY') %>%\n",
    "full_join(n_class_afr_indiv_multiancestry_score_afr_egfr_70, by = 'IID') %>%\n",
    "select(-c(COUNT_PGS)) %>%\n",
    "rename('70%_CONF' = 'STABILITY') %>%\n",
    "full_join(n_class_afr_indiv_multiancestry_score_afr_egfr_50, by = 'IID') %>%\n",
    "select(-c(COUNT_PGS)) %>%\n",
    "rename('50%_CONF' = 'STABILITY') %>%\n",
    "pivot_longer(cols = c('ALL', '80%_CONF', '70%_CONF', '50%_CONF'), names_to = \"CONF_THRES\", values_to = \"STABILITY\") %>%\n",
    "mutate(CONF_THRES = as.factor(CONF_THRES, levels = c('ALL', '80%_CONF', '70%_CONF', '50%_CONF'))) %>%\n",
    "mutate(TRAINING_GROUP = 'AFR.eGFR.PRScs')\n",
    "head(stability_plot_input_afr_indiv_multiancestry_score_afr_egfr)"
   ]
  },
  {
   "cell_type": "markdown",
   "metadata": {},
   "source": [
    "#### meta egfr"
   ]
  },
  {
   "cell_type": "code",
   "execution_count": null,
   "metadata": {},
   "outputs": [],
   "source": [
    "stability_plot_input_afr_indiv_multiancestry_score_meta_egfr = n_class_afr_multiancestry_score %>%\n",
    "select(-c(COUNT_PGS)) %>%\n",
    "rename('ALL' = 'STABILITY') %>%\n",
    "full_join(n_class_afr_indiv_multiancestry_score_meta_egfr_70, by = 'IID') %>%\n",
    "select(-c(COUNT_PGS)) %>%\n",
    "rename('70%_CONF' = 'STABILITY') %>%\n",
    "full_join(n_class_afr_indiv_multiancestry_score_meta_egfr_50, by = 'IID') %>%\n",
    "select(-c(COUNT_PGS)) %>%\n",
    "rename('50%_CONF' = 'STABILITY') %>%\n",
    "pivot_longer(cols = c('ALL', '70%_CONF', '50%_CONF'), names_to = \"CONF_THRES\", values_to = \"STABILITY\") %>%\n",
    "mutate(CONF_THRES = as.factor(CONF_THRES, levels = c('ALL', '70%_CONF', '50%_CONF'))) %>%\n",
    "mutate(TRAINING_GROUP = 'META.eGFR.PRScsx')\n",
    "head(stability_plot_input_afr_indiv_multiancestry_score_meta_egfr)"
   ]
  },
  {
   "cell_type": "markdown",
   "metadata": {},
   "source": [
    "#### combined"
   ]
  },
  {
   "cell_type": "code",
   "execution_count": null,
   "metadata": {},
   "outputs": [],
   "source": [
    "stability_plot_input_afr_indiv_multiancestry_score_comb = stability_plot_input_afr_indiv_multiancestry_score_afr_egfr %>%\n",
    "bind_rows(stability_plot_input_afr_indiv_multiancestry_score_meta_egfr)\n",
    "head(stability_plot_input_afr_indiv_multiancestry_score_comb)"
   ]
  },
  {
   "cell_type": "markdown",
   "metadata": {},
   "source": [
    "## make plot inputs for <= 2nd percentile"
   ]
  },
  {
   "cell_type": "markdown",
   "metadata": {},
   "source": [
    "### all"
   ]
  },
  {
   "cell_type": "markdown",
   "metadata": {},
   "source": [
    "#### eur egfr"
   ]
  },
  {
   "cell_type": "code",
   "execution_count": null,
   "metadata": {},
   "outputs": [],
   "source": [
    "stability_plot_input_eur_egfr_low = n_class_low %>%\n",
    "select(-c(COUNT_PGS)) %>%\n",
    "rename('ALL' = 'STABILITY') %>%\n",
    "full_join(n_class_low_eur_egfr_95, by = 'IID') %>%\n",
    "select(-c(COUNT_PGS)) %>%\n",
    "rename('95%_CONF' = 'STABILITY') %>%\n",
    "full_join(n_class_low_eur_egfr_90, by = 'IID') %>%\n",
    "select(-c(COUNT_PGS)) %>%\n",
    "rename('90%_CONF' = 'STABILITY') %>%\n",
    "full_join(n_class_low_eur_egfr_80, by = 'IID') %>%\n",
    "select(-c(COUNT_PGS)) %>%\n",
    "rename('80%_CONF' = 'STABILITY') %>%\n",
    "full_join(n_class_low_eur_egfr_70, by = 'IID') %>%\n",
    "select(-c(COUNT_PGS)) %>%\n",
    "rename('70%_CONF' = 'STABILITY') %>%\n",
    "full_join(n_class_low_eur_egfr_50, by = 'IID') %>%\n",
    "select(-c(COUNT_PGS)) %>%\n",
    "rename('50%_CONF' = 'STABILITY') %>%\n",
    "pivot_longer(cols = c('ALL', '95%_CONF', '90%_CONF', '80%_CONF', '70%_CONF', '50%_CONF'), names_to = \"CONF_THRES\", values_to = \"STABILITY\") %>%\n",
    "mutate(CONF_THRES = as.factor(CONF_THRES, levels = c('ALL', '95%_CONF', '90%_CONF', '80%_CONF', '70%_CONF', '50%_CONF'))) %>%\n",
    "mutate(TRAINING_GROUP = 'EUR.eGFR.PRScs')\n",
    "head(stability_plot_input_eur_egfr_low)"
   ]
  },
  {
   "cell_type": "markdown",
   "metadata": {},
   "source": [
    "#### afr egfr"
   ]
  },
  {
   "cell_type": "code",
   "execution_count": null,
   "metadata": {},
   "outputs": [],
   "source": [
    "stability_plot_input_afr_egfr_low = n_class_low %>%\n",
    "select(-c(COUNT_PGS)) %>%\n",
    "rename('ALL' = 'STABILITY') %>%\n",
    "full_join(n_class_low_afr_egfr_80, by = 'IID') %>%\n",
    "select(-c(COUNT_PGS)) %>%\n",
    "rename('80%_CONF' = 'STABILITY') %>%\n",
    "full_join(n_class_low_afr_egfr_70, by = 'IID') %>%\n",
    "select(-c(COUNT_PGS)) %>%\n",
    "rename('70%_CONF' = 'STABILITY') %>%\n",
    "full_join(n_class_low_afr_egfr_50, by = 'IID') %>%\n",
    "select(-c(COUNT_PGS)) %>%\n",
    "rename('50%_CONF' = 'STABILITY') %>%\n",
    "pivot_longer(cols = c('ALL', '80%_CONF', '70%_CONF', '50%_CONF'), names_to = \"CONF_THRES\", values_to = \"STABILITY\") %>%\n",
    "mutate(CONF_THRES = as.factor(CONF_THRES, levels = c('ALL', '80%_CONF', '70%_CONF', '50%_CONF'))) %>%\n",
    "mutate(TRAINING_GROUP = 'AFR.eGFR.PRScs')\n",
    "head(stability_plot_input_afr_egfr_low)"
   ]
  },
  {
   "cell_type": "markdown",
   "metadata": {},
   "source": [
    "#### meta egfr"
   ]
  },
  {
   "cell_type": "code",
   "execution_count": null,
   "metadata": {},
   "outputs": [],
   "source": [
    "stability_plot_input_meta_egfr_low = n_class_low %>%\n",
    "select(-c(COUNT_PGS)) %>%\n",
    "rename('ALL' = 'STABILITY') %>%\n",
    "full_join(n_class_low_meta_egfr_95, by = 'IID') %>%\n",
    "select(-c(COUNT_PGS)) %>%\n",
    "rename('95%_CONF' = 'STABILITY') %>%\n",
    "full_join(n_class_low_meta_egfr_90, by = 'IID') %>%\n",
    "select(-c(COUNT_PGS)) %>%\n",
    "rename('90%_CONF' = 'STABILITY') %>%\n",
    "full_join(n_class_low_meta_egfr_80, by = 'IID') %>%\n",
    "select(-c(COUNT_PGS)) %>%\n",
    "rename('80%_CONF' = 'STABILITY') %>%\n",
    "full_join(n_class_low_meta_egfr_70, by = 'IID') %>%\n",
    "select(-c(COUNT_PGS)) %>%\n",
    "rename('70%_CONF' = 'STABILITY') %>%\n",
    "full_join(n_class_low_meta_egfr_50, by = 'IID') %>%\n",
    "select(-c(COUNT_PGS)) %>%\n",
    "rename('50%_CONF' = 'STABILITY') %>%\n",
    "pivot_longer(cols = c('ALL', '95%_CONF', '90%_CONF', '80%_CONF', '70%_CONF', '50%_CONF'), names_to = \"CONF_THRES\", values_to = \"STABILITY\") %>%\n",
    "mutate(CONF_THRES = as.factor(CONF_THRES, levels = c('ALL', '95%_CONF', '90%_CONF', '80%_CONF', '70%_CONF', '50%_CONF'))) %>%\n",
    "mutate(TRAINING_GROUP = 'META.eGFR.PRScsx')\n",
    "head(stability_plot_input_meta_egfr_low)"
   ]
  },
  {
   "cell_type": "markdown",
   "metadata": {},
   "source": [
    "#### combined"
   ]
  },
  {
   "cell_type": "code",
   "execution_count": null,
   "metadata": {},
   "outputs": [],
   "source": [
    "stability_plot_input_comb_low = stability_plot_input_eur_egfr_low %>%\n",
    "bind_rows(stability_plot_input_afr_egfr_low) %>%\n",
    "bind_rows(stability_plot_input_meta_egfr_low)\n",
    "head(stability_plot_input_comb_low)"
   ]
  },
  {
   "cell_type": "markdown",
   "metadata": {},
   "source": [
    "### all individuals multiancestry scores"
   ]
  },
  {
   "cell_type": "markdown",
   "metadata": {},
   "source": [
    "#### eur egfr"
   ]
  },
  {
   "cell_type": "code",
   "execution_count": null,
   "metadata": {},
   "outputs": [],
   "source": [
    "stability_plot_input_multiancestry_score_eur_egfr_low = n_class_low_multiancestry_score %>%\n",
    "select(-c(COUNT_PGS)) %>%\n",
    "rename('ALL' = 'STABILITY') %>%\n",
    "full_join(n_class_low_multiancestry_score_eur_egfr_95, by = 'IID') %>%\n",
    "select(-c(COUNT_PGS)) %>%\n",
    "rename('95%_CONF' = 'STABILITY') %>%\n",
    "full_join(n_class_low_multiancestry_score_eur_egfr_90, by = 'IID') %>%\n",
    "select(-c(COUNT_PGS)) %>%\n",
    "rename('90%_CONF' = 'STABILITY') %>%\n",
    "full_join(n_class_low_multiancestry_score_eur_egfr_80, by = 'IID') %>%\n",
    "select(-c(COUNT_PGS)) %>%\n",
    "rename('80%_CONF' = 'STABILITY') %>%\n",
    "full_join(n_class_low_multiancestry_score_eur_egfr_70, by = 'IID') %>%\n",
    "select(-c(COUNT_PGS)) %>%\n",
    "rename('70%_CONF' = 'STABILITY') %>%\n",
    "full_join(n_class_low_multiancestry_score_eur_egfr_50, by = 'IID') %>%\n",
    "select(-c(COUNT_PGS)) %>%\n",
    "rename('50%_CONF' = 'STABILITY') %>%\n",
    "pivot_longer(cols = c('ALL', '95%_CONF', '90%_CONF', '80%_CONF', '70%_CONF', '50%_CONF'), names_to = \"CONF_THRES\", values_to = \"STABILITY\") %>%\n",
    "mutate(CONF_THRES = as.factor(CONF_THRES, levels = c('ALL', '95%_CONF', '90%_CONF', '80%_CONF', '70%_CONF', '50%_CONF'))) %>%\n",
    "mutate(TRAINING_GROUP = 'EUR.eGFR.PRScs')\n",
    "head(stability_plot_input_multiancestry_score_eur_egfr_low)"
   ]
  },
  {
   "cell_type": "markdown",
   "metadata": {},
   "source": [
    "#### afr egfr"
   ]
  },
  {
   "cell_type": "code",
   "execution_count": null,
   "metadata": {},
   "outputs": [],
   "source": [
    "stability_plot_input_multiancestry_score_afr_egfr_low = n_class_low_multiancestry_score %>%\n",
    "select(-c(COUNT_PGS)) %>%\n",
    "rename('ALL' = 'STABILITY') %>%\n",
    "full_join(n_class_low_multiancestry_score_afr_egfr_80, by = 'IID') %>%\n",
    "select(-c(COUNT_PGS)) %>%\n",
    "rename('80%_CONF' = 'STABILITY') %>%\n",
    "full_join(n_class_low_multiancestry_score_afr_egfr_70, by = 'IID') %>%\n",
    "select(-c(COUNT_PGS)) %>%\n",
    "rename('70%_CONF' = 'STABILITY') %>%\n",
    "full_join(n_class_low_multiancestry_score_afr_egfr_50, by = 'IID') %>%\n",
    "select(-c(COUNT_PGS)) %>%\n",
    "rename('50%_CONF' = 'STABILITY') %>%\n",
    "pivot_longer(cols = c('ALL', '80%_CONF', '70%_CONF', '50%_CONF'), names_to = \"CONF_THRES\", values_to = \"STABILITY\") %>%\n",
    "mutate(CONF_THRES = as.factor(CONF_THRES, levels = c('ALL', '80%_CONF', '70%_CONF', '50%_CONF'))) %>%\n",
    "mutate(TRAINING_GROUP = 'AFR.eGFR.PRScs')\n",
    "head(stability_plot_input_multiancestry_score_afr_egfr_low)"
   ]
  },
  {
   "cell_type": "markdown",
   "metadata": {},
   "source": [
    "#### meta egfr"
   ]
  },
  {
   "cell_type": "code",
   "execution_count": null,
   "metadata": {},
   "outputs": [],
   "source": [
    "stability_plot_input_multiancestry_score_meta_egfr_low = n_class_low_multiancestry_score %>%\n",
    "select(-c(COUNT_PGS)) %>%\n",
    "rename('ALL' = 'STABILITY') %>%\n",
    "full_join(n_class_low_multiancestry_score_meta_egfr_95, by = 'IID') %>%\n",
    "select(-c(COUNT_PGS)) %>%\n",
    "rename('95%_CONF' = 'STABILITY') %>%\n",
    "full_join(n_class_low_multiancestry_score_meta_egfr_90, by = 'IID') %>%\n",
    "select(-c(COUNT_PGS)) %>%\n",
    "rename('90%_CONF' = 'STABILITY') %>%\n",
    "full_join(n_class_low_multiancestry_score_meta_egfr_80, by = 'IID') %>%\n",
    "select(-c(COUNT_PGS)) %>%\n",
    "rename('80%_CONF' = 'STABILITY') %>%\n",
    "full_join(n_class_low_multiancestry_score_meta_egfr_70, by = 'IID') %>%\n",
    "select(-c(COUNT_PGS)) %>%\n",
    "rename('70%_CONF' = 'STABILITY') %>%\n",
    "full_join(n_class_low_multiancestry_score_meta_egfr_50, by = 'IID') %>%\n",
    "select(-c(COUNT_PGS)) %>%\n",
    "rename('50%_CONF' = 'STABILITY') %>%\n",
    "pivot_longer(cols = c('ALL', '95%_CONF', '90%_CONF', '80%_CONF', '70%_CONF', '50%_CONF'), names_to = \"CONF_THRES\", values_to = \"STABILITY\") %>%\n",
    "mutate(CONF_THRES = as.factor(CONF_THRES, levels = c('ALL', '95%_CONF', '90%_CONF', '80%_CONF', '70%_CONF', '50%_CONF'))) %>%\n",
    "mutate(TRAINING_GROUP = 'META.eGFR.PRScsx')\n",
    "head(stability_plot_input_multiancestry_score_meta_egfr_low)"
   ]
  },
  {
   "cell_type": "markdown",
   "metadata": {},
   "source": [
    "#### combined"
   ]
  },
  {
   "cell_type": "code",
   "execution_count": null,
   "metadata": {},
   "outputs": [],
   "source": [
    "stability_plot_input_multiancestry_score_comb_low = stability_plot_input_multiancestry_score_eur_egfr_low %>%\n",
    "bind_rows(stability_plot_input_multiancestry_score_afr_egfr_low) %>%\n",
    "bind_rows(stability_plot_input_multiancestry_score_meta_egfr_low)\n",
    "head(stability_plot_input_multiancestry_score_comb_low)"
   ]
  },
  {
   "cell_type": "markdown",
   "metadata": {},
   "source": [
    "### eur"
   ]
  },
  {
   "cell_type": "markdown",
   "metadata": {},
   "source": [
    "#### eur egfr"
   ]
  },
  {
   "cell_type": "code",
   "execution_count": null,
   "metadata": {},
   "outputs": [],
   "source": [
    "stability_plot_input_eur_indiv_eur_egfr_low = n_class_low_eur %>%\n",
    "select(-c(COUNT_PGS)) %>%\n",
    "rename('ALL' = 'STABILITY') %>%\n",
    "full_join(n_class_low_eur_indiv_eur_egfr_95, by = 'IID') %>%\n",
    "select(-c(COUNT_PGS)) %>%\n",
    "rename('95%_CONF' = 'STABILITY') %>%\n",
    "full_join(n_class_low_eur_indiv_eur_egfr_90, by = 'IID') %>%\n",
    "select(-c(COUNT_PGS)) %>%\n",
    "rename('90%_CONF' = 'STABILITY') %>%\n",
    "full_join(n_class_low_eur_indiv_eur_egfr_80, by = 'IID') %>%\n",
    "select(-c(COUNT_PGS)) %>%\n",
    "rename('80%_CONF' = 'STABILITY') %>%\n",
    "full_join(n_class_low_eur_indiv_eur_egfr_70, by = 'IID') %>%\n",
    "select(-c(COUNT_PGS)) %>%\n",
    "rename('70%_CONF' = 'STABILITY') %>%\n",
    "full_join(n_class_low_eur_indiv_eur_egfr_50, by = 'IID') %>%\n",
    "select(-c(COUNT_PGS)) %>%\n",
    "rename('50%_CONF' = 'STABILITY') %>%\n",
    "pivot_longer(cols = c('ALL', '95%_CONF', '90%_CONF', '80%_CONF', '70%_CONF', '50%_CONF'), names_to = \"CONF_THRES\", values_to = \"STABILITY\") %>%\n",
    "mutate(CONF_THRES = as.factor(CONF_THRES, levels = c('ALL', '95%_CONF', '90%_CONF', '80%_CONF', '70%_CONF', '50%_CONF'))) %>%\n",
    "mutate(TRAINING_GROUP = 'EUR.eGFR.PRScs')\n",
    "head(stability_plot_input_eur_indiv_eur_egfr_low)"
   ]
  },
  {
   "cell_type": "markdown",
   "metadata": {},
   "source": [
    "#### meta egfr"
   ]
  },
  {
   "cell_type": "code",
   "execution_count": null,
   "metadata": {},
   "outputs": [],
   "source": [
    "stability_plot_input_eur_indiv_meta_egfr_low = n_class_low_eur %>%\n",
    "select(-c(COUNT_PGS)) %>%\n",
    "rename('ALL' = 'STABILITY') %>%\n",
    "full_join(n_class_low_eur_indiv_meta_egfr_95, by = 'IID') %>%\n",
    "select(-c(COUNT_PGS)) %>%\n",
    "rename('95%_CONF' = 'STABILITY') %>%\n",
    "full_join(n_class_low_eur_indiv_meta_egfr_90, by = 'IID') %>%\n",
    "select(-c(COUNT_PGS)) %>%\n",
    "rename('90%_CONF' = 'STABILITY') %>%\n",
    "full_join(n_class_low_eur_indiv_meta_egfr_80, by = 'IID') %>%\n",
    "select(-c(COUNT_PGS)) %>%\n",
    "rename('80%_CONF' = 'STABILITY') %>%\n",
    "full_join(n_class_low_eur_indiv_meta_egfr_70, by = 'IID') %>%\n",
    "select(-c(COUNT_PGS)) %>%\n",
    "rename('70%_CONF' = 'STABILITY') %>%\n",
    "full_join(n_class_low_eur_indiv_meta_egfr_50, by = 'IID') %>%\n",
    "select(-c(COUNT_PGS)) %>%\n",
    "rename('50%_CONF' = 'STABILITY') %>%\n",
    "pivot_longer(cols = c('ALL', '95%_CONF', '90%_CONF', '80%_CONF', '70%_CONF', '50%_CONF'), names_to = \"CONF_THRES\", values_to = \"STABILITY\") %>%\n",
    "mutate(CONF_THRES = as.factor(CONF_THRES, levels = c('ALL', '95%_CONF', '90%_CONF', '80%_CONF', '70%_CONF', '50%_CONF'))) %>%\n",
    "mutate(TRAINING_GROUP = 'META.eGFR.PRScsx')\n",
    "head(stability_plot_input_eur_indiv_meta_egfr_low)"
   ]
  },
  {
   "cell_type": "markdown",
   "metadata": {},
   "source": [
    "#### combined"
   ]
  },
  {
   "cell_type": "code",
   "execution_count": null,
   "metadata": {},
   "outputs": [],
   "source": [
    "stability_plot_input_eur_indiv_comb_low = stability_plot_input_eur_indiv_eur_egfr_low %>%\n",
    "bind_rows(stability_plot_input_eur_indiv_meta_egfr_low)\n",
    "unique(stability_plot_input_eur_indiv_comb_low$TRAINING_GROUP)\n",
    "head(stability_plot_input_eur_indiv_comb_low)"
   ]
  },
  {
   "cell_type": "markdown",
   "metadata": {
    "jp-MarkdownHeadingCollapsed": true
   },
   "source": [
    "### eur individuals multiancestry scores"
   ]
  },
  {
   "cell_type": "markdown",
   "metadata": {},
   "source": [
    "#### eur egfr"
   ]
  },
  {
   "cell_type": "code",
   "execution_count": null,
   "metadata": {},
   "outputs": [],
   "source": [
    "stability_plot_input_eur_indiv_multiancestry_score_eur_egfr_low = n_class_low_eur_multiancestry_score %>%\n",
    "select(-c(COUNT_PGS)) %>%\n",
    "rename('ALL' = 'STABILITY') %>%\n",
    "full_join(n_class_low_eur_indiv_multiancestry_score_eur_egfr_95, by = 'IID') %>%\n",
    "select(-c(COUNT_PGS)) %>%\n",
    "rename('95%_CONF' = 'STABILITY') %>%\n",
    "full_join(n_class_low_eur_indiv_multiancestry_score_eur_egfr_90, by = 'IID') %>%\n",
    "select(-c(COUNT_PGS)) %>%\n",
    "rename('90%_CONF' = 'STABILITY') %>%\n",
    "full_join(n_class_low_eur_indiv_multiancestry_score_eur_egfr_80, by = 'IID') %>%\n",
    "select(-c(COUNT_PGS)) %>%\n",
    "rename('80%_CONF' = 'STABILITY') %>%\n",
    "full_join(n_class_low_eur_indiv_multiancestry_score_eur_egfr_70, by = 'IID') %>%\n",
    "select(-c(COUNT_PGS)) %>%\n",
    "rename('70%_CONF' = 'STABILITY') %>%\n",
    "full_join(n_class_low_eur_indiv_multiancestry_score_eur_egfr_50, by = 'IID') %>%\n",
    "select(-c(COUNT_PGS)) %>%\n",
    "rename('50%_CONF' = 'STABILITY') %>%\n",
    "pivot_longer(cols = c('ALL', '95%_CONF', '90%_CONF', '80%_CONF', '70%_CONF', '50%_CONF'), names_to = \"CONF_THRES\", values_to = \"STABILITY\") %>%\n",
    "mutate(CONF_THRES = as.factor(CONF_THRES, levels = c('ALL', '95%_CONF', '90%_CONF', '80%_CONF', '70%_CONF', '50%_CONF'))) %>%\n",
    "mutate(TRAINING_GROUP = 'EUR.eGFR.PRScs')\n",
    "head(stability_plot_input_eur_indiv_multiancestry_score_eur_egfr_low)"
   ]
  },
  {
   "cell_type": "markdown",
   "metadata": {},
   "source": [
    "#### meta egfr"
   ]
  },
  {
   "cell_type": "code",
   "execution_count": null,
   "metadata": {},
   "outputs": [],
   "source": [
    "stability_plot_input_eur_indiv_multiancestry_score_meta_egfr_low = n_class_low_eur_multiancestry_score %>%\n",
    "select(-c(COUNT_PGS)) %>%\n",
    "rename('ALL' = 'STABILITY') %>%\n",
    "full_join(n_class_low_eur_indiv_multiancestry_score_meta_egfr_95, by = 'IID') %>%\n",
    "select(-c(COUNT_PGS)) %>%\n",
    "rename('95%_CONF' = 'STABILITY') %>%\n",
    "full_join(n_class_low_eur_indiv_multiancestry_score_meta_egfr_90, by = 'IID') %>%\n",
    "select(-c(COUNT_PGS)) %>%\n",
    "rename('90%_CONF' = 'STABILITY') %>%\n",
    "full_join(n_class_low_eur_indiv_multiancestry_score_meta_egfr_80, by = 'IID') %>%\n",
    "select(-c(COUNT_PGS)) %>%\n",
    "rename('80%_CONF' = 'STABILITY') %>%\n",
    "full_join(n_class_low_eur_indiv_multiancestry_score_meta_egfr_70, by = 'IID') %>%\n",
    "select(-c(COUNT_PGS)) %>%\n",
    "rename('70%_CONF' = 'STABILITY') %>%\n",
    "full_join(n_class_low_eur_indiv_multiancestry_score_meta_egfr_50, by = 'IID') %>%\n",
    "select(-c(COUNT_PGS)) %>%\n",
    "rename('50%_CONF' = 'STABILITY') %>%\n",
    "pivot_longer(cols = c('ALL', '95%_CONF', '90%_CONF', '80%_CONF', '70%_CONF', '50%_CONF'), names_to = \"CONF_THRES\", values_to = \"STABILITY\") %>%\n",
    "mutate(CONF_THRES = as.factor(CONF_THRES, levels = c('ALL', '95%_CONF', '90%_CONF', '80%_CONF', '70%_CONF', '50%_CONF'))) %>%\n",
    "mutate(TRAINING_GROUP = 'META.eGFR.PRScsx')\n",
    "head(stability_plot_input_eur_indiv_multiancestry_score_meta_egfr_low)"
   ]
  },
  {
   "cell_type": "markdown",
   "metadata": {},
   "source": [
    "#### combined"
   ]
  },
  {
   "cell_type": "code",
   "execution_count": null,
   "metadata": {},
   "outputs": [],
   "source": [
    "stability_plot_input_eur_indiv_multiancestry_score_comb_low = stability_plot_input_eur_indiv_multiancestry_score_eur_egfr_low %>%\n",
    "bind_rows(stability_plot_input_eur_indiv_multiancestry_score_meta_egfr_low)\n",
    "head(stability_plot_input_eur_indiv_multiancestry_score_comb_low)"
   ]
  },
  {
   "cell_type": "markdown",
   "metadata": {
    "jp-MarkdownHeadingCollapsed": true
   },
   "source": [
    "### afr"
   ]
  },
  {
   "cell_type": "markdown",
   "metadata": {},
   "source": [
    "#### afr egfr"
   ]
  },
  {
   "cell_type": "code",
   "execution_count": null,
   "metadata": {},
   "outputs": [],
   "source": [
    "stability_plot_input_afr_indiv_afr_egfr_low = n_class_low_afr %>%\n",
    "select(-c(COUNT_PGS)) %>%\n",
    "rename('ALL' = 'STABILITY') %>%\n",
    "full_join(n_class_low_afr_indiv_afr_egfr_80, by = 'IID') %>%\n",
    "select(-c(COUNT_PGS)) %>%\n",
    "rename('80%_CONF' = 'STABILITY') %>%\n",
    "full_join(n_class_low_afr_indiv_afr_egfr_70, by = 'IID') %>%\n",
    "select(-c(COUNT_PGS)) %>%\n",
    "rename('70%_CONF' = 'STABILITY') %>%\n",
    "full_join(n_class_low_afr_indiv_afr_egfr_50, by = 'IID') %>%\n",
    "select(-c(COUNT_PGS)) %>%\n",
    "rename('50%_CONF' = 'STABILITY') %>%\n",
    "pivot_longer(cols = c('ALL', '80%_CONF', '70%_CONF', '50%_CONF'), names_to = \"CONF_THRES\", values_to = \"STABILITY\") %>%\n",
    "mutate(CONF_THRES = as.factor(CONF_THRES, levels = c('ALL', '80%_CONF', '70%_CONF', '50%_CONF'))) %>%\n",
    "mutate(TRAINING_GROUP = 'AFR.eGFR.PRScs')\n",
    "head(stability_plot_input_afr_indiv_afr_egfr_low)"
   ]
  },
  {
   "cell_type": "markdown",
   "metadata": {},
   "source": [
    "#### meta egfr"
   ]
  },
  {
   "cell_type": "code",
   "execution_count": null,
   "metadata": {},
   "outputs": [],
   "source": [
    "stability_plot_input_afr_indiv_meta_egfr_low = n_class_low_afr %>%\n",
    "select(-c(COUNT_PGS)) %>%\n",
    "rename('ALL' = 'STABILITY') %>%\n",
    "full_join(n_class_low_afr_indiv_meta_egfr_50, by = 'IID') %>%\n",
    "select(-c(COUNT_PGS)) %>%\n",
    "rename('50%_CONF' = 'STABILITY') %>%\n",
    "pivot_longer(cols = c('ALL', '50%_CONF'), names_to = \"CONF_THRES\", values_to = \"STABILITY\") %>%\n",
    "mutate(CONF_THRES = as.factor(CONF_THRES, levels = c('ALL', '50%_CONF'))) %>%\n",
    "mutate(TRAINING_GROUP = 'META.eGFR.PRScsx')\n",
    "head(stability_plot_input_afr_indiv_meta_egfr_low)"
   ]
  },
  {
   "cell_type": "markdown",
   "metadata": {},
   "source": [
    "#### combined"
   ]
  },
  {
   "cell_type": "code",
   "execution_count": null,
   "metadata": {},
   "outputs": [],
   "source": [
    "stability_plot_input_afr_indiv_comb_low = stability_plot_input_afr_indiv_afr_egfr_low %>%\n",
    "bind_rows(stability_plot_input_afr_indiv_meta_egfr_low)\n",
    "head(stability_plot_input_afr_indiv_comb_low)"
   ]
  },
  {
   "cell_type": "markdown",
   "metadata": {},
   "source": [
    "### all individuals multiancestry scores"
   ]
  },
  {
   "cell_type": "markdown",
   "metadata": {},
   "source": [
    "#### afr egfr"
   ]
  },
  {
   "cell_type": "code",
   "execution_count": null,
   "metadata": {},
   "outputs": [],
   "source": [
    "stability_plot_input_afr_indiv_multiancestry_score_afr_egfr_low = n_class_low_afr_multiancestry_score %>%\n",
    "select(-c(COUNT_PGS)) %>%\n",
    "rename('ALL' = 'STABILITY') %>%\n",
    "full_join(n_class_low_afr_indiv_multiancestry_score_afr_egfr_80, by = 'IID') %>%\n",
    "select(-c(COUNT_PGS)) %>%\n",
    "rename('80%_CONF' = 'STABILITY') %>%\n",
    "full_join(n_class_low_afr_indiv_multiancestry_score_afr_egfr_70, by = 'IID') %>%\n",
    "select(-c(COUNT_PGS)) %>%\n",
    "rename('70%_CONF' = 'STABILITY') %>%\n",
    "full_join(n_class_low_afr_indiv_multiancestry_score_afr_egfr_50, by = 'IID') %>%\n",
    "select(-c(COUNT_PGS)) %>%\n",
    "rename('50%_CONF' = 'STABILITY') %>%\n",
    "pivot_longer(cols = c('ALL', '80%_CONF', '70%_CONF', '50%_CONF'), names_to = \"CONF_THRES\", values_to = \"STABILITY\") %>%\n",
    "mutate(CONF_THRES = as.factor(CONF_THRES, levels = c('ALL', '80%_CONF', '70%_CONF', '50%_CONF'))) %>%\n",
    "mutate(TRAINING_GROUP = 'AFR.eGFR.PRScs')\n",
    "head(stability_plot_input_afr_indiv_multiancestry_score_afr_egfr_low)"
   ]
  },
  {
   "cell_type": "markdown",
   "metadata": {},
   "source": [
    "#### meta egfr"
   ]
  },
  {
   "cell_type": "code",
   "execution_count": null,
   "metadata": {},
   "outputs": [],
   "source": [
    "stability_plot_input_afr_indiv_multiancestry_score_meta_egfr_low = n_class_low_afr_multiancestry_score %>%\n",
    "select(-c(COUNT_PGS)) %>%\n",
    "rename('ALL' = 'STABILITY') %>%\n",
    "full_join(n_class_low_afr_indiv_multiancestry_score_meta_egfr_50, by = 'IID') %>%\n",
    "select(-c(COUNT_PGS)) %>%\n",
    "rename('50%_CONF' = 'STABILITY') %>%\n",
    "pivot_longer(cols = c('ALL', '50%_CONF'), names_to = \"CONF_THRES\", values_to = \"STABILITY\") %>%\n",
    "mutate(CONF_THRES = as.factor(CONF_THRES, levels = c('ALL', '50%_CONF'))) %>%\n",
    "mutate(TRAINING_GROUP = 'META.eGFR.PRScsx')\n",
    "head(stability_plot_input_afr_indiv_multiancestry_score_meta_egfr_low)"
   ]
  },
  {
   "cell_type": "markdown",
   "metadata": {},
   "source": [
    "#### combined"
   ]
  },
  {
   "cell_type": "code",
   "execution_count": null,
   "metadata": {},
   "outputs": [],
   "source": [
    "stability_plot_input_afr_indiv_multiancestry_score_comb_low = stability_plot_input_afr_indiv_multiancestry_score_afr_egfr_low %>%\n",
    "bind_rows(stability_plot_input_afr_indiv_multiancestry_score_meta_egfr_low)\n",
    "head(stability_plot_input_afr_indiv_multiancestry_score_comb_low)"
   ]
  },
  {
   "cell_type": "markdown",
   "metadata": {},
   "source": [
    "## make plots- top 98th percentile"
   ]
  },
  {
   "cell_type": "markdown",
   "metadata": {},
   "source": [
    "### all"
   ]
  },
  {
   "cell_type": "markdown",
   "metadata": {},
   "source": [
    "#### combined"
   ]
  },
  {
   "cell_type": "code",
   "execution_count": null,
   "metadata": {},
   "outputs": [],
   "source": [
    "ggplot(stability_plot_input_comb, aes(x = CONF_THRES, y = STABILITY, fill = TRAINING_GROUP)) +\n",
    "geom_boxplot() +\n",
    "scale_x_discrete(limits = rev(levels(factor(stability_plot_input_comb$CONF_THRES)))) +\n",
    "labs(title = 'PMBB v3 ALL CKD Confidence Thresholding',\n",
    "     x = 'Confidence Threshold',\n",
    "     y = 'Stability',\n",
    "     fill = 'Training Group')\n",
    "ggsave('output/plots/PMBB_v3.ALL.CKD.YK_Phenotyping.confidence_thresholding.png')"
   ]
  },
  {
   "cell_type": "markdown",
   "metadata": {},
   "source": [
    "### all individuals multiancestry scores"
   ]
  },
  {
   "cell_type": "markdown",
   "metadata": {},
   "source": [
    "#### combined"
   ]
  },
  {
   "cell_type": "code",
   "execution_count": null,
   "metadata": {},
   "outputs": [],
   "source": [
    "ggplot(stability_plot_input_multiancestry_score_comb, aes(x = CONF_THRES, y = STABILITY, fill = TRAINING_GROUP)) +\n",
    "geom_boxplot() +\n",
    "scale_x_discrete(limits = rev(levels(factor(stability_plot_input_multiancestry_score_comb$CONF_THRES)))) +\n",
    "labs(title = 'PMBB v3 ALL CKD Confidence Thresholding',\n",
    "     x = 'Confidence Threshold',\n",
    "     y = 'Stability',\n",
    "     fill = 'Training Group')\n",
    "ggsave('output/plots/PMBB_v3.ALL.CKD.YK_Phenotyping.multiancestry_scores.confidence_thresholding.png')"
   ]
  },
  {
   "cell_type": "markdown",
   "metadata": {},
   "source": [
    "### eur"
   ]
  },
  {
   "cell_type": "markdown",
   "metadata": {},
   "source": [
    "#### combined"
   ]
  },
  {
   "cell_type": "code",
   "execution_count": null,
   "metadata": {},
   "outputs": [],
   "source": [
    "ggplot(stability_plot_input_eur_indiv_comb, aes(x = CONF_THRES, y = STABILITY, fill = TRAINING_GROUP)) +\n",
    "geom_boxplot() +\n",
    "scale_x_discrete(limits = rev(levels(factor(stability_plot_input_eur_indiv_comb$CONF_THRES)))) +\n",
    "labs(title = 'PMBB v3 EUR CKD Confidence Thresholding',\n",
    "     x = 'Confidence Threshold',\n",
    "     y = 'Stability',\n",
    "     fill = 'Training Group')\n",
    "ggsave('output/plots/PMBB_v3.EUR.CKD.YK_Phenotyping.confidence_thresholding.png')"
   ]
  },
  {
   "cell_type": "markdown",
   "metadata": {},
   "source": [
    "### eur individuals multiancestry scores"
   ]
  },
  {
   "cell_type": "markdown",
   "metadata": {},
   "source": [
    "#### combined"
   ]
  },
  {
   "cell_type": "code",
   "execution_count": null,
   "metadata": {},
   "outputs": [],
   "source": [
    "ggplot(stability_plot_input_eur_indiv_multiancestry_score_comb, aes(x = CONF_THRES, y = STABILITY, fill = TRAINING_GROUP)) +\n",
    "geom_boxplot() +\n",
    "scale_x_discrete(limits = rev(levels(factor(stability_plot_input_eur_indiv_multiancestry_score_comb$CONF_THRES)))) +\n",
    "labs(title = 'PMBB v3 EUR CKD Confidence Thresholding',\n",
    "     x = 'Confidence Threshold',\n",
    "     y = 'Stability',\n",
    "     fill = 'Training Group')\n",
    "ggsave('output/plots/PMBB_v3.EUR.CKD.YK_Phenotyping.multiancestry_scores.confidence_thresholding.png')"
   ]
  },
  {
   "cell_type": "markdown",
   "metadata": {},
   "source": [
    "### afr"
   ]
  },
  {
   "cell_type": "markdown",
   "metadata": {},
   "source": [
    "#### combined"
   ]
  },
  {
   "cell_type": "code",
   "execution_count": null,
   "metadata": {},
   "outputs": [],
   "source": [
    "ggplot(stability_plot_input_afr_indiv_comb, aes(x = CONF_THRES, y = STABILITY, fill = TRAINING_GROUP)) +\n",
    "geom_boxplot() +\n",
    "scale_x_discrete(limits = rev(levels(factor(stability_plot_input_afr_indiv_comb$CONF_THRES)))) +\n",
    "labs(title = 'PMBB v3 AFR CKD Confidence Thresholding',\n",
    "     x = 'Confidence Threshold',\n",
    "     y = 'Stability',\n",
    "     fill = 'Training Group')\n",
    "ggsave('output/plots/PMBB_v3.AFR.CKD.YK_Phenotyping.confidence_thresholding.png')"
   ]
  },
  {
   "cell_type": "markdown",
   "metadata": {},
   "source": [
    "### afr individuals multiancestry scores"
   ]
  },
  {
   "cell_type": "markdown",
   "metadata": {},
   "source": [
    "#### combined"
   ]
  },
  {
   "cell_type": "code",
   "execution_count": null,
   "metadata": {},
   "outputs": [],
   "source": [
    "ggplot(stability_plot_input_afr_indiv_multiancestry_score_comb, aes(x = CONF_THRES, y = STABILITY, fill = TRAINING_GROUP)) +\n",
    "geom_boxplot() +\n",
    "scale_x_discrete(limits = rev(levels(factor(stability_plot_input_afr_indiv_multiancestry_score_comb$CONF_THRES)))) +\n",
    "labs(title = 'PMBB v3 AFR CKD Confidence Thresholding',\n",
    "     x = 'Confidence Threshold',\n",
    "     y = 'Stability',\n",
    "     fill = 'Training Group')\n",
    "ggsave('output/plots/PMBB_v3.AFR.CKD.YK_Phenotyping.multiancestry_scores.confidence_thresholding.png')"
   ]
  },
  {
   "cell_type": "markdown",
   "metadata": {},
   "source": [
    "## make plots- <= 2nd percentile"
   ]
  },
  {
   "cell_type": "markdown",
   "metadata": {},
   "source": [
    "### all"
   ]
  },
  {
   "cell_type": "markdown",
   "metadata": {},
   "source": [
    "#### combined"
   ]
  },
  {
   "cell_type": "code",
   "execution_count": null,
   "metadata": {},
   "outputs": [],
   "source": [
    "ggplot(stability_plot_input_comb_low, aes(x = CONF_THRES, y = STABILITY, fill = TRAINING_GROUP)) +\n",
    "geom_boxplot() +\n",
    "scale_x_discrete(limits = rev(levels(factor(stability_plot_input_comb_low$CONF_THRES)))) +\n",
    "labs(title = 'PMBB v3 ALL CKD Confidence Thresholding- <= 2nd Percentile',\n",
    "     x = 'Confidence Threshold',\n",
    "     y = 'Stability',\n",
    "     fill = 'Training Group')\n",
    "ggsave('output/plots/PMBB_v3.ALL.CKD.YK_Phenotyping.2nd_percentile.confidence_thresholding.png')"
   ]
  },
  {
   "cell_type": "markdown",
   "metadata": {},
   "source": [
    "### all individuals multiancestry scores"
   ]
  },
  {
   "cell_type": "markdown",
   "metadata": {},
   "source": [
    "#### combined"
   ]
  },
  {
   "cell_type": "code",
   "execution_count": null,
   "metadata": {},
   "outputs": [],
   "source": [
    "ggplot(stability_plot_input_multiancestry_score_comb_low, aes(x = CONF_THRES, y = STABILITY, fill = TRAINING_GROUP)) +\n",
    "geom_boxplot() +\n",
    "scale_x_discrete(limits = rev(levels(factor(stability_plot_input_multiancestry_score_comb_low$CONF_THRES)))) +\n",
    "labs(title = 'PMBB v3 ALL CKD Confidence Thresholding- <= 2nd Percentile',\n",
    "     x = 'Confidence Threshold',\n",
    "     y = 'Stability',\n",
    "     fill = 'Training Group')\n",
    "ggsave('output/plots/PMBB_v3.ALL.CKD.YK_Phenotyping.multiancestry_scores.2nd_percentile.confidence_thresholding.png')"
   ]
  },
  {
   "cell_type": "markdown",
   "metadata": {},
   "source": [
    "### eur"
   ]
  },
  {
   "cell_type": "markdown",
   "metadata": {},
   "source": [
    "#### combined"
   ]
  },
  {
   "cell_type": "code",
   "execution_count": null,
   "metadata": {},
   "outputs": [],
   "source": [
    "ggplot(stability_plot_input_eur_indiv_comb_low, aes(x = CONF_THRES, y = STABILITY, fill = TRAINING_GROUP)) +\n",
    "geom_boxplot() +\n",
    "scale_x_discrete(limits = rev(levels(factor(stability_plot_input_eur_indiv_comb_low$CONF_THRES)))) +\n",
    "labs(title = 'PMBB v3 EUR CKD Confidence Thresholding- <= 2nd Percentile',\n",
    "     x = 'Confidence Threshold',\n",
    "     y = 'Stability',\n",
    "     fill = 'Training Group')\n",
    "ggsave('output/plots/PMBB_v3.EUR.CKD.YK_Phenotyping.2nd_percentile.confidence_thresholding.png')"
   ]
  },
  {
   "cell_type": "markdown",
   "metadata": {},
   "source": [
    "### eur individuals multiancestry scores"
   ]
  },
  {
   "cell_type": "markdown",
   "metadata": {},
   "source": [
    "#### combined"
   ]
  },
  {
   "cell_type": "code",
   "execution_count": null,
   "metadata": {},
   "outputs": [],
   "source": [
    "ggplot(stability_plot_input_eur_indiv_multiancestry_score_comb_low, aes(x = CONF_THRES, y = STABILITY, fill = TRAINING_GROUP)) +\n",
    "geom_boxplot() +\n",
    "scale_x_discrete(limits = rev(levels(factor(stability_plot_input_eur_indiv_multiancestry_score_comb_low$CONF_THRES)))) +\n",
    "labs(title = 'PMBB v3 EUR CKD Confidence Thresholding- <= 2nd Percentile',\n",
    "     x = 'Confidence Threshold',\n",
    "     y = 'Stability',\n",
    "     fill = 'Training Group')\n",
    "ggsave('output/plots/PMBB_v3.EUR.CKD.YK_Phenotyping.multiancestry_scores.2nd_percentile.confidence_thresholding.png')"
   ]
  },
  {
   "cell_type": "markdown",
   "metadata": {},
   "source": [
    "### afr"
   ]
  },
  {
   "cell_type": "markdown",
   "metadata": {},
   "source": [
    "#### combined"
   ]
  },
  {
   "cell_type": "code",
   "execution_count": null,
   "metadata": {},
   "outputs": [],
   "source": [
    "ggplot(stability_plot_input_afr_indiv_comb_low, aes(x = CONF_THRES, y = STABILITY, fill = TRAINING_GROUP)) +\n",
    "geom_boxplot() +\n",
    "scale_x_discrete(limits = rev(levels(factor(stability_plot_input_afr_indiv_comb_low$CONF_THRES)))) +\n",
    "labs(title = 'PMBB v3 AFR CKD Confidence Thresholding- <= 2nd Percentile',\n",
    "     x = 'Confidence Threshold',\n",
    "     y = 'Stability',\n",
    "     fill = 'Training Group')\n",
    "ggsave('output/plots/PMBB_v3.AFR.CKD.YK_Phenotyping.2nd_percentile.confidence_thresholding.png')"
   ]
  },
  {
   "cell_type": "markdown",
   "metadata": {},
   "source": [
    "### afr individuals multiancestry scores"
   ]
  },
  {
   "cell_type": "markdown",
   "metadata": {},
   "source": [
    "#### combined"
   ]
  },
  {
   "cell_type": "code",
   "execution_count": null,
   "metadata": {},
   "outputs": [],
   "source": [
    "ggplot(stability_plot_input_afr_indiv_multiancestry_score_comb_low, aes(x = CONF_THRES, y = STABILITY, fill = TRAINING_GROUP)) +\n",
    "geom_boxplot() +\n",
    "scale_x_discrete(limits = rev(levels(factor(stability_plot_input_afr_indiv_multiancestry_score_comb_low$CONF_THRES)))) +\n",
    "labs(title = 'PMBB v3 AFR CKD Confidence Thresholding- <= 2nd Percentile',\n",
    "     x = 'Confidence Threshold',\n",
    "     y = 'Stability',\n",
    "     fill = 'Training Group')\n",
    "ggsave('output/plots/PMBB_v3.AFR.CKD.YK_Phenotyping.multiancestry_scores.2nd_percentile.confidence_thresholding.png')"
   ]
  },
  {
   "cell_type": "markdown",
   "metadata": {},
   "source": [
    "# compute ICC"
   ]
  },
  {
   "cell_type": "markdown",
   "metadata": {},
   "source": [
    "## read in input files (if needed)"
   ]
  },
  {
   "cell_type": "markdown",
   "metadata": {},
   "source": [
    "### all"
   ]
  },
  {
   "cell_type": "code",
   "execution_count": null,
   "metadata": {},
   "outputs": [],
   "source": [
    "df_ntile_norm_wide = fread('output/performance_metrics/PMBB_v2.ALL.CKD.PGS_Znorm2.individual_percentile.wide_form.txt',\n",
    "                           sep = '\\t')"
   ]
  },
  {
   "cell_type": "code",
   "execution_count": null,
   "metadata": {},
   "outputs": [],
   "source": [
    "model_metrics_df = read.csv('output/performance_metrics/PMBB_v2.ALL.CKD.PGS_Znorm2.cv_glm.perf_model.performance_metrics.txt',\n",
    "                            sep = '\\t')"
   ]
  },
  {
   "cell_type": "markdown",
   "metadata": {},
   "source": [
    "### all individuals multiancestry scores"
   ]
  },
  {
   "cell_type": "code",
   "execution_count": null,
   "metadata": {},
   "outputs": [],
   "source": [
    "df_ntile_norm_wide_multiancestry_score = fread('output/performance_metrics/PMBB_v2.ALL.CKD.PGS_Znorm2.multiancestry_scores.individual_percentile.wide_form.txt',\n",
    "                                               sep = '\\t')"
   ]
  },
  {
   "cell_type": "code",
   "execution_count": null,
   "metadata": {},
   "outputs": [],
   "source": [
    "model_metrics_df_multiancestry_score = read.csv('output/performance_metrics/PMBB_v2.ALL.CKD.PGS_Znorm2.multiancestry_scores.cv_glm.perf_model.performance_metrics.txt',\n",
    "                                                sep = '\\t')"
   ]
  },
  {
   "cell_type": "markdown",
   "metadata": {},
   "source": [
    "### eur"
   ]
  },
  {
   "cell_type": "code",
   "execution_count": null,
   "metadata": {},
   "outputs": [],
   "source": [
    "df_ntile_norm_wide_eur = fread('output/performance_metrics/PMBB_v2.EUR.CKD.PGS_Znorm2.individual_percentile.wide_form.txt',\n",
    "                               sep = '\\t')"
   ]
  },
  {
   "cell_type": "code",
   "execution_count": null,
   "metadata": {},
   "outputs": [],
   "source": [
    "model_metrics_df_eur = read.csv('output/performance_metrics/PMBB_v2.EUR.CKD.PGS_Znorm2.cv_glm.perf_model.performance_metrics.txt',\n",
    "                                sep = '\\t')"
   ]
  },
  {
   "cell_type": "markdown",
   "metadata": {},
   "source": [
    "### eur individuals multiancestry scores"
   ]
  },
  {
   "cell_type": "code",
   "execution_count": null,
   "metadata": {},
   "outputs": [],
   "source": [
    "df_ntile_norm_wide_eur_multiancestry_score = fread('output/performance_metrics/PMBB_v2.EUR.CKD.PGS_Znorm2.multiancestry_scores.individual_percentile.wide_form.txt',\n",
    "                                                   sep = '\\t')"
   ]
  },
  {
   "cell_type": "code",
   "execution_count": null,
   "metadata": {},
   "outputs": [],
   "source": [
    "model_metrics_df_eur_multiancestry_score = read.csv('output/performance_metrics/PMBB_v2.EUR.CKD.PGS_Znorm2.multiancestry_scores.cv_glm.perf_model.performance_metrics.txt',\n",
    "                                                    sep = '\\t')"
   ]
  },
  {
   "cell_type": "markdown",
   "metadata": {},
   "source": [
    "### afr"
   ]
  },
  {
   "cell_type": "code",
   "execution_count": null,
   "metadata": {},
   "outputs": [],
   "source": [
    "df_ntile_norm_wide_afr = fread('output/performance_metrics/PMBB_v2.AFR.CKD.PGS_Znorm2.individual_percentile.wide_form.txt',\n",
    "                               sep = '\\t')"
   ]
  },
  {
   "cell_type": "code",
   "execution_count": null,
   "metadata": {},
   "outputs": [],
   "source": [
    "model_metrics_df_afr = read.csv('output/performance_metrics/PMBB_v2.AFR.CKD.PGS_Znorm2.cv_glm.perf_model.performance_metrics.txt',\n",
    "                                sep = '\\t')"
   ]
  },
  {
   "cell_type": "markdown",
   "metadata": {},
   "source": [
    "### afr individuals multiancestry scores"
   ]
  },
  {
   "cell_type": "code",
   "execution_count": null,
   "metadata": {},
   "outputs": [],
   "source": [
    "df_ntile_norm_wide_afr_multiancestry_score = fread('output/performance_metrics/PMBB_v2.AFR.CKD.PGS_Znorm2.multiancestry_scores.individual_percentile.wide_form.txt',\n",
    "                                                   sep = '\\t')"
   ]
  },
  {
   "cell_type": "code",
   "execution_count": null,
   "metadata": {},
   "outputs": [],
   "source": [
    "model_metrics_df_afr_multiancestry_score = read.csv('output/performance_metrics/PMBB_v2.AFR.CKD.PGS_Znorm2.multiancestry_scores.cv_glm.perf_model.performance_metrics.txt',\n",
    "                                                    sep = '\\t')"
   ]
  },
  {
   "cell_type": "markdown",
   "metadata": {},
   "source": [
    "### all"
   ]
  },
  {
   "cell_type": "markdown",
   "metadata": {},
   "source": [
    "#### eur egfr"
   ]
  },
  {
   "cell_type": "code",
   "execution_count": null,
   "metadata": {},
   "outputs": [],
   "source": [
    "df_ntile_norm_wide_all_indiv_eur_egfr_95 = df_ntile_norm_wide[df_ntile_norm_wide$IID %in% df_ntile_norm_eur_egfr_95$IID,]\n",
    "nrow(df_ntile_norm_wide_all_indiv_eur_egfr_95)"
   ]
  },
  {
   "cell_type": "code",
   "execution_count": null,
   "metadata": {},
   "outputs": [],
   "source": [
    "df_ntile_norm_wide_all_indiv_eur_egfr_90 = df_ntile_norm_wide[df_ntile_norm_wide$IID %in% df_ntile_norm_eur_egfr_90$IID,]\n",
    "nrow(df_ntile_norm_wide_all_indiv_eur_egfr_90)"
   ]
  },
  {
   "cell_type": "code",
   "execution_count": null,
   "metadata": {},
   "outputs": [],
   "source": [
    "df_ntile_norm_wide_all_indiv_eur_egfr_80 = df_ntile_norm_wide[df_ntile_norm_wide$IID %in% df_ntile_norm_eur_egfr_80$IID,]\n",
    "nrow(df_ntile_norm_wide_all_indiv_eur_egfr_80)"
   ]
  },
  {
   "cell_type": "code",
   "execution_count": null,
   "metadata": {},
   "outputs": [],
   "source": [
    "df_ntile_norm_wide_all_indiv_eur_egfr_70 = df_ntile_norm_wide[df_ntile_norm_wide$IID %in% df_ntile_norm_eur_egfr_70$IID,]\n",
    "nrow(df_ntile_norm_wide_all_indiv_eur_egfr_70)"
   ]
  },
  {
   "cell_type": "code",
   "execution_count": null,
   "metadata": {},
   "outputs": [],
   "source": [
    "df_ntile_norm_wide_all_indiv_eur_egfr_50 = df_ntile_norm_wide[df_ntile_norm_wide$IID %in% df_ntile_norm_eur_egfr_50$IID,]\n",
    "nrow(df_ntile_norm_wide_all_indiv_eur_egfr_50)"
   ]
  },
  {
   "cell_type": "markdown",
   "metadata": {},
   "source": [
    "#### afr egfr"
   ]
  },
  {
   "cell_type": "code",
   "execution_count": null,
   "metadata": {},
   "outputs": [],
   "source": [
    "df_ntile_norm_wide_all_indiv_afr_egfr_80 = df_ntile_norm_wide[df_ntile_norm_wide$IID %in% df_ntile_norm_afr_egfr_80$IID,]\n",
    "nrow(df_ntile_norm_wide_all_indiv_afr_egfr_80)"
   ]
  },
  {
   "cell_type": "code",
   "execution_count": null,
   "metadata": {},
   "outputs": [],
   "source": [
    "df_ntile_norm_wide_all_indiv_afr_egfr_70 = df_ntile_norm_wide[df_ntile_norm_wide$IID %in% df_ntile_norm_afr_egfr_70$IID,]\n",
    "nrow(df_ntile_norm_wide_all_indiv_afr_egfr_70)"
   ]
  },
  {
   "cell_type": "code",
   "execution_count": null,
   "metadata": {},
   "outputs": [],
   "source": [
    "df_ntile_norm_wide_all_indiv_afr_egfr_50 = df_ntile_norm_wide[df_ntile_norm_wide$IID %in% df_ntile_norm_afr_egfr_50$IID,]\n",
    "nrow(df_ntile_norm_wide_all_indiv_afr_egfr_50)"
   ]
  },
  {
   "cell_type": "markdown",
   "metadata": {},
   "source": [
    "### all individuals multiancestry scores"
   ]
  },
  {
   "cell_type": "markdown",
   "metadata": {},
   "source": [
    "#### eur egfr"
   ]
  },
  {
   "cell_type": "code",
   "execution_count": null,
   "metadata": {},
   "outputs": [],
   "source": [
    "df_ntile_norm_wide_all_indiv_multiancestry_score_eur_egfr_95 = df_ntile_norm_wide_multiancestry_score[df_ntile_norm_wide_multiancestry_score$IID %in% df_ntile_norm_eur_egfr_95$IID,]\n",
    "nrow(df_ntile_norm_wide_all_indiv_multiancestry_score_eur_egfr_95)"
   ]
  },
  {
   "cell_type": "code",
   "execution_count": null,
   "metadata": {},
   "outputs": [],
   "source": [
    "df_ntile_norm_wide_all_indiv_multiancestry_score_eur_egfr_90 = df_ntile_norm_wide_multiancestry_score[df_ntile_norm_wide_multiancestry_score$IID %in% df_ntile_norm_eur_egfr_90$IID,]\n",
    "nrow(df_ntile_norm_wide_all_indiv_multiancestry_score_eur_egfr_90)"
   ]
  },
  {
   "cell_type": "code",
   "execution_count": null,
   "metadata": {},
   "outputs": [],
   "source": [
    "df_ntile_norm_wide_all_indiv_multiancestry_score_eur_egfr_80 = df_ntile_norm_wide_multiancestry_score[df_ntile_norm_wide_multiancestry_score$IID %in% df_ntile_norm_eur_egfr_80$IID,]\n",
    "nrow(df_ntile_norm_wide_all_indiv_multiancestry_score_eur_egfr_80)"
   ]
  },
  {
   "cell_type": "code",
   "execution_count": null,
   "metadata": {},
   "outputs": [],
   "source": [
    "df_ntile_norm_wide_all_indiv_multiancestry_score_eur_egfr_70 = df_ntile_norm_wide_multiancestry_score[df_ntile_norm_wide_multiancestry_score$IID %in% df_ntile_norm_eur_egfr_70$IID,]\n",
    "nrow(df_ntile_norm_wide_all_indiv_multiancestry_score_eur_egfr_70)"
   ]
  },
  {
   "cell_type": "code",
   "execution_count": null,
   "metadata": {},
   "outputs": [],
   "source": [
    "df_ntile_norm_wide_all_indiv_multiancestry_score_eur_egfr_50 = df_ntile_norm_wide_multiancestry_score[df_ntile_norm_wide_multiancestry_score$IID %in% df_ntile_norm_eur_egfr_50$IID,]\n",
    "nrow(df_ntile_norm_wide_all_indiv_multiancestry_score_eur_egfr_50)"
   ]
  },
  {
   "cell_type": "markdown",
   "metadata": {},
   "source": [
    "#### afr egfr"
   ]
  },
  {
   "cell_type": "code",
   "execution_count": null,
   "metadata": {},
   "outputs": [],
   "source": [
    "df_ntile_norm_wide_all_indiv_multiancestry_score_afr_egfr_80 = df_ntile_norm_wide_multiancestry_score[df_ntile_norm_wide_multiancestry_score$IID %in% df_ntile_norm_afr_egfr_80$IID,]\n",
    "nrow(df_ntile_norm_wide_all_indiv_multiancestry_score_afr_egfr_80)"
   ]
  },
  {
   "cell_type": "code",
   "execution_count": null,
   "metadata": {},
   "outputs": [],
   "source": [
    "df_ntile_norm_wide_all_indiv_multiancestry_score_afr_egfr_70 = df_ntile_norm_wide_multiancestry_score[df_ntile_norm_wide_multiancestry_score$IID %in% df_ntile_norm_afr_egfr_70$IID,]\n",
    "nrow(df_ntile_norm_wide_all_indiv_multiancestry_score_afr_egfr_70)"
   ]
  },
  {
   "cell_type": "code",
   "execution_count": null,
   "metadata": {},
   "outputs": [],
   "source": [
    "df_ntile_norm_wide_all_indiv_multiancestry_score_afr_egfr_50 = df_ntile_norm_wide_multiancestry_score[df_ntile_norm_wide_multiancestry_score$IID %in% df_ntile_norm_afr_egfr_50$IID,]\n",
    "nrow(df_ntile_norm_wide_all_indiv_multiancestry_score_afr_egfr_50)"
   ]
  },
  {
   "cell_type": "markdown",
   "metadata": {},
   "source": [
    "### eur"
   ]
  },
  {
   "cell_type": "markdown",
   "metadata": {},
   "source": [
    "#### eur egfr"
   ]
  },
  {
   "cell_type": "code",
   "execution_count": null,
   "metadata": {},
   "outputs": [],
   "source": [
    "df_ntile_norm_wide_eur_indiv_eur_egfr_95 = df_ntile_norm_wide_eur[df_ntile_norm_wide_eur$IID %in% df_ntile_norm_eur_egfr_95$IID,]\n",
    "nrow(df_ntile_norm_wide_eur_indiv_eur_egfr_95)"
   ]
  },
  {
   "cell_type": "code",
   "execution_count": null,
   "metadata": {},
   "outputs": [],
   "source": [
    "df_ntile_norm_wide_eur_indiv_eur_egfr_90 = df_ntile_norm_wide_eur[df_ntile_norm_wide_eur$IID %in% df_ntile_norm_eur_egfr_90$IID,]\n",
    "nrow(df_ntile_norm_wide_eur_indiv_eur_egfr_90)"
   ]
  },
  {
   "cell_type": "code",
   "execution_count": null,
   "metadata": {},
   "outputs": [],
   "source": [
    "df_ntile_norm_wide_eur_indiv_eur_egfr_80 = df_ntile_norm_wide_eur[df_ntile_norm_wide_eur$IID %in% df_ntile_norm_eur_egfr_80$IID,]\n",
    "nrow(df_ntile_norm_wide_eur_indiv_eur_egfr_80)"
   ]
  },
  {
   "cell_type": "code",
   "execution_count": null,
   "metadata": {},
   "outputs": [],
   "source": [
    "df_ntile_norm_wide_eur_indiv_eur_egfr_70 = df_ntile_norm_wide_eur[df_ntile_norm_wide_eur$IID %in% df_ntile_norm_eur_egfr_70$IID,]\n",
    "nrow(df_ntile_norm_wide_eur_indiv_eur_egfr_70)"
   ]
  },
  {
   "cell_type": "code",
   "execution_count": null,
   "metadata": {},
   "outputs": [],
   "source": [
    "df_ntile_norm_wide_eur_indiv_eur_egfr_50 = df_ntile_norm_wide_eur[df_ntile_norm_wide_eur$IID %in% df_ntile_norm_eur_egfr_50$IID,]\n",
    "nrow(df_ntile_norm_wide_eur_indiv_eur_egfr_50)"
   ]
  },
  {
   "cell_type": "markdown",
   "metadata": {},
   "source": [
    "### eur indivdiuals multiancestry scores"
   ]
  },
  {
   "cell_type": "markdown",
   "metadata": {},
   "source": [
    "#### eur egfr"
   ]
  },
  {
   "cell_type": "code",
   "execution_count": null,
   "metadata": {},
   "outputs": [],
   "source": [
    "df_ntile_norm_wide_eur_indiv_multiancestry_score_eur_egfr_95 = df_ntile_norm_wide_eur_multiancestry_score[df_ntile_norm_wide_eur_multiancestry_score$IID %in% df_ntile_norm_eur_egfr_95$IID,]\n",
    "nrow(df_ntile_norm_wide_eur_indiv_multiancestry_score_eur_egfr_95)"
   ]
  },
  {
   "cell_type": "code",
   "execution_count": null,
   "metadata": {},
   "outputs": [],
   "source": [
    "df_ntile_norm_wide_eur_indiv_multiancestry_score_eur_egfr_90 = df_ntile_norm_wide_eur_multiancestry_score[df_ntile_norm_wide_eur_multiancestry_score$IID %in% df_ntile_norm_eur_egfr_90$IID,]\n",
    "nrow(df_ntile_norm_wide_eur_indiv_multiancestry_score_eur_egfr_90)"
   ]
  },
  {
   "cell_type": "code",
   "execution_count": null,
   "metadata": {},
   "outputs": [],
   "source": [
    "df_ntile_norm_wide_eur_indiv_multiancestry_score_eur_egfr_80 = df_ntile_norm_wide_eur_multiancestry_score[df_ntile_norm_wide_eur_multiancestry_score$IID %in% df_ntile_norm_eur_egfr_80$IID,]\n",
    "nrow(df_ntile_norm_wide_eur_indiv_multiancestry_score_eur_egfr_80)"
   ]
  },
  {
   "cell_type": "code",
   "execution_count": null,
   "metadata": {},
   "outputs": [],
   "source": [
    "df_ntile_norm_wide_eur_indiv_multiancestry_score_eur_egfr_70 = df_ntile_norm_wide_eur_multiancestry_score[df_ntile_norm_wide_eur_multiancestry_score$IID %in% df_ntile_norm_eur_egfr_70$IID,]\n",
    "nrow(df_ntile_norm_wide_eur_indiv_multiancestry_score_eur_egfr_70)"
   ]
  },
  {
   "cell_type": "code",
   "execution_count": null,
   "metadata": {},
   "outputs": [],
   "source": [
    "df_ntile_norm_wide_eur_indiv_multiancestry_score_eur_egfr_50 = df_ntile_norm_wide_eur_multiancestry_score[df_ntile_norm_wide_eur_multiancestry_score$IID %in% df_ntile_norm_eur_egfr_50$IID,]\n",
    "nrow(df_ntile_norm_wide_eur_indiv_multiancestry_score_eur_egfr_50)"
   ]
  },
  {
   "cell_type": "markdown",
   "metadata": {},
   "source": [
    "### afr"
   ]
  },
  {
   "cell_type": "markdown",
   "metadata": {},
   "source": [
    "#### afr egfr"
   ]
  },
  {
   "cell_type": "code",
   "execution_count": null,
   "metadata": {},
   "outputs": [],
   "source": [
    "df_ntile_norm_wide_eur_indiv_afr_egfr_80 = df_ntile_norm_wide_afr[df_ntile_norm_wide_afr$IID %in% df_ntile_norm_afr_egfr_80$IID,]\n",
    "nrow(df_ntile_norm_wide_eur_indiv_afr_egfr_80)"
   ]
  },
  {
   "cell_type": "code",
   "execution_count": null,
   "metadata": {},
   "outputs": [],
   "source": [
    "df_ntile_norm_wide_eur_indiv_afr_egfr_70 = df_ntile_norm_wide_afr[df_ntile_norm_wide_afr$IID %in% df_ntile_norm_afr_egfr_70$IID,]\n",
    "nrow(df_ntile_norm_wide_eur_indiv_afr_egfr_70)"
   ]
  },
  {
   "cell_type": "code",
   "execution_count": null,
   "metadata": {},
   "outputs": [],
   "source": [
    "df_ntile_norm_wide_eur_indiv_afr_egfr_50 = df_ntile_norm_wide_afr[df_ntile_norm_wide_afr$IID %in% df_ntile_norm_afr_egfr_50$IID,]\n",
    "nrow(df_ntile_norm_wide_eur_indiv_afr_egfr_50)"
   ]
  },
  {
   "cell_type": "markdown",
   "metadata": {},
   "source": [
    "### afr individuals multiancestry scores"
   ]
  },
  {
   "cell_type": "markdown",
   "metadata": {},
   "source": [
    "#### afr egfr"
   ]
  },
  {
   "cell_type": "code",
   "execution_count": null,
   "metadata": {},
   "outputs": [],
   "source": [
    "df_ntile_norm_wide_afr_indiv_multiancestry_score_afr_egfr_80 = df_ntile_norm_wide_afr_multiancestry_score[df_ntile_norm_wide_afr_multiancestry_score$IID %in% df_ntile_norm_afr_egfr_80$IID,]\n",
    "nrow(df_ntile_norm_wide_afr_indiv_multiancestry_score_afr_egfr_80)"
   ]
  },
  {
   "cell_type": "code",
   "execution_count": null,
   "metadata": {},
   "outputs": [],
   "source": [
    "df_ntile_norm_wide_afr_indiv_multiancestry_score_afr_egfr_70 = df_ntile_norm_wide_afr_multiancestry_score[df_ntile_norm_wide_afr_multiancestry_score$IID %in% df_ntile_norm_afr_egfr_70$IID,]\n",
    "nrow(df_ntile_norm_wide_afr_indiv_multiancestry_score_afr_egfr_70)"
   ]
  },
  {
   "cell_type": "code",
   "execution_count": null,
   "metadata": {},
   "outputs": [],
   "source": [
    "df_ntile_norm_wide_afr_indiv_multiancestry_score_afr_egfr_50 = df_ntile_norm_wide_afr_multiancestry_score[df_ntile_norm_wide_afr_multiancestry_score$IID %in% df_ntile_norm_afr_egfr_50$IID,]\n",
    "nrow(df_ntile_norm_wide_afr_indiv_multiancestry_score_afr_egfr_50)"
   ]
  },
  {
   "cell_type": "markdown",
   "metadata": {},
   "source": [
    "## create function"
   ]
  },
  {
   "cell_type": "code",
   "execution_count": null,
   "metadata": {},
   "outputs": [],
   "source": [
    "equiv_scores <- function(df, criteria, ntile = FALSE) {\n",
    "    # Ensure criteria is a column in df\n",
    "    if (!criteria %in% names(df)) {\n",
    "        stop(paste0(\"Criteria column \", criteria, \" not found in dataframe\"))\n",
    "    }\n",
    "  \n",
    "    # Filter models based on criteria for each group\n",
    "    models <- df %>%\n",
    "    group_by(model) %>%\n",
    "    filter(all(.data[[criteria]] == 1)) %>%\n",
    "    ungroup() %>%\n",
    "    pull(model) %>%\n",
    "    unique()\n",
    "  \n",
    "    # Sort models\n",
    "    sorted_models <- models\n",
    "  \n",
    "    # Return the appropriate list based on ntile flag\n",
    "    if (ntile) {\n",
    "        ntile_list <- paste(\"ntile_\", sorted_models, sep = \"\")\n",
    "        return(ntile_list)\n",
    "    } else {\n",
    "        return(sorted_models)\n",
    "    }\n",
    "}"
   ]
  },
  {
   "cell_type": "code",
   "execution_count": null,
   "metadata": {},
   "outputs": [],
   "source": [
    "ICC_equiv <- function(df_ntile_norm,  model_metrics_df, criteria) {\n",
    "    ntile_list <- equiv_scores(model_metrics_df, criteria, ntile = TRUE)\n",
    "  \n",
    "    df_ntile_criteria <- df_ntile_norm %>% \n",
    "    select(all_of(ntile_list)) %>% \n",
    "    icc(., model = \"twoway\", type = \"agreement\")\n",
    "  \n",
    "    df_ntile_criteria$metric <- criteria\n",
    "  \n",
    "    df_ntile_tibble <- tibble(\n",
    "    icc = df_ntile_criteria$value,\n",
    "    ubound = df_ntile_criteria$ubound,\n",
    "    lbound = df_ntile_criteria$lbound,\n",
    "    Raters = df_ntile_criteria$raters,\n",
    "    Criteria = df_ntile_criteria$metric)\n",
    "  \n",
    "    return(df_ntile_tibble)\n",
    "}"
   ]
  },
  {
   "cell_type": "markdown",
   "metadata": {},
   "source": [
    "## all individuals"
   ]
  },
  {
   "cell_type": "code",
   "execution_count": null,
   "metadata": {},
   "outputs": [],
   "source": [
    "metrics <- c(\"prob_dif\", \"ROPE_005\", \"ROPE_01\", \"ROPE_02\")\n",
    "ICC_res <- lapply(metrics, function(m){\n",
    "  ICC_equiv(df_ntile_norm_wide, model_metrics_df, m)\n",
    "}) %>% \n",
    "  bind_rows(.)\n",
    "\n",
    "head(ICC_res)\n",
    "write.table(ICC_res,\n",
    "            'output/performance_metrics/PMBB_v3.ALL.CKD.YK_Phenotyping.PGS_Znorm2.individual_agreement.ICC.txt',\n",
    "            sep = '\\t',\n",
    "            col.names = T,\n",
    "            row.names = F,\n",
    "            quote = F)"
   ]
  },
  {
   "cell_type": "markdown",
   "metadata": {},
   "source": [
    "## all individuals with mulit-ancestry scores"
   ]
  },
  {
   "cell_type": "code",
   "execution_count": null,
   "metadata": {},
   "outputs": [],
   "source": [
    "metrics <- c(\"prob_dif\", \"ROPE_005\", \"ROPE_01\", \"ROPE_02\")\n",
    "ICC_res_multiancestry_score <- lapply(metrics, function(m){\n",
    "  ICC_equiv(df_ntile_norm_wide_multiancestry_score, model_metrics_df_multiancestry_score, m)\n",
    "}) %>% \n",
    "  bind_rows(.)\n",
    "\n",
    "head(ICC_res_multiancestry_score)\n",
    "write.table(ICC_res_multiancestry_score,\n",
    "            'output/performance_metrics/PMBB_v3.ALL.CKD.YK_Phenotyping.PGS_Znorm2.multiancestry_scores.individual_agreement.ICC.txt',\n",
    "            sep = '\\t',\n",
    "            col.names = T,\n",
    "            row.names = F,\n",
    "            quote = F)"
   ]
  },
  {
   "cell_type": "markdown",
   "metadata": {},
   "source": [
    "### eur egfr"
   ]
  },
  {
   "cell_type": "markdown",
   "metadata": {},
   "source": [
    "#### 95%"
   ]
  },
  {
   "cell_type": "code",
   "execution_count": null,
   "metadata": {},
   "outputs": [],
   "source": [
    "metrics <- c(\"prob_dif\", \"ROPE_005\", \"ROPE_01\", \"ROPE_02\")\n",
    "ICC_res_95 <- lapply(metrics, function(m){\n",
    "  ICC_equiv(df_ntile_norm_wide_95, model_metrics_df, m)\n",
    "}) %>% \n",
    "  bind_rows(.)\n",
    "\n",
    "head(ICC_res_95)\n",
    "write.table(ICC_res_95,\n",
    "            'output/performance_metrics/PMBB_v2.ALL.CKD.PGS_Znorm2.95_conf.individual_agreement.ICC.txt',\n",
    "            sep = '\\t',\n",
    "            col.names = T,\n",
    "            row.names = F,\n",
    "            quote = F)"
   ]
  },
  {
   "cell_type": "markdown",
   "metadata": {},
   "source": [
    "#### 90%"
   ]
  },
  {
   "cell_type": "code",
   "execution_count": null,
   "metadata": {},
   "outputs": [],
   "source": [
    "metrics <- c(\"prob_dif\", \"ROPE_005\", \"ROPE_01\", \"ROPE_02\")\n",
    "ICC_res_90 <- lapply(metrics, function(m){\n",
    "  ICC_equiv(df_ntile_norm_wide_90, model_metrics_df, m)\n",
    "}) %>% \n",
    "  bind_rows(.)\n",
    "\n",
    "head(ICC_res_90)\n",
    "write.table(ICC_res_90,\n",
    "            'output/performance_metrics/PMBB_v2.ALL.CKD.PGS_Znorm2.90_conf.individual_agreement.ICC.txt',\n",
    "            sep = '\\t',\n",
    "            col.names = T,\n",
    "            row.names = F,\n",
    "            quote = F)"
   ]
  },
  {
   "cell_type": "markdown",
   "metadata": {},
   "source": [
    "#### 80%"
   ]
  },
  {
   "cell_type": "code",
   "execution_count": null,
   "metadata": {},
   "outputs": [],
   "source": [
    "metrics <- c(\"prob_dif\", \"ROPE_005\", \"ROPE_01\", \"ROPE_02\")\n",
    "ICC_res_80 <- lapply(metrics, function(m){\n",
    "  ICC_equiv(df_ntile_norm_wide_80, model_metrics_df, m)\n",
    "}) %>% \n",
    "  bind_rows(.)\n",
    "\n",
    "head(ICC_res_80)\n",
    "write.table(ICC_res_80,\n",
    "            'output/performance_metrics/PMBB_v2.ALL.CKD.PGS_Znorm2.80_conf.individual_agreement.ICC.txt',\n",
    "            sep = '\\t',\n",
    "            col.names = T,\n",
    "            row.names = F,\n",
    "            quote = F)"
   ]
  },
  {
   "cell_type": "markdown",
   "metadata": {},
   "source": [
    "#### 70%"
   ]
  },
  {
   "cell_type": "code",
   "execution_count": null,
   "metadata": {},
   "outputs": [],
   "source": [
    "metrics <- c(\"prob_dif\", \"ROPE_005\", \"ROPE_01\", \"ROPE_02\")\n",
    "ICC_res_70 <- lapply(metrics, function(m){\n",
    "  ICC_equiv(df_ntile_norm_wide_70, model_metrics_df, m)\n",
    "}) %>% \n",
    "  bind_rows(.)\n",
    "\n",
    "head(ICC_res_70)\n",
    "write.table(ICC_res_70,\n",
    "            'output/performance_metrics/PMBB_v2.ALL.CKD.PGS_Znorm2.70_conf.individual_agreement.ICC.txt',\n",
    "            sep = '\\t',\n",
    "            col.names = T,\n",
    "            row.names = F,\n",
    "            quote = F)"
   ]
  },
  {
   "cell_type": "markdown",
   "metadata": {},
   "source": [
    "#### 50%"
   ]
  },
  {
   "cell_type": "code",
   "execution_count": null,
   "metadata": {},
   "outputs": [],
   "source": [
    "metrics <- c(\"prob_dif\", \"ROPE_005\", \"ROPE_01\", \"ROPE_02\")\n",
    "ICC_res_50 <- lapply(metrics, function(m){\n",
    "  ICC_equiv(df_ntile_norm_wide_50, model_metrics_df, m)\n",
    "}) %>% \n",
    "  bind_rows(.)\n",
    "\n",
    "head(ICC_res_50)\n",
    "write.table(ICC_res_50,\n",
    "            'output/performance_metrics/PMBB_v2.ALL.CKD.PGS_Znorm2.50_conf.individual_agreement.ICC.txt',\n",
    "            sep = '\\t',\n",
    "            col.names = T,\n",
    "            row.names = F,\n",
    "            quote = F)"
   ]
  },
  {
   "cell_type": "markdown",
   "metadata": {},
   "source": [
    "### afr egfr"
   ]
  },
  {
   "cell_type": "markdown",
   "metadata": {},
   "source": [
    "#### 80%"
   ]
  },
  {
   "cell_type": "code",
   "execution_count": null,
   "metadata": {},
   "outputs": [],
   "source": [
    "metrics <- c(\"prob_dif\", \"ROPE_005\", \"ROPE_01\", \"ROPE_02\")\n",
    "ICC_res_all_indiv_afr_egfr_80 <- lapply(metrics, function(m){\n",
    "  ICC_equiv(df_ntile_norm_wide_all_indiv_afr_egfr_80, model_metrics_df, m)\n",
    "}) %>% \n",
    "  bind_rows(.)\n",
    "\n",
    "head(ICC_res_all_indiv_afr_egfr_80)\n",
    "write.table(ICC_res_all_indiv_afr_egfr_80,\n",
    "            'output/performance_metrics/PMBB_v2.ALL.CKD.PGS_Znorm2.AFR_eGFR.flip.80_conf.individual_agreement.ICC.txt',\n",
    "            sep = '\\t',\n",
    "            col.names = T,\n",
    "            row.names = F,\n",
    "            quote = F)"
   ]
  },
  {
   "cell_type": "markdown",
   "metadata": {},
   "source": [
    "#### 70%"
   ]
  },
  {
   "cell_type": "code",
   "execution_count": null,
   "metadata": {},
   "outputs": [],
   "source": [
    "metrics <- c(\"prob_dif\", \"ROPE_005\", \"ROPE_01\", \"ROPE_02\")\n",
    "ICC_res_all_indiv_afr_egfr_70 <- lapply(metrics, function(m){\n",
    "  ICC_equiv(df_ntile_norm_wide_all_indiv_afr_egfr_70, model_metrics_df, m)\n",
    "}) %>% \n",
    "  bind_rows(.)\n",
    "\n",
    "head(ICC_res_all_indiv_afr_egfr_70)\n",
    "write.table(ICC_res_all_indiv_afr_egfr_70,\n",
    "            'output/performance_metrics/PMBB_v2.ALL.CKD.PGS_Znorm2.AFR_eGFR.flip.70_conf.individual_agreement.ICC.txt',\n",
    "            sep = '\\t',\n",
    "            col.names = T,\n",
    "            row.names = F,\n",
    "            quote = F)"
   ]
  },
  {
   "cell_type": "markdown",
   "metadata": {},
   "source": [
    "#### 50%"
   ]
  },
  {
   "cell_type": "code",
   "execution_count": null,
   "metadata": {},
   "outputs": [],
   "source": [
    "metrics <- c(\"prob_dif\", \"ROPE_005\", \"ROPE_01\", \"ROPE_02\")\n",
    "ICC_res_all_indiv_afr_egfr_50 <- lapply(metrics, function(m){\n",
    "  ICC_equiv(df_ntile_norm_wide_all_indiv_afr_egfr_80, model_metrics_df, m)\n",
    "}) %>% \n",
    "  bind_rows(.)\n",
    "\n",
    "head(ICC_res_all_indiv_afr_egfr_50)\n",
    "write.table(ICC_res_all_indiv_afr_egfr_50,\n",
    "            'output/performance_metrics/PMBB_v2.ALL.CKD.PGS_Znorm2.AFR_eGFR.flip.50_conf.individual_agreement.ICC.txt',\n",
    "            sep = '\\t',\n",
    "            col.names = T,\n",
    "            row.names = F,\n",
    "            quote = F)"
   ]
  },
  {
   "cell_type": "markdown",
   "metadata": {},
   "source": [
    "### eur egfr"
   ]
  },
  {
   "cell_type": "markdown",
   "metadata": {},
   "source": [
    "#### 95%"
   ]
  },
  {
   "cell_type": "code",
   "execution_count": null,
   "metadata": {},
   "outputs": [],
   "source": [
    "metrics <- c(\"prob_dif\", \"ROPE_005\", \"ROPE_01\", \"ROPE_02\")\n",
    "ICC_res_multiancestry_score_95 <- lapply(metrics, function(m){\n",
    "  ICC_equiv(df_ntile_norm_wide_multiancestry_score_95, model_metrics_df_multiancestry_score, m)\n",
    "}) %>% \n",
    "  bind_rows(.)\n",
    "\n",
    "head(ICC_res_multiancestry_score_95)\n",
    "write.table(ICC_res_multiancestry_score_95,\n",
    "            'output/performance_metrics/PMBB_v2.ALL.CKD.PGS_Znorm2.multiancestry_scores.95_conf.individual_agreement.ICC.txt',\n",
    "            sep = '\\t',\n",
    "            col.names = T,\n",
    "            row.names = F,\n",
    "            quote = F)"
   ]
  },
  {
   "cell_type": "markdown",
   "metadata": {},
   "source": [
    "#### 90%"
   ]
  },
  {
   "cell_type": "code",
   "execution_count": null,
   "metadata": {},
   "outputs": [],
   "source": [
    "metrics <- c(\"prob_dif\", \"ROPE_005\", \"ROPE_01\", \"ROPE_02\")\n",
    "ICC_res_multiancestry_score_90 <- lapply(metrics, function(m){\n",
    "  ICC_equiv(df_ntile_norm_wide_multiancestry_score_90, model_metrics_df_multiancestry_score, m)\n",
    "}) %>% \n",
    "  bind_rows(.)\n",
    "\n",
    "head(ICC_res_multiancestry_score_90)\n",
    "write.table(ICC_res_multiancestry_score_90,\n",
    "            'output/performance_metrics/PMBB_v2.ALL.CKD.PGS_Znorm2.multiancestry_scores.90_conf.individual_agreement.ICC.txt',\n",
    "            sep = '\\t',\n",
    "            col.names = T,\n",
    "            row.names = F,\n",
    "            quote = F)"
   ]
  },
  {
   "cell_type": "markdown",
   "metadata": {},
   "source": [
    "#### 80%"
   ]
  },
  {
   "cell_type": "code",
   "execution_count": null,
   "metadata": {},
   "outputs": [],
   "source": [
    "metrics <- c(\"prob_dif\", \"ROPE_005\", \"ROPE_01\", \"ROPE_02\")\n",
    "ICC_res_multiancestry_score_80 <- lapply(metrics, function(m){\n",
    "  ICC_equiv(df_ntile_norm_wide_multiancestry_score_80, model_metrics_df_multiancestry_score, m)\n",
    "}) %>% \n",
    "  bind_rows(.)\n",
    "\n",
    "head(ICC_res_multiancestry_score_80)\n",
    "write.table(ICC_res_multiancestry_score_80,\n",
    "            'output/performance_metrics/PMBB_v2.ALL.CKD.PGS_Znorm2.multiancestry_scores.80_conf.individual_agreement.ICC.txt',\n",
    "            sep = '\\t',\n",
    "            col.names = T,\n",
    "            row.names = F,\n",
    "            quote = F)"
   ]
  },
  {
   "cell_type": "markdown",
   "metadata": {},
   "source": [
    "#### 70%"
   ]
  },
  {
   "cell_type": "code",
   "execution_count": null,
   "metadata": {},
   "outputs": [],
   "source": [
    "metrics <- c(\"prob_dif\", \"ROPE_005\", \"ROPE_01\", \"ROPE_02\")\n",
    "ICC_res_multiancestry_score_70 <- lapply(metrics, function(m){\n",
    "  ICC_equiv(df_ntile_norm_wide_multiancestry_score_70, model_metrics_df_multiancestry_score, m)\n",
    "}) %>% \n",
    "  bind_rows(.)\n",
    "\n",
    "head(ICC_res_multiancestry_score_70)\n",
    "write.table(ICC_res_multiancestry_score_70,\n",
    "            'output/performance_metrics/PMBB_v2.ALL.CKD.PGS_Znorm2.multiancestry_scores.70_conf.individual_agreement.ICC.txt',\n",
    "            sep = '\\t',\n",
    "            col.names = T,\n",
    "            row.names = F,\n",
    "            quote = F)"
   ]
  },
  {
   "cell_type": "markdown",
   "metadata": {},
   "source": [
    "#### 50%"
   ]
  },
  {
   "cell_type": "code",
   "execution_count": null,
   "metadata": {},
   "outputs": [],
   "source": [
    "metrics <- c(\"prob_dif\", \"ROPE_005\", \"ROPE_01\", \"ROPE_02\")\n",
    "ICC_res_multiancestry_score_50 <- lapply(metrics, function(m){\n",
    "  ICC_equiv(df_ntile_norm_wide_multiancestry_score_50, model_metrics_df_multiancestry_score, m)\n",
    "}) %>% \n",
    "  bind_rows(.)\n",
    "\n",
    "head(ICC_res_multiancestry_score_50)\n",
    "write.table(ICC_res_multiancestry_score_50,\n",
    "            'output/performance_metrics/PMBB_v2.ALL.CKD.PGS_Znorm2.multiancestry_scores.50_conf.individual_agreement.ICC.txt',\n",
    "            sep = '\\t',\n",
    "            col.names = T,\n",
    "            row.names = F,\n",
    "            quote = F)"
   ]
  },
  {
   "cell_type": "markdown",
   "metadata": {},
   "source": [
    "### afr egfr"
   ]
  },
  {
   "cell_type": "markdown",
   "metadata": {},
   "source": [
    "#### 80%"
   ]
  },
  {
   "cell_type": "code",
   "execution_count": null,
   "metadata": {},
   "outputs": [],
   "source": [
    "metrics <- c(\"prob_dif\", \"ROPE_005\", \"ROPE_01\", \"ROPE_02\")\n",
    "ICC_res_all_indiv_multiancestry_score_afr_egfr_80 <- lapply(metrics, function(m){\n",
    "  ICC_equiv(df_ntile_norm_wide_all_indiv_multiancestry_score_afr_egfr_80, model_metrics_df_multiancestry_score, m)\n",
    "}) %>% \n",
    "  bind_rows(.)\n",
    "\n",
    "head(ICC_res_all_indiv_multiancestry_score_afr_egfr_80)\n",
    "write.table(ICC_res_all_indiv_multiancestry_score_afr_egfr_80,\n",
    "            'output/performance_metrics/PMBB_v2.ALL.CKD.PGS_Znorm2.multiancestry_scores.AFR_eGFR_flip.80_conf.individual_agreement.ICC.txt',\n",
    "            sep = '\\t',\n",
    "            col.names = T,\n",
    "            row.names = F,\n",
    "            quote = F)"
   ]
  },
  {
   "cell_type": "markdown",
   "metadata": {},
   "source": [
    "#### 70%"
   ]
  },
  {
   "cell_type": "code",
   "execution_count": null,
   "metadata": {},
   "outputs": [],
   "source": [
    "metrics <- c(\"prob_dif\", \"ROPE_005\", \"ROPE_01\", \"ROPE_02\")\n",
    "ICC_res_all_indiv_multiancestry_score_afr_egfr_70 <- lapply(metrics, function(m){\n",
    "  ICC_equiv(df_ntile_norm_wide_all_indiv_multiancestry_score_afr_egfr_70, model_metrics_df_multiancestry_score, m)\n",
    "}) %>% \n",
    "  bind_rows(.)\n",
    "\n",
    "head(ICC_res_all_indiv_multiancestry_score_afr_egfr_70)\n",
    "write.table(ICC_res_all_indiv_multiancestry_score_afr_egfr_70,\n",
    "            'output/performance_metrics/PMBB_v2.ALL.CKD.PGS_Znorm2.multiancestry_scores.AFR_eGFR_flip.70_conf.individual_agreement.ICC.txt',\n",
    "            sep = '\\t',\n",
    "            col.names = T,\n",
    "            row.names = F,\n",
    "            quote = F)"
   ]
  },
  {
   "cell_type": "markdown",
   "metadata": {},
   "source": [
    "#### 50%"
   ]
  },
  {
   "cell_type": "code",
   "execution_count": null,
   "metadata": {},
   "outputs": [],
   "source": [
    "metrics <- c(\"prob_dif\", \"ROPE_005\", \"ROPE_01\", \"ROPE_02\")\n",
    "ICC_res_all_indiv_multiancestry_score_afr_egfr_50 <- lapply(metrics, function(m){\n",
    "  ICC_equiv(df_ntile_norm_wide_all_indiv_multiancestry_score_afr_egfr_50, model_metrics_df_multiancestry_score, m)\n",
    "}) %>% \n",
    "  bind_rows(.)\n",
    "\n",
    "head(ICC_res_all_indiv_multiancestry_score_afr_egfr_50)\n",
    "write.table(ICC_res_all_indiv_multiancestry_score_afr_egfr_50,\n",
    "            'output/performance_metrics/PMBB_v2.ALL.CKD.PGS_Znorm2.multiancestry_scores.AFR_eGFR_flip.50_conf.individual_agreement.ICC.txt',\n",
    "            sep = '\\t',\n",
    "            col.names = T,\n",
    "            row.names = F,\n",
    "            quote = F)"
   ]
  },
  {
   "cell_type": "markdown",
   "metadata": {},
   "source": [
    "## eur"
   ]
  },
  {
   "cell_type": "code",
   "execution_count": null,
   "metadata": {},
   "outputs": [],
   "source": [
    "metrics <- c(\"prob_dif\", \"ROPE_005\", \"ROPE_01\", \"ROPE_02\")\n",
    "ICC_res_eur <- lapply(metrics, function(m){\n",
    "  ICC_equiv(df_ntile_norm_wide_eur, model_metrics_df_eur, m)\n",
    "}) %>% \n",
    "  bind_rows(.)\n",
    "\n",
    "head(ICC_res_eur)\n",
    "write.table(ICC_res_eur,\n",
    "            'output/performance_metrics/PMBB_v3.EUR.CKD.YK_Phenotyping.PGS_Znorm2.individual_agreement.ICC.txt',\n",
    "            sep = '\\t',\n",
    "            col.names = T,\n",
    "            row.names = F,\n",
    "            quote = F)"
   ]
  },
  {
   "cell_type": "markdown",
   "metadata": {},
   "source": [
    "## eur individuals with multi ancestry scores"
   ]
  },
  {
   "cell_type": "code",
   "execution_count": null,
   "metadata": {},
   "outputs": [],
   "source": [
    "metrics <- c(\"prob_dif\", \"ROPE_005\", \"ROPE_01\", \"ROPE_02\")\n",
    "ICC_res_eur_multiancestry_score <- lapply(metrics, function(m){\n",
    "  ICC_equiv(df_ntile_norm_wide_eur_multiancestry_score, model_metrics_df_eur_multiancestry_score, m)\n",
    "}) %>% \n",
    "  bind_rows(.)\n",
    "\n",
    "head(ICC_res_eur_multiancestry_score)\n",
    "write.table(ICC_res_eur_multiancestry_score,\n",
    "            'output/performance_metrics/PMBB_v3.EUR.CKD.YK_Phenotyping.PGS_Znorm2.multiancestry_scores.individual_agreement.ICC.txt',\n",
    "            sep = '\\t',\n",
    "            col.names = T,\n",
    "            row.names = F,\n",
    "            quote = F)"
   ]
  },
  {
   "cell_type": "markdown",
   "metadata": {},
   "source": [
    "### 95%"
   ]
  },
  {
   "cell_type": "code",
   "execution_count": null,
   "metadata": {},
   "outputs": [],
   "source": [
    "metrics <- c(\"prob_dif\", \"ROPE_005\", \"ROPE_01\", \"ROPE_02\")\n",
    "ICC_res_eur_95 <- lapply(metrics, function(m){\n",
    "  ICC_equiv(df_ntile_norm_wide_eur_95, model_metrics_df_eur, m)\n",
    "}) %>% \n",
    "  bind_rows(.)\n",
    "\n",
    "head(ICC_res_eur_95)\n",
    "write.table(ICC_res_eur_95,\n",
    "            'output/performance_metrics/PMBB_v2.EUR.CKD.PGS_Znorm2.95_conf.individual_agreement.ICC.txt',\n",
    "            sep = '\\t',\n",
    "            col.names = T,\n",
    "            row.names = F,\n",
    "            quote = F)"
   ]
  },
  {
   "cell_type": "markdown",
   "metadata": {},
   "source": [
    "### 90%"
   ]
  },
  {
   "cell_type": "code",
   "execution_count": null,
   "metadata": {},
   "outputs": [],
   "source": [
    "metrics <- c(\"prob_dif\", \"ROPE_005\", \"ROPE_01\", \"ROPE_02\")\n",
    "ICC_res_eur_90 <- lapply(metrics, function(m){\n",
    "  ICC_equiv(df_ntile_norm_wide_eur_90, model_metrics_df_eur, m)\n",
    "}) %>% \n",
    "  bind_rows(.)\n",
    "\n",
    "head(ICC_res_eur_90)\n",
    "write.table(ICC_res_eur_90,\n",
    "            'output/performance_metrics/PMBB_v2.EUR.CKD.PGS_Znorm2.90_conf.individual_agreement.ICC.txt',\n",
    "            sep = '\\t',\n",
    "            col.names = T,\n",
    "            row.names = F,\n",
    "            quote = F)"
   ]
  },
  {
   "cell_type": "markdown",
   "metadata": {},
   "source": [
    "### 80%"
   ]
  },
  {
   "cell_type": "code",
   "execution_count": null,
   "metadata": {},
   "outputs": [],
   "source": [
    "metrics <- c(\"prob_dif\", \"ROPE_005\", \"ROPE_01\", \"ROPE_02\")\n",
    "ICC_res_eur_80 <- lapply(metrics, function(m){\n",
    "  ICC_equiv(df_ntile_norm_wide_eur_80, model_metrics_df_eur, m)\n",
    "}) %>% \n",
    "  bind_rows(.)\n",
    "\n",
    "head(ICC_res_eur_80)\n",
    "write.table(ICC_res_eur_80,\n",
    "            'output/performance_metrics/PMBB_v2.EUR.CKD.PGS_Znorm2.80_conf.individual_agreement.ICC.txt',\n",
    "            sep = '\\t',\n",
    "            col.names = T,\n",
    "            row.names = F,\n",
    "            quote = F)"
   ]
  },
  {
   "cell_type": "markdown",
   "metadata": {},
   "source": [
    "### 70%"
   ]
  },
  {
   "cell_type": "code",
   "execution_count": null,
   "metadata": {},
   "outputs": [],
   "source": [
    "metrics <- c(\"prob_dif\", \"ROPE_005\", \"ROPE_01\", \"ROPE_02\")\n",
    "ICC_res_eur_70 <- lapply(metrics, function(m){\n",
    "  ICC_equiv(df_ntile_norm_wide_eur_70, model_metrics_df_eur, m)\n",
    "}) %>% \n",
    "  bind_rows(.)\n",
    "\n",
    "head(ICC_res_eur_70)\n",
    "write.table(ICC_res_eur_70,\n",
    "            'output/performance_metrics/PMBB_v2.EUR.CKD.PGS_Znorm2.70_conf.individual_agreement.ICC.txt',\n",
    "            sep = '\\t',\n",
    "            col.names = T,\n",
    "            row.names = F,\n",
    "            quote = F)"
   ]
  },
  {
   "cell_type": "markdown",
   "metadata": {},
   "source": [
    "### 50%"
   ]
  },
  {
   "cell_type": "code",
   "execution_count": null,
   "metadata": {},
   "outputs": [],
   "source": [
    "metrics <- c(\"prob_dif\", \"ROPE_005\", \"ROPE_01\", \"ROPE_02\")\n",
    "ICC_res_eur_50 <- lapply(metrics, function(m){\n",
    "  ICC_equiv(df_ntile_norm_wide_eur_50, model_metrics_df_eur, m)\n",
    "}) %>% \n",
    "  bind_rows(.)\n",
    "\n",
    "head(ICC_res_eur_50)\n",
    "write.table(ICC_res_eur_50,\n",
    "            'output/performance_metrics/PMBB_v2.EUR.CKD.PGS_Znorm2.50_conf.individual_agreement.ICC.txt',\n",
    "            sep = '\\t',\n",
    "            col.names = T,\n",
    "            row.names = F,\n",
    "            quote = F)"
   ]
  },
  {
   "cell_type": "markdown",
   "metadata": {},
   "source": [
    "### 95%"
   ]
  },
  {
   "cell_type": "code",
   "execution_count": null,
   "metadata": {},
   "outputs": [],
   "source": [
    "metrics <- c(\"prob_dif\", \"ROPE_005\", \"ROPE_01\", \"ROPE_02\")\n",
    "ICC_res_eur_multiancestry_score_95 <- lapply(metrics, function(m){\n",
    "  ICC_equiv(df_ntile_norm_wide_eur_multiancestry_score_95, model_metrics_df_eur_multiancestry_score, m)\n",
    "}) %>% \n",
    "  bind_rows(.)\n",
    "\n",
    "head(ICC_res_eur_multiancestry_score_95)\n",
    "write.table(ICC_res_eur_multiancestry_score_95,\n",
    "            'output/performance_metrics/PMBB_v2.EUR.CKD.PGS_Znorm2.multiancestry_scores.95_conf.individual_agreement.ICC.txt',\n",
    "            sep = '\\t',\n",
    "            col.names = T,\n",
    "            row.names = F,\n",
    "            quote = F)"
   ]
  },
  {
   "cell_type": "markdown",
   "metadata": {},
   "source": [
    "### 90%"
   ]
  },
  {
   "cell_type": "code",
   "execution_count": null,
   "metadata": {},
   "outputs": [],
   "source": [
    "metrics <- c(\"prob_dif\", \"ROPE_005\", \"ROPE_01\", \"ROPE_02\")\n",
    "ICC_res_eur_multiancestry_score_90 <- lapply(metrics, function(m){\n",
    "  ICC_equiv(df_ntile_norm_wide_eur_multiancestry_score_90, model_metrics_df_eur_multiancestry_score, m)\n",
    "}) %>% \n",
    "  bind_rows(.)\n",
    "\n",
    "head(ICC_res_eur_multiancestry_score_90)\n",
    "write.table(ICC_res_eur_multiancestry_score_90,\n",
    "            'output/performance_metrics/PMBB_v2.EUR.CKD.PGS_Znorm2.multiancestry_scores.90_conf.individual_agreement.ICC.txt',\n",
    "            sep = '\\t',\n",
    "            col.names = T,\n",
    "            row.names = F,\n",
    "            quote = F)"
   ]
  },
  {
   "cell_type": "markdown",
   "metadata": {},
   "source": [
    "### 80%"
   ]
  },
  {
   "cell_type": "code",
   "execution_count": null,
   "metadata": {},
   "outputs": [],
   "source": [
    "metrics <- c(\"prob_dif\", \"ROPE_005\", \"ROPE_01\", \"ROPE_02\")\n",
    "ICC_res_eur_multiancestry_score_80 <- lapply(metrics, function(m){\n",
    "  ICC_equiv(df_ntile_norm_wide_eur_multiancestry_score_80, model_metrics_df_eur_multiancestry_score, m)\n",
    "}) %>% \n",
    "  bind_rows(.)\n",
    "\n",
    "head(ICC_res_eur_multiancestry_score_80)\n",
    "write.table(ICC_res_eur_multiancestry_score_80,\n",
    "            'output/performance_metrics/PMBB_v2.EUR.CKD.PGS_Znorm2.multiancestry_scores.80_conf.individual_agreement.ICC.txt',\n",
    "            sep = '\\t',\n",
    "            col.names = T,\n",
    "            row.names = F,\n",
    "            quote = F)"
   ]
  },
  {
   "cell_type": "markdown",
   "metadata": {},
   "source": [
    "### 70%"
   ]
  },
  {
   "cell_type": "code",
   "execution_count": null,
   "metadata": {},
   "outputs": [],
   "source": [
    "metrics <- c(\"prob_dif\", \"ROPE_005\", \"ROPE_01\", \"ROPE_02\")\n",
    "ICC_res_eur_multiancestry_score_70 <- lapply(metrics, function(m){\n",
    "  ICC_equiv(df_ntile_norm_wide_eur_multiancestry_score_70, model_metrics_df_eur_multiancestry_score, m)\n",
    "}) %>% \n",
    "  bind_rows(.)\n",
    "\n",
    "head(ICC_res_eur_multiancestry_score_70)\n",
    "write.table(ICC_res_eur_multiancestry_score_70,\n",
    "            'output/performance_metrics/PMBB_v2.EUR.CKD.PGS_Znorm2.multiancestry_scores.70_conf.individual_agreement.ICC.txt',\n",
    "            sep = '\\t',\n",
    "            col.names = T,\n",
    "            row.names = F,\n",
    "            quote = F)"
   ]
  },
  {
   "cell_type": "markdown",
   "metadata": {},
   "source": [
    "### 50%"
   ]
  },
  {
   "cell_type": "code",
   "execution_count": null,
   "metadata": {},
   "outputs": [],
   "source": [
    "metrics <- c(\"prob_dif\", \"ROPE_005\", \"ROPE_01\", \"ROPE_02\")\n",
    "ICC_res_eur_multiancestry_score_50 <- lapply(metrics, function(m){\n",
    "  ICC_equiv(df_ntile_norm_wide_eur_multiancestry_score_50, model_metrics_df_eur_multiancestry_score, m)\n",
    "}) %>% \n",
    "  bind_rows(.)\n",
    "\n",
    "head(ICC_res_eur_multiancestry_score_50)\n",
    "write.table(ICC_res_eur_multiancestry_score_50,\n",
    "            'output/performance_metrics/PMBB_v2.EUR.CKD.PGS_Znorm2.multiancestry_scores.50_conf.individual_agreement.ICC.txt',\n",
    "            sep = '\\t',\n",
    "            col.names = T,\n",
    "            row.names = F,\n",
    "            quote = F)"
   ]
  },
  {
   "cell_type": "markdown",
   "metadata": {},
   "source": [
    "## afr"
   ]
  },
  {
   "cell_type": "code",
   "execution_count": null,
   "metadata": {},
   "outputs": [],
   "source": [
    "metrics <- c(\"prob_dif\", \"ROPE_005\", \"ROPE_01\", \"ROPE_02\")\n",
    "ICC_res_afr <- lapply(metrics, function(m){\n",
    "  ICC_equiv(df_ntile_norm_wide_afr, model_metrics_df_afr, m)\n",
    "}) %>% \n",
    "  bind_rows(.)\n",
    "\n",
    "head(ICC_res_afr)\n",
    "write.table(ICC_res_afr,\n",
    "            'output/performance_metrics/PMBB_v3.AFR.CKD.YK_Phenotyping.PGS_Znorm2.individual_agreement.ICC.txt',\n",
    "            sep = '\\t',\n",
    "            col.names = T,\n",
    "            row.names = F,\n",
    "            quote = F)"
   ]
  },
  {
   "cell_type": "markdown",
   "metadata": {},
   "source": [
    "## afr individuals with multi ancestry scores"
   ]
  },
  {
   "cell_type": "code",
   "execution_count": null,
   "metadata": {},
   "outputs": [],
   "source": [
    "metrics <- c(\"prob_dif\", \"ROPE_005\", \"ROPE_01\", \"ROPE_02\")\n",
    "ICC_res_afr_multiancestry_score <- lapply(metrics, function(m){\n",
    "  ICC_equiv(df_ntile_norm_wide_afr_multiancestry_score, model_metrics_df_afr_multiancestry_score, m)\n",
    "}) %>% \n",
    "  bind_rows(.)\n",
    "\n",
    "head(ICC_res_afr_multiancestry_score)\n",
    "write.table(ICC_res_afr_multiancestry_score,\n",
    "            'output/performance_metrics/PMBB_v3.AFR.CKD.YK_Phenotyping.PGS_Znorm2.multiancestry_scores.individual_agreement.ICC.txt',\n",
    "            sep = '\\t',\n",
    "            col.names = T,\n",
    "            row.names = F,\n",
    "            quote = F)"
   ]
  },
  {
   "cell_type": "markdown",
   "metadata": {},
   "source": [
    "### 80%"
   ]
  },
  {
   "cell_type": "code",
   "execution_count": null,
   "metadata": {},
   "outputs": [],
   "source": [
    "metrics <- c(\"prob_dif\", \"ROPE_005\", \"ROPE_01\", \"ROPE_02\")\n",
    "ICC_res_afr_indiv_afr_egfr_80 <- lapply(metrics, function(m){\n",
    "  ICC_equiv(df_ntile_norm_wide_all_indiv_afr_egfr_80, model_metrics_df_afr, m)\n",
    "}) %>%\n",
    "  bind_rows(.)\n",
    "\n",
    "head(ICC_res_afr_indiv_afr_egfr_80)\n",
    "write.table(ICC_res_afr_indiv_afr_egfr_80,\n",
    "            'output/performance_metrics/PMBB_v2.AFR.CKD.PGS_Znorm2.AFR_eGFR_flip.80_conf.individual_agreement.ICC.txt',\n",
    "            sep = '\\t',\n",
    "            col.names = T,\n",
    "            row.names = F,\n",
    "            quote = F)"
   ]
  },
  {
   "cell_type": "markdown",
   "metadata": {},
   "source": [
    "### 70%"
   ]
  },
  {
   "cell_type": "code",
   "execution_count": null,
   "metadata": {},
   "outputs": [],
   "source": [
    "metrics <- c(\"prob_dif\", \"ROPE_005\", \"ROPE_01\", \"ROPE_02\")\n",
    "ICC_res_afr_indiv_afr_egfr_70 <- lapply(metrics, function(m){\n",
    "  ICC_equiv(df_ntile_norm_wide_all_indiv_afr_egfr_70, model_metrics_df_afr, m)\n",
    "}) %>%\n",
    "  bind_rows(.)\n",
    "\n",
    "head(ICC_res_afr_indiv_afr_egfr_70)\n",
    "write.table(ICC_res_afr_indiv_afr_egfr_70,\n",
    "            'output/performance_metrics/PMBB_v2.AFR.CKD.PGS_Znorm2.AFR_eGFR_flip.70_conf.individual_agreement.ICC.txt',\n",
    "            sep = '\\t',\n",
    "            col.names = T,\n",
    "            row.names = F,\n",
    "            quote = F)"
   ]
  },
  {
   "cell_type": "markdown",
   "metadata": {},
   "source": [
    "### 50%"
   ]
  },
  {
   "cell_type": "code",
   "execution_count": null,
   "metadata": {},
   "outputs": [],
   "source": [
    "metrics <- c(\"prob_dif\", \"ROPE_005\", \"ROPE_01\", \"ROPE_02\")\n",
    "ICC_res_afr_indiv_afr_egfr_50 <- lapply(metrics, function(m){\n",
    "  ICC_equiv(df_ntile_norm_wide_all_indiv_afr_egfr_50, model_metrics_df_afr, m)\n",
    "}) %>%\n",
    "  bind_rows(.)\n",
    "\n",
    "head(ICC_res_afr_indiv_afr_egfr_50)\n",
    "write.table(ICC_res_afr_indiv_afr_egfr_50,\n",
    "            'output/performance_metrics/PMBB_v2.AFR.CKD.PGS_Znorm2.AFR_eGFR_flip.50_conf.individual_agreement.ICC.txt',\n",
    "            sep = '\\t',\n",
    "            col.names = T,\n",
    "            row.names = F,\n",
    "            quote = F)"
   ]
  },
  {
   "cell_type": "markdown",
   "metadata": {},
   "source": [
    "### 80%"
   ]
  },
  {
   "cell_type": "code",
   "execution_count": null,
   "metadata": {},
   "outputs": [],
   "source": [
    "metrics <- c(\"prob_dif\", \"ROPE_005\", \"ROPE_01\", \"ROPE_02\")\n",
    "ICC_res_afr_indiv_multiancestry_score_afr_egfr_80 <- lapply(metrics, function(m){\n",
    "  ICC_equiv(df_ntile_norm_wide_afr_indiv_multiancestry_score_afr_egfr_80, model_metrics_df_afr_multiancestry_score, m)\n",
    "}) %>% \n",
    "  bind_rows(.)\n",
    "\n",
    "head(ICC_res_afr_indiv_multiancestry_score_afr_egfr_80)\n",
    "write.table(ICC_res_afr_indiv_multiancestry_score_afr_egfr_80,\n",
    "            'output/performance_metrics/PMBB_v2.AFR.CKD.PGS_Znorm2.multiancestry_scores.AFR_eGFR_flip.80_conf.individual_agreement.ICC.txt',\n",
    "            sep = '\\t',\n",
    "            col.names = T,\n",
    "            row.names = F,\n",
    "            quote = F)"
   ]
  },
  {
   "cell_type": "markdown",
   "metadata": {},
   "source": [
    "### 70%"
   ]
  },
  {
   "cell_type": "code",
   "execution_count": null,
   "metadata": {},
   "outputs": [],
   "source": [
    "metrics <- c(\"prob_dif\", \"ROPE_005\", \"ROPE_01\", \"ROPE_02\")\n",
    "ICC_res_afr_indiv_multiancestry_score_afr_egfr_70 <- lapply(metrics, function(m){\n",
    "  ICC_equiv(df_ntile_norm_wide_afr_indiv_multiancestry_score_afr_egfr_70, model_metrics_df_afr_multiancestry_score, m)\n",
    "}) %>% \n",
    "  bind_rows(.)\n",
    "\n",
    "head(ICC_res_afr_indiv_multiancestry_score_afr_egfr_70)\n",
    "write.table(ICC_res_afr_indiv_multiancestry_score_afr_egfr_70,\n",
    "            'output/performance_metrics/PMBB_v2.AFR.CKD.PGS_Znorm2.multiancestry_scores.AFR_eGFR_flip.70_conf.individual_agreement.ICC.txt',\n",
    "            sep = '\\t',\n",
    "            col.names = T,\n",
    "            row.names = F,\n",
    "            quote = F)"
   ]
  },
  {
   "cell_type": "markdown",
   "metadata": {},
   "source": [
    "### 50%"
   ]
  },
  {
   "cell_type": "code",
   "execution_count": null,
   "metadata": {},
   "outputs": [],
   "source": [
    "metrics <- c(\"prob_dif\", \"ROPE_005\", \"ROPE_01\", \"ROPE_02\")\n",
    "ICC_res_afr_indiv_multiancestry_score_afr_egfr_50 <- lapply(metrics, function(m){\n",
    "  ICC_equiv(df_ntile_norm_wide_afr_indiv_multiancestry_score_afr_egfr_50, model_metrics_df_afr_multiancestry_score, m)\n",
    "}) %>% \n",
    "  bind_rows(.)\n",
    "\n",
    "head(ICC_res_afr_indiv_multiancestry_score_afr_egfr_50)\n",
    "write.table(ICC_res_afr_indiv_multiancestry_score_afr_egfr_50,\n",
    "            'output/performance_metrics/PMBB_v2.AFR.CKD.PGS_Znorm2.multiancestry_scores.AFR_eGFR_flip.50_conf.individual_agreement.ICC.txt',\n",
    "            sep = '\\t',\n",
    "            col.names = T,\n",
    "            row.names = F,\n",
    "            quote = F)"
   ]
  },
  {
   "cell_type": "markdown",
   "metadata": {},
   "source": [
    "## make line graph- PMBB only"
   ]
  },
  {
   "cell_type": "markdown",
   "metadata": {},
   "source": [
    "### read in input files (if needed)"
   ]
  },
  {
   "cell_type": "markdown",
   "metadata": {},
   "source": [
    "#### all"
   ]
  },
  {
   "cell_type": "code",
   "execution_count": null,
   "metadata": {},
   "outputs": [],
   "source": [
    "ICC_res = read.csv('output/performance_metrics/PMBB_v2.ALL.CKD.PGS_Znorm2.individual_agreement.ICC.txt',\n",
    "                    sep = '\\t')"
   ]
  },
  {
   "cell_type": "markdown",
   "metadata": {},
   "source": [
    "#### all individuals multiancestry scores"
   ]
  },
  {
   "cell_type": "code",
   "execution_count": null,
   "metadata": {},
   "outputs": [],
   "source": [
    "ICC_res_multiancestry_score = read.csv('output/performance_metrics/PMBB_v2.ALL.CKD.PGS_Znorm2.multiancestry_scores.individual_agreement.ICC.txt',\n",
    "                                        sep = '\\t')"
   ]
  },
  {
   "cell_type": "markdown",
   "metadata": {},
   "source": [
    "#### eur"
   ]
  },
  {
   "cell_type": "code",
   "execution_count": null,
   "metadata": {},
   "outputs": [],
   "source": [
    "ICC_res_eur = read.csv('output/performance_metrics/PMBB_v2.EUR.CKD.PGS_Znorm2.individual_agreement.ICC.txt',\n",
    "                        sep = '\\t')"
   ]
  },
  {
   "cell_type": "markdown",
   "metadata": {},
   "source": [
    "#### eur individuals multiancestry scores"
   ]
  },
  {
   "cell_type": "code",
   "execution_count": null,
   "metadata": {},
   "outputs": [],
   "source": [
    "ICC_res_eur_multiancestry_score = read.csv('output/performance_metrics/PMBB_v2.EUR.CKD.PGS_Znorm2.multiancestry_scores.individual_agreement.ICC.txt',\n",
    "                                            sep = '\\t')"
   ]
  },
  {
   "cell_type": "markdown",
   "metadata": {},
   "source": [
    "#### afr"
   ]
  },
  {
   "cell_type": "code",
   "execution_count": null,
   "metadata": {},
   "outputs": [],
   "source": [
    "ICC_res_afr = read.csv('output/performance_metrics/PMBB_v2.AFR.CKD.PGS_Znorm2.individual_agreement.ICC.txt',\n",
    "                        sep = '\\t')"
   ]
  },
  {
   "cell_type": "markdown",
   "metadata": {},
   "source": [
    "#### afr individuals multiancestry scores"
   ]
  },
  {
   "cell_type": "code",
   "execution_count": null,
   "metadata": {},
   "outputs": [],
   "source": [
    "ICC_res_afr_multiancestry_score = read.csv('output/performance_metrics/PMBB_v2.AFR.CKD.PGS_Znorm2.multiancestry_scores.individual_agreement.ICC.txt',\n",
    "                                            sep = '\\t')"
   ]
  },
  {
   "cell_type": "markdown",
   "metadata": {
    "jp-MarkdownHeadingCollapsed": true
   },
   "source": [
    "### merge"
   ]
  },
  {
   "cell_type": "code",
   "execution_count": null,
   "metadata": {},
   "outputs": [],
   "source": [
    "icc_merge = ICC_res%>%\n",
    "select(Criteria, icc) %>%\n",
    "rename('ALL_indiv.all_scores' = 'icc') %>%\n",
    "left_join(ICC_res_multiancestry_score, by = 'Criteria') %>%\n",
    "select(-c(ubound, lbound, Raters)) %>%\n",
    "rename('ALL_indiv.eur_multiancestry_scores' = 'icc') %>%\n",
    "left_join(ICC_res_eur, by = 'Criteria') %>%\n",
    "select(-c(ubound, lbound, Raters)) %>%\n",
    "rename('EUR_indiv.all_scores' = 'icc') %>%\n",
    "left_join(ICC_res_eur_multiancestry_score, by = 'Criteria') %>%\n",
    "select(-c(ubound, lbound, Raters)) %>%\n",
    "rename('EUR_indiv.eur_multiancestry_scores' = 'icc') %>%\n",
    "left_join(ICC_res_afr, by = 'Criteria') %>%\n",
    "select(-c(ubound, lbound, Raters)) %>%\n",
    "rename('AFR_indiv.all_scores' = 'icc') %>%\n",
    "left_join(ICC_res_afr_multiancestry_score, by = 'Criteria') %>%\n",
    "select(-c(ubound, lbound, Raters)) %>%\n",
    "rename('AFR_indiv.eur_multiancestry_scores' = 'icc') %>%\n",
    "mutate(Criteria = gsub('prob_dif', 'Statistically_Equivalent', Criteria)) %>%\n",
    "mutate(Criteria = gsub('ROPE_005', 'ROPE_0.005', Criteria)) %>%\n",
    "mutate(Criteria = gsub('ROPE_01', 'ROPE_0.01', Criteria)) %>%\n",
    "mutate(Criteria = gsub('ROPE_02', 'ROPE_0.02', Criteria))\n",
    "icc_merge"
   ]
  },
  {
   "cell_type": "markdown",
   "metadata": {},
   "source": [
    "### convert to long form"
   ]
  },
  {
   "cell_type": "code",
   "execution_count": null,
   "metadata": {},
   "outputs": [],
   "source": [
    "icc_merge_long <- icc_merge %>%\n",
    "pivot_longer(cols = ends_with(\"_scores\"),\n",
    "               names_to = \"score_type\",\n",
    "               values_to = \"score_value\") %>%\n",
    "mutate(Criteria = factor(Criteria, levels = c(\"Statistically_Equivalent\", \"ROPE_0.005\", \"ROPE_0.01\", \"ROPE_0.02\")))\n",
    "icc_merge_long"
   ]
  },
  {
   "cell_type": "markdown",
   "metadata": {},
   "source": [
    "### make plot"
   ]
  },
  {
   "cell_type": "code",
   "execution_count": null,
   "metadata": {},
   "outputs": [],
   "source": [
    "icc_plot = ggplot(icc_merge_long, aes(x = Criteria, y = score_value, color = score_type, group = score_type)) +\n",
    "geom_point() +\n",
    "geom_line() +\n",
    "labs(title = \"PMBB v3 CKD PGS ICC\",\n",
    "     x = \"Equivalence Criteria\",\n",
    "     y = \"ICC\",\n",
    "     color = \"Score\") +\n",
    "theme_minimal(base_size = 14) +\n",
    "theme(axis.text.x = element_text(angle = 45, hjust = 1),\n",
    "     plot.margin = unit(c(1, 1, 1, 1), \"cm\"))\n",
    "\n",
    "icc_plot\n",
    "ggsave('output/plots/PMBB_v3.CKD.YK_Phenotyping.PGS_Znorm2.individual_agreement.ICC.line_graph.png',\n",
    "      width = 10,\n",
    "      height = 6,\n",
    "      dpi = 300,\n",
    "      bg = \"white\")"
   ]
  },
  {
   "cell_type": "markdown",
   "metadata": {},
   "source": [
    "## make bar plot- AOU + PMBB combined"
   ]
  },
  {
   "cell_type": "markdown",
   "metadata": {},
   "source": [
    "### read in input files"
   ]
  },
  {
   "cell_type": "code",
   "execution_count": null,
   "metadata": {},
   "outputs": [],
   "source": [
    "ICC_res_pmbb = read.csv('output/performance_metrics/PMBB_v3.ALL.CKD.YK_Phenotyping.PGS_Znorm2.individual_agreement.ICC.txt',\n",
    "                        sep = '\\t')\n",
    "ICC_res_multiancestry_score_pmbb = read.csv('output/performance_metrics/PMBB_v3.ALL.CKD.YK_Phenotyping.PGS_Znorm2.multiancestry_scores.individual_agreement.ICC.txt',\n",
    "                                            sep = '\\t')\n",
    "ICC_res_eur_pmbb = read.csv('output/performance_metrics/PMBB_v3.EUR.CKD.YK_Phenotyping.PGS_Znorm2.individual_agreement.ICC.txt',\n",
    "                            sep = '\\t')\n",
    "ICC_res_eur_multiancestry_score_pmbb = read.csv('output/performance_metrics/PMBB_v3.EUR.CKD.YK_Phenotyping.PGS_Znorm2.multiancestry_scores.individual_agreement.ICC.txt',\n",
    "                                                sep = '\\t')\n",
    "ICC_res_afr_pmbb = read.csv('output/performance_metrics/PMBB_v3.AFR.CKD.YK_Phenotyping.PGS_Znorm2.individual_agreement.ICC.txt',\n",
    "                            sep = '\\t')\n",
    "ICC_res_afr_multiancestry_score_pmbb = read.csv('output/performance_metrics/PMBB_v3.AFR.CKD.YK_Phenotyping.PGS_Znorm2.multiancestry_scores.individual_agreement.ICC.txt',\n",
    "                                                sep = '\\t')"
   ]
  },
  {
   "cell_type": "code",
   "execution_count": null,
   "metadata": {},
   "outputs": [],
   "source": [
    "ICC_res_aou = read.csv('AOU/AOU.ALL.CKD.YK_Phenotyping.PGS_Znorm2.individual_agreement.ICC.txt',\n",
    "                        sep = '\\t')\n",
    "ICC_res_multiancestry_score_aou = read.csv('AOU/AOU.ALL.CKD.YK_Phenotyping.PGS_Znorm2.multiancestry_scores.individual_agreement.ICC.txt',\n",
    "                                           sep = '\\t')\n",
    "ICC_res_eur_aou = read.csv('AOU/AOU.EUR.CKD.YK_Phenotyping.PGS_Znorm2.individual_agreement.ICC.txt',\n",
    "                           sep = '\\t')\n",
    "ICC_res_eur_multiancestry_score_aou = read.csv('AOU/AOU.EUR.CKD.YK_Phenotyping.PGS_Znorm2.multiancestry_scores.individual_agreement.ICC.txt',\n",
    "                                               sep = '\\t')\n",
    "ICC_res_afr_aou = read.csv('AOU/AOU.AFR.CKD.YK_Phenotyping.PGS_Znorm2.individual_agreement.ICC.txt',\n",
    "                           sep = '\\t')\n",
    "ICC_res_afr_multiancestry_score_aou = read.csv('AOU/AOU.AFR.CKD.YK_Phenotyping.PGS_Znorm2.multiancestry_scores.individual_agreement.ICC.txt',\n",
    "                                               sep = '\\t')"
   ]
  },
  {
   "cell_type": "markdown",
   "metadata": {},
   "source": [
    "### create combined inputs"
   ]
  },
  {
   "cell_type": "code",
   "execution_count": null,
   "metadata": {},
   "outputs": [],
   "source": [
    "icc_merge_pmbb = ICC_res_pmbb %>%\n",
    "filter(Criteria == 'ROPE_02') %>%\n",
    "select(icc) %>%\n",
    "rename('ALL_indiv.all_scores' = 'icc') %>%\n",
    "cbind(ICC_res_multiancestry_score_pmbb) %>%\n",
    "filter(Criteria == 'ROPE_02') %>%\n",
    "select(ALL_indiv.all_scores, icc) %>%\n",
    "rename('ALL_indiv.eur_multiancestry_scores' = 'icc') %>%\n",
    "cbind(ICC_res_eur_pmbb) %>%\n",
    "filter(Criteria == 'ROPE_02') %>%\n",
    "select(ALL_indiv.all_scores, ALL_indiv.eur_multiancestry_scores, icc) %>%\n",
    "rename('EUR_indiv.all_scores' = 'icc') %>%\n",
    "cbind(ICC_res_eur_multiancestry_score_pmbb) %>%\n",
    "filter(Criteria == 'ROPE_02') %>%\n",
    "select(ALL_indiv.all_scores, ALL_indiv.eur_multiancestry_scores, EUR_indiv.all_scores, icc) %>%\n",
    "rename('EUR_indiv.eur_multiancestry_scores' = 'icc') %>%\n",
    "cbind(ICC_res_afr_pmbb) %>%\n",
    "filter(Criteria == 'ROPE_02') %>%\n",
    "select(ALL_indiv.all_scores, ALL_indiv.eur_multiancestry_scores, EUR_indiv.all_scores, EUR_indiv.eur_multiancestry_scores, icc) %>%\n",
    "rename('AFR_indiv.all_scores' = 'icc') %>%\n",
    "cbind(ICC_res_afr_multiancestry_score_pmbb) %>%\n",
    "filter(Criteria == 'ROPE_02') %>%\n",
    "select(ALL_indiv.all_scores, ALL_indiv.eur_multiancestry_scores, EUR_indiv.all_scores, EUR_indiv.eur_multiancestry_scores, AFR_indiv.all_scores, icc) %>%\n",
    "mutate(Dataset = 'PMBB') %>%\n",
    "rename('AFR_indiv.eur_multiancestry_scores' = 'icc')\n",
    "icc_merge_pmbb"
   ]
  },
  {
   "cell_type": "code",
   "execution_count": null,
   "metadata": {},
   "outputs": [],
   "source": [
    "icc_merge_aou = ICC_res_aou %>%\n",
    "filter(Criteria == 'ROPE_02') %>%\n",
    "select(icc) %>%\n",
    "rename('ALL_indiv.all_scores' = 'icc') %>%\n",
    "cbind(ICC_res_multiancestry_score_aou) %>%\n",
    "filter(Criteria == 'ROPE_02') %>%\n",
    "select(ALL_indiv.all_scores, icc) %>%\n",
    "rename('ALL_indiv.eur_multiancestry_scores' = 'icc') %>%\n",
    "cbind(ICC_res_eur_aou) %>%\n",
    "filter(Criteria == 'ROPE_02') %>%\n",
    "select(ALL_indiv.all_scores, ALL_indiv.eur_multiancestry_scores, icc) %>%\n",
    "rename('EUR_indiv.all_scores' = 'icc') %>%\n",
    "cbind(ICC_res_eur_multiancestry_score_aou) %>%\n",
    "filter(Criteria == 'ROPE_02') %>%\n",
    "select(ALL_indiv.all_scores, ALL_indiv.eur_multiancestry_scores, EUR_indiv.all_scores, icc) %>%\n",
    "rename('EUR_indiv.eur_multiancestry_scores' = 'icc') %>%\n",
    "cbind(ICC_res_afr_aou) %>%\n",
    "filter(Criteria == 'ROPE_02') %>%\n",
    "select(ALL_indiv.all_scores, ALL_indiv.eur_multiancestry_scores, EUR_indiv.all_scores, EUR_indiv.eur_multiancestry_scores, icc) %>%\n",
    "rename('AFR_indiv.all_scores' = 'icc') %>%\n",
    "cbind(ICC_res_afr_multiancestry_score_aou) %>%\n",
    "filter(Criteria == 'ROPE_02') %>%\n",
    "select(ALL_indiv.all_scores, ALL_indiv.eur_multiancestry_scores, EUR_indiv.all_scores, EUR_indiv.eur_multiancestry_scores, AFR_indiv.all_scores, icc) %>%\n",
    "mutate(Dataset = 'AOU') %>%\n",
    "rename('AFR_indiv.eur_multiancestry_scores' = 'icc')\n",
    "icc_merge_aou"
   ]
  },
  {
   "cell_type": "code",
   "execution_count": null,
   "metadata": {},
   "outputs": [],
   "source": [
    "icc_merge_all = rbind(icc_merge_pmbb, icc_merge_aou)\n",
    "icc_merge_all"
   ]
  },
  {
   "cell_type": "markdown",
   "metadata": {},
   "source": [
    "### convert to long form"
   ]
  },
  {
   "cell_type": "code",
   "execution_count": null,
   "metadata": {},
   "outputs": [],
   "source": [
    "icc_merge_long <- icc_merge_all %>%\n",
    "pivot_longer(cols = ends_with(\"_scores\"),\n",
    "             names_to = \"score_type\",\n",
    "             values_to = \"score_value\")\n",
    "icc_merge_long"
   ]
  },
  {
   "cell_type": "markdown",
   "metadata": {},
   "source": [
    "### make bar plot"
   ]
  },
  {
   "cell_type": "code",
   "execution_count": null,
   "metadata": {},
   "outputs": [],
   "source": [
    "icc_bar_plot = ggplot(icc_merge_long, aes(x = score_type, y = score_value, fill = Dataset)) +\n",
    "geom_bar(stat = \"identity\", position = \"dodge\") +\n",
    "labs(title = \"AOU and PMBB ICC\",\n",
    "     x = \"Score\",\n",
    "     y = \"ICC\",\n",
    "     fill = \"Dataset\") +\n",
    "scale_fill_manual(values = c(\"#990000\", \"#011F5B\")) +\n",
    "theme(axis.title.x = element_blank(), axis.text.x  = element_blank(), axis.ticks.x = element_blank(), legend.position = 'right') +\n",
    "ylim(0, 1)\n",
    "\n",
    "icc_bar_plot\n",
    "ggsave('output/plots/AOU.PMBB_v3.CKD.YK_Phenotyping.PGS_Znorm2.individual_agreement.ROPE_0.02.ICC.bar_plot.png',\n",
    "      width = 10,\n",
    "      height = 6,\n",
    "      dpi = 300,\n",
    "      bg = \"white\")"
   ]
  },
  {
   "cell_type": "markdown",
   "metadata": {},
   "source": [
    "# compute light's kappa"
   ]
  },
  {
   "cell_type": "markdown",
   "metadata": {},
   "source": [
    "## make equiv scores function (if needed)"
   ]
  },
  {
   "cell_type": "code",
   "execution_count": null,
   "metadata": {},
   "outputs": [],
   "source": [
    "equiv_scores <- function(df, criteria, ntile = FALSE) {\n",
    "  # Ensure criteria is a column in df\n",
    "  if (!criteria %in% names(df)) {\n",
    "    #stop(\"Criteria column not found in dataframe\")\n",
    "    stop(paste0(\"Criteria column \", criteria, \" not found in dataframe\"))\n",
    "  }\n",
    "  \n",
    "  # Filter models based on criteria for each group\n",
    "  models <- df %>%\n",
    "    group_by(model) %>%\n",
    "    filter(all(.data[[criteria]] == 1)) %>%\n",
    "    ungroup() %>%\n",
    "    pull(model) %>%\n",
    "    unique()\n",
    "  \n",
    "  # Sort models\n",
    "  sorted_models <- models\n",
    "  \n",
    "  # Return the appropriate list based on ntile flag\n",
    "  if (ntile) {\n",
    "    ntile_list <- paste(\"ntile_\", sorted_models, sep = \"\")\n",
    "    return(ntile_list)\n",
    "  } else {\n",
    "    return(sorted_models)\n",
    "  }\n",
    "}"
   ]
  },
  {
   "cell_type": "markdown",
   "metadata": {},
   "source": [
    "## write functions"
   ]
  },
  {
   "cell_type": "code",
   "execution_count": null,
   "metadata": {},
   "outputs": [],
   "source": [
    "# Re-doing function to tolerate non-integers?\n",
    "\"kappam.light\" <-\n",
    "function(ratings) {\n",
    "    ratings <- as.matrix(na.omit(ratings))\n",
    "\n",
    "    ns <- nrow(ratings)\n",
    "    nr <- ncol(ratings)\n",
    "    \n",
    "    for (i in 1:(nr-1))\n",
    "        for (j in (i+1):nr) {\n",
    "            if ((i==1) & (j==(i+1))) kappas <- kappa2(ratings[,c(i,j)], weight = \"u\")$value\n",
    "            else kappas <- c(kappas, kappa2(ratings[,c(i,j)], weight = \"u\")$value)\n",
    "        }\n",
    "        \n",
    "    value <- mean(kappas)\n",
    "\n",
    "    #Variance & Computation of p-value\n",
    "    lev <- levels(as.factor(ratings))\n",
    "    levlen <- length(levels(as.factor(ratings)))\n",
    "\n",
    "    for (nri in 1:(nr-1))\n",
    "        for (nrj in (nri+1):nr) {\n",
    "            for (i in 1:levlen)\n",
    "                for (j in 1:levlen) {\n",
    "                    if (i!=j) {\n",
    "                        r1i <- sum(ratings[,nri] == lev[i])\n",
    "                        r2j <- sum(ratings[,nrj] == lev[j])\n",
    "                        \n",
    "                        # Convert to numeric before multiplication\n",
    "                        r1i_numeric <- as.numeric(r1i)\n",
    "                        r2j_numeric <- as.numeric(r2j)\n",
    "                        if (!exists(\"dis\")) dis <- r1i_numeric * r2j_numeric\n",
    "                        else dis <- c(dis, r1i_numeric * r2j_numeric)\n",
    "                    }\n",
    "                }\n",
    "                if (!exists(\"disrater\")) disrater <- sum(dis)\n",
    "                else disrater <- c(disrater,sum(dis))\n",
    "                rm(dis)\n",
    "            }\n",
    "    B <- length(disrater) * prod(disrater)\n",
    "    chanceP  <- 1-B / ns^(choose(nr, 2) * 2)\n",
    "    varkappa <- chanceP / (ns * (1-chanceP))\n",
    "\n",
    "    SEkappa <- sqrt(varkappa)\n",
    "    u <- value / SEkappa\n",
    "    p.value <- 2 * (1 - pnorm(abs(u)))\n",
    "\n",
    "    rval <- structure(list(method = \"Light's Kappa for m Raters\",\n",
    "                           subjects = ns, raters = nr,\n",
    "                           irr.name = \"Kappa\", value = value,\n",
    "                           stat.name = \"z\", statistic = u, p.value = p.value),\n",
    "                      class=\"irrlist\")\n",
    "    return(rval)\n",
    "}"
   ]
  },
  {
   "cell_type": "code",
   "execution_count": null,
   "metadata": {},
   "outputs": [],
   "source": [
    "create_binary_df <- function(df, ntile_list, percentile) {\n",
    "    \n",
    "    df_ntile_top <- df %>% \n",
    "    select(IID, all_of(ntile_list)) %>% \n",
    "    pivot_longer(cols = starts_with(\"ntile\"), names_to = \"score\", values_to = \"ntile\")\n",
    "    \n",
    "    for (i in seq_along(percentile)) {\n",
    "        binary_col <- paste0(\"ntile_\", percentile[i])\n",
    "        \n",
    "        df_ntile_top <- df_ntile_top %>%\n",
    "        mutate(!!binary_col := ifelse(ntile >= percentile[i], 1.0, 0.0))\n",
    "    }\n",
    "  \n",
    "    return(df_ntile_top)\n",
    "}"
   ]
  },
  {
   "cell_type": "code",
   "execution_count": null,
   "metadata": {},
   "outputs": [],
   "source": [
    "calculate_and_kappa <- function(df_ntile_top, percentile, ntile_list, metric_name) {\n",
    "    binary_col <- paste0(\"ntile_\", percentile)\n",
    "\n",
    "    df_binary <- df_ntile_top %>%\n",
    "    dplyr::select(score, !!binary_col, IID) %>%\n",
    "    pivot_wider(names_from = score, values_from = !!binary_col) %>%\n",
    "    dplyr::select(all_of(ntile_list))\n",
    "\n",
    "    kappa_value <- as.numeric(kappam.light(df_binary)$value)\n",
    "\n",
    "    return(data.frame(metric = metric_name, percentile = percentile, kappa_value = kappa_value))\n",
    "}"
   ]
  },
  {
   "cell_type": "markdown",
   "metadata": {},
   "source": [
    "## compute"
   ]
  },
  {
   "cell_type": "markdown",
   "metadata": {},
   "source": [
    "#### all"
   ]
  },
  {
   "cell_type": "code",
   "execution_count": null,
   "metadata": {
    "code_folding": [
     0
    ]
   },
   "outputs": [],
   "source": [
    "process_list <- function(metric) {\n",
    "    list_data <- equiv_scores(model_metrics_df, metric, ntile = TRUE)\n",
    "    df_ntile_top <- create_binary_df(df_ntile_norm_wide, list_data, percentiles)\n",
    "\n",
    "    results <- lapply(percentiles, function(p) {\n",
    "        calculate_and_kappa(df_ntile_top, p, list_data, metric)\n",
    "    })\n",
    "\n",
    "    return(do.call(rbind, results))\n",
    "}\n",
    "\n",
    "metrics <- c(\"ROPE_01\", \"ROPE_02\")\n",
    "percentiles <- c(99, 98, 95, 90, 80, 70, 50)\n",
    "kappa_results <- lapply(metrics, process_list)\n",
    "\n",
    "combined_kappa_results <- do.call(rbind, kappa_results)\n",
    "# View the final structured data frame\n",
    "combined_kappa_results\n",
    "write.table(combined_kappa_results,\n",
    "            'output/performance_metrics/PMBB_v3.ALL.CKD.YK_Phenotyping.PGS_Znorm2.individual_agreement.LightsKappa.txt',\n",
    "            sep = '\\t',\n",
    "            col.names = T,\n",
    "            row.names = F,\n",
    "            quote = F)"
   ]
  },
  {
   "cell_type": "markdown",
   "metadata": {},
   "source": [
    "#### all individuals multiancestry scores"
   ]
  },
  {
   "cell_type": "code",
   "execution_count": null,
   "metadata": {},
   "outputs": [],
   "source": [
    "process_list <- function(metric) {\n",
    "    list_data <- equiv_scores(model_metrics_df_multiancestry_score, metric, ntile = TRUE)\n",
    "    df_ntile_top <- create_binary_df(df_ntile_norm_wide_multiancestry_score, list_data, percentiles)\n",
    "\n",
    "    results <- lapply(percentiles, function(p) {\n",
    "        calculate_and_kappa(df_ntile_top, p, list_data, metric)\n",
    "    })\n",
    "\n",
    "    return(do.call(rbind, results))\n",
    "}\n",
    "\n",
    "metrics <- c(\"ROPE_01\", \"ROPE_02\")\n",
    "percentiles <- c(99, 98, 95, 90, 80, 70, 50)\n",
    "kappa_results_multiancestry_score <- lapply(metrics, process_list)\n",
    "\n",
    "combined_kappa_results_multiancestry_score <- do.call(rbind, kappa_results_multiancestry_score)\n",
    "# View the final structured data frame\n",
    "combined_kappa_results_multiancestry_score\n",
    "write.table(combined_kappa_results_multiancestry_score,\n",
    "            'output/performance_metrics/PMBB_v3.ALL.CKD.YK_Phenotyping.PGS_Znorm2.multiancestry_scores.individual_agreement.LightsKappa.txt',\n",
    "            sep = '\\t',\n",
    "            col.names = T,\n",
    "            row.names = F,\n",
    "            quote = F)"
   ]
  },
  {
   "cell_type": "markdown",
   "metadata": {},
   "source": [
    "##### 95%"
   ]
  },
  {
   "cell_type": "code",
   "execution_count": null,
   "metadata": {},
   "outputs": [],
   "source": [
    "process_list <- function(metric) {\n",
    "    list_data <- equiv_scores(model_metrics_df, metric, ntile = TRUE)\n",
    "    df_ntile_top <- create_binary_df(df_ntile_norm_wide_95, list_data, percentiles)\n",
    "\n",
    "    results <- lapply(percentiles, function(p) {\n",
    "        calculate_and_kappa(df_ntile_top, p, list_data, metric)\n",
    "    })\n",
    "\n",
    "    return(do.call(rbind, results))\n",
    "}\n",
    "\n",
    "metrics <- c(\"ROPE_01\", \"ROPE_02\")\n",
    "percentiles <- c(99, 98, 95, 90, 80, 70, 50)\n",
    "kappa_results <- lapply(metrics, process_list)\n",
    "\n",
    "combined_kappa_results_95 <- do.call(rbind, kappa_results)\n",
    "# View the final structured data frame\n",
    "combined_kappa_results_95\n",
    "write.table(combined_kappa_results_95,\n",
    "            'output/performance_metrics/PMBB_v2.ALL.CKD.PGS_Znorm2.95_conf.individual_agreement.LightsKappa.txt',\n",
    "            sep = '\\t',\n",
    "            col.names = T,\n",
    "            row.names = F,\n",
    "            quote = F)"
   ]
  },
  {
   "cell_type": "markdown",
   "metadata": {},
   "source": [
    "##### 90%"
   ]
  },
  {
   "cell_type": "code",
   "execution_count": null,
   "metadata": {},
   "outputs": [],
   "source": [
    "process_list <- function(metric) {\n",
    "    list_data <- equiv_scores(model_metrics_df, metric, ntile = TRUE)\n",
    "    df_ntile_top <- create_binary_df(df_ntile_norm_wide_90, list_data, percentiles)\n",
    "\n",
    "    results <- lapply(percentiles, function(p) {\n",
    "        calculate_and_kappa(df_ntile_top, p, list_data, metric)\n",
    "    })\n",
    "\n",
    "    return(do.call(rbind, results))\n",
    "}\n",
    "\n",
    "metrics <- c(\"ROPE_01\", \"ROPE_02\")\n",
    "percentiles <- c(99, 98, 95, 90, 80, 70, 50)\n",
    "kappa_results <- lapply(metrics, process_list)\n",
    "\n",
    "combined_kappa_results_90 <- do.call(rbind, kappa_results)\n",
    "# View the final structured data frame\n",
    "combined_kappa_results_90\n",
    "write.table(combined_kappa_results_90,\n",
    "            'output/performance_metrics/PMBB_v2.ALL.CKD.PGS_Znorm2.90_conf.individual_agreement.LightsKappa.txt',\n",
    "            sep = '\\t',\n",
    "            col.names = T,\n",
    "            row.names = F,\n",
    "            quote = F)"
   ]
  },
  {
   "cell_type": "markdown",
   "metadata": {},
   "source": [
    "##### 80%"
   ]
  },
  {
   "cell_type": "code",
   "execution_count": null,
   "metadata": {},
   "outputs": [],
   "source": [
    "process_list <- function(metric) {\n",
    "    list_data <- equiv_scores(model_metrics_df, metric, ntile = TRUE)\n",
    "    df_ntile_top <- create_binary_df(df_ntile_norm_wide_80, list_data, percentiles)\n",
    "\n",
    "    results <- lapply(percentiles, function(p) {\n",
    "        calculate_and_kappa(df_ntile_top, p, list_data, metric)\n",
    "    })\n",
    "\n",
    "    return(do.call(rbind, results))\n",
    "}\n",
    "\n",
    "metrics <- c(\"ROPE_01\", \"ROPE_02\")\n",
    "percentiles <- c(99, 98, 95, 90, 80, 70, 50)\n",
    "kappa_results <- lapply(metrics, process_list)\n",
    "\n",
    "combined_kappa_results_80 <- do.call(rbind, kappa_results)\n",
    "# View the final structured data frame\n",
    "combined_kappa_results_80\n",
    "write.table(combined_kappa_results_80,\n",
    "            'output/performance_metrics/PMBB_v2.ALL.CKD.PGS_Znorm2.80_conf.individual_agreement.LightsKappa.txt',\n",
    "            sep = '\\t',\n",
    "            col.names = T,\n",
    "            row.names = F,\n",
    "            quote = F)"
   ]
  },
  {
   "cell_type": "markdown",
   "metadata": {},
   "source": [
    "##### 70%"
   ]
  },
  {
   "cell_type": "code",
   "execution_count": null,
   "metadata": {},
   "outputs": [],
   "source": [
    "process_list <- function(metric) {\n",
    "    list_data <- equiv_scores(model_metrics_df, metric, ntile = TRUE)\n",
    "    df_ntile_top <- create_binary_df(df_ntile_norm_wide_70, list_data, percentiles)\n",
    "\n",
    "    results <- lapply(percentiles, function(p) {\n",
    "        calculate_and_kappa(df_ntile_top, p, list_data, metric)\n",
    "    })\n",
    "\n",
    "    return(do.call(rbind, results))\n",
    "}\n",
    "\n",
    "metrics <- c(\"ROPE_01\", \"ROPE_02\")\n",
    "percentiles <- c(99, 98, 95, 90, 80, 70, 50)\n",
    "kappa_results <- lapply(metrics, process_list)\n",
    "\n",
    "combined_kappa_results_70 <- do.call(rbind, kappa_results)\n",
    "# View the final structured data frame\n",
    "combined_kappa_results_70\n",
    "write.table(combined_kappa_results_70,\n",
    "            'output/performance_metrics/PMBB_v2.ALL.CKD.PGS_Znorm2.70_conf.individual_agreement.LightsKappa.txt',\n",
    "            sep = '\\t',\n",
    "            col.names = T,\n",
    "            row.names = F,\n",
    "            quote = F)"
   ]
  },
  {
   "cell_type": "markdown",
   "metadata": {},
   "source": [
    "##### 50%"
   ]
  },
  {
   "cell_type": "code",
   "execution_count": null,
   "metadata": {},
   "outputs": [],
   "source": [
    "process_list <- function(metric) {\n",
    "    list_data <- equiv_scores(model_metrics_df, metric, ntile = TRUE)\n",
    "    df_ntile_top <- create_binary_df(df_ntile_norm_wide_50, list_data, percentiles)\n",
    "\n",
    "    results <- lapply(percentiles, function(p) {\n",
    "        calculate_and_kappa(df_ntile_top, p, list_data, metric)\n",
    "    })\n",
    "\n",
    "    return(do.call(rbind, results))\n",
    "}\n",
    "\n",
    "metrics <- c(\"ROPE_01\", \"ROPE_02\")\n",
    "percentiles <- c(99, 98, 95, 90, 80, 70, 50)\n",
    "kappa_results <- lapply(metrics, process_list)\n",
    "\n",
    "combined_kappa_results_50 <- do.call(rbind, kappa_results)\n",
    "# View the final structured data frame\n",
    "combined_kappa_results_50\n",
    "write.table(combined_kappa_results_50,\n",
    "            'output/performance_metrics/PMBB_v2.ALL.CKD.PGS_Znorm2.50_conf.individual_agreement.LightsKappa.txt',\n",
    "            sep = '\\t',\n",
    "            col.names = T,\n",
    "            row.names = F,\n",
    "            quote = F)"
   ]
  },
  {
   "cell_type": "markdown",
   "metadata": {},
   "source": [
    "##### 95%"
   ]
  },
  {
   "cell_type": "code",
   "execution_count": null,
   "metadata": {},
   "outputs": [],
   "source": [
    "process_list <- function(metric) {\n",
    "    list_data <- equiv_scores(model_metrics_df_multiancestry_score, metric, ntile = TRUE)\n",
    "    df_ntile_top <- create_binary_df(df_ntile_norm_wide_multiancestry_score_95, list_data, percentiles)\n",
    "\n",
    "    results <- lapply(percentiles, function(p) {\n",
    "        calculate_and_kappa(df_ntile_top, p, list_data, metric)\n",
    "    })\n",
    "\n",
    "    return(do.call(rbind, results))\n",
    "}\n",
    "\n",
    "metrics <- c(\"ROPE_01\", \"ROPE_02\")\n",
    "percentiles <- c(99, 98, 95, 90, 80, 70, 50)\n",
    "kappa_results_multiancestry_score <- lapply(metrics, process_list)\n",
    "\n",
    "combined_kappa_results_multiancestry_score_95 <- do.call(rbind, kappa_results_multiancestry_score)\n",
    "# View the final structured data frame\n",
    "combined_kappa_results_multiancestry_score_95\n",
    "write.table(combined_kappa_results_multiancestry_score_95,\n",
    "            'output/performance_metrics/PMBB_v2.ALL.CKD.PGS_Znorm2.multiancestry_scores.95_conf.individual_agreement.LightsKappa.txt',\n",
    "            sep = '\\t',\n",
    "            col.names = T,\n",
    "            row.names = F,\n",
    "            quote = F)"
   ]
  },
  {
   "cell_type": "markdown",
   "metadata": {},
   "source": [
    "##### 90%"
   ]
  },
  {
   "cell_type": "code",
   "execution_count": null,
   "metadata": {},
   "outputs": [],
   "source": [
    "process_list <- function(metric) {\n",
    "    list_data <- equiv_scores(model_metrics_df_multiancestry_score, metric, ntile = TRUE)\n",
    "    df_ntile_top <- create_binary_df(df_ntile_norm_wide_multiancestry_score_90, list_data, percentiles)\n",
    "\n",
    "    results <- lapply(percentiles, function(p) {\n",
    "        calculate_and_kappa(df_ntile_top, p, list_data, metric)\n",
    "    })\n",
    "\n",
    "    return(do.call(rbind, results))\n",
    "}\n",
    "\n",
    "metrics <- c(\"ROPE_01\", \"ROPE_02\")\n",
    "percentiles <- c(99, 98, 95, 90, 80, 70, 50)\n",
    "kappa_results_multiancestry_score <- lapply(metrics, process_list)\n",
    "\n",
    "combined_kappa_results_multiancestry_score_90 <- do.call(rbind, kappa_results_multiancestry_score)\n",
    "# View the final structured data frame\n",
    "combined_kappa_results_multiancestry_score_90\n",
    "write.table(combined_kappa_results_multiancestry_score_90,\n",
    "            'output/performance_metrics/PMBB_v2.ALL.CKD.PGS_Znorm2.multiancestry_scores.90_conf.individual_agreement.LightsKappa.txt',\n",
    "            sep = '\\t',\n",
    "            col.names = T,\n",
    "            row.names = F,\n",
    "            quote = F)"
   ]
  },
  {
   "cell_type": "markdown",
   "metadata": {},
   "source": [
    "##### 80%"
   ]
  },
  {
   "cell_type": "code",
   "execution_count": null,
   "metadata": {},
   "outputs": [],
   "source": [
    "process_list <- function(metric) {\n",
    "    list_data <- equiv_scores(model_metrics_df_multiancestry_score, metric, ntile = TRUE)\n",
    "    df_ntile_top <- create_binary_df(df_ntile_norm_wide_multiancestry_score_80, list_data, percentiles)\n",
    "\n",
    "    results <- lapply(percentiles, function(p) {\n",
    "        calculate_and_kappa(df_ntile_top, p, list_data, metric)\n",
    "    })\n",
    "\n",
    "    return(do.call(rbind, results))\n",
    "}\n",
    "\n",
    "metrics <- c(\"ROPE_01\", \"ROPE_02\")\n",
    "percentiles <- c(99, 98, 95, 90, 80, 70, 50)\n",
    "kappa_results_multiancestry_score <- lapply(metrics, process_list)\n",
    "\n",
    "combined_kappa_results_multiancestry_score_80 <- do.call(rbind, kappa_results_multiancestry_score)\n",
    "# View the final structured data frame\n",
    "combined_kappa_results_multiancestry_score_80\n",
    "write.table(combined_kappa_results_multiancestry_score_80,\n",
    "            'output/performance_metrics/PMBB_v2.ALL.CKD.PGS_Znorm2.multiancestry_scores.80_conf.individual_agreement.LightsKappa.txt',\n",
    "            sep = '\\t',\n",
    "            col.names = T,\n",
    "            row.names = F,\n",
    "            quote = F)"
   ]
  },
  {
   "cell_type": "markdown",
   "metadata": {},
   "source": [
    "##### 70%"
   ]
  },
  {
   "cell_type": "code",
   "execution_count": null,
   "metadata": {},
   "outputs": [],
   "source": [
    "process_list <- function(metric) {\n",
    "    list_data <- equiv_scores(model_metrics_df_multiancestry_score, metric, ntile = TRUE)\n",
    "    df_ntile_top <- create_binary_df(df_ntile_norm_wide_multiancestry_score_70, list_data, percentiles)\n",
    "\n",
    "    results <- lapply(percentiles, function(p) {\n",
    "        calculate_and_kappa(df_ntile_top, p, list_data, metric)\n",
    "    })\n",
    "\n",
    "    return(do.call(rbind, results))\n",
    "}\n",
    "\n",
    "metrics <- c(\"ROPE_01\", \"ROPE_02\")\n",
    "percentiles <- c(99, 98, 95, 90, 80, 70, 50)\n",
    "kappa_results_multiancestry_score <- lapply(metrics, process_list)\n",
    "\n",
    "combined_kappa_results_multiancestry_score_70 <- do.call(rbind, kappa_results_multiancestry_score)\n",
    "# View the final structured data frame\n",
    "combined_kappa_results_multiancestry_score_70\n",
    "write.table(combined_kappa_results_multiancestry_score_70,\n",
    "            'output/performance_metrics/PMBB_v2.ALL.CKD.PGS_Znorm2.multiancestry_scores.70_conf.individual_agreement.LightsKappa.txt',\n",
    "            sep = '\\t',\n",
    "            col.names = T,\n",
    "            row.names = F,\n",
    "            quote = F)"
   ]
  },
  {
   "cell_type": "markdown",
   "metadata": {},
   "source": [
    "##### 50%"
   ]
  },
  {
   "cell_type": "code",
   "execution_count": null,
   "metadata": {},
   "outputs": [],
   "source": [
    "process_list <- function(metric) {\n",
    "    list_data <- equiv_scores(model_metrics_df_multiancestry_score, metric, ntile = TRUE)\n",
    "    df_ntile_top <- create_binary_df(df_ntile_norm_wide_multiancestry_score_50, list_data, percentiles)\n",
    "\n",
    "    results <- lapply(percentiles, function(p) {\n",
    "        calculate_and_kappa(df_ntile_top, p, list_data, metric)\n",
    "    })\n",
    "\n",
    "    return(do.call(rbind, results))\n",
    "}\n",
    "\n",
    "metrics <- c(\"ROPE_01\", \"ROPE_02\")\n",
    "percentiles <- c(99, 98, 95, 90, 80, 70, 50)\n",
    "kappa_results_multiancestry_score <- lapply(metrics, process_list)\n",
    "\n",
    "combined_kappa_results_multiancestry_score_50 <- do.call(rbind, kappa_results_multiancestry_score)\n",
    "# View the final structured data frame\n",
    "combined_kappa_results_multiancestry_score_50\n",
    "write.table(combined_kappa_results_multiancestry_score_50,\n",
    "            'output/performance_metrics/PMBB_v2.ALL.CKD.PGS_Znorm2.multiancestry_scores.50_conf.individual_agreement.LightsKappa.txt',\n",
    "            sep = '\\t',\n",
    "            col.names = T,\n",
    "            row.names = F,\n",
    "            quote = F)"
   ]
  },
  {
   "cell_type": "markdown",
   "metadata": {},
   "source": [
    "#### eur"
   ]
  },
  {
   "cell_type": "code",
   "execution_count": null,
   "metadata": {},
   "outputs": [],
   "source": [
    "process_list <- function(metric) {\n",
    "    list_data <- equiv_scores(model_metrics_df_eur, metric, ntile = TRUE)\n",
    "    df_ntile_top <- create_binary_df(df_ntile_norm_wide_eur, list_data, percentiles)\n",
    "\n",
    "    results <- lapply(percentiles, function(p) {\n",
    "        calculate_and_kappa(df_ntile_top, p, list_data, metric)\n",
    "    })\n",
    "\n",
    "    return(do.call(rbind, results))\n",
    "}\n",
    "\n",
    "metrics <- c(\"ROPE_01\", \"ROPE_02\")\n",
    "percentiles <- c(99, 98, 95, 90, 80, 70, 50)\n",
    "kappa_results_eur <- lapply(metrics, process_list)\n",
    "\n",
    "combined_kappa_results_eur <- do.call(rbind, kappa_results_eur)\n",
    "# View the final structured data frame\n",
    "combined_kappa_results_eur\n",
    "write.table(combined_kappa_results_eur,\n",
    "            'output/performance_metrics/PMBB_v3.EUR.CKD.YK_Phenotyping.PGS_Znorm2.individual_agreement.LightsKappa.txt',\n",
    "            sep = '\\t',\n",
    "            col.names = T,\n",
    "            row.names = F,\n",
    "            quote = F)"
   ]
  },
  {
   "cell_type": "markdown",
   "metadata": {},
   "source": [
    "#### eur individuals multiancestry scores"
   ]
  },
  {
   "cell_type": "code",
   "execution_count": null,
   "metadata": {},
   "outputs": [],
   "source": [
    "process_list <- function(metric) {\n",
    "    list_data <- equiv_scores(model_metrics_df_eur_multiancestry_score, metric, ntile = TRUE)\n",
    "    df_ntile_top <- create_binary_df(df_ntile_norm_wide_eur_multiancestry_score, list_data, percentiles)\n",
    "\n",
    "    results <- lapply(percentiles, function(p) {\n",
    "        calculate_and_kappa(df_ntile_top, p, list_data, metric)\n",
    "    })\n",
    "\n",
    "    return(do.call(rbind, results))\n",
    "}\n",
    "\n",
    "metrics <- c(\"ROPE_01\", \"ROPE_02\")\n",
    "percentiles <- c(99, 98, 95, 90, 80, 70, 50)\n",
    "kappa_results_eur_multiancestry_score <- lapply(metrics, process_list)\n",
    "\n",
    "combined_kappa_results_eur_multiancestry_score <- do.call(rbind, kappa_results_eur_multiancestry_score)\n",
    "# View the final structured data frame\n",
    "combined_kappa_results_eur_multiancestry_score\n",
    "write.table(combined_kappa_results_eur_multiancestry_score,\n",
    "            'output/performance_metrics/PMBB_v3.EUR.CKD.YK_Phenotyping.PGS_Znorm2.multiancestry_scores.individual_agreement.LightsKappa.txt',\n",
    "            sep = '\\t',\n",
    "            col.names = T,\n",
    "            row.names = F,\n",
    "            quote = F)"
   ]
  },
  {
   "cell_type": "markdown",
   "metadata": {},
   "source": [
    "#### afr"
   ]
  },
  {
   "cell_type": "code",
   "execution_count": null,
   "metadata": {},
   "outputs": [],
   "source": [
    "process_list <- function(metric) {\n",
    "    list_data <- equiv_scores(model_metrics_df_afr, metric, ntile = TRUE)\n",
    "    df_ntile_top <- create_binary_df(df_ntile_norm_wide_afr, list_data, percentiles)\n",
    "\n",
    "    results <- lapply(percentiles, function(p) {\n",
    "        calculate_and_kappa(df_ntile_top, p, list_data, metric)\n",
    "    })\n",
    "\n",
    "    return(do.call(rbind, results))\n",
    "}\n",
    "\n",
    "metrics <- c(\"prob_dif\", \"ROPE_01\", \"ROPE_02\")\n",
    "percentiles <- c(99, 98, 95, 90, 80, 70, 50)\n",
    "kappa_results_afr <- lapply(metrics, process_list)\n",
    "\n",
    "combined_kappa_results_afr <- do.call(rbind, kappa_results_afr)\n",
    "# View the final structured data frame\n",
    "combined_kappa_results_afr\n",
    "write.table(combined_kappa_results_afr,\n",
    "            'output/performance_metrics/PMBB_v3.AFR.CKD.YK_Phenotyping.PGS_Znorm2.individual_agreement.LightsKappa.txt',\n",
    "            sep = '\\t',\n",
    "            col.names = T,\n",
    "            row.names = F,\n",
    "            quote = F)"
   ]
  },
  {
   "cell_type": "markdown",
   "metadata": {},
   "source": [
    "#### afr individuals multiancestry scores"
   ]
  },
  {
   "cell_type": "code",
   "execution_count": null,
   "metadata": {},
   "outputs": [],
   "source": [
    "process_list <- function(metric) {\n",
    "    list_data <- equiv_scores(model_metrics_df_afr_multiancestry_score, metric, ntile = TRUE)\n",
    "    df_ntile_top <- create_binary_df(df_ntile_norm_wide_afr_multiancestry_score, list_data, percentiles)\n",
    "\n",
    "    results <- lapply(percentiles, function(p) {\n",
    "        calculate_and_kappa(df_ntile_top, p, list_data, metric)\n",
    "    })\n",
    "\n",
    "    return(do.call(rbind, results))\n",
    "}\n",
    "\n",
    "metrics <- c(\"prob_dif\", \"ROPE_005\", \"ROPE_01\", \"ROPE_02\")\n",
    "percentiles <- c(99, 98, 95, 90, 80, 70, 50)\n",
    "kappa_results_afr_multiancestry_score <- lapply(metrics, process_list)\n",
    "\n",
    "combined_kappa_results_afr_multiancestry_score <- do.call(rbind, kappa_results_afr_multiancestry_score)\n",
    "# View the final structured data frame\n",
    "combined_kappa_results_afr_multiancestry_score\n",
    "write.table(combined_kappa_results_afr_multiancestry_score,\n",
    "            'output/performance_metrics/PMBB_v3.AFR.CKD.YK_Phenotyping.PGS_Znorm2.multiancestry_scores.individual_agreement.LightsKappa.txt',\n",
    "            sep = '\\t',\n",
    "            col.names = T,\n",
    "            row.names = F,\n",
    "            quote = F)"
   ]
  },
  {
   "cell_type": "markdown",
   "metadata": {},
   "source": [
    "## make line graph (PMBB only)"
   ]
  },
  {
   "cell_type": "markdown",
   "metadata": {
    "jp-MarkdownHeadingCollapsed": true
   },
   "source": [
    "### read in input files (if needed)"
   ]
  },
  {
   "cell_type": "markdown",
   "metadata": {},
   "source": [
    "#### all"
   ]
  },
  {
   "cell_type": "code",
   "execution_count": null,
   "metadata": {},
   "outputs": [],
   "source": [
    "combined_kappa_results = read.csv('output/performance_metrics/PMBB_v2.ALL.CKD.PGS_Znorm2.individual_agreement.LightsKappa.txt',\n",
    "                                  sep = '\\t')"
   ]
  },
  {
   "cell_type": "markdown",
   "metadata": {},
   "source": [
    "#### all individuals multiancestry scores"
   ]
  },
  {
   "cell_type": "code",
   "execution_count": null,
   "metadata": {},
   "outputs": [],
   "source": [
    "combined_kappa_results_multiancestry_score = read.csv('output/performance_metrics/PMBB_v2.ALL.CKD.PGS_Znorm2.multiancestry_scores.individual_agreement.LightsKappa.txt',\n",
    "                                                      sep = '\\t')"
   ]
  },
  {
   "cell_type": "markdown",
   "metadata": {},
   "source": [
    "#### eur"
   ]
  },
  {
   "cell_type": "code",
   "execution_count": null,
   "metadata": {},
   "outputs": [],
   "source": [
    "combined_kappa_results_eur = read.csv('output/performance_metrics/PMBB_v2.EUR.CKD.PGS_Znorm2.individual_agreement.LightsKappa.txt',\n",
    "                                      sep = '\\t')"
   ]
  },
  {
   "cell_type": "markdown",
   "metadata": {},
   "source": [
    "#### eur individuals multiancestry scores"
   ]
  },
  {
   "cell_type": "code",
   "execution_count": null,
   "metadata": {},
   "outputs": [],
   "source": [
    "combined_kappa_results_eur_multiancestry_score = read.csv('output/performance_metrics/PMBB_v2.EUR.CKD.PGS_Znorm2.multiancestry_scores.individual_agreement.LightsKappa.txt',\n",
    "                                                          sep = '\\t')"
   ]
  },
  {
   "cell_type": "markdown",
   "metadata": {},
   "source": [
    "#### afr"
   ]
  },
  {
   "cell_type": "code",
   "execution_count": null,
   "metadata": {},
   "outputs": [],
   "source": [
    "combined_kappa_results_afr = read.csv('output/performance_metrics/PMBB_v2.AFR.CKD.PGS_Znorm2.individual_agreement.LightsKappa.txt',\n",
    "                                      sep = '\\t')"
   ]
  },
  {
   "cell_type": "markdown",
   "metadata": {},
   "source": [
    "#### afr individuals multiancestry scores"
   ]
  },
  {
   "cell_type": "code",
   "execution_count": null,
   "metadata": {},
   "outputs": [],
   "source": [
    "combined_kappa_results_afr_multiancestry_score = read.csv('output/performance_metrics/PMBB_v2.AFR.CKD.PGS_Znorm2.multiancestry_scores.individual_agreement.LightsKappa.txt',\n",
    "                                                          sep = '\\t')"
   ]
  },
  {
   "cell_type": "markdown",
   "metadata": {},
   "source": [
    "### merge"
   ]
  },
  {
   "cell_type": "code",
   "execution_count": null,
   "metadata": {},
   "outputs": [],
   "source": [
    "kappa_merge = combined_kappa_results_afr_multiancestry_score %>%\n",
    "rename('AFR_indiv.eur_multiancestry_scores' = 'kappa_value') %>%\n",
    "full_join(combined_kappa_results_afr, by = c('metric', 'percentile')) %>%\n",
    "rename('AFR_indiv.all_scores' = 'kappa_value') %>%\n",
    "full_join(combined_kappa_results_eur_multiancestry_score, by = c('metric', 'percentile')) %>%\n",
    "rename('EUR_indiv.eur_multiancestry_scores' = 'kappa_value') %>%\n",
    "full_join(combined_kappa_results_eur, by = c('metric', 'percentile')) %>%\n",
    "rename('EUR_indiv.all_scores' = 'kappa_value') %>%\n",
    "full_join(combined_kappa_results_multiancestry_score, by = c('metric', 'percentile')) %>%\n",
    "rename('ALL_indiv.eur_multiancestry_scores' = 'kappa_value') %>%\n",
    "full_join(combined_kappa_results, by = c('metric', 'percentile')) %>%\n",
    "rename('ALL_indiv.all_scores' = 'kappa_value') %>%\n",
    "mutate(metric = gsub('prob_dif', 'Statistically_Equivalent', metric)) %>%\n",
    "mutate(metric = gsub('ROPE_005', 'ROPE_0.005', metric)) %>%\n",
    "mutate(metric = gsub('ROPE_01', 'ROPE_0.01', metric)) %>%\n",
    "mutate(metric = gsub('ROPE_02', 'ROPE_0.02', metric))\n",
    "kappa_merge"
   ]
  },
  {
   "cell_type": "markdown",
   "metadata": {},
   "source": [
    "### convert to long form"
   ]
  },
  {
   "cell_type": "code",
   "execution_count": null,
   "metadata": {},
   "outputs": [],
   "source": [
    "kappa_merge_long <- kappa_merge %>%\n",
    "pivot_longer(cols = ends_with(\"_scores\"),\n",
    "               names_to = \"score_type\",\n",
    "               values_to = \"score_value\") %>%\n",
    "mutate(metric = factor(metric, levels = c(\"Statistically_Equivalent\", \"ROPE_0.005\", \"ROPE_0.01\", \"ROPE_0.02\")))\n",
    "head(kappa_merge_long)"
   ]
  },
  {
   "cell_type": "markdown",
   "metadata": {},
   "source": [
    "### make plot"
   ]
  },
  {
   "cell_type": "code",
   "execution_count": null,
   "metadata": {},
   "outputs": [],
   "source": [
    "kappa_plot = ggplot(kappa_merge_long, aes(x = percentile, y = score_value, color = score_type)) +\n",
    "geom_point() +\n",
    "geom_line(size = 1) +\n",
    "facet_wrap(~ metric, nrow = 1) +  # Optional: separate panel for each metric\n",
    "labs(title = \"PMBB v3 CKD PGS Light's Kappa\",\n",
    "     x = \"Percentile\",\n",
    "     y = \"Light's Kappa\",\n",
    "     color = \"Score\") +\n",
    "theme_minimal(base_size = 14) +\n",
    "theme(axis.text.x = element_text(angle = 45, hjust = 1))\n",
    "\n",
    "kappa_plot\n",
    "ggsave('output/plots/PMBB_v3.CKD.YK_Phenotyping.PGS_Znorm2.individual_agreement.LightsKappa.line_graph.png',\n",
    "      width = 12,\n",
    "      height = 3,\n",
    "      dpi = 300,\n",
    "      bg = \"white\")"
   ]
  },
  {
   "cell_type": "markdown",
   "metadata": {},
   "source": [
    "## make combined bar plot with AOU and PMBB"
   ]
  },
  {
   "cell_type": "markdown",
   "metadata": {},
   "source": [
    "### read in input files"
   ]
  },
  {
   "cell_type": "code",
   "execution_count": null,
   "metadata": {},
   "outputs": [],
   "source": [
    "combined_kappa_results_pmbb = read.csv('output/performance_metrics/PMBB_v3.ALL.CKD.YK_Phenotyping.PGS_Znorm2.individual_agreement.LightsKappa.txt',\n",
    "                                       sep = '\\t')\n",
    "combined_kappa_results_multiancestry_score_pmbb = read.csv('output/performance_metrics/PMBB_v3.ALL.CKD.YK_Phenotyping.PGS_Znorm2.multiancestry_scores.individual_agreement.LightsKappa.txt',\n",
    "                                                           sep = '\\t')\n",
    "combined_kappa_results_eur_pmbb = read.csv('output/performance_metrics/PMBB_v3.EUR.CKD.YK_Phenotyping.PGS_Znorm2.individual_agreement.LightsKappa.txt',\n",
    "                                           sep = '\\t')\n",
    "combined_kappa_results_eur_multiancestry_score_pmbb = read.csv('output/performance_metrics/PMBB_v3.EUR.CKD.YK_Phenotyping.PGS_Znorm2.multiancestry_scores.individual_agreement.LightsKappa.txt',\n",
    "                                                               sep = '\\t')\n",
    "combined_kappa_results_afr_pmbb = read.csv('output/performance_metrics/PMBB_v3.AFR.CKD.YK_Phenotyping.PGS_Znorm2.individual_agreement.LightsKappa.txt',\n",
    "                                           sep = '\\t')\n",
    "combined_kappa_results_afr_multiancestry_score_pmbb = read.csv('output/performance_metrics/PMBB_v3.AFR.CKD.YK_Phenotyping.PGS_Znorm2.multiancestry_scores.individual_agreement.LightsKappa.txt',\n",
    "                                                               sep = '\\t')"
   ]
  },
  {
   "cell_type": "code",
   "execution_count": null,
   "metadata": {},
   "outputs": [],
   "source": [
    "combined_kappa_results_aou = read.csv('AOU/AOU.ALL.CKD.YK_Phenotyping.PGS_Znorm2.individual_agreement.LightsKappa.txt',\n",
    "                                      sep = '\\t')\n",
    "combined_kappa_results_multiancestry_score_aou = read.csv('AOU/AOU.ALL.CKD.YK_Phenotyping.PGS_Znorm2.multiancestry_scores.individual_agreement.LightsKappa.txt',\n",
    "                                                          sep = '\\t')\n",
    "combined_kappa_results_eur_aou = read.csv('AOU/AOU.EUR.CKD.YK_Phenotyping.PGS_Znorm2.individual_agreement.LightsKappa.txt',\n",
    "                                          sep = '\\t')\n",
    "combined_kappa_results_eur_multiancestry_score_aou = read.csv('AOU/AOU.EUR.CKD.YK_Phenotyping.PGS_Znorm2.multiancestry_scores.individual_agreement.LightsKappa.txt',\n",
    "                                                              sep = '\\t')\n",
    "combined_kappa_results_afr_aou = read.csv('AOU/AOU.AFR.CKD.YK_Phenotyping.PGS_Znorm2.individual_agreement.LightsKappa.txt',\n",
    "                                          sep = '\\t')\n",
    "combined_kappa_results_afr_multiancestry_score_aou = read.csv('AOU/AOU.AFR.CKD.YK_Phenotyping.PGS_Znorm2.multiancestry_scores.individual_agreement.LightsKappa.txt',\n",
    "                                                              sep = '\\t')"
   ]
  },
  {
   "cell_type": "markdown",
   "metadata": {},
   "source": [
    "### create combined inputs"
   ]
  },
  {
   "cell_type": "code",
   "execution_count": null,
   "metadata": {},
   "outputs": [],
   "source": [
    "kappa_merge_pmbb = combined_kappa_results_pmbb %>%\n",
    "filter(metric == 'ROPE_02') %>%\n",
    "filter(percentile == '98') %>%\n",
    "select(kappa_value) %>%\n",
    "rename('ALL_indiv.all_scores' = 'kappa_value') %>%\n",
    "cbind(combined_kappa_results_multiancestry_score_pmbb) %>%\n",
    "filter(metric == 'ROPE_02') %>%\n",
    "filter(percentile == '98') %>%\n",
    "select(ALL_indiv.all_scores, kappa_value) %>%\n",
    "rename('ALL_indiv.eur_multiancestry_scores' = 'kappa_value') %>%\n",
    "cbind(combined_kappa_results_eur_pmbb) %>%\n",
    "filter(metric == 'ROPE_02') %>%\n",
    "filter(percentile == '98') %>%\n",
    "select(ALL_indiv.all_scores, ALL_indiv.eur_multiancestry_scores, kappa_value) %>%\n",
    "rename('EUR_indiv.all_scores' = 'kappa_value') %>%\n",
    "cbind(combined_kappa_results_eur_multiancestry_score_pmbb) %>%\n",
    "filter(metric == 'ROPE_02') %>%\n",
    "filter(percentile == '98') %>%\n",
    "select(ALL_indiv.all_scores, ALL_indiv.eur_multiancestry_scores, EUR_indiv.all_scores, kappa_value) %>%\n",
    "rename('EUR_indiv.eur_multiancestry_scores' = 'kappa_value') %>%\n",
    "cbind(combined_kappa_results_afr_pmbb) %>%\n",
    "filter(metric == 'ROPE_02') %>%\n",
    "filter(percentile == '98') %>%\n",
    "select(ALL_indiv.all_scores, ALL_indiv.eur_multiancestry_scores, EUR_indiv.all_scores, EUR_indiv.eur_multiancestry_scores, kappa_value) %>%\n",
    "rename('AFR_indiv.all_scores' = 'kappa_value') %>%\n",
    "cbind(combined_kappa_results_afr_multiancestry_score_pmbb) %>%\n",
    "filter(metric == 'ROPE_02') %>%\n",
    "filter(percentile == '98') %>%\n",
    "select(ALL_indiv.all_scores, ALL_indiv.eur_multiancestry_scores, EUR_indiv.all_scores, EUR_indiv.eur_multiancestry_scores, AFR_indiv.all_scores, kappa_value) %>%\n",
    "mutate(Dataset = 'PMBB') %>%\n",
    "rename('AFR_indiv.eur_multiancestry_scores' = 'kappa_value')\n",
    "kappa_merge_pmbb"
   ]
  },
  {
   "cell_type": "code",
   "execution_count": null,
   "metadata": {},
   "outputs": [],
   "source": [
    "kappa_merge_aou = combined_kappa_results_aou %>%\n",
    "filter(metric == 'ROPE_02') %>%\n",
    "filter(percentile == '98') %>%\n",
    "select(kappa_value) %>%\n",
    "rename('ALL_indiv.all_scores' = 'kappa_value') %>%\n",
    "cbind(combined_kappa_results_multiancestry_score_aou) %>%\n",
    "filter(metric == 'ROPE_02') %>%\n",
    "filter(percentile == '98') %>%\n",
    "select(ALL_indiv.all_scores, kappa_value) %>%\n",
    "rename('ALL_indiv.eur_multiancestry_scores' = 'kappa_value') %>%\n",
    "cbind(combined_kappa_results_eur_aou) %>%\n",
    "filter(metric == 'ROPE_02') %>%\n",
    "filter(percentile == '98') %>%\n",
    "select(ALL_indiv.all_scores, ALL_indiv.eur_multiancestry_scores, kappa_value) %>%\n",
    "rename('EUR_indiv.all_scores' = 'kappa_value') %>%\n",
    "cbind(combined_kappa_results_eur_multiancestry_score_aou) %>%\n",
    "filter(metric == 'ROPE_02') %>%\n",
    "filter(percentile == '98') %>%\n",
    "select(ALL_indiv.all_scores, ALL_indiv.eur_multiancestry_scores, EUR_indiv.all_scores, kappa_value) %>%\n",
    "rename('EUR_indiv.eur_multiancestry_scores' = 'kappa_value') %>%\n",
    "cbind(combined_kappa_results_afr_aou) %>%\n",
    "filter(metric == 'ROPE_02') %>%\n",
    "filter(percentile == '98') %>%\n",
    "select(ALL_indiv.all_scores, ALL_indiv.eur_multiancestry_scores, EUR_indiv.all_scores, EUR_indiv.eur_multiancestry_scores, kappa_value) %>%\n",
    "rename('AFR_indiv.all_scores' = 'kappa_value') %>%\n",
    "cbind(combined_kappa_results_afr_multiancestry_score_aou) %>%\n",
    "filter(metric == 'ROPE_02') %>%\n",
    "filter(percentile == '98') %>%\n",
    "select(ALL_indiv.all_scores, ALL_indiv.eur_multiancestry_scores, EUR_indiv.all_scores, EUR_indiv.eur_multiancestry_scores, AFR_indiv.all_scores, kappa_value) %>%\n",
    "mutate(Dataset = 'AOU') %>%\n",
    "rename('AFR_indiv.eur_multiancestry_scores' = 'kappa_value')\n",
    "kappa_merge_aou"
   ]
  },
  {
   "cell_type": "code",
   "execution_count": null,
   "metadata": {},
   "outputs": [],
   "source": [
    "kappa_merge_all = rbind(kappa_merge_pmbb, kappa_merge_aou)\n",
    "kappa_merge_all"
   ]
  },
  {
   "cell_type": "markdown",
   "metadata": {},
   "source": [
    "### convert to long form"
   ]
  },
  {
   "cell_type": "code",
   "execution_count": null,
   "metadata": {},
   "outputs": [],
   "source": [
    "kappa_merge_long <- kappa_merge_all %>%\n",
    "pivot_longer(cols = ends_with(\"_scores\"),\n",
    "             names_to = \"score_type\",\n",
    "             values_to = \"score_value\")\n",
    "kappa_merge_long"
   ]
  },
  {
   "cell_type": "markdown",
   "metadata": {},
   "source": [
    "### make plot"
   ]
  },
  {
   "cell_type": "code",
   "execution_count": null,
   "metadata": {},
   "outputs": [],
   "source": [
    "kappa_bar_plot = ggplot(kappa_merge_long, aes(x = score_type, y = score_value, fill = Dataset)) +\n",
    "geom_bar(stat = \"identity\", position = \"dodge\") +\n",
    "labs(title = \"AOU and PMBB Light's Kappa\",\n",
    "     x = \"Score Group\",\n",
    "     y = \"Light's Kappa\",\n",
    "     fill = \"Dataset\") +\n",
    "scale_fill_manual(values = c(\"#990000\", \"#011F5B\"))  + \n",
    "theme(axis.text.x = element_text(angle = 45, hjust = 1), legend.position = 'none', axis.title.x = element_text(margin = margin(t = 15, r = 0, b = 0, l = 0))) +\n",
    "ylim(0, 1)\n",
    "\n",
    "kappa_bar_plot\n",
    "ggsave('output/plots/AOU.PMBB_v3.CKD.YK_Phenotyping.PGS_Znorm2.individual_agreement.ROPE_0.02.98th_percentile.LightsKappa.bar_plot.png',\n",
    "      width = 10,\n",
    "      height = 6,\n",
    "      dpi = 300,\n",
    "      bg = \"white\")"
   ]
  },
  {
   "cell_type": "markdown",
   "metadata": {},
   "source": [
    "### make combined ICC/light K plots"
   ]
  },
  {
   "cell_type": "code",
   "execution_count": null,
   "metadata": {},
   "outputs": [],
   "source": [
    "plot_grid(icc_bar_plot, kappa_bar_plot, ncol = 1, align = \"v\", axis = \"tb\", rel_heights = c(1, 1.8))\n",
    "ggsave('output/plots/AOU.PMBB_v3.CKD.YK_Phenotyping.PGS_Znorm2.individual_agreement.ROPE_0.02.ICC.98th_percentile.LightsKappa.bar_plot.png',\n",
    "       dpi = 300,\n",
    "       bg = \"white\")"
   ]
  },
  {
   "cell_type": "markdown",
   "metadata": {},
   "source": [
    "# pairwise correlations between score percentile distributions"
   ]
  },
  {
   "cell_type": "markdown",
   "metadata": {},
   "source": [
    "## read in input files (if needed)"
   ]
  },
  {
   "cell_type": "markdown",
   "metadata": {},
   "source": [
    "### all"
   ]
  },
  {
   "cell_type": "code",
   "execution_count": null,
   "metadata": {},
   "outputs": [],
   "source": [
    "df_ntile_norm_wide = read.csv('output/performance_metrics/PMBB_v3.ALL.CKD.YK_Phenotyping.PGS_Znorm2.individual_percentile.wide_form.txt',\n",
    "                              sep = '\\t')"
   ]
  },
  {
   "cell_type": "code",
   "execution_count": null,
   "metadata": {},
   "outputs": [],
   "source": [
    "model_metrics_df = read.csv('output/performance_metrics/PMBB_v3.ALL.CKD.YK_Phenotyping.PGS_Znorm2.cv_glm.perf_model.performance_metrics.txt',\n",
    "                            sep = '\\t')"
   ]
  },
  {
   "cell_type": "markdown",
   "metadata": {},
   "source": [
    "### eur"
   ]
  },
  {
   "cell_type": "code",
   "execution_count": null,
   "metadata": {},
   "outputs": [],
   "source": [
    "df_ntile_norm_wide_eur = read.csv('output/performance_metrics/PMBB_v3.EUR.CKD.YK_Phenotyping.PGS_Znorm2.individual_percentile.wide_form.txt',\n",
    "                                  sep = '\\t')"
   ]
  },
  {
   "cell_type": "code",
   "execution_count": null,
   "metadata": {},
   "outputs": [],
   "source": [
    "model_metrics_df_eur = read.csv('output/performance_metrics/PMBB_v3.EUR.CKD.YK_Phenotyping.PGS_Znorm2.cv_glm.perf_model.performance_metrics.txt',\n",
    "                                sep = '\\t')"
   ]
  },
  {
   "cell_type": "markdown",
   "metadata": {},
   "source": [
    "### afr"
   ]
  },
  {
   "cell_type": "code",
   "execution_count": null,
   "metadata": {},
   "outputs": [],
   "source": [
    "df_ntile_norm_wide_afr = read.csv('output/performance_metrics/PMBB_v3.AFR.CKD.YK_Phenotyping.PGS_Znorm2.individual_percentile.wide_form.txt',\n",
    "                                  sep = '\\t')"
   ]
  },
  {
   "cell_type": "code",
   "execution_count": null,
   "metadata": {},
   "outputs": [],
   "source": [
    "model_metrics_df_afr = read.csv('output/performance_metrics/PMBB_v3.AFR.CKD.YK_Phenotyping.PGS_Znorm2.cv_glm.perf_model.performance_metrics.txt',\n",
    "                                sep = '\\t')"
   ]
  },
  {
   "cell_type": "markdown",
   "metadata": {},
   "source": [
    "## create PGS list"
   ]
  },
  {
   "cell_type": "code",
   "execution_count": null,
   "metadata": {},
   "outputs": [],
   "source": [
    "pgs_include = unique(model_metrics_df$model)\n",
    "length(pgs_include)"
   ]
  },
  {
   "cell_type": "code",
   "execution_count": null,
   "metadata": {},
   "outputs": [],
   "source": [
    "pgs_include_eur = unique(model_metrics_df_eur$model)\n",
    "length(pgs_include_eur)"
   ]
  },
  {
   "cell_type": "code",
   "execution_count": null,
   "metadata": {},
   "outputs": [],
   "source": [
    "pgs_include_afr = unique(model_metrics_df_afr$model)\n",
    "length(pgs_include_afr)"
   ]
  },
  {
   "cell_type": "markdown",
   "metadata": {},
   "source": [
    "## calculation correlations"
   ]
  },
  {
   "cell_type": "markdown",
   "metadata": {},
   "source": [
    "### all"
   ]
  },
  {
   "cell_type": "code",
   "execution_count": null,
   "metadata": {},
   "outputs": [],
   "source": [
    "# calculate R for all pairs\n",
    "all_correlations <- df_ntile_norm_wide %>% \n",
    "  select(starts_with(\"ntile_\")) %>% \n",
    "  rename_with(~ gsub(\"ntile_\", \"\", .), .cols = everything())\n",
    "  \n",
    "calculate_correlations <- function(pgs_list) {\n",
    "  correlation_coefficients <- cor(all_correlations[, pgs_list], all_correlations)\n",
    "  correlation_df <- as.data.frame(correlation_coefficients, row.names = names(all_correlations)) %>%\n",
    "    pivot_longer(cols = everything(), names_to = \"model\", values_to = \"r\")\n",
    "  \n",
    "  # Return the data frame with an additional column for the PGS ID\n",
    "  correlation_df$PGS_ID <- pgs_list\n",
    "  return(correlation_df)\n",
    "}\n",
    "\n",
    "# Apply the function to each PGS ID and combine results into a single data frame\n",
    "all_correlations_df <- do.call(rbind, lapply(pgs_include, calculate_correlations)) %>% \n",
    "rename(model_1 = model, model_2 = PGS_ID)\n",
    "head(all_correlations_df)\n",
    "write.table(all_correlations_df,\n",
    "           'output/performance_metrics/PMBB_v3.ALL.CKD.YK_Phenotyping.PGS_Znorm2.score_level_percentile.pairwise_correlations.txt',\n",
    "           sep = '\\t',\n",
    "           col.names = T,\n",
    "           row.names = F,\n",
    "           quote = F)\n",
    "length(unique(all_correlations_df$model_1))\n",
    "length(unique(all_correlations_df$model_2))"
   ]
  },
  {
   "cell_type": "markdown",
   "metadata": {},
   "source": [
    "### eur"
   ]
  },
  {
   "cell_type": "code",
   "execution_count": null,
   "metadata": {},
   "outputs": [],
   "source": [
    "# calculate R for all pairs\n",
    "all_correlations_eur <- df_ntile_norm_wide_eur %>% \n",
    "  select(starts_with(\"ntile_\")) %>% \n",
    "  rename_with(~ gsub(\"ntile_\", \"\", .), .cols = everything())\n",
    "  \n",
    "calculate_correlations <- function(pgs_list) {\n",
    "  correlation_coefficients <- cor(all_correlations_eur[, pgs_list], all_correlations_eur)\n",
    "  correlation_df <- as.data.frame(correlation_coefficients, row.names = names(all_correlations_eur)) %>%\n",
    "    pivot_longer(cols = everything(), names_to = \"model\", values_to = \"r\")\n",
    "  \n",
    "  # Return the data frame with an additional column for the PGS ID\n",
    "  correlation_df$PGS_ID <- pgs_list\n",
    "  return(correlation_df)\n",
    "}\n",
    "\n",
    "# Apply the function to each PGS ID and combine results into a single data frame\n",
    "all_correlations_df_eur <- do.call(rbind, lapply(pgs_include_eur, calculate_correlations)) %>% \n",
    "rename(model_1 = model, model_2 = PGS_ID)\n",
    "head(all_correlations_df_eur)\n",
    "write.table(all_correlations_df_eur,\n",
    "           'output/performance_metrics/PMBB_v3.EUR.CKD.YK_Phenotyping.PGS_Znorm2.score_level_percentile.pairwise_correlations.txt',\n",
    "           sep = '\\t',\n",
    "           col.names = T,\n",
    "           row.names = F,\n",
    "           quote = F)\n",
    "length(unique(all_correlations_df_eur$model_1))\n",
    "length(unique(all_correlations_df_eur$model_2))"
   ]
  },
  {
   "cell_type": "markdown",
   "metadata": {},
   "source": [
    "### afr"
   ]
  },
  {
   "cell_type": "code",
   "execution_count": null,
   "metadata": {},
   "outputs": [],
   "source": [
    "# calculate R for all pairs\n",
    "all_correlations_afr <- df_ntile_norm_wide_afr %>% \n",
    "  select(starts_with(\"ntile_\")) %>% \n",
    "  rename_with(~ gsub(\"ntile_\", \"\", .), .cols = everything())\n",
    "  \n",
    "calculate_correlations <- function(pgs_list) {\n",
    "  correlation_coefficients <- cor(all_correlations_afr[, pgs_list], all_correlations_afr)\n",
    "  correlation_df <- as.data.frame(correlation_coefficients, row.names = names(all_correlations_afr)) %>%\n",
    "    pivot_longer(cols = everything(), names_to = \"model\", values_to = \"r\")\n",
    "  \n",
    "  # Return the data frame with an additional column for the PGS ID\n",
    "  correlation_df$PGS_ID <- pgs_list\n",
    "  return(correlation_df)\n",
    "}\n",
    "\n",
    "# Apply the function to each PGS ID and combine results into a single data frame\n",
    "all_correlations_df_afr <- do.call(rbind, lapply(pgs_include_afr, calculate_correlations)) %>% \n",
    "rename(model_1 = model, model_2 = PGS_ID)\n",
    "head(all_correlations_df_afr)\n",
    "write.table(all_correlations_df_afr,\n",
    "           'output/performance_metrics/PMBB_v3.AFR.CKD.YK_Phenotyping.PGS_Znorm2.score_level_percentile.pairwise_correlations.txt',\n",
    "           sep = '\\t',\n",
    "           col.names = T,\n",
    "           row.names = F,\n",
    "           quote = F)\n",
    "length(unique(all_correlations_df_afr$model_1))\n",
    "length(unique(all_correlations_df_afr$model_2))"
   ]
  },
  {
   "cell_type": "markdown",
   "metadata": {},
   "source": [
    "## make PGS cohort order"
   ]
  },
  {
   "cell_type": "code",
   "execution_count": null,
   "metadata": {},
   "outputs": [],
   "source": [
    "meta_phe = c('AFR.Phe_585.3.PRScsx',\n",
    "             'EAS.Phe_585.3.PRScsx',\n",
    "             'EUR.Phe_585.3.PRScsx',\n",
    "             'AFR.eGFR.flip.PRScsx',\n",
    "             'AMR.eGFR.flip.PRScsx',\n",
    "             'EAS.eGFR.flip.PRScsx',\n",
    "             'EUR.eGFR.flip.PRScsx')"
   ]
  },
  {
   "cell_type": "code",
   "execution_count": null,
   "metadata": {},
   "outputs": [],
   "source": [
    "PGS_cohort_order = c(ckdgen_eur$V1, ckdgen_multi$V1, ukbb$V1, meta_phe)\n",
    "length(PGS_cohort_order)\n",
    "PGS_cohort_order"
   ]
  },
  {
   "cell_type": "markdown",
   "metadata": {},
   "source": [
    "## make heatmap"
   ]
  },
  {
   "cell_type": "markdown",
   "metadata": {},
   "source": [
    "### all"
   ]
  },
  {
   "cell_type": "code",
   "execution_count": null,
   "metadata": {},
   "outputs": [],
   "source": [
    "# heat map\n",
    "corr_heatmap <- all_correlations_df  %>%\n",
    "filter(as.numeric(factor(model_1, levels = PGS_cohort_order)) <= as.numeric(factor(model_2, levels = PGS_cohort_order))) %>%\n",
    "arrange(factor(model_2, levels = PGS_cohort_order)) %>% \n",
    "arrange(factor(model_1, levels = PGS_cohort_order)) %>% \n",
    "ggplot(aes(x = fct_inorder(model_2), y = fct_inorder(model_1), fill = r)) +\n",
    "geom_tile(color = \"black\") +\n",
    "scale_fill_gradient2(low = \"skyblue\", mid = \"white\", high = \"orange\", limits = c(-1, 1), name = \"*r*\") +\n",
    "scale_shape_manual(values = c(8), na.translate = F, name = NULL) +\n",
    "guides(fill = guide_colourbar(order = 1)) +\n",
    "labs(x = NULL,\n",
    "     y = NULL,\n",
    "     title = (\"PMBB v3 ALL CKD PGS Percentile Correlation\")) +\n",
    "coord_equal() +\n",
    "theme_bw(base_size = 16) +\n",
    "theme(panel.grid.major = element_blank(),\n",
    "      plot.background = element_rect(fill = \"transparent\", color = NA),\n",
    "      axis.text.x = element_text(angle = 90, hjust = 1, vjust = 1),\n",
    "      legend.title = ggtext::element_markdown(),\n",
    "      plot.title.position = \"plot\")\n",
    "    \n",
    "corr_heatmap\n",
    "ggsave('output/plots/PMBB_v3.ALL.CKD.YK_Phenotyping.PGS_Znorm2.individual_percentile_correlation.heatmap.png',\n",
    "       width = 10,\n",
    "       height = 8,\n",
    "       dpi = 300)"
   ]
  },
  {
   "cell_type": "markdown",
   "metadata": {},
   "source": [
    "### eur"
   ]
  },
  {
   "cell_type": "code",
   "execution_count": null,
   "metadata": {},
   "outputs": [],
   "source": [
    "# heat map\n",
    "corr_heatmap_eur <- all_correlations_df_eur  %>%\n",
    "filter(as.numeric(factor(model_1, levels = PGS_cohort_order)) <= as.numeric(factor(model_2, levels = PGS_cohort_order))) %>%\n",
    "arrange(factor(model_2, levels = PGS_cohort_order)) %>% \n",
    "arrange(factor(model_1, levels = PGS_cohort_order)) %>% \n",
    "ggplot(aes(x = fct_inorder(model_2), y = fct_inorder(model_1), fill = r)) +\n",
    "geom_tile(color = \"black\") +\n",
    "scale_fill_gradient2(low = \"skyblue\", mid = \"white\", high = \"orange\", limits = c(-1, 1), name = \"*r*\") +\n",
    "scale_shape_manual(values = c(8), na.translate = F, name = NULL) +\n",
    "guides(fill = guide_colourbar(order = 1)) +\n",
    "labs(x = NULL,\n",
    "     y = NULL,\n",
    "     title = (\"PMBB v3 EUR CKD PGS Percentile Correlation\")) +\n",
    "coord_equal() +\n",
    "#facet_nested(group1 + fct_inorder(model_1) ~ group2 + fct_inorder(model_2),\n",
    "#               switch = \"both\", space = \"free\", scales = \"free\") +\n",
    "theme_bw(base_size = 16) +\n",
    "theme(panel.grid.major = element_blank(),\n",
    "      plot.background = element_rect(fill = \"transparent\", color = NA),\n",
    "      axis.text.x = element_text(angle = 90, hjust = 1, vjust = 1),\n",
    "      legend.title = ggtext::element_markdown(),\n",
    "      plot.title.position = \"plot\")\n",
    "    \n",
    "corr_heatmap_eur\n",
    "ggsave('output/plots/PMBB_v3.EUR.CKD.YK_Phenotyping.PGS_Znorm2.individual_percentile_correlation.heatmap.png',\n",
    "       width = 10,\n",
    "       height = 8,\n",
    "       dpi = 300)"
   ]
  },
  {
   "cell_type": "markdown",
   "metadata": {},
   "source": [
    "### afr"
   ]
  },
  {
   "cell_type": "code",
   "execution_count": null,
   "metadata": {},
   "outputs": [],
   "source": [
    "# heat map\n",
    "corr_heatmap_afr <- all_correlations_df_afr  %>%\n",
    "filter(as.numeric(factor(model_1, levels = PGS_cohort_order)) <= as.numeric(factor(model_2, levels = PGS_cohort_order))) %>%\n",
    "arrange(factor(model_2, levels = PGS_cohort_order)) %>% \n",
    "arrange(factor(model_1, levels = PGS_cohort_order)) %>% \n",
    "ggplot(aes(x = fct_inorder(model_2), y = fct_inorder(model_1), fill = r)) +\n",
    "geom_tile(color = \"black\") +\n",
    "scale_fill_gradient2(low = \"skyblue\", mid = \"white\", high = \"orange\", limits = c(-1, 1), name = \"*r*\") +\n",
    "scale_shape_manual(values = c(8), na.translate = F, name = NULL) +\n",
    "guides(fill = guide_colourbar(order = 1)) +\n",
    "labs(x = NULL,\n",
    "     y = NULL,\n",
    "     title = (\"PMBB v3 AFR CKD PGS Percentile Correlation\")) +\n",
    "coord_equal() +\n",
    "theme_bw(base_size = 16) +\n",
    "theme(panel.grid.major = element_blank(),\n",
    "      plot.background = element_rect(fill = \"transparent\", color = NA),\n",
    "      axis.text.x = element_text(angle = 90, hjust = 1, vjust = 1),\n",
    "      legend.title = ggtext::element_markdown(),\n",
    "      plot.title.position = \"plot\")\n",
    "    \n",
    "corr_heatmap_afr\n",
    "ggsave('output/plots/PMBB_v3.AFR.CKD.YK_Phenotyping.PGS_Znorm2.individual_percentile_correlation.heatmap.png',\n",
    "       width = 10,\n",
    "       height = 8,\n",
    "       dpi = 300)"
   ]
  },
  {
   "cell_type": "markdown",
   "metadata": {},
   "source": [
    "## look at correlation coefficients"
   ]
  },
  {
   "cell_type": "markdown",
   "metadata": {},
   "source": [
    "### all"
   ]
  },
  {
   "cell_type": "code",
   "execution_count": null,
   "metadata": {},
   "outputs": [],
   "source": [
    "all_correlations_df %>%\n",
    "filter(r < 0.99) %>%\n",
    "summary()"
   ]
  },
  {
   "cell_type": "markdown",
   "metadata": {},
   "source": [
    "### eur"
   ]
  },
  {
   "cell_type": "code",
   "execution_count": null,
   "metadata": {},
   "outputs": [],
   "source": [
    "all_correlations_df_eur %>%\n",
    "filter(r < 0.99) %>%\n",
    "summary()"
   ]
  },
  {
   "cell_type": "markdown",
   "metadata": {},
   "source": [
    "### afr"
   ]
  },
  {
   "cell_type": "code",
   "execution_count": null,
   "metadata": {},
   "outputs": [],
   "source": [
    "all_correlations_df_afr %>%\n",
    "filter(r < 0.99) %>%\n",
    "summary()"
   ]
  },
  {
   "cell_type": "markdown",
   "metadata": {},
   "source": [
    "# make number of equivalent scores plot"
   ]
  },
  {
   "cell_type": "markdown",
   "metadata": {},
   "source": [
    "## read in file"
   ]
  },
  {
   "cell_type": "code",
   "execution_count": null,
   "metadata": {},
   "outputs": [],
   "source": [
    "n_equiv_scores = read.csv('input/ckd_equivalent_scores.csv')\n",
    "n_equiv_scores"
   ]
  },
  {
   "cell_type": "markdown",
   "metadata": {},
   "source": [
    "## convert to long form"
   ]
  },
  {
   "cell_type": "code",
   "execution_count": null,
   "metadata": {},
   "outputs": [],
   "source": [
    "n_equiv_scores_long <- n_equiv_scores %>%\n",
    "pivot_longer(cols = c('Statistically_Equivalent','ROPE_0.005','ROPE_0.01','ROPE_0.02'),\n",
    "             names_to = \"Equiv_Metric\",\n",
    "             values_to = \"N_Scores\") %>%\n",
    "mutate(Equiv_Metric = factor(Equiv_Metric, levels = c(\"Statistically_Equivalent\", \"ROPE_0.005\", \"ROPE_0.01\", \"ROPE_0.02\"))) %>%\n",
    "mutate(Cohort = gsub('ALL.','ALL_indiv.',Cohort)) %>%\n",
    "mutate(Cohort = gsub('EUR.','EUR_indiv.',Cohort)) %>%\n",
    "mutate(Cohort = gsub('AFR.','AFR_indiv.',Cohort)) %>%\n",
    "mutate(GROUP = sub('^[^_]*_','',Cohort)) %>%\n",
    "mutate(BIOBANK = gsub('_.*','',Cohort))\n",
    "head(n_equiv_scores_long)"
   ]
  },
  {
   "cell_type": "markdown",
   "metadata": {},
   "source": [
    "## make plot"
   ]
  },
  {
   "cell_type": "code",
   "execution_count": null,
   "metadata": {},
   "outputs": [],
   "source": [
    "n_equiv_scores_plot = ggplot(n_equiv_scores_long, aes(x = Equiv_Metric, y = N_Scores, color = BIOBANK, group = BIOBANK)) +\n",
    "geom_point() +\n",
    "geom_line() +\n",
    "facet_wrap(~ GROUP, nrow = 1) +  # Optional: separate panel for each metric\n",
    "labs(title = \"Number of Equivalent CKD Scores\",\n",
    "     x = \"Equivalence Metric\",\n",
    "     y = \"N Scores\",\n",
    "     color = \"Cohort\") +\n",
    "theme_minimal(base_size = 14) +\n",
    "theme(axis.text.x = element_text(angle = 45, hjust = 1),\n",
    "     plot.margin = unit(c(1, 1, 2, 2), \"cm\"))\n",
    "\n",
    "n_equiv_scores_plot\n",
    "ggsave('output/plots/n_equivalent_scores.line_graph.png',\n",
    "      width = 20,\n",
    "      dpi = 300,\n",
    "      bg = \"white\")"
   ]
  }
 ],
 "metadata": {
  "kernelspec": {
   "display_name": "Python 3 (ipykernel)",
   "language": "python",
   "name": "python3"
  },
  "language_info": {
   "codemirror_mode": {
    "name": "ipython",
    "version": 3
   },
   "file_extension": ".py",
   "mimetype": "text/x-python",
   "name": "python",
   "nbconvert_exporter": "python",
   "pygments_lexer": "ipython3",
   "version": "3.12.3"
  },
  "toc": {
   "base_numbering": 1,
   "nav_menu": {},
   "number_sections": true,
   "sideBar": true,
   "skip_h1_title": false,
   "title_cell": "Table of Contents",
   "title_sidebar": "Contents",
   "toc_cell": false,
   "toc_position": {},
   "toc_section_display": true,
   "toc_window_display": false
  }
 },
 "nbformat": 4,
 "nbformat_minor": 4
}
